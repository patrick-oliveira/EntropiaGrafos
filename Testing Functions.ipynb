{
 "cells": [
  {
   "cell_type": "code",
   "execution_count": 1,
   "metadata": {},
   "outputs": [],
   "source": [
    "%load_ext autoreload\n",
    "%autoreload 2"
   ]
  },
  {
   "cell_type": "code",
   "execution_count": 104,
   "metadata": {},
   "outputs": [],
   "source": [
    "from opdynamics.utils.reading_tools import param_to_hash\n",
    "from opdynamics.simulation.utils import build_param_list, get_param_tuple\n",
    "\n",
    "import json\n",
    "import random\n",
    "from opdynamics.utils.tools import split_list"
   ]
  },
  {
   "cell_type": "code",
   "execution_count": 105,
   "metadata": {},
   "outputs": [],
   "source": [
    "params = json.load(open(\"tests/data/params_test.json\", \"r\"))\n",
    "simulation_params = build_param_list(params)\n",
    "random.shuffle(simulation_params)\n",
    "simulation_params = split_list(simulation_params, 4)"
   ]
  },
  {
   "cell_type": "code",
   "execution_count": 109,
   "metadata": {},
   "outputs": [],
   "source": [
    "param_example = {\n",
    "    \"simulation_parameters\": {\n",
    "        'graph_type': 'barabasi',\n",
    "        'network_size': 500,\n",
    "        'memory_size': 256,\n",
    "        'code_length': 5,\n",
    "        'kappa': 0,\n",
    "        'lambd': 1,\n",
    "        'alpha': 0.6,\n",
    "        'omega': 0,\n",
    "        'gamma': 0,\n",
    "        'preferential_attachment': 2,\n",
    "        'polarization_type': 0,\n",
    "        \"distribution\": \"from_list\",\n",
    "        \"base_list\": [0, 5, 10]\n",
    "    },\n",
    "    \"general_parameters\": {\n",
    "        'T': 1000,\n",
    "        'num_repetitions': 100,\n",
    "        'early_stop': True,\n",
    "        'epsilon': 1e-08,\n",
    "        'results_path': 'results/single_polarized_group/'\n",
    "    }\n",
    "}"
   ]
  },
  {
   "cell_type": "code",
   "execution_count": 110,
   "metadata": {},
   "outputs": [],
   "source": [
    "param_tuple = get_param_tuple(param_example)"
   ]
  },
  {
   "cell_type": "code",
   "execution_count": 111,
   "metadata": {},
   "outputs": [
    {
     "data": {
      "text/plain": [
       "'b3eb5e8ac447e35091defa2857ec823d6f809deb9d87442cf9fcdbedda939612'"
      ]
     },
     "execution_count": 111,
     "metadata": {},
     "output_type": "execute_result"
    }
   ],
   "source": [
    "param_to_hash(param_tuple)"
   ]
  },
  {
   "cell_type": "code",
   "execution_count": 103,
   "metadata": {},
   "outputs": [
    {
     "data": {
      "text/plain": [
       "{'graph_type': 'barabasi',\n",
       " 'network_size': 500,\n",
       " 'memory_size': 256,\n",
       " 'code_length': 5,\n",
       " 'kappa': 0,\n",
       " 'lambd': 1,\n",
       " 'alpha': 0.6,\n",
       " 'omega': 0,\n",
       " 'gamma': 0,\n",
       " 'preferential_attachment': 2,\n",
       " 'polarization_type': 0,\n",
       " 'T': 1000,\n",
       " 'num_repetitions': 100,\n",
       " 'early_stop': True,\n",
       " 'epsilon': 1e-08,\n",
       " 'results_path': 'results/single_polarized_group/'}"
      ]
     },
     "execution_count": 103,
     "metadata": {},
     "output_type": "execute_result"
    }
   ],
   "source": [
    "param_example"
   ]
  },
  {
   "cell_type": "code",
   "execution_count": null,
   "metadata": {},
   "outputs": [],
   "source": []
  }
 ],
 "metadata": {
  "kernelspec": {
   "display_name": "entropia_grafos",
   "language": "python",
   "name": "python3"
  },
  "language_info": {
   "codemirror_mode": {
    "name": "ipython",
    "version": 3
   },
   "file_extension": ".py",
   "mimetype": "text/x-python",
   "name": "python",
   "nbconvert_exporter": "python",
   "pygments_lexer": "ipython3",
   "version": "3.11.3"
  }
 },
 "nbformat": 4,
 "nbformat_minor": 2
}
