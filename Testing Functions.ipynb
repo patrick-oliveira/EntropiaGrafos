{
 "cells": [
  {
   "cell_type": "code",
   "execution_count": 1,
   "metadata": {},
   "outputs": [],
   "source": [
    "%load_ext autoreload\n",
    "%autoreload 2"
   ]
  },
  {
   "cell_type": "code",
   "execution_count": 41,
   "metadata": {},
   "outputs": [],
   "source": [
    "from opdynamics.utils.reading_tools import param_to_hash\n",
    "from opdynamics.simulation.utils import build_param_list, get_param_tuple\n",
    "\n",
    "import json\n",
    "import random\n",
    "from opdynamics.utils.tools import split_list\n",
    "from opdynamics.utils.reading_tools import get_results_path"
   ]
  },
  {
   "cell_type": "code",
   "execution_count": 35,
   "metadata": {},
   "outputs": [],
   "source": [
    "from opdynamics.model.dynamics import mutate, distort, get_transition_probabilities\n",
    "from opdynamics.model.model import Model\n",
    "\n",
    "import numpy as np"
   ]
  },
  {
   "cell_type": "code",
   "execution_count": 3,
   "metadata": {},
   "outputs": [],
   "source": [
    "m = Model(**{\n",
    "    \"graph_type\": \"barabasi\",\n",
    "    \"network_size\": 500,\n",
    "    \"memory_size\": 256,\n",
    "    \"code_length\": 5,\n",
    "    \"kappa\": 0,\n",
    "    \"lambd\": 0,\n",
    "    \"alpha\": 0,\n",
    "    \"omega\": 0,\n",
    "    \"gamma\": 0,\n",
    "    \"preferential_attachment\": 2,\n",
    "    \"polarization_grouping_type\": 0\n",
    "})"
   ]
  },
  {
   "cell_type": "code",
   "execution_count": 17,
   "metadata": {},
   "outputs": [
    {
     "name": "stdout",
     "output_type": "stream",
     "text": [
      "0.19913\n"
     ]
    }
   ],
   "source": [
    "transition_probabilities = {\n",
    "    0:0.2,\n",
    "    1:0.8\n",
    "}\n",
    "\n",
    "initial_bit = 1\n",
    "output_bits = []\n",
    "\n",
    "for _ in range(10**5):\n",
    "    output_bits.append(mutate(initial_bit, transition_probabilities))\n",
    "\n",
    "print(np.mean(output_bits))\n"
   ]
  },
  {
   "cell_type": "code",
   "execution_count": 18,
   "metadata": {},
   "outputs": [],
   "source": [
    "ind = m.indInfo(0)"
   ]
  },
  {
   "cell_type": "code",
   "execution_count": 37,
   "metadata": {},
   "outputs": [],
   "source": [
    "tendency = m.indTendency(0)"
   ]
  },
  {
   "cell_type": "code",
   "execution_count": 40,
   "metadata": {},
   "outputs": [
    {
     "data": {
      "text/plain": [
       "{0: 0.5, 1: 1.0}"
      ]
     },
     "execution_count": 40,
     "metadata": {},
     "output_type": "execute_result"
    }
   ],
   "source": [
    "get_transition_probabilities(ind, -1)"
   ]
  },
  {
   "cell_type": "code",
   "execution_count": 34,
   "metadata": {},
   "outputs": [
    {
     "name": "stdout",
     "output_type": "stream",
     "text": [
      "0.49714\n"
     ]
    }
   ],
   "source": [
    "dist_sum = []\n",
    "code = np.array([1, 1, 1, 1, 1])\n",
    "\n",
    "transition_probabilities = {\n",
    "    0:0.1,\n",
    "    1:0.9\n",
    "}\n",
    "\n",
    "for _ in range(10**5):\n",
    "    dist_sum.append(distort(code, transition_probabilities).sum())\n",
    "\n",
    "print(np.mean(dist_sum))\n",
    "\n"
   ]
  },
  {
   "cell_type": "code",
   "execution_count": null,
   "metadata": {},
   "outputs": [],
   "source": []
  }
 ],
 "metadata": {
  "kernelspec": {
   "display_name": "entropia_grafos",
   "language": "python",
   "name": "python3"
  },
  "language_info": {
   "codemirror_mode": {
    "name": "ipython",
    "version": 3
   },
   "file_extension": ".py",
   "mimetype": "text/x-python",
   "name": "python",
   "nbconvert_exporter": "python",
   "pygments_lexer": "ipython3",
   "version": "3.11.3"
  }
 },
 "nbformat": 4,
 "nbformat_minor": 2
}
