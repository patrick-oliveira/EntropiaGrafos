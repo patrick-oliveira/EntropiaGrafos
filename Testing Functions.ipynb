{
 "cells": [
  {
   "cell_type": "code",
   "execution_count": 1,
   "metadata": {},
   "outputs": [],
   "source": [
    "%load_ext autoreload\n",
    "%autoreload 2"
   ]
  },
  {
   "cell_type": "code",
   "execution_count": 29,
   "metadata": {},
   "outputs": [],
   "source": [
    "from opdynamics.model.model import Model\n",
    "\n",
    "import numpy as np"
   ]
  },
  {
   "cell_type": "code",
   "execution_count": 34,
   "metadata": {},
   "outputs": [
    {
     "name": "stdout",
     "output_type": "stream",
     "text": [
      "3.5\n",
      "1.0\n",
      "0.5\n"
     ]
    }
   ],
   "source": [
    "np.random.seed(42)\n",
    "\n",
    "M = Model(\n",
    "    graph_type = \"barabasi\",\n",
    "    network_size = 500,\n",
    "    memory_size = 256,\n",
    "    code_length = 5,\n",
    "    kappa = 0,\n",
    "    lambd = 0,\n",
    "    alpha = 0,\n",
    "    omega = 0,\n",
    "    gamma = 0,\n",
    "    preferential_attachment = 2,\n",
    "    polarization_grouping_type = 0,\n",
    ")\n",
    "\n",
    "print(np.round(M.H, 1))\n",
    "print(np.round(M.J, 1))\n",
    "print(np.round(M.pi, 1))"
   ]
  },
  {
   "cell_type": "code",
   "execution_count": null,
   "metadata": {},
   "outputs": [],
   "source": []
  }
 ],
 "metadata": {
  "kernelspec": {
   "display_name": "entropia_grafos",
   "language": "python",
   "name": "python3"
  },
  "language_info": {
   "codemirror_mode": {
    "name": "ipython",
    "version": 3
   },
   "file_extension": ".py",
   "mimetype": "text/x-python",
   "name": "python",
   "nbconvert_exporter": "python",
   "pygments_lexer": "ipython3",
   "version": "3.11.3"
  }
 },
 "nbformat": 4,
 "nbformat_minor": 2
}
