{
 "cells": [
  {
   "cell_type": "code",
   "execution_count": 1,
   "metadata": {},
   "outputs": [],
   "source": [
    "%load_ext autoreload\n",
    "%autoreload 2"
   ]
  },
  {
   "cell_type": "code",
   "execution_count": 2,
   "metadata": {},
   "outputs": [],
   "source": [
    "import numpy as np\n",
    "import matplotlib.pyplot as plt"
   ]
  },
  {
   "cell_type": "code",
   "execution_count": 8,
   "metadata": {},
   "outputs": [],
   "source": [
    "from opdynamics.math.entropy import JSD, S\n",
    "from opdynamics.components.memory import initialize_memory, probability_distribution, binary_to_int, to_int"
   ]
  },
  {
   "cell_type": "code",
   "execution_count": 4,
   "metadata": {},
   "outputs": [],
   "source": [
    "ma = initialize_memory(32)\n",
    "da = probability_distribution(ma, 32)\n",
    "\n",
    "mb = initialize_memory(32)\n",
    "db = probability_distribution(mb, 32)"
   ]
  },
  {
   "cell_type": "code",
   "execution_count": 20,
   "metadata": {},
   "outputs": [],
   "source": [
    "JSDs = []\n",
    "\n",
    "for _ in range(10**4):\n",
    "    ma = initialize_memory(32)\n",
    "    da = probability_distribution(ma, 32)\n",
    "\n",
    "    mb = initialize_memory(32)\n",
    "    db = probability_distribution(mb, 32)\n",
    "\n",
    "    JSDs.append(JSD(da, db))"
   ]
  },
  {
   "cell_type": "code",
   "execution_count": 23,
   "metadata": {},
   "outputs": [],
   "source": [
    "Pa = {\n",
    "    \"0\": 0.5,\n",
    "    \"1\": 0.5\n",
    "}\n",
    "\n",
    "Pb = {\n",
    "    \"0\": 0.75,\n",
    "    \"1\": 0.25\n",
    "}"
   ]
  },
  {
   "cell_type": "code",
   "execution_count": 38,
   "metadata": {},
   "outputs": [],
   "source": [
    "from opdynamics.components.individual import Individual\n",
    "from opdynamics.components.utils import random_selection"
   ]
  },
  {
   "cell_type": "code",
   "execution_count": 34,
   "metadata": {},
   "outputs": [],
   "source": [
    "ind = Individual(\n",
    "    kappa = 0,\n",
    "    memory_size = 32\n",
    ")"
   ]
  },
  {
   "cell_type": "code",
   "execution_count": 41,
   "metadata": {},
   "outputs": [
    {
     "data": {
      "text/plain": [
       "array([1, 0, 0, 1, 0])"
      ]
     },
     "execution_count": 41,
     "metadata": {},
     "output_type": "execute_result"
    }
   ],
   "source": [
    "ind.X"
   ]
  },
  {
   "cell_type": "code",
   "execution_count": 44,
   "metadata": {},
   "outputs": [
    {
     "data": {
      "text/plain": [
       "0.5062500000000001"
      ]
     },
     "execution_count": 44,
     "metadata": {},
     "output_type": "execute_result"
    }
   ],
   "source": [
    "ind.pi"
   ]
  },
  {
   "cell_type": "code",
   "execution_count": null,
   "metadata": {},
   "outputs": [],
   "source": [
    "Hs = []\n",
    "Pis = []\n",
    "\n",
    "for _ in range(10**2):\n",
    "    ind = Individual(\n",
    "        kappa = 0,\n",
    "        memory_size = 32\n",
    "    )\n"
   ]
  }
 ],
 "metadata": {
  "kernelspec": {
   "display_name": "entropia_grafos",
   "language": "python",
   "name": "python3"
  },
  "language_info": {
   "codemirror_mode": {
    "name": "ipython",
    "version": 3
   },
   "file_extension": ".py",
   "mimetype": "text/x-python",
   "name": "python",
   "nbconvert_exporter": "python",
   "pygments_lexer": "ipython3",
   "version": "3.11.3"
  }
 },
 "nbformat": 4,
 "nbformat_minor": 2
}
