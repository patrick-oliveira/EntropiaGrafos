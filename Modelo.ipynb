{
 "cells": [
  {
   "cell_type": "markdown",
   "id": "protecting-anatomy",
   "metadata": {},
   "source": [
    "__Imports__"
   ]
  },
  {
   "cell_type": "code",
   "execution_count": 45,
   "id": "forbidden-hearing",
   "metadata": {},
   "outputs": [],
   "source": [
    "import networkx as nx\n",
    "import numpy as np\n",
    "import matplotlib.pyplot as plt\n",
    "from itertools import product\n",
    "from copy import deepcopy\n",
    "from random import sample\n",
    "import time\n",
    "\n",
    "from typing import NewType, List, Dict"
   ]
  },
  {
   "cell_type": "markdown",
   "id": "through-wells",
   "metadata": {},
   "source": [
    "__Types__"
   ]
  },
  {
   "cell_type": "code",
   "execution_count": 4,
   "id": "neural-external",
   "metadata": {},
   "outputs": [],
   "source": [
    "Graph = NewType('Graph', nx.Graph)\n",
    "Binary = NewType('Binary', str)   # This type will represent binary codes from integers"
   ]
  },
  {
   "cell_type": "markdown",
   "id": "ethical-establishment",
   "metadata": {},
   "source": [
    "__Parameters__ (Wang2017)"
   ]
  },
  {
   "cell_type": "code",
   "execution_count": 240,
   "id": "colored-sewing",
   "metadata": {},
   "outputs": [],
   "source": [
    "N = 50             # Graph Size\n",
    "pa = 2               # Preferential Attachment Parameter\n",
    "\n",
    "mu = 160\n",
    "m  = 5               # Size of binary codes\n",
    "\n",
    "kappa = 10          # Parameter for information distortion tendency\n",
    "alpha = 0.5          # Proportion of individuals with tendency to increase polarity\n",
    "omega = 0.5          # Proportion of individuals with tendency to lower polarity\n",
    "lambd = 5          # Polarization coefficient\n",
    "gamma = 5.0          # Confidence factor\n",
    "\n",
    "seed = int(100*(time.time()%1))            # Seed for random algorithms initialization.\n",
    "\n",
    "A = {generate_code(x, m):0 for x in range(2**m)}             # Alphabet (work on that later) \n",
    "\n",
    "# Computable Information\n",
    "# def max_entropy():\n",
    "#     C1 = 0\n",
    "#     C2 = 0\n",
    "#     while C1 == C2:\n",
    "#         C1 = get_binary_codes(m)\n",
    "#         C2 = get_binary_codes(m)\n",
    "        \n",
    "#     L = C1*int(mu/2) + C2*int(mu/2)\n",
    "#     P = probability_distribution(L)\n",
    "    \n",
    "#     return empirical_entropy(L, P)\n",
    "\n",
    "def polarity_weights():\n",
    "    v = abs(np.random.randn(m))\n",
    "    return list(v/sum(v))\n",
    "\n",
    "max_H = m\n",
    "\n",
    "beta = polarity_weights()"
   ]
  },
  {
   "cell_type": "markdown",
   "id": "social-enhancement",
   "metadata": {},
   "source": [
    "***"
   ]
  },
  {
   "cell_type": "code",
   "execution_count": 241,
   "id": "rotary-vinyl",
   "metadata": {},
   "outputs": [],
   "source": [
    "T = 15000\n",
    "\n",
    "statistics = {'H': [],\n",
    "              'pi': []}\n",
    "\n",
    "model = Model(N, pa, mu, m, kappa, lambd, alpha, omega, gamma, seed)\n",
    "update_statistics(model, statistics)"
   ]
  },
  {
   "cell_type": "code",
   "execution_count": 242,
   "id": "smooth-fleet",
   "metadata": {},
   "outputs": [
    {
     "name": "stderr",
     "output_type": "stream",
     "text": [
      "<ipython-input-25-5966ef021b47>:6: RuntimeWarning: divide by zero encountered in double_scalars\n",
      "  return 2/( 1/proximity(u_ind, v_ind) + 1/sigma_ratio )\n"
     ]
    },
    {
     "name": "stdout",
     "output_type": "stream",
     "text": [
      "23.103768495718636\n"
     ]
    }
   ],
   "source": [
    "start = time.time()\n",
    "\n",
    "for i in range(T):\n",
    "    simulate(model)\n",
    "    update_statistics(model, statistics)\n",
    "    \n",
    "end   = time.time()\n",
    "print((end - start)/60)"
   ]
  },
  {
   "cell_type": "code",
   "execution_count": 243,
   "id": "surprising-assistant",
   "metadata": {},
   "outputs": [
    {
     "data": {
      "text/plain": [
       "[<matplotlib.lines.Line2D at 0x23f17c64b50>]"
      ]
     },
     "execution_count": 243,
     "metadata": {},
     "output_type": "execute_result"
    },
    {
     "data": {
      "image/png": "[encoded data removed]",
      "text/plain": [
       "<Figure size 432x288 with 1 Axes>"
      ]
     },
     "metadata": {
      "needs_background": "light"
     },
     "output_type": "display_data"
    }
   ],
   "source": [
    "plt.plot(range(T + 1), statistics['pi'])"
   ]
  },
  {
   "cell_type": "code",
   "execution_count": 244,
   "id": "modern-russia",
   "metadata": {},
   "outputs": [
    {
     "data": {
      "text/plain": [
       "[<matplotlib.lines.Line2D at 0x23f16aed850>]"
      ]
     },
     "execution_count": 244,
     "metadata": {},
     "output_type": "execute_result"
    },
    {
     "data": {
      "image/png": "[encoded data removed]",
      "text/plain": [
       "<Figure size 432x288 with 1 Axes>"
      ]
     },
     "metadata": {
      "needs_background": "light"
     },
     "output_type": "display_data"
    }
   ],
   "source": [
    "plt.plot(range(T + 1), statistics['H'])"
   ]
  },
  {
   "cell_type": "code",
   "execution_count": 245,
   "id": "sacred-venue",
   "metadata": {},
   "outputs": [
    {
     "data": {
      "text/plain": [
       "{'00000': 0.15,\n",
       " '00001': 0,\n",
       " '00010': 0,\n",
       " '00011': 0,\n",
       " '00100': 0,\n",
       " '00101': 0,\n",
       " '00110': 0,\n",
       " '00111': 0,\n",
       " '01000': 0,\n",
       " '01001': 0,\n",
       " '01010': 0,\n",
       " '01011': 0,\n",
       " '01100': 0,\n",
       " '01101': 0,\n",
       " '01110': 0,\n",
       " '01111': 0,\n",
       " '10000': 0,\n",
       " '10001': 0,\n",
       " '10010': 0,\n",
       " '10011': 0,\n",
       " '10100': 0,\n",
       " '10101': 0,\n",
       " '10110': 0,\n",
       " '10111': 0,\n",
       " '11000': 0,\n",
       " '11001': 0,\n",
       " '11010': 0,\n",
       " '11011': 0,\n",
       " '11100': 0,\n",
       " '11101': 0,\n",
       " '11110': 0,\n",
       " '11111': 0.85}"
      ]
     },
     "execution_count": 245,
     "metadata": {},
     "output_type": "execute_result"
    }
   ],
   "source": [
    "model.G.nodes[0]['Object'].P"
   ]
  },
  {
   "cell_type": "markdown",
   "id": "excessive-tissue",
   "metadata": {},
   "source": [
    "#### __Lista de Afazeres:__\n",
    "\n",
    "_Os indivíduos serão modelados como vértices em um grafo não-orientado livre de escala de Barabási-Albert de tamanho $N$, com pesos. Cada vértice $u$ é caracterizado por uma tripla $(X_{u}, L_{u}, P_{u})$, em que $L_{u}$ é uma memória de tamanho $\\mu$ de códigos binários de tamanho $m$, sendo possível, assim, representar $2^{m}$ diferentes tipos de informações - denotaremos o conjunto de informações possíveis - alfabeto - como $\\mathcal{A}$._\n",
    "\n",
    "- \\[X\\] Criar grafo de barabasi e inicializar os nodos (memórias e probabilidades).\n",
    "\n",
    "_Calculando as frequências empíricas das informações na memória $L_{u}$ pode-se definir uma distribuição de probabilidades $P_{u}$ sobre o alfabeto, associada à variável aleatória $X_{u}$ que modela a seleção de uma informação $x \\in \\mathcal{A}$ por $u$ para disseminação, i.e._\n",
    "\n",
    "$$    \n",
    "\\begin{equation}\n",
    "  P_{u}(x) = P_{u}(X_{u} = x) = f_{x}\n",
    "\\end{equation}\n",
    "$$\n",
    "\n",
    "- \\[X\\] Programar o cálculo da entropia dos nodos.\n",
    "\n",
    "_A frequência $f_{x}$ pode ser vista não somente como uma probabilidade de seleção da informação $x$ mas também como uma medida de saliência. De posse de uma medida de saliência das informações na memória dos indivíduos, torna-se possível analisar efeitos de conformidade e realizar comparações qualitativas entre indivíduos, formação de comunidades em função da informação mais saliente, etc. Além disso, para cada indivíduo $u$ calculamos empiricamente a entropia de Shannon,_\n",
    "\n",
    "$$\n",
    "\\begin{equation}\n",
    "  H(P_{u}) = - \\displaystyle\\sum_{x \\in L_{u}} f_{x}\\log{f_{x}}\n",
    "\\end{equation}\n",
    "$$\n",
    "\n",
    "_em que consideramos o logaritmo na base 2 - por conveniência, por vezes utilizaremos a notação $H(P_{u}) = H_{u}$. A entropia cresce conforme a distribuição de diferentes tipos de informação se torna mais uniforme (i.e. $f_{x} \\rightarrow \\frac{1}{|L_{u}|}$) na memória do indivíduo, e diminui conforme um tipo de informação passa a prevalecer $(f_{x} \\rightarrow 1)$._\n",
    "\n",
    "- \\[X\\] Programar entropia global.\n",
    "\n",
    "_Segue, naturalmente, uma medida geral de entropia no grafo, a entropia média da população (a qual pode ser definida para um subgrafo $Q \\subset G$), $\\overline{H} $,_\n",
    "\n",
    "$$\n",
    "\\begin{equation}\n",
    "  \\overline{H} = \\dfrac{1}{v(G)} \\displaystyle\\sum_{u \\in V(G)} H_{u}\n",
    "\\end{equation}\n",
    "$$\n",
    "\n",
    "- \\[X\\] Programar o cálculo do fator de distorção\n",
    "\n",
    "_A entropia oferece uma medida de ruído com a qual o indivíduo precisa lidar ao interagir com diferentes tipos de informação, e nesse sentido é possível incluir uma tendência de distorção da informação por transmissão imperfeita. Quanto maior a entropia, mais imperfeita é a memória do indivíduo, incorrendo em maior frequência de erros de transmissão. A probabilidade de distorção é então definida como_\n",
    "\n",
    "$$\n",
    "\\begin{equation}\n",
    "  \\delta_{u} = \\dfrac{1}{ \\exp{\\left[(\\dfrac{H_{\\text{max}} - H_{u}}{H_{\\text{max}}}) \\cdot \\kappa \\right]} + 1}\n",
    "\\end{equation}\n",
    "$$\n",
    "\n",
    "_onde $\\kappa \\geq 0$ é um fator de conservação, sendo um parâmetro de controle da tendência geral de distorção de informação, sendo essa maior para valores grandes de $\\kappa$, e vice-versa. O valor $ H_{\\text{max}} $ é a entropia máxima, para $ f_{x} = 1 / 2^{m} $. Conforme $ H_{u} \\rightarrow H_{\\text{max}} $, a probabilidade de distorção atinge um valor máximo de $ 1 / 2 $, enquanto que conforme $ H_{u} \\rightarrow 0 $, a probabilidade tende ao valor mínimo $ 1 / (\\exp{\\kappa} + 1)) $._\n",
    "\n",
    "- \\[X\\] Programar a função de distorção de informação.\n",
    "\n",
    "_Neste modelo, entendemos que a transmissão de informações entre vértices define um canal de transmissão com ruído, ou seja, cada código selecionado é transmitido bit por bit, incorrendo uma probabilidade de distorção na transmissão de cada bit. A distorção do canal pode ser construída a fim de levar em consideração diferentes fatores de interação entre indivíduos que modificaria a informação transmitida. Neste caso, em que os efeitos de memória imperfeita são simulados, a probabilidade $D_{u}$ introduz a chance de uma mutação aleatória em cada bit transmitido por $u$._\n",
    "\n",
    "- \\[X\\] Programar o cálculo da polarização de informações\n",
    "    - \\[X\\] Programar o cálculo da polarização do indivíduo\n",
    "    \n",
    "_Introduziremos ao modelo um elemento de viés, ou polarização, onde um indivíduo pode ter uma tendência de distorção da informação para um extremo de polaridade. Primeiramente, definimos uma função $\\pi: \\mathcal{A} \\to [0, 1]$ que nos permite diferenciar as informações quanto a sua polaridade. Para uma informação $x = B_1B_2\\dots B_{m},\\; B_{i} \\in \\{0, 1\\}\\; \\forall i = 1, \\dots, m$, a polaridade de $\\pi(x)$ é dada por_\n",
    "\n",
    "$$\n",
    "\\begin{equation}\n",
    "  \\pi(x) = \\displaystyle\\sum_{i = 1}^{m} \\beta_{i} B_{i} \n",
    "\\end{equation} \n",
    "$$\n",
    "\n",
    "_onde $\\beta_{1} < \\beta_{2} < \\dots < \\beta_{m}$ é um conjunto de pesos com soma unitária definindo a prioridade de algarismos nos códigos binários. Os pesos podem ser especificados pela seleção de um vetor aleatório normalizado, ou especificados manualmente em um contexto onde os dígitos tem um significado particular. Dessa forma, $\\pi(\\cdot)$ é monotonicamente crescente e contida no intervalo $[0, 1]$. A função leva em consideração a posição dos bits não-nulos, de modo que, supondo $m = 4$, os códigos $1000$ e $0001$ seriam identificados como distintos e posicionados em polos opostos._\n",
    "\n",
    "_Naturalmente, podemos caracterizar a polaridade de um indivíduo $u$ calculando o valor médio $\\overline{\\pi}(u)$ das informações na memória $L_{u}$:\n",
    "\n",
    "$$\n",
    "\\begin{equation}\n",
    "  \\overline{\\pi}(u) = \\dfrac{1}{\\mu} \\displaystyle\\sum_{x \\in L_{u}} \\pi(x) \n",
    "\\end{equation}\n",
    "$$\n",
    "\n",
    "- \\[X\\] Programar a separação dos nodos em três grupos\n",
    "\n",
    "_Em seguida, tomando dois parâmetros $\\alpha, \\omega \\in [0, 1]$ tais que $\\alpha + \\omega \\leq  1$, e $\\alpha \\cdot |V|, \\omega \\cdot |V|$ são inteiros, onde $|V|$ é o número de vértices da rede, particionamos o conjunto de vértices em três grupos, $V_{\\downarrow}, V_{\\uparrow}, \\overline{V}$, onde $|V_{\\downarrow}| = \\alpha |V|, |V_{\\uparrow}| = \\omega |V|$ e $|\\overline{V}| = (1 - \\alpha - \\omega) |V|$, em que cada partição é construída tomando - sem reposição - vértices ao acaso. O conjunto $V_{\\downarrow}$ comporta os indivíduos com tendência para polarizar para baixo, enquanto que o conjunto $V_{\\uparrow}$ reúne os indivíduos que polarizam para cima e $\\overline{V}$ os indivíduos que se mantém neutros._\n",
    "\n",
    "- \\[X\\] Programar a probabilidade de polarização\n",
    "\n",
    "_Para um indivíduo $u$, onde $N(u)$ é o conjunto de vizinhos de $u$, a expressão_\n",
    "\n",
    "$$\n",
    "\\begin{equation}\n",
    "  \\xi_{u}\\, = | \\overline{\\pi}(u) - \\dfrac{1}{|N(u)|} \\displaystyle\\sum_{v \\in N(u)} \\overline{\\pi}(v) | \\cdot \\lambda\n",
    "\\end{equation}\n",
    "$$\n",
    "\n",
    "_pode ser utilizada para definir a probabilidade de distorção de cada bit de um código selecionado para transmissão de acordo com o viés do indivíduo, onde $\\lambda \\in [0, 0.5]$ é o coeficiente de polarização. Pode-se entender $\\xi_{u}$ de modo análogo a $\\delta_{u}$. Perceba que_\n",
    "\n",
    "$$\n",
    "\\begin{equation}\n",
    "  | \\overline{\\pi}(u) - \\dfrac{1}{|N(u)|} \\displaystyle\\sum_{v \\in N(u)} \\overline{\\pi}(v) | \\leq 1,\n",
    "\\end{equation}\n",
    "$$\n",
    "\n",
    "_de modo que $\\xi_{u}$ tende ao valor máximo $\\lambda$ conforme a polaridade $\\overline{\\pi}(u)$ se distancia da polaridade média da vizinhança de $u$._\n",
    "\n",
    "- \\[X\\] Programar a distorção da informação com base em probabilidades de distorção.\n",
    "\n",
    "_Dessa forma, a transmissão de informações entre dois indivíduos configura um canal binário simétrico, onde para um indivíduo $u$ as probabilidades de distorção são dadas por_\n",
    "\n",
    "$$\n",
    "\\begin{equation}\n",
    "  \\begin{split}\n",
    "    P(y = 0 | x = 0) &= 1 - \\delta_{u}; \\\\\n",
    "    P(y = 1 | x = 0) &= \\delta_{u}; \\\\\n",
    "    P(y = 0 | x = 1) &= \\delta_{u}; \\\\\n",
    "    P(y = 1 | x = 1) &= 1 - \\delta_{u}\n",
    "  \\end{split}\n",
    "\\end{equation}\n",
    "$$\n",
    "\n",
    "_se $u \\in \\overline{V}$,_\n",
    "\n",
    "$$\n",
    "\\begin{equation}\n",
    "  \\begin{split}\n",
    "    P(y = 0 | x = 0) &= 1 - \\delta_{u} - \\xi_{u}; \\\\\n",
    "    P(y = 1 | x = 0) &= \\delta_{u} + \\xi_{u}; \\\\\n",
    "    P(y = 0 | x = 1) &= \\delta_{u}; \\\\\n",
    "    P(y = 1 | x = 1) &= 1 - \\delta_{u}\n",
    "  \\end{split}\n",
    "\\end{equation}\n",
    "$$\n",
    "\n",
    "_se $u \\in V_{\\downarrow}$ e, por fim, se $u \\in V_{\\uparrow}$, temos_\n",
    "\n",
    "$$\n",
    "\\begin{equation}\n",
    "  \\begin{split}\n",
    "    P(y = 0 | x = 0) &= 1 - \\delta_{u} ; \\\\\n",
    "    P(y = 1 | x = 0) &= \\delta_{u}; \\\\\n",
    "    P(y = 0 | x = 1) &= \\delta_{u} + \\xi_{u}; \\\\\n",
    "    P(y = 1 | x = 1) &= 1 - \\delta_{u} - \\xi_{u}\n",
    "  \\end{split}\n",
    "\\end{equation}\n",
    "$$\n",
    "\n",
    "_As probabilidades anteriores são válidas, considerando que $0 \\leq \\xi_{u}, \\; \\delta_{u} \\leq 0.5$, então $0 \\leq \\delta_{u} + \\xi_{u} \\leq 1$._"
   ]
  },
  {
   "cell_type": "markdown",
   "id": "convinced-merit",
   "metadata": {},
   "source": [
    "- \\[X\\] Programar a função de informação relativa\n",
    "\n",
    "$$\n",
    "\\begin{equation}\n",
    "        D(P;Q) = \\displaystyle\\sum_{x}P(x) \\log{\\dfrac{P(x)}{Q(x)}}  = E_{P}[\\log{\\dfrac{P(X)}{Q(X)}}]\n",
    "\\end{equation}\n",
    "$$\n",
    "\n",
    "- \\[X\\] Programar a função da Medida de Divergência de Jensen-Shannon\n",
    "\n",
    "_A atribuição dos pesos nas arestas buscará modelar a proximidade de pensamento entre dois indivíduos, servindo de base para a parametrização da aceitação de informações entre sujeitos. Partindo do modo como a memória de um indivíduo foi modelada, torna-se inviável a princípio definir uma distribuição de probabilidade conjunta ou condicional entre a informação observada entre dois indivíduos, ao passo que as distribuições de probabilidade obtidas pela frequência empírica sobre as memórias $L_{u}$ e $L_{v}$ são independentes. Dessa forma, medidas tais quais Informação Mútua não podem ser utilizadas. Assim, aplicamos a medida de divergência de Jensen-Shannon (JSD) - raio de informação - sobre as distribuições $P_{u}$ e $P_{v}$ de dois vizinhos $u$ e $v$ para o cálculo da sua similaridade:_\n",
    "\n",
    "$$\n",
    "\\begin{align*}\n",
    "  JSD(P_{u};P_{v}) &=  \\dfrac{1}{2}D(P_{u}; M) + \\dfrac{1}{2} D(P_{v};M) \\\\ \n",
    "                      &= H(M) - \\dfrac{H(P_{u}) + H(P_{v})}{2} \\\\ \n",
    "\\end{align*}\n",
    "$$\n",
    "\n",
    "_onde $M = \\dfrac{1}{2}(P_{u} + P_{v})$. Vale que $JSD(P_{u}, P_{v}) \\to 0$ com $P_{u} \\to P_{v}$, portanto, às arestas $(u, v)$ definimos os pesos $1 - JSD(P_{u}, P_{v})$ _ \n",
    "\n",
    "- \\[X\\] Programar o cálculo do peso das arestas.\n",
    "\n",
    "- \\[X\\] Calcular a distribuição sigma(u) dos vértives.\n",
    "\n",
    "_A aceitação das informações de um indivíduo $v$, por parte de um indivíduo $u$ depende de uma probabilidade que deve considerar a proximidade de $u$ e $v$ e a percepção de $u$ sobre $v$. Essa percepção pode levar em consideração a influência, medido pelo número de conexão dos vértices, ponderado pela proximidade medida por $JSD(\\cdot;\\cdot)$ entre um vértice e seus vizinhos. Considere primeiramente a distribuição sobre os vértices $u \\in Q$, onde $Q \\subset V(G)$,\n",
    "\n",
    "$$\n",
    "\\begin{equation}\n",
    "  \\sigma(u) = \\displaystyle\\sum_{w \\in N(u)} (1 - JSD(P_{u}, P_{w})) \\leq k_{u}, \n",
    "\\end{equation}\n",
    "$$\n",
    "\n",
    "_onde $k_{u}$ é o grau do vértice $u$. A ponderação da proximidade entre $u$ e seus vizinhos pode ser interpretada como um peso do suporte da comunidade adjacente à $u$, tendo em vista que um vértice $u$ com muitas conexões ideologicamente distantes não poderia ser entendido como popular._\n",
    "\n",
    "- \\[X\\] Programar a probabilidade de aceitação\n",
    "\n",
    "_A probabilidade de aceitação $\\eta_{v \\to u}$ de uma informação de $v$ por $u$ é definida como_\n",
    "\n",
    "$$\n",
    "\\begin{equation}\n",
    "  \\eta_{v \\to u} = \\dfrac{2}{(1 - JSD(P_{u}, P_{v}))^{ - 1} + \\left(\\dfrac{\\sigma(v)^{\\gamma }}{\\max_{w \\in N(u) \\cup \\{u\\}}{\\sigma(w)^{\\gamma }}}\\right)^{ - 1}} \n",
    "\\end{equation}\n",
    "$$\n",
    "\n",
    "_em que $\\gamma$ é um parâmetro denominado fator de confiança. Se $\\gamma > 0$, um indivíduo $v$ terá maior tendência de aceitar a informação de vizinhos mais influentes, e vice-versa. Para $\\gamma = 0$, $v$ tenderá a confiar em todos os vizinhos igualmente. A aplicação da média harmônica faz com que a probabilidade seja sensível a variações, isto é, a separação elevada entre $u$ e $v$ ou a impopularidade (ou popularidade, a depender de $\\gamma$) do emissor tem um peso negativo considerável._ "
   ]
  },
  {
   "cell_type": "code",
   "execution_count": 24,
   "id": "heard-effort",
   "metadata": {},
   "outputs": [],
   "source": [
    "def harmonic_mean(values: List[float]) -> float:\n",
    "    return len(values)/sum(map(lambda x: 1/x, values))"
   ]
  },
  {
   "cell_type": "code",
   "execution_count": 25,
   "id": "auburn-simple",
   "metadata": {},
   "outputs": [],
   "source": [
    "def acceptance_probability(G: Graph, u: int, v:int, gamma: float) -> float:\n",
    "    u_ind = G.nodes[u]['Object']\n",
    "    v_ind = G.nodes[v]['Object']\n",
    "    max_sigma = max(set([u_ind.sigma**gamma]).union([G.nodes[w]['Object'].sigma**gamma for w in G.neighbors(u)]))\n",
    "    sigma_ratio = v_ind.sigma**gamma/max_sigma\n",
    "    return 2/( 1/proximity(u_ind, v_ind) + 1/sigma_ratio )"
   ]
  },
  {
   "cell_type": "code",
   "execution_count": 26,
   "id": "hidden-binding",
   "metadata": {},
   "outputs": [],
   "source": [
    "def D(P: Dict[Binary, float], Q: Dict[Binary, float]) -> float:\n",
    "    relative_information = lambda x: P[x]*np.log2(P[x]/Q[x]) if Q[x] != 0 else (0 if P[x] == 0 else np.inf)\n",
    "    sum(map(relative_information, P.keys()))"
   ]
  },
  {
   "cell_type": "code",
   "execution_count": 40,
   "id": "restricted-iceland",
   "metadata": {},
   "outputs": [],
   "source": [
    "def JSD(Pu: Dict[Binary, float], Pv: Dict[Binary, float]) -> float:\n",
    "    return empirical_entropy(list(Pu.keys()), {code:(Pu[code] + Pv[code])/2 for code in Pu}) - \\\n",
    "            (empirical_entropy(Pu.keys(), Pu) + empirical_entropy(Pv.keys(), Pv))/2\n",
    "\n",
    "def proximity(u: Individual, v:Individual) -> float:\n",
    "    return 1 - JSD(u.P, v.P)"
   ]
  },
  {
   "cell_type": "code",
   "execution_count": 28,
   "id": "lightweight-negative",
   "metadata": {},
   "outputs": [],
   "source": [
    "def mean(L: List) -> float:\n",
    "    return sum(L)/len(L)"
   ]
  },
  {
   "cell_type": "code",
   "execution_count": 29,
   "id": "collected-tooth",
   "metadata": {},
   "outputs": [],
   "source": [
    "def select_from_list(L: List, Idx: List) -> List:\n",
    "    return [L[i] for i in Idx]"
   ]
  },
  {
   "cell_type": "code",
   "execution_count": 30,
   "id": "communist-arizona",
   "metadata": {},
   "outputs": [],
   "source": [
    "def polarity(x: Binary, beta: List[float]) -> float:\n",
    "    bits = list(map(lambda x: int(x), list(x)))\n",
    "    return sum(map(lambda x: x[0]*x[1], zip(beta, bits)))"
   ]
  },
  {
   "cell_type": "code",
   "execution_count": 41,
   "id": "oriental-ground",
   "metadata": {},
   "outputs": [],
   "source": [
    "def to_string(character_list: List[str]) -> str:\n",
    "    string = ''\n",
    "    for char in character_list:\n",
    "        string += char\n",
    "    return string\n",
    "\n",
    "def get_transition_probability(ind: Individual, tendency: str) -> Dict[str, float]:\n",
    "    '''\n",
    "    Returns a dictionary with probabilities of bit distortion, i.e. the probability of 0 -> 1 and 1 -> 0.\n",
    "    '''\n",
    "    return {'0': ind.delta + ind.xi, '1':ind.delta} if tendency == 'Up' else \\\n",
    "          ({'0': ind.delta, '1':ind.delta + ind.xi} if tendency == 'Down' else \\\n",
    "           {'0': ind.delta, '1':ind.delta})\n",
    "\n",
    "def mutate(bit: str, probability: float) -> str:\n",
    "    x = np.random.uniform()\n",
    "    if x <= probability:\n",
    "        return '1' if bit == '0' else '0'\n",
    "    return bit\n",
    "\n",
    "def distort(code: Binary, transition_probability: Dict[str, float]) -> Binary:\n",
    "    character_list = list(code)\n",
    "    \n",
    "    for i in range(len(character_list)):\n",
    "        character_list[i] = mutate(character_list[i], transition_probability[character_list[i]])\n",
    "    \n",
    "    return to_string(character_list)"
   ]
  },
  {
   "cell_type": "code",
   "execution_count": 32,
   "id": "leading-chocolate",
   "metadata": {},
   "outputs": [],
   "source": [
    "class Individual:\n",
    "    def __init__(self, mu: int, m: int, kappa: float):\n",
    "        self.kappa = kappa\n",
    "        self.L = initialize_memory(mu, m)\n",
    "        self.L_temp = []\n",
    "        self.P = probability_distribution(self.L)\n",
    "        \n",
    "    @property\n",
    "    def kappa(self):\n",
    "        return self._kappa\n",
    "    \n",
    "    @property\n",
    "    def L(self):\n",
    "        return self._L\n",
    "    \n",
    "    @property\n",
    "    def mu(self):\n",
    "        return len(self.L)\n",
    "    \n",
    "    @property\n",
    "    def P(self):\n",
    "        return self._P\n",
    "    \n",
    "    @property\n",
    "    def X(self):\n",
    "        return self.select_information()\n",
    "    \n",
    "    @property\n",
    "    def H(self):\n",
    "        return self._H\n",
    "    \n",
    "    @property\n",
    "    def delta(self):\n",
    "        return self._delta\n",
    "    \n",
    "    @property\n",
    "    def pi(self):\n",
    "        return self._pi\n",
    "    \n",
    "    @kappa.setter\n",
    "    def kappa(self, kappa: float):\n",
    "        self._kappa = kappa\n",
    "        \n",
    "    @L.setter\n",
    "    def L(self, memory: List[Binary]):\n",
    "        '''\n",
    "        Everytime the memory is updated, the distribution must be updated, so as the entropy (and the values that depends on the entropy) \n",
    "        and the polarization.\n",
    "        '''\n",
    "        self._L = memory\n",
    "        self.P  = probability_distribution(self.L)\n",
    "        self.compute_entropy()\n",
    "        self.compute_polarization()\n",
    "        \n",
    "    @P.setter\n",
    "    def P(self, distribution: Dict[Binary, float]):\n",
    "        self._P = distribution\n",
    "    \n",
    "    def compute_entropy(self):\n",
    "        '''\n",
    "        Everytime the entropy is updated, the conservation factor must be updated also.\n",
    "        '''\n",
    "        self._H = empirical_entropy(self.L, self.P)\n",
    "        self.compute_conservation_factor()\n",
    "        \n",
    "    def compute_conservation_factor(self):\n",
    "        self._delta = 1/(np.exp(self.kappa*(max_H - self.H)/max_H) + 1)\n",
    "        \n",
    "    def compute_polarization(self, beta: float = beta):\n",
    "        self._pi = sum([polarity(code, beta) for code in self.L])/len(self.L)\n",
    "        \n",
    "    def select_information(self):\n",
    "        return random_selection(self.P)\n",
    "    \n",
    "    def update_memory(self):\n",
    "        '''\n",
    "        Update the main memory with all new codes from L_temp.\n",
    "        At the end of this code it's guaranteed that every new code was added to the main memory, replacing \n",
    "        '''\n",
    "        memory_copy = deepcopy(self.L)         # work on a copy to avoid side effects\n",
    "        for new_code in self.L_temp:\n",
    "            memory_copy.pop()                  # remove the last code (first in)\n",
    "            memory_copy.insert(0, new_code)    # add a new code to the beginning of the queue\n",
    "        \n",
    "        self.L = memory_copy\n",
    "        self.L_temp = []\n",
    "        \n",
    "    def receive_information(self, new_code: Binary):\n",
    "        if new_code != None:\n",
    "            self.L_temp = self.L_temp + [new_code]"
   ]
  },
  {
   "cell_type": "code",
   "execution_count": 77,
   "id": "extra-christianity",
   "metadata": {},
   "outputs": [],
   "source": [
    "indiv = Individual(mu, m, kappa)"
   ]
  },
  {
   "cell_type": "code",
   "execution_count": 34,
   "id": "published-metropolitan",
   "metadata": {},
   "outputs": [],
   "source": [
    "class Model:\n",
    "    def __init__(self, N: int, pa: int,            # Graph Parameters\n",
    "                       mu: int, m: int,            # Memory Parameters\n",
    "                       kappa: float, lambd: float, # Proccess Parameters\n",
    "                       alpha: float, omega: float, # Population Parameters\n",
    "                       gamma: float,               # Information Dissemination Parameters\n",
    "                       seed: int = 42):\n",
    "        self.N  = N\n",
    "        self.pa = pa\n",
    "        \n",
    "        self.mu = mu\n",
    "        self.m  = m\n",
    "        self.kappa = kappa\n",
    "        self.alpha = alpha\n",
    "        self.omega = omega\n",
    "        self.lambd = lambd\n",
    "        self.gamma = gamma\n",
    "        \n",
    "        self._seed = seed\n",
    "        \n",
    "        self.build_model()\n",
    "        \n",
    "    @property\n",
    "    def N(self):\n",
    "        return self._N\n",
    "    @N.setter\n",
    "    def N(self, N:int):\n",
    "        self._N = N\n",
    "    @property\n",
    "    def pa(self):\n",
    "        return self._pa\n",
    "    @pa.setter\n",
    "    def pa(self, pa:int):\n",
    "        self._pa = pa\n",
    "    @property\n",
    "    def mu(self):\n",
    "        return self._mu\n",
    "    @mu.setter\n",
    "    def mu(self, mu:int):\n",
    "        self._mu = mu\n",
    "    @property\n",
    "    def m(self):\n",
    "        return self._m\n",
    "    @m.setter\n",
    "    def m(self, m:int):\n",
    "        self._m = m\n",
    "    @property\n",
    "    def kappa(self):\n",
    "        return self._kappa\n",
    "    @kappa.setter\n",
    "    def kappa(self, kappa:float):\n",
    "        self._kappa = kappa\n",
    "    @property\n",
    "    def alpha(self):\n",
    "        return self._alpha\n",
    "    @alpha.setter\n",
    "    def alpha(self, alpha:float):\n",
    "        self._alpha = alpha\n",
    "    @property\n",
    "    def omega(self):\n",
    "        return self._omega\n",
    "    @omega.setter\n",
    "    def omega(self, omega:float):\n",
    "        self._omega = omega\n",
    "    @property\n",
    "    def lambd(self):\n",
    "        return self._lambd\n",
    "    @lambd.setter\n",
    "    def lambd(self, lambd:float):\n",
    "        self._lambd = lambd\n",
    "    @property\n",
    "    def H(self):\n",
    "        return self._H\n",
    "    @property\n",
    "    def G(self):\n",
    "        return self._G\n",
    "    @G.setter\n",
    "    def G(self, G: Graph):\n",
    "        self._G = G\n",
    "        \n",
    "    @property\n",
    "    def seed(self):\n",
    "        return self._seed\n",
    "        \n",
    "    def build_model(self):\n",
    "        self.G = nx.barabasi_albert_graph(self.N, self.pa, self.seed)\n",
    "        self.initialize_nodes()\n",
    "        self.compute_entropy()\n",
    "        self.compute_polarity()\n",
    "        self.group_individuals()\n",
    "        self.compute_polarity_chance()\n",
    "        self.define_distortion_probabilities()\n",
    "        self.compute_edge_weights()\n",
    "        self.compute_sigma_attribute()\n",
    "        \n",
    "    def update_model(self):\n",
    "        for node in self.G:\n",
    "            self.G.nodes[node]['Object'].update_memory()\n",
    "            \n",
    "        self.compute_entropy()\n",
    "        self.compute_polarity()\n",
    "        self.compute_polarity_chance()\n",
    "        self.define_distortion_probabilities()\n",
    "        \n",
    "    def initialize_nodes(self):\n",
    "        '''\n",
    "        Attribute to each node a new 'Individual' object.\n",
    "        '''\n",
    "        nx.set_node_attributes(self.G, {node:Individual(self.mu, self.m, self.kappa) for node in self.G}, name = 'Object')\n",
    "            \n",
    "    def group_individuals(self):\n",
    "        indices = sample(list(range(self.N)), k = self.N)\n",
    "        group_a = indices[:int(self.alpha*self.N)]\n",
    "        group_b = indices[int(self.alpha*self.N): int(self.alpha*self.N) + int(self.omega*self.N)]\n",
    "        group_c = indices[int(self.alpha*self.N) + int(self.omega*self.N):]\n",
    "        \n",
    "        attribute_dict = {}\n",
    "        attribute_dict.update({list(self.G.nodes())[i]:'Up' for i in group_a})\n",
    "        attribute_dict.update({list(self.G.nodes())[i]:'Down' for i in group_b})\n",
    "        attribute_dict.update({list(self.G.nodes())[i]:'-' for i in group_c})\n",
    "        \n",
    "        nx.set_node_attributes(self.G, attribute_dict, name = 'Tendency')\n",
    "        \n",
    "    def compute_polarity_chance(self):\n",
    "        for node in self.G:\n",
    "            node_object = self.G.nodes[node]['Object']\n",
    "            mean_polarity_neighbours = mean([self.G.nodes[neighbor]['Object'].pi for neighbor in self.G.neighbors(node)])\n",
    "            setattr(node_object, 'xi', self.lambd*abs(node_object.pi - mean_polarity_neighbours))\n",
    "            \n",
    "    def define_distortion_probabilities(self):\n",
    "        for node in self.G:\n",
    "            individual = self.G.nodes[node]['Object']\n",
    "            tendency   = self.G.nodes[node]['Tendency']\n",
    "            setattr(individual, 'DistortionProbability', get_transition_probability(individual, tendency))\n",
    "            \n",
    "    def compute_edge_weights(self):\n",
    "        nx.set_edge_attributes(self.G, {(u, v):(1 - JSD(self.G.nodes[u]['Object'].P, self.G.nodes[v]['Object'].P)) for u, v in self.G.edges}, 'Distance')\n",
    "        \n",
    "    def compute_sigma_attribute(self):\n",
    "        for node in self.G:\n",
    "            global_proximity = sum([self.G.edges[(node, neighbor)]['Distance'] for neighbor in self.G.neighbors(node)])\n",
    "            setattr(self.G.nodes[node]['Object'], 'sigma', global_proximity)\n",
    "            \n",
    "    def get_acceptance_probability(self, u: int, v:int) -> float:\n",
    "        return acceptance_probability(self.G, u, v, self.gamma)\n",
    "        \n",
    "    def compute_entropy(self):\n",
    "        self._H = sum([self.G.nodes[node]['Object'].H for node in self.G])/self.N\n",
    "        \n",
    "    def compute_polarity(self):\n",
    "        self.pi = sum([self.G.nodes[node]['Object'].pi for node in self.G])/self.N"
   ]
  },
  {
   "cell_type": "code",
   "execution_count": 42,
   "id": "signed-burner",
   "metadata": {},
   "outputs": [],
   "source": [
    "model = Model(N, pa, mu, m, kappa, lambd, alpha, omega, gamma, seed)"
   ]
  },
  {
   "cell_type": "markdown",
   "id": "suburban-survivor",
   "metadata": {},
   "source": [
    "Como verificar se o gráfico possui a propriedade correta?"
   ]
  },
  {
   "cell_type": "code",
   "execution_count": 188,
   "id": "mounted-louis",
   "metadata": {},
   "outputs": [],
   "source": [
    "def verify_scalefree_property(G: Graph) -> None:\n",
    "    unique_degrees = {degree:(lambda x: degrees.count(x)/(N*100))(degree) for degree \\\n",
    "                                                          in sorted(set([degree for _, degree in list(G.degree)]))}"
   ]
  },
  {
   "cell_type": "markdown",
   "id": "naked-greece",
   "metadata": {},
   "source": [
    "Inicializando as memórias."
   ]
  },
  {
   "cell_type": "markdown",
   "id": "english-history",
   "metadata": {},
   "source": [
    "_Se definirmos $\\varphi(\\cdot)$ como um operador que converte números inteiros em suas representações binárias, então o estado inicial da memória de um vértice $u$, $L_{u}(0)$, é dado por_\n",
    "\n",
    "$$\n",
    "      L_{u}(0) = \\{x_{i}\\; |\\; i = 1, \\dots, \\mu;\\;\\; x_{i} = \\varphi(X),\\;\\;  X \\thicksim  B (2^{m}, 0.5) \\}\n",
    "$$\n",
    "\n",
    "_onde $B(2^{m}, 0.5)$ é uma distribuição binomial com parâmetros $(n, p) = (2^{n}, 0.5)$, aproximando uma distribuição normal com parâmetros $(\\mu, \\sigma^2) = (2^{n - 1}, 2^{n - 2})$._"
   ]
  },
  {
   "cell_type": "code",
   "execution_count": 36,
   "id": "opposed-ratio",
   "metadata": {},
   "outputs": [],
   "source": [
    "to_int = lambda x: int('0b'+x, 2)             # Add prefix\n",
    "to_bin = lambda x: bin(x)[2:]                 # Remove prefix\n",
    "complete_zeros = lambda x, m: '0'*(m - len(x))+x # add zeros at the beginning of the binary code if its length isn't equal to s\n",
    "\n",
    "def generate_code(x: int, m: int) -> Binary:\n",
    "    return complete_zeros(to_bin(x), m)\n",
    "\n",
    "def get_binary_codes(m: int, mu: int = None) -> List[Binary]:\n",
    "    '''\n",
    "    Return a list of binary codes (without prefix) of integers drawn from a Binomial Distribution with parameters (n, 0.5)\n",
    "    where n = 2**m\n",
    "    Inputs:\n",
    "        code_length (n) - length of the binary code (also specify the range)\n",
    "        n_codes - length of the list; number of codes\n",
    "    '''\n",
    "    return [generate_code(a, m) for a in np.random.binomial(2**m, 0.5, size = mu)] if mu != None else \\\n",
    "           [generate_code(np.random.binomial(2**m, 0.5), m)]\n",
    "\n",
    "def initialize_memory(mu: int, m: int) -> List[Binary]:\n",
    "    '''\n",
    "    Return a list of random binary codes parametrized by the model. This lists initializes the memory of a individual.\n",
    "    '''\n",
    "    return get_binary_codes(m = m, mu = mu)\n",
    "\n",
    "def probability_distribution(codes: List[Binary]) -> Dict[Binary, float]:\n",
    "    '''\n",
    "    Return a probability distribution determined over a list of binary codes.\n",
    "    '''\n",
    "    return complete_probability_distribution({code:(lambda x: codes.count(x)/(len(codes)))(code) \\\n",
    "                                              for code in set(codes)})\n",
    "\n",
    "def complete_probability_distribution(incomplete_distribution: Dict[Binary, float]) -> Dict[Binary, float]:\n",
    "    new_A = deepcopy(A)\n",
    "    \n",
    "    for code in incomplete_distribution:\n",
    "        new_A[code] = incomplete_distribution[code]\n",
    "    \n",
    "    return new_A\n",
    "\n",
    "def random_selection(distribution: Dict[Binary, float]) -> Binary:\n",
    "    '''\n",
    "    Select randomly a binary code from a given distribution.\n",
    "    '''\n",
    "    x = np.random.uniform()\n",
    "    cumulative_probability = 0\n",
    "    for code in distribution.keys():\n",
    "        cumulative_probability += distribution[code]\n",
    "        if cumulative_probability >= x:\n",
    "            return code\n",
    "        \n",
    "def empirical_entropy(memory: List[Binary], distribution: Dict[Binary, float]) -> float:\n",
    "    entropy = lambda x: distribution[x]*np.log2(distribution[x]) if distribution[x] != 0 else 0\n",
    "    return - sum(map(entropy, list(set(memory))))\n",
    "        \n",
    "# def test_selection(distribution: Dict[Binary, float], n_experiments: int = 50) -> None:\n",
    "#     '''\n",
    "#     Test if the selection process is following the given distribution.\n",
    "#     '''\n",
    "#     selection_count = {code: 0 for code in distribution.keys()}\n",
    "#     for i in range(n_experiments):\n",
    "#         selection_count[random_selection(distribution)] += 1\n",
    "    \n",
    "#     for code in selection_count.keys():\n",
    "#         selection_count[code] /= n_experiments\n",
    "        \n",
    "#     return selection_count"
   ]
  },
  {
   "cell_type": "code",
   "execution_count": 15,
   "id": "quantitative-referral",
   "metadata": {},
   "outputs": [],
   "source": [
    "sample = initialize_memory(mu, m)"
   ]
  },
  {
   "cell_type": "code",
   "execution_count": 16,
   "id": "elect-title",
   "metadata": {},
   "outputs": [],
   "source": [
    "distribution = probability_distribution(sample)"
   ]
  },
  {
   "cell_type": "markdown",
   "id": "monetary-blend",
   "metadata": {},
   "source": [
    "__To do:__\n",
    "\n",
    "- Faça uma função para retornar uma figura pré-formatada para plotar curvas. Padronize a formatação desses gráficos."
   ]
  },
  {
   "cell_type": "code",
   "execution_count": 73,
   "id": "listed-treaty",
   "metadata": {},
   "outputs": [
    {
     "data": {
      "text/plain": [
       "[<matplotlib.lines.Line2D at 0x7f5a83e95670>]"
      ]
     },
     "execution_count": 73,
     "metadata": {},
     "output_type": "execute_result"
    },
    {
     "data": {
      "image/png": "[encoded data removed]",
      "text/plain": [
       "<Figure size 432x288 with 1 Axes>"
      ]
     },
     "metadata": {
      "needs_background": "light"
     },
     "output_type": "display_data"
    }
   ],
   "source": [
    "plt.plot(list(unique_degrees.keys()), list(unique_degrees.values()))"
   ]
  },
  {
   "cell_type": "markdown",
   "id": "comfortable-boutique",
   "metadata": {},
   "source": [
    "***\n",
    "\n",
    "## Algoritmo"
   ]
  },
  {
   "cell_type": "markdown",
   "id": "invisible-durham",
   "metadata": {},
   "source": [
    "_O grafo será inicializado com a memória de todos os indivíduos totalmente preenchida aleatoriamente, a fim de que seja possível calcular os valores iniciais para os pesos das arestas. A memória funcionará como uma estrutura de fila do tipo $ FIFO $, first-in-first-out, onde a inserção de uma nova informação na fila desloca as informações mais antigas, descartando a última da fila. Se definirmos $\\varphi(\\cdot)$ como um operador que converte números inteiros em suas representações binárias, então o estado inicial da memória de um vértice $u$, $L_{u}(0)$, é dado por_\n",
    "\n",
    "$$\n",
    "\\begin{equation}\n",
    "  L_{u}(0) = \\{x_{i}\\; |\\; i = 1, \\dots, \\mu;\\;\\; x_{i} = \\varphi(X),\\;\\;  X \\thicksim  B (2^{m}, 0.5) \\}\n",
    "\\end{equation}\n",
    "$$\n",
    "\n",
    "_onde $B(2^{m}, 0.5)$ é uma distribuição binomial com parâmetros $(n, p) = (2^{n}, 0.5)$, aproximando uma distribuição normal com parâmetros $(\\mu, \\sigma^2) = (2^{n - 1}, 2^{n - 2})$. É cabível observar que os parâmetro definidos dependem da memória dos indivíduos em cada instante, que é alterada ao longo da simulação. Há, portanto, uma dependência temporal desses parâmetros. Por simplicidade omitiremos na notação a consideração de que as definições e processos descritos nesta seção dizem respeito a um dado instante $t$._\n",
    "\n",
    "_Também é feita a especificação dos parâmetros $\\alpha$ e $\\omega$ a fim de dividir os vértices da rede nos grupos $V_{\\downarrow}$, $V_{\\uparrow}$ e $\\overline{V}$, que determina o padrão de polarização de cada vértice._ \n",
    "\n",
    "_Em uma primeira fase da simulação, admitindo que exista uma representação do grafo por uma lista de arestas $E$, o algoritmo percorrerá todos os elementos $\\langle u, v \\rangle \\in E$ realizando trocas de informações entre $u$ e $v$, i.e. escolhe-se ao acaso $x \\in X_{u}$ e $y \\in X_{v}$ partindo das distribuições $P_{u}$ e $P_{v}$, e faz-se a transmissão de $x$ para $v$ e $y$ para $u$ levando em consideração as probabilidades de distorção definidas anteriormente para os indivíduos de cada grupo, isto é, considerando que o indivíduo possa polarizar para cima, para baixo ou se manter neutro. Portanto, a informação recebida por um indivíduo não corresponde necessariamente à informação emitida. Nesse processo, também é garantido que todo vértice transmitirá alguma informação (não necessariamente a mesma) para cada um dos seus vizinhos._\n",
    "\n",
    "_Após a seleção se verifica a aceitação da informação emitida, segundo a probabilidade $\\eta_{u \\to  v}$ definida acima. As informações rejeitadas são descartadas, enquanto que as informações aceitas são armazenadas em uma lista temporária até a conclusão da disseminação na rede, em que os dados da rede são atualizados._\n",
    "\n",
    "_Ao término de um momento $t$ da simulação, cada vértice $u \\in V(G)$ passa a ter uma nova memória $L_{u}(t + 1)$ com a adição das informações recebidas, e o grafo pode ser atualizado com o cálculo dos novos pesos $JSD(u, v)$ e dos parâmetros que dependem deles._"
   ]
  },
  {
   "cell_type": "code",
   "execution_count": 37,
   "id": "complex-component",
   "metadata": {},
   "outputs": [],
   "source": [
    "def update_statistics(M: Model, statistics: Dict):\n",
    "    statistics['H'].append(model.H)\n",
    "    statistics['pi'].append(model.pi)"
   ]
  },
  {
   "cell_type": "code",
   "execution_count": 38,
   "id": "arctic-current",
   "metadata": {},
   "outputs": [],
   "source": [
    "def evaluate_information(code: Binary, acceptance_probability: float):\n",
    "    return code if (np.random.uniform() <= acceptance_probability) else None"
   ]
  },
  {
   "cell_type": "code",
   "execution_count": 39,
   "id": "proof-usage",
   "metadata": {},
   "outputs": [],
   "source": [
    "def simulate(M: Model):\n",
    "    for u, v in M.G.edges():\n",
    "        u_ind = M.G.nodes[u]['Object']\n",
    "        v_ind = M.G.nodes[v]['Object']\n",
    "        u_ind.receive_information(evaluate_information(distort(v_ind.X, v_ind.DistortionProbability), M.get_acceptance_probability(u, v)))\n",
    "        v_ind.receive_information(evaluate_information(distort(u_ind.X, u_ind.DistortionProbability), M.get_acceptance_probability(v, u)))\n",
    "    M.update_model()\n",
    "    \n",
    "    # here i can put some functions to extract statistics from the model"
   ]
  },
  {
   "cell_type": "markdown",
   "id": "large-prospect",
   "metadata": {},
   "source": [
    "#### Modos de avaliar o modelo.\n",
    "\n",
    "- Calcular estatísticas globais e plotar sua evolução no tempo.\n",
    "- Plotar a distribuição de estatísticas locais em certos pontos da simulação.\n",
    "- Dinâmica avaliando em paralelo a proporção de grupos."
   ]
  },
  {
   "cell_type": "markdown",
   "id": "inappropriate-alias",
   "metadata": {},
   "source": [
    "#### Modos de melhorar o modelo.\n",
    "- Avaliar o custo de processamento das diferentes partes da simulação; identificar pontos passíveis de otimização."
   ]
  },
  {
   "cell_type": "code",
   "execution_count": null,
   "id": "compressed-trainer",
   "metadata": {},
   "outputs": [],
   "source": []
  }
 ],
 "metadata": {
  "kernelspec": {
   "display_name": "Python 3",
   "language": "python",
   "name": "python3"
  },
  "language_info": {
   "codemirror_mode": {
    "name": "ipython",
    "version": 3
   },
   "file_extension": ".py",
   "mimetype": "text/x-python",
   "name": "python",
   "nbconvert_exporter": "python",
   "pygments_lexer": "ipython3",
   "version": "3.8.5"
  }
 },
 "nbformat": 4,
 "nbformat_minor": 5
}
