{
 "cells": [
  {
   "cell_type": "markdown",
   "id": "auburn-determination",
   "metadata": {},
   "source": [
    "__Imports__"
   ]
  },
  {
   "cell_type": "code",
   "execution_count": 193,
   "id": "manufactured-hamilton",
   "metadata": {},
   "outputs": [],
   "source": [
    "import networkx as nx\n",
    "import numpy as np\n",
    "import matplotlib.pyplot as plt\n",
    "\n",
    "from typing import NewType, List, Dict"
   ]
  },
  {
   "cell_type": "markdown",
   "id": "tamil-brook",
   "metadata": {},
   "source": [
    "__Definição de Tipos__"
   ]
  },
  {
   "cell_type": "code",
   "execution_count": 97,
   "id": "impaired-methodology",
   "metadata": {},
   "outputs": [],
   "source": [
    "Graph = NewType('Graph', nx.Graph)\n",
    "Binary = NewType('Binary', str)   # This type will represent binary codes from integers"
   ]
  },
  {
   "cell_type": "markdown",
   "id": "continuing-strand",
   "metadata": {},
   "source": [
    "#### Lista de Afazeres:\n",
    "\n",
    "_Os indivíduos serão modelados como vértices em um grafo não-orientado livre de escala de Barabási-Albert de tamanho $N$, com pesos. Cada vértice $u$ é caracterizado por uma tripla $(X_{u}, L_{u}, P_{u})$, em que $L_{u}$ é uma memória de tamanho $\\mu$ de códigos binários de tamanho $m$, sendo possível, assim, representar $2^{m}$ diferentes tipos de informações - denotaremos o conjunto de informações possíveis - alfabeto - como $\\mathcal{A}$._\n",
    "\n",
    "- \\[ \\] Criar grafo de barabasi e inicializar os nodos (memórias e probabilidades). "
   ]
  },
  {
   "cell_type": "markdown",
   "id": "surprised-interview",
   "metadata": {},
   "source": [
    "__Estrutura do Grafo e Suas Propriedades__"
   ]
  },
  {
   "cell_type": "markdown",
   "id": "illegal-heaven",
   "metadata": {},
   "source": [
    "_Parâmetros_ (Wang2017)"
   ]
  },
  {
   "cell_type": "code",
   "execution_count": 176,
   "id": "assisted-banking",
   "metadata": {},
   "outputs": [],
   "source": [
    "N = 30 # Graph Size\n",
    "pa = 2  # Preferential Attachment Parameter\n",
    "\n",
    "mu = 320\n",
    "m  = 5  # Size of binary codes\n",
    "\n",
    "seed = 42 # Seed for random algorithms initialization."
   ]
  },
  {
   "cell_type": "code",
   "execution_count": 9,
   "id": "patent-stevens",
   "metadata": {},
   "outputs": [],
   "source": [
    "G = nx.barabasi_albert_graph(N, pa, seed)"
   ]
  },
  {
   "cell_type": "markdown",
   "id": "digital-ethnic",
   "metadata": {},
   "source": [
    "Como verificar se o gráfico possui a propriedade correta?"
   ]
  },
  {
   "cell_type": "code",
   "execution_count": 188,
   "id": "rocky-collector",
   "metadata": {},
   "outputs": [],
   "source": [
    "def verify_scalefree_property(G: Graph) -> None:\n",
    "    unique_degrees = {degree:(lambda x: degrees.count(x)/(N*100))(degree) for degree \\\n",
    "                                                          in sorted(set([degree for _, degree in list(G.degree)]))}"
   ]
  },
  {
   "cell_type": "markdown",
   "id": "nominated-primary",
   "metadata": {},
   "source": [
    "Inicializando as memórias."
   ]
  },
  {
   "cell_type": "markdown",
   "id": "acoustic-vancouver",
   "metadata": {},
   "source": [
    "_Se definirmos $\\varphi(\\cdot)$ como um operador que converte números inteiros em suas representações binárias, então o estado inicial da memória de um vértice $u$, $L_{u}(0)$, é dado por_\n",
    "\n",
    "$$\n",
    "      L_{u}(0) = \\{x_{i}\\; |\\; i = 1, \\dots, \\mu;\\;\\; x_{i} = \\varphi(X),\\;\\;  X \\thicksim  B (2^{m}, 0.5) \\}\n",
    "$$\n",
    "\n",
    "_onde $B(2^{m}, 0.5)$ é uma distribuição binomial com parâmetros $(n, p) = (2^{n}, 0.5)$, aproximando uma distribuição normal com parâmetros $(\\mu, \\sigma^2) = (2^{n - 1}, 2^{n - 2})$._"
   ]
  },
  {
   "cell_type": "code",
   "execution_count": 180,
   "id": "affected-pierce",
   "metadata": {},
   "outputs": [],
   "source": [
    "to_int = lambda x: int('0b'+x, 2)             # Add prefix\n",
    "to_bin = lambda x: bin(x)[2:]                 # Remove prefix\n",
    "complete_zeros = lambda x: '0'*(s - len(x))+x # add zeros at the beginning of the binary code if its length isn't equal to s\n",
    "\n",
    "def get_binary_codes(code_length: int, n_codes: int = None) -> List[Binary]:\n",
    "    '''\n",
    "    Return a list of binary codes (without prefix) of integers drawn from a Binomial Distribution with parameters (n, 0.5)\n",
    "    where n = 2**m\n",
    "    '''\n",
    "    return [complete_zeros(to_bin(a)) for a in np.random.binomial(2**s, 0.5, size = n_codes)] if n_codes != None else \\\n",
    "           [complete_zeros(to_bin(np.random.binomial(2**s, 0.5)))]\n",
    "\n",
    "def initialize_memory(mu: int, m: int) -> List[Binary]:\n",
    "    return get_binary_codes(code_length = m, n_codes = mi)\n",
    "\n",
    "def probability_distribution(codes: List[Binary]) -> Dict[Binary, float]:\n",
    "    return {code:(lambda x: codes.count(x)/(len(codes)))(code) \\\n",
    "                                        for code in set(codes)}"
   ]
  },
  {
   "cell_type": "code",
   "execution_count": 196,
   "id": "undefined-interview",
   "metadata": {},
   "outputs": [],
   "source": [
    "sample = initialize_memory(mu, m)"
   ]
  },
  {
   "cell_type": "markdown",
   "id": "mighty-vulnerability",
   "metadata": {},
   "source": [
    "__To do:__\n",
    "\n",
    "- Faça uma função para retornar uma figura pré-formatada para plotar curvas. Padronize a formatação desses gráficos."
   ]
  },
  {
   "cell_type": "code",
   "execution_count": 73,
   "id": "neither-projection",
   "metadata": {},
   "outputs": [
    {
     "data": {
      "text/plain": [
       "[<matplotlib.lines.Line2D at 0x7f5a83e95670>]"
      ]
     },
     "execution_count": 73,
     "metadata": {},
     "output_type": "execute_result"
    },
    {
     "data": {
      "image/png": "[encoded data removed]",
      "text/plain": [
       "<Figure size 432x288 with 1 Axes>"
      ]
     },
     "metadata": {
      "needs_background": "light"
     },
     "output_type": "display_data"
    }
   ],
   "source": [
    "plt.plot(list(unique_degrees.keys()), list(unique_degrees.values()))"
   ]
  },
  {
   "cell_type": "code",
   "execution_count": null,
   "id": "blind-tobacco",
   "metadata": {},
   "outputs": [],
   "source": []
  }
 ],
 "metadata": {
  "kernelspec": {
   "display_name": "Python 3",
   "language": "python",
   "name": "python3"
  },
  "language_info": {
   "codemirror_mode": {
    "name": "ipython",
    "version": 3
   },
   "file_extension": ".py",
   "mimetype": "text/x-python",
   "name": "python",
   "nbconvert_exporter": "python",
   "pygments_lexer": "ipython3",
   "version": "3.8.5"
  }
 },
 "nbformat": 4,
 "nbformat_minor": 5
}
