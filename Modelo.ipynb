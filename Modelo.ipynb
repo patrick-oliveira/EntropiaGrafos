{
 "cells": [
  {
   "cell_type": "markdown",
   "id": "concrete-segment",
   "metadata": {},
   "source": [
    "__Imports__"
   ]
  },
  {
   "cell_type": "code",
   "execution_count": 1,
   "id": "adjusted-reunion",
   "metadata": {},
   "outputs": [],
   "source": [
    "%load_ext autoreload\n",
    "%autoreload 2"
   ]
  },
  {
   "cell_type": "code",
   "execution_count": 2,
   "id": "direct-process",
   "metadata": {},
   "outputs": [],
   "source": [
    "# from Scripts.Individual import Individual\n",
    "from Scripts.Parameters import mu, m, N, pa\n",
    "from Scripts.Polarity import polarity\n",
    "from Scripts.Memory import initialize_memory\n",
    "from Scripts.Model import Model\n",
    "from multiprocessing import Pool\n",
    "from time import time\n",
    "\n",
    "seed = 42"
   ]
  },
  {
   "cell_type": "code",
   "execution_count": 3,
   "id": "acoustic-baltimore",
   "metadata": {},
   "outputs": [],
   "source": [
    "kappa = 10\n",
    "alpha = 0.5\n",
    "omega = 0.5\n",
    "lambd = 5\n",
    "gamma = 5.0"
   ]
  },
  {
   "cell_type": "code",
   "execution_count": 4,
   "id": "virgin-responsibility",
   "metadata": {},
   "outputs": [],
   "source": [
    "model = Model(N, pa, mu, m, kappa, lambd, alpha, omega, gamma, seed)"
   ]
  },
  {
   "cell_type": "code",
   "execution_count": 9,
   "id": "coupled-albuquerque",
   "metadata": {},
   "outputs": [],
   "source": [
    "def f(node):\n",
    "    model.indInfo(node).update_memory()\n",
    "    \n",
    "pool = Pool(processes = 2)"
   ]
  },
  {
   "cell_type": "code",
   "execution_count": null,
   "id": "southwest-absence",
   "metadata": {},
   "outputs": [],
   "source": [
    "start = time()\n",
    "pool.map(f, range(model.N))\n",
    "end   = time()\n",
    "print(end - start)"
   ]
  },
  {
   "cell_type": "code",
   "execution_count": 7,
   "id": "convenient-train",
   "metadata": {},
   "outputs": [
    {
     "name": "stdout",
     "output_type": "stream",
     "text": [
      "1.0083873271942139\n"
     ]
    }
   ],
   "source": [
    "start = time()\n",
    "model.update_memory()\n",
    "end   = time()\n",
    "print(end - start)"
   ]
  },
  {
   "cell_type": "code",
   "execution_count": 8,
   "id": "domestic-static",
   "metadata": {},
   "outputs": [],
   "source": [
    "memory = initialize_memory(mu, m)"
   ]
  },
  {
   "cell_type": "code",
   "execution_count": 12,
   "id": "absent-rugby",
   "metadata": {},
   "outputs": [
    {
     "data": {
      "text/plain": [
       "0.6190424201551366"
      ]
     },
     "execution_count": 12,
     "metadata": {},
     "output_type": "execute_result"
    }
   ],
   "source": [
    "polarity(memory[0])"
   ]
  },
  {
   "cell_type": "code",
   "execution_count": 34,
   "id": "fundamental-effectiveness",
   "metadata": {},
   "outputs": [],
   "source": [
    "pool = Pool(8)"
   ]
  },
  {
   "cell_type": "code",
   "execution_count": 35,
   "id": "ahead-smile",
   "metadata": {},
   "outputs": [
    {
     "name": "stdout",
     "output_type": "stream",
     "text": [
      "0.0029916763305664062\n"
     ]
    }
   ],
   "source": [
    "start = time()\n",
    "L1 = list(map(polarity, memory))\n",
    "end = time()\n",
    "print(end - start)"
   ]
  },
  {
   "cell_type": "code",
   "execution_count": 37,
   "id": "sacred-bangladesh",
   "metadata": {},
   "outputs": [
    {
     "name": "stdout",
     "output_type": "stream",
     "text": [
      "0.008949518203735352\n"
     ]
    }
   ],
   "source": [
    "start = time()\n",
    "L2 = pool.map(polarity, memory)\n",
    "end = time()\n",
    "print(end - start)"
   ]
  },
  {
   "cell_type": "code",
   "execution_count": 45,
   "id": "fifteen-accommodation",
   "metadata": {},
   "outputs": [],
   "source": [
    "individual = Individual(mu, m, kappa)"
   ]
  },
  {
   "cell_type": "code",
   "execution_count": 46,
   "id": "later-fisher",
   "metadata": {},
   "outputs": [
    {
     "name": "stdout",
     "output_type": "stream",
     "text": [
      "0.8367629051208496\n"
     ]
    }
   ],
   "source": [
    "start = time()\n",
    "L3 = individual.compute_polarization()\n",
    "end = time()\n",
    "print(end - start)"
   ]
  },
  {
   "cell_type": "markdown",
   "id": "available-lyric",
   "metadata": {},
   "source": [
    "***\n",
    "\n",
    "## Algoritmo"
   ]
  },
  {
   "cell_type": "markdown",
   "id": "hollow-organic",
   "metadata": {},
   "source": [
    "_O grafo será inicializado com a memória de todos os indivíduos totalmente preenchida aleatoriamente, a fim de que seja possível calcular os valores iniciais para os pesos das arestas. A memória funcionará como uma estrutura de fila do tipo $ FIFO $, first-in-first-out, onde a inserção de uma nova informação na fila desloca as informações mais antigas, descartando a última da fila. Se definirmos $\\varphi(\\cdot)$ como um operador que converte números inteiros em suas representações binárias, então o estado inicial da memória de um vértice $u$, $L_{u}(0)$, é dado por_\n",
    "\n",
    "$$\n",
    "\\begin{equation}\n",
    "  L_{u}(0) = \\{x_{i}\\; |\\; i = 1, \\dots, \\mu;\\;\\; x_{i} = \\varphi(X),\\;\\;  X \\thicksim  B (2^{m}, 0.5) \\}\n",
    "\\end{equation}\n",
    "$$\n",
    "\n",
    "_onde $B(2^{m}, 0.5)$ é uma distribuição binomial com parâmetros $(n, p) = (2^{n}, 0.5)$, aproximando uma distribuição normal com parâmetros $(\\mu, \\sigma^2) = (2^{n - 1}, 2^{n - 2})$. É cabível observar que os parâmetro definidos dependem da memória dos indivíduos em cada instante, que é alterada ao longo da simulação. Há, portanto, uma dependência temporal desses parâmetros. Por simplicidade omitiremos na notação a consideração de que as definições e processos descritos nesta seção dizem respeito a um dado instante $t$._\n",
    "\n",
    "_Também é feita a especificação dos parâmetros $\\alpha$ e $\\omega$ a fim de dividir os vértices da rede nos grupos $V_{\\downarrow}$, $V_{\\uparrow}$ e $\\overline{V}$, que determina o padrão de polarização de cada vértice._ \n",
    "\n",
    "_Em uma primeira fase da simulação, admitindo que exista uma representação do grafo por uma lista de arestas $E$, o algoritmo percorrerá todos os elementos $\\langle u, v \\rangle \\in E$ realizando trocas de informações entre $u$ e $v$, i.e. escolhe-se ao acaso $x \\in X_{u}$ e $y \\in X_{v}$ partindo das distribuições $P_{u}$ e $P_{v}$, e faz-se a transmissão de $x$ para $v$ e $y$ para $u$ levando em consideração as probabilidades de distorção definidas anteriormente para os indivíduos de cada grupo, isto é, considerando que o indivíduo possa polarizar para cima, para baixo ou se manter neutro. Portanto, a informação recebida por um indivíduo não corresponde necessariamente à informação emitida. Nesse processo, também é garantido que todo vértice transmitirá alguma informação (não necessariamente a mesma) para cada um dos seus vizinhos._\n",
    "\n",
    "_Após a seleção se verifica a aceitação da informação emitida, segundo a probabilidade $\\eta_{u \\to  v}$ definida acima. As informações rejeitadas são descartadas, enquanto que as informações aceitas são armazenadas em uma lista temporária até a conclusão da disseminação na rede, em que os dados da rede são atualizados._\n",
    "\n",
    "_Ao término de um momento $t$ da simulação, cada vértice $u \\in V(G)$ passa a ter uma nova memória $L_{u}(t + 1)$ com a adição das informações recebidas, e o grafo pode ser atualizado com o cálculo dos novos pesos $JSD(u, v)$ e dos parâmetros que dependem deles._"
   ]
  },
  {
   "cell_type": "markdown",
   "id": "otherwise-lesson",
   "metadata": {},
   "source": [
    "#### Modos de avaliar o modelo.\n",
    "\n",
    "- Calcular estatísticas globais e plotar sua evolução no tempo.\n",
    "- Plotar a distribuição de estatísticas locais em certos pontos da simulação.\n",
    "- Dinâmica avaliando em paralelo a proporção de grupos."
   ]
  },
  {
   "cell_type": "markdown",
   "id": "valid-disposal",
   "metadata": {},
   "source": [
    "#### Modos de melhorar o modelo.\n",
    "- Avaliar o custo de processamento das diferentes partes da simulação; identificar pontos passíveis de otimização.\n",
    "\n",
    "\n",
    "### Para fazer\n",
    "- Paralelize o cálculo da entropia nos indivíduos.\n",
    "- Faça uma função para retornar uma figura pré-formatada para plotar curvas. Padronize a formatação desses gráficos.\n",
    "- Faça funções para plotar as estatísticas de maneira organizada."
   ]
  },
  {
   "cell_type": "code",
   "execution_count": null,
   "id": "exempt-saver",
   "metadata": {},
   "outputs": [],
   "source": []
  }
 ],
 "metadata": {
  "kernelspec": {
   "display_name": "Python 3",
   "language": "python",
   "name": "python3"
  },
  "language_info": {
   "codemirror_mode": {
    "name": "ipython",
    "version": 3
   },
   "file_extension": ".py",
   "mimetype": "text/x-python",
   "name": "python",
   "nbconvert_exporter": "python",
   "pygments_lexer": "ipython3",
   "version": "3.8.5"
  }
 },
 "nbformat": 4,
 "nbformat_minor": 5
}
