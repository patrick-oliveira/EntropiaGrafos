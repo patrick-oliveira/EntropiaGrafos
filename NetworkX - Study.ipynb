{
 "cells": [
  {
   "cell_type": "code",
   "execution_count": 1,
   "metadata": {},
   "outputs": [],
   "source": [
    "import networkx as nx"
   ]
  },
  {
   "cell_type": "markdown",
   "metadata": {},
   "source": [
    "___Creating Graphs___\n",
    "\n",
    "Undirected graphs: Mathematically, undirected graphs represents symmetrical relationships. Undirected graphs admits self-loops, where a node have a relationship with itself, a reflexive relationship. An undirected graph without loops is called a simple graph, otherwise it is called a pseudograph.\n",
    "\n",
    "Directed graphs: Directed graphs, or digraphs, on the other hand, represents unsymmetrical relationships. For a graph to be considered directed it is necessary and suficient to have one directed edge.\n",
    "\n",
    "Multigraphs: Undirected graphs with multiple - parallel - edges between nodes. Different edges between the same pair of nodes can represent different types of relationships.\n",
    "\n",
    "Directed Multigraphs: Directed graphs with parallel edges."
   ]
  },
  {
   "cell_type": "code",
   "execution_count": 3,
   "metadata": {},
   "outputs": [],
   "source": [
    "uG = nx.Graph() # Undirected graph\n",
    "dG = nx.DiGraph() # Directed graph\n",
    "converted_dG = nx.Graph(dG) # converting a digraph into an undirected graph; some algorithms\n",
    "                           # won't work with digraphs\n",
    "mG = nx.MultiGraph() # Multigraph\n",
    "dmG = nx.MultiDiGraph() # Directed multigraphs"
   ]
  },
  {
   "cell_type": "markdown",
   "metadata": {},
   "source": [
    "__Node and edge manipulations__ are subject to the following rules:\n",
    "\n",
    "• Adding an edge to a graph also ensures that its ends are added if they\n",
    "did not exist before.\n",
    "\n",
    "• Adding a duplicate node or edge is silently ignored unless the graph is a\n",
    "multigraph; in the latter case, an additional parallel edge is created.\n",
    "\n",
    "• Removing an edge does not remove its end nodes.\n",
    "\n",
    "• Removing a node removes all incident edges.\n",
    "\n",
    "• Removing a single non-existent node or edge raises a NetworkXError exception,\n",
    "but if the node or edge is a part of a list, then an error is silently ignored.\n",
    "\n",
    "___OBS:___ It can be useful to start a program's design specifying the rules by which each of its components will work."
   ]
  },
  {
   "cell_type": "code",
   "execution_count": 11,
   "metadata": {},
   "outputs": [],
   "source": [
    "G = nx.Graph([(\"A\", \"eggs\"),]) # Starting a graph with a single edge\n",
    "\n",
    "# Adding nodes and edges\n",
    "\n",
    "G.add_node(\"spinach\") # Add a single node\n",
    "G.add_node(\"Hg\") # Add a single node by mistake\n",
    "G.add_nodes_from([\"folates\", \"arparagus\", \"liver\"]) # Add a list of nodes\n",
    "G.add_edge(\"spinach\", \"folates\") # Add one edge, both ends exist\n",
    "G.add_edge(\"spinach\", \"heating oil\") # Add one edge by mistake\n",
    "G.add_edge(\"liver\", \"Se\") # Add one edge, one end does not exist\n",
    "G.add_edges_from([(\"folates\", \"liver\"), (\"folates\", \"asparagus\")])\n",
    "\n",
    "# Removing nodes and edges\n",
    "\n",
    "G.remove_node(\"Hg\")\n",
    "G.remove_nodes_from([\"Hg\",]) # Safe to remove a missing node using a list\n",
    "G.remove_edge(\"spinach\", \"heating oil\")\n",
    "G.remove_edges_from([(\"spinach\", \"heating oil\"), ]) # See above\n",
    "G.remove_node(\"heating oil\") # Not removed yet"
   ]
  },
  {
   "cell_type": "code",
   "execution_count": 22,
   "metadata": {},
   "outputs": [
    {
     "name": "stdout",
     "output_type": "stream",
     "text": [
      "['A', 'eggs', 'spinach', 'folates', 'arparagus', 'liver', 'Se', 'asparagus']\n",
      "[('A', {}), ('eggs', {}), ('spinach', {}), ('folates', {}), ('arparagus', {}), ('liver', {}), ('Se', {}), ('asparagus', {})]\n",
      "[('A', 'eggs', {}), ('spinach', 'folates', {}), ('folates', 'liver', {}), ('folates', 'asparagus', {}), ('liver', 'Se', {})]\n"
     ]
    }
   ],
   "source": [
    "# Listing nodes\n",
    "print(G.nodes)\n",
    "\n",
    "# Accessing node atributes\n",
    "print(G.nodes.data())\n",
    "# print(G.nodes(data = True))\n",
    "\n",
    "# Accessing edge atributes\n",
    "print(G.edges.data())"
   ]
  },
  {
   "cell_type": "code",
   "execution_count": 45,
   "metadata": {},
   "outputs": [
    {
     "name": "stdout",
     "output_type": "stream",
     "text": [
      "['A', 'carrots', 'eggs', 'fatty fish', 'green leafy vegs', 'liver', 'milk', 'tomatoes', 'B12', 'B6', 'asparagus', 'beans', 'kidneys', 'potatoes', 'C', 'pumpkins', 'Ca', 'broccoli', 'cheese', 'Cu', 'nuts', 'whole grains', 'D', 'mushrooms', 'E', 'seeds', 'Mn', 'legumes', 'wheat', 'Se', 'Zn', 'beef', 'riboflavin', 'niacin', 'folates', 'spinach', 'poultry', 'shellfish', 'thiamin', 'veg oils', 'yogurt']\n"
     ]
    }
   ],
   "source": [
    "# Reading a network from a csv file (an edge list)\n",
    "import csv\n",
    "\n",
    "with open(\"Data/nutrients.csv\") as infile:\n",
    "    csv_reader = csv.reader(infile)\n",
    "    G = nx.Graph(csv_reader)\n",
    "\n",
    "print(G.nodes())"
   ]
  },
  {
   "cell_type": "code",
   "execution_count": 54,
   "metadata": {},
   "outputs": [
    {
     "name": "stdout",
     "output_type": "stream",
     "text": [
      "{'Carrots': {}, 'Eggs': {}, 'Fatty fish': {}, 'Green leafy vegs': {}, 'Liver': {}, 'Milk': {}, 'Tomatoes': {}}\n"
     ]
    }
   ],
   "source": [
    "# Selecting adjacent nodes\n",
    "print(G['A'])"
   ]
  },
  {
   "cell_type": "code",
   "execution_count": 46,
   "metadata": {},
   "outputs": [
    {
     "name": "stdout",
     "output_type": "stream",
     "text": [
      "[('tomatoes', 'tomatoes')]\n",
      "[]\n"
     ]
    }
   ],
   "source": [
    "# Finding loops\n",
    "loops = list(nx.selfloop_edges(G))\n",
    "print(loops)\n",
    "# Removing loops\n",
    "G.remove_edges_from(loops)\n",
    "print(list(nx.selfloop_edges(G)))"
   ]
  },
  {
   "cell_type": "code",
   "execution_count": 53,
   "metadata": {},
   "outputs": [
    {
     "name": "stdout",
     "output_type": "stream",
     "text": [
      "['A', 'B12', 'B6', 'C', 'Ca', 'Cu', 'D', 'E', 'Mn', 'Se', 'Zn', 'Carrots', 'Eggs', 'Fatty fish', 'Green leafy vegs', 'Liver', 'Milk', 'Tomatoes', 'Asparagus', 'Beans', 'Kidneys', 'Potatoes', 'Pumpkins', 'Broccoli', 'Cheese', 'Nuts', 'Whole grains', 'Mushrooms', 'Seeds', 'Legumes', 'Wheat', 'Beef', 'Riboflavin', 'Niacin', 'Folates', 'Spinach', 'Poultry', 'Shellfish', 'Thiamin', 'Veg oils', 'Yogurt']\n"
     ]
    }
   ],
   "source": [
    "# Relabeling nodes\n",
    "mapping = {node: node.title().capitalize() for node in G if isinstance(node, str)}\n",
    "nx.relabel_nodes(G, mapping, copy = False)\n",
    "print(G.nodes())"
   ]
  },
  {
   "cell_type": "code",
   "execution_count": 61,
   "metadata": {},
   "outputs": [],
   "source": [
    "# Adding attributes\n",
    "G.add_node(\"Honey\", edible=True)\n",
    "G.add_nodes_from([(\"Steel\", {\"edible\" : False}), ])\n",
    "G.add_edge(\"Honey\", \"Steel\", weight=0.0)\n",
    "G.add_edges_from([(\"Honey\", \"Zn\"),], related=False)\n",
    "\n",
    "# Adding weighted edges\n",
    "G.add_weighted_edges_from([(\"Honey\", \"Zn\", 0.01),\n",
    "                           (\"Honey\", \"Sugar\", 0.99)])"
   ]
  },
  {
   "cell_type": "code",
   "execution_count": 82,
   "metadata": {},
   "outputs": [],
   "source": [
    "# Changing attributes directly\n",
    "G.nodes['Zn']['nutrient'] = True\n",
    "G.edges['Zn', 'Beef']['weight'] = 0.95\n",
    "\n",
    "# Changing with a dictionary\n",
    "# nx.set_node_attributes(G, att_name, node_dict)\n",
    "# nx.set_edge_attributes(G, att_name, edge_dict)\n",
    "# edge_dict is a dictionary with node/edge names as keys and the attributes as values\n",
    "\n",
    "# Removing attributes\n",
    "del G.nodes['Zn']['nutrient']\n",
    "del G.edges['Zn', 'Beef']['weight']"
   ]
  },
  {
   "cell_type": "code",
   "execution_count": 90,
   "metadata": {},
   "outputs": [],
   "source": [
    "nutrients = set((\"B12\", \"Zn\", \"D\", \"B6\", \"A\", \"Se\", \"Cu\", \"Folates\",\n",
    "                 \"Ca\", \"Mn\", \"Thiamin\", \"Riboflavin\", \"C\", \"E\", \"Niacin\"))\n",
    "nutrient_dict = {node: (node in nutrients) for node in G}\n",
    "    # for each node in G, specify wether or not node (is in) is a nutrient(s)\n",
    "    # Python lists have notoriously slow (linear) lookup performance. \n",
    "    # Whenever possible, convert them into sets that have constant lookup time.\n",
    "nx.set_node_attributes(G, nutrient_dict, name = 'nutrients')"
   ]
  },
  {
   "cell_type": "markdown",
   "metadata": {},
   "source": [
    "___Exporting Networks___\n",
    "\n",
    "For more detail about the different formats that can be used to save a network and to verify what is the reader function (within nx) and if it stores the attributes, consult the page '30' in the textbook."
   ]
  },
  {
   "cell_type": "code",
   "execution_count": 92,
   "metadata": {},
   "outputs": [],
   "source": [
    "# Writing a GraphML file\n",
    "nx.write_graphml(G, \"Data/nutrients.graphml\")\n",
    "\n",
    "# with open(\"Data/nutrients.grpahml\", \"wb\") as ofile:\n",
    "#     nx.write_graphml(G, ofile)"
   ]
  },
  {
   "cell_type": "markdown",
   "metadata": {},
   "source": [
    "***"
   ]
  },
  {
   "cell_type": "markdown",
   "metadata": {},
   "source": [
    "__Case Study: Constructing a Network of Wikipedia Pages__"
   ]
  },
  {
   "cell_type": "code",
   "execution_count": 17,
   "metadata": {},
   "outputs": [],
   "source": [
    "del G.nodes['Measure Theory'][0]"
   ]
  },
  {
   "cell_type": "code",
   "execution_count": 25,
   "metadata": {},
   "outputs": [
    {
     "data": {
      "text/plain": [
       "{0: 'contraction'}"
      ]
     },
     "execution_count": 25,
     "metadata": {},
     "output_type": "execute_result"
    }
   ],
   "source": [
    "G.nodes['Sciencescape']"
   ]
  },
  {
   "cell_type": "code",
   "execution_count": null,
   "metadata": {},
   "outputs": [],
   "source": []
  },
  {
   "cell_type": "code",
   "execution_count": 26,
   "metadata": {
    "collapsed": true,
    "jupyter": {
     "outputs_hidden": true
    }
   },
   "outputs": [
    {
     "name": "stdout",
     "output_type": "stream",
     "text": [
      "0 Complex Network\n",
      "1 Adjacency List\n",
      "1 Adjacency Matrix\n",
      "1 Agent-Based Model\n",
      "1 Albert-László Barabási\n",
      "1 Arxiv (Identifier)\n",
      "1 Artificial Neural Network\n",
      "1 Assortativity\n",
      "1 Autonomous System (Internet)\n",
      "1 Balance Theory\n",
      "1 Barabási–Albert Model\n",
      "1 Bibcode (Identifier)\n",
      "1 Biological Network\n",
      "1 Biology\n",
      "1 Bipartite Graph\n",
      "1 Boolean Network\n",
      "1 Branching Process\n",
      "1 Centrality\n",
      "1 Climate\n",
      "1 Climate Networks\n",
      "1 Clique (Graph Theory)\n",
      "1 Clustering Coefficient\n",
      "1 Combinatorial Optimization\n",
      "1 Community Structure\n",
      "1 Complete Graph\n",
      "1 Complex Networks\n",
      "1 Complex Adaptive System\n",
      "1 Complex Contagion\n",
      "1 Complex Systems\n",
      "1 Computer Network\n",
      "1 Computer Science\n",
      "1 Connected Component (Graph Theory)\n",
      "1 Connectome\n",
      "1 Cut (Graph Theory)\n",
      "1 Cycle (Graph Theory)\n",
      "1 Degree (Graph Theory)\n",
      "1 Degree Distribution\n",
      "1 Dependency Network\n",
      "1 Directed Graph\n",
      "1 Distance (Graph Theory)\n",
      "1 Doi (Identifier)\n",
      "1 Dual-Phase Evolution\n",
      "1 Duncan J. Watts\n",
      "1 Dynamic Network Analysis\n",
      "1 Edge (Graph Theory)\n",
      "1 Efficiency (Network Science)\n",
      "1 Entropy (Information Theory)\n",
      "1 Epidemic Model\n",
      "1 Epidemiology\n",
      "1 Erdős–Rényi Model\n",
      "1 Evolving Networks\n",
      "1 Exponential Random Graph Models\n",
      "1 Fitness Model (Network Theory)\n",
      "1 Flow Network\n",
      "1 Frigyes Karinthy\n",
      "1 Graph (Abstract Data Type)\n",
      "1 Graph (Discrete Mathematics)\n",
      "1 Graph Drawing\n",
      "1 Herbert A. Simon\n",
      "1 Hierarchical Network Model\n",
      "1 Hierarchy\n",
      "1 Homophily\n",
      "1 Hyperbolic Geometric Graph\n",
      "1 Hypercube\n",
      "1 Hypergraph\n",
      "1 Isbn (Identifier)\n",
      "1 Issn (Identifier)\n",
      "1 Incidence List\n",
      "1 Incidence Matrix\n",
      "Could not load Interdependent Networks\n",
      "1 Interdependent Networks\n",
      "1 Lancichinetti–Fortunato–Radicchi Benchmark\n",
      "1 Lattice Graph\n",
      "1 Link Analysis\n",
      "1 Loop (Graph Theory)\n",
      "1 Mathematics\n",
      "1 Matthew Effect (Sociology)\n",
      "1 Maximum-Entropy Random Graph Model\n",
      "1 Metrics (Networking)\n",
      "1 Modularity (Networks)\n",
      "1 Multigraph\n",
      "1 Neighbourhood (Graph Theory)\n",
      "1 Network Controllability\n",
      "1 Network Effect\n",
      "1 Network Motif\n",
      "1 Network On A Chip\n",
      "1 Network Science\n",
      "1 Network Theory\n",
      "1 Pmc (Identifier)\n",
      "1 Pmid (Identifier)\n",
      "1 Path (Graph Theory)\n",
      "1 Percolation\n",
      "1 Percolation Theory\n",
      "1 Physics\n",
      "Could not load Poisson Distribution\n",
      "1 Poisson Distribution\n",
      "Could not load Power-Law\n",
      "1 Power-Law\n",
      "1 Power Law\n",
      "1 Preferential Attachment\n",
      "1 Random Geometric Graph\n",
      "1 Random Graph\n",
      "1 Random Regular Graphs\n",
      "1 Reciprocity (Network Science)\n",
      "1 Reciprocity In Network\n",
      "1 Regular Lattices\n",
      "1 S2Cid (Identifier)\n",
      "1 Sir Model\n",
      "1 Scale-Free Network\n",
      "1 Scale-Free Networks\n",
      "1 Scientific Collaboration Network\n",
      "1 Semantic Network\n",
      "1 Six Degrees Of Separation\n",
      "1 Small-World Network\n",
      "1 Small-World Networks\n",
      "1 Small-World Phenomenon\n",
      "1 Small World Networks\n",
      "1 Social Capital\n",
      "1 Social Influence\n",
      "1 Social Network\n",
      "1 Social Network Analysis Software\n",
      "1 Sociology\n",
      "1 Soft Configuration Model\n",
      "1 Spatial Network\n",
      "1 Stanley Milgram\n",
      "1 Steven Strogatz\n",
      "1 Stochastic Block Model\n",
      "1 Telecommunications Network\n",
      "1 Topological\n",
      "1 Transitive Relation\n",
      "1 Transport Network\n",
      "1 Triadic Closure\n",
      "1 Trophic Coherence\n",
      "1 Vertex (Graph Theory)\n",
      "1 Watts And Strogatz Model\n",
      "1 Weighted Network\n",
      "1 World Wide Web\n",
      "1 Yule-Simon Distribution\n",
      "13770 nodes, 27000 edges\n"
     ]
    }
   ],
   "source": [
    "from operator import itemgetter\n",
    "import networkx as nx\n",
    "import wikipedia\n",
    "\n",
    "SEED = \"Complex Network\".title()\n",
    "\n",
    "STOPS = (\"International Standard Serial Number\",\n",
    "         \"International Standard Book Number\",\n",
    "         \"National Diet Library\",\n",
    "         \"International Standard Name Identifier\",\n",
    "         \"International Standard Book Number (Identifier)\",\n",
    "         \"Pubmed Identifier\", \"Pubmed Central\",\n",
    "         \"Digital Object Identifier\", \"Arxiv\",\n",
    "         \"Proc Natl Acad Sci Usa\", \"Bibcode\",\n",
    "         \"Library of Congress Control Number\", \"Jstor\")\n",
    "\n",
    "todo_lst = [(0, SEED)] # The SEED is in the layer 0\n",
    "todo_set = set(SEED)   # The SEED itself\n",
    "done_set = set()       # Nothing is done yet\n",
    "\n",
    "F = nx.DiGraph()\n",
    "layer, page = todo_lst[0]\n",
    "\n",
    "\n",
    "while layer < 2:\n",
    "    del todo_lst[0]\n",
    "    done_set.add(page)\n",
    "    print(layer, page)\n",
    "    \n",
    "    try: \n",
    "        wiki = wikipedia.page(page)\n",
    "    except:\n",
    "        layer, page = todo_lst[0]\n",
    "        print(\"Could not load\", page)\n",
    "        continue\n",
    "    \n",
    "    for link in wiki.links:\n",
    "        link = link.title()\n",
    "        if link not in STOPS and not link.startswith(\"List Of\"):\n",
    "            if link not in todo_set and link not in done_set:\n",
    "                todo_lst.append((layer + 1, link))\n",
    "                todo_set.add(link)\n",
    "            F.add_edge(page, link)\n",
    "    \n",
    "    layer, page = todo_lst[0]\n",
    "    \n",
    "print(\"{} nodes, {} edges\".format(len(F), nx.number_of_edges(F)))\n",
    "\n",
    "\n",
    "# Removing duplicates and self-loops\n",
    "F.remove_edges_from(list(nx.selfloop_edges(F)))\n",
    "duplicates = [(node, node + \"s\") for node in F if node + \"s\" in F]\n",
    "for dup in duplicates:\n",
    "    F = nx.contracted_nodes(F, *dup, self_loops = False) # merge dup \n",
    "                                                         # reassigns all edges of the second to the first, so \"self_loops = False\" \n",
    "                                                         # deletes the edges from the second to the first\n",
    "duplicates = [(x, y) for x, y in [(node, node.replace(\"-\", \" \")) for node in F] if x != y and y in F]\n",
    "for dup in duplicates:\n",
    "    F = nx.contracted_nodes(F, *dup, self_loops = False)"
   ]
  },
  {
   "cell_type": "code",
   "execution_count": 66,
   "metadata": {},
   "outputs": [
    {
     "name": "stdout",
     "output_type": "stream",
     "text": [
      "3593 nodes, 15733 edges\n"
     ]
    }
   ],
   "source": [
    "# nx.set_node_attributes(F, \"contraction\", 0) # '.contracted_nodes' creates a new node attribute called \"contraction\". Thhe value of the attribute is a\n",
    "#                                             dictionary, but GraphML does not support dictionary attributes. This attribute is set to 0 for all nodes\n",
    "#                                             to avoid further troubles with exporting the graph.\n",
    "for node in F.nodes:\n",
    "    if len(F.nodes[node]) != 0:\n",
    "        try: \n",
    "            del F.nodes[node][0]\n",
    "        except:\n",
    "            pass\n",
    "        try: \n",
    "            del F.nodes[node]['contraction']\n",
    "        except:\n",
    "            pass\n",
    "\n",
    "# Creates a subgraph with nodes with degree >= 2\n",
    "core = [node for node, deg in list(F.degree()) if deg >= 2]\n",
    "G = nx.subgraph(F, core)\n",
    "print(\"{} nodes, {} edges\".format(len(G), nx.number_of_edges(G)))\n",
    "nx.write_graphml(G, \"Data/cna.graphml\")"
   ]
  },
  {
   "cell_type": "markdown",
   "metadata": {},
   "source": [
    "_The indegree of a node equals the number of HTML links pointing to the respective page. If a page has a lot of links to it, the topic of the page must be significant._\n",
    "\n",
    "This can be applied to mentions/citations."
   ]
  },
  {
   "cell_type": "code",
   "execution_count": null,
   "metadata": {},
   "outputs": [],
   "source": [
    "top_indegree = sorted(list(G.in_degree()),\n",
    "reverse=True, key=itemgetter(1))[:100]\n",
    "print(\"\\n\".join(map(lambda t: \"{} {}\".format(*reversed(t)), top_indegree)))"
   ]
  },
  {
   "cell_type": "markdown",
   "metadata": {},
   "source": [
    "***"
   ]
  },
  {
   "cell_type": "markdown",
   "metadata": {},
   "source": [
    "__Chapter 7: Mastering Advanced Network Construction__"
   ]
  },
  {
   "cell_type": "code",
   "execution_count": 1,
   "metadata": {},
   "outputs": [],
   "source": [
    "A = [[0, 1, 0, 0, 0],\n",
    "     [0, 0, 1, 0, 0],\n",
    "     [0, 0, 0, 1, 0],\n",
    "     [0, 0, 0, 0, 1],\n",
    "     [1, 0, 0, 0, 0]]"
   ]
  },
  {
   "cell_type": "code",
   "execution_count": 5,
   "metadata": {},
   "outputs": [],
   "source": [
    "from itertools import chain # For flattening the list of edges\n",
    "# Return a chain object whose .__next__() method returns elements from the\n",
    "# first iterable until it is exhausted, then elements from the next\n",
    "# iterable, until all of the iterables are exhausted."
   ]
  },
  {
   "cell_type": "markdown",
   "metadata": {},
   "source": [
    "_Creating a graph out of a adjacency list_"
   ]
  },
  {
   "cell_type": "code",
   "execution_count": 6,
   "metadata": {},
   "outputs": [
    {
     "name": "stdout",
     "output_type": "stream",
     "text": [
      "[(0, 1, {}), (1, 2, {}), (2, 3, {}), (3, 4, {}), (4, 0, {})]\n"
     ]
    }
   ],
   "source": [
    "G = nx.DiGraph()\n",
    "edges = chain.from_iterable([(i, j) for j, column in enumerate(row) if A[i][j]] for i, row in enumerate(A))\n",
    "G.add_edges_from(edges)\n",
    "print(G.edges(data = True))"
   ]
  },
  {
   "cell_type": "markdown",
   "metadata": {},
   "source": [
    "By default, NetworkX assumes that all edges have the weight of 1, and does not display weights as edge attributes. If the matrix represents signed or unsigned weights (rather than absence/presence), you can modify the code to incorporate the “weight” attribute:"
   ]
  },
  {
   "cell_type": "code",
   "execution_count": 8,
   "metadata": {},
   "outputs": [
    {
     "name": "stdout",
     "output_type": "stream",
     "text": [
      "[(0, 1, {'weight': 1}), (1, 2, {'weight': 1}), (2, 3, {'weight': 1}), (3, 4, {'weight': 1}), (4, 0, {'weight': 1})]\n"
     ]
    }
   ],
   "source": [
    "G = nx.DiGraph()\n",
    "edges = chain.from_iterable([(i, j, {\"weight\": A[i][j]}) for j, column in enumerate(row) if A[i][j]] for i, row in enumerate(A))\n",
    "G.add_edges_from(edges)\n",
    "print(G.edges(data = True))"
   ]
  },
  {
   "cell_type": "markdown",
   "metadata": {},
   "source": [
    "_Creating a graph out of a adjacency list using numpy_"
   ]
  },
  {
   "cell_type": "code",
   "execution_count": 21,
   "metadata": {},
   "outputs": [
    {
     "name": "stdout",
     "output_type": "stream",
     "text": [
      "[(0, 1, {'weight': 1}), (1, 2, {'weight': 1}), (2, 3, {'weight': 1}), (3, 4, {'weight': 1}), (4, 0, {'weight': 1})]\n"
     ]
    }
   ],
   "source": [
    "import numpy as np\n",
    "A_mtx = np.matrix(A)\n",
    "G = nx.from_numpy_matrix(A_mtx, create_using = nx.DiGraph())\n",
    "print(G.edges(data = True))"
   ]
  },
  {
   "cell_type": "code",
   "execution_count": 12,
   "metadata": {},
   "outputs": [
    {
     "name": "stdout",
     "output_type": "stream",
     "text": [
      "[[0. 1. 0. 0. 0.]\n",
      " [0. 0. 1. 0. 0.]\n",
      " [0. 0. 0. 1. 0.]\n",
      " [0. 0. 0. 0. 1.]\n",
      " [1. 0. 0. 0. 0.]]\n",
      "[[0.0, 1.0, 0.0, 0.0, 0.0], [0.0, 0.0, 1.0, 0.0, 0.0], [0.0, 0.0, 0.0, 1.0, 0.0], [0.0, 0.0, 0.0, 0.0, 1.0], [1.0, 0.0, 0.0, 0.0, 0.0]]\n"
     ]
    }
   ],
   "source": [
    "# Getting the adjacency matrix (numpy array) from a graph\n",
    "B_mtx = nx.to_numpy_matrix(G) # Produces a NumPy 2D matrix\n",
    "print(B_mtx)\n",
    "B_lst = B_mtx.tolist()\n",
    "print(B_lst)"
   ]
  },
  {
   "cell_type": "markdown",
   "metadata": {},
   "source": [
    "_Creating a graph out of a adjacency list using pandas_"
   ]
  },
  {
   "cell_type": "code",
   "execution_count": 22,
   "metadata": {},
   "outputs": [
    {
     "name": "stdout",
     "output_type": "stream",
     "text": [
      "              Born  Married  Elected Rep  Elected Pres  Died\n",
      "Born           0.0      1.0          0.0           0.0   0.0\n",
      "Married        0.0      0.0          1.0           0.0   0.0\n",
      "Elected Rep    0.0      0.0          0.0           1.0   0.0\n",
      "Elected Pres   0.0      0.0          0.0           0.0   1.0\n",
      "Died           1.0      0.0          0.0           0.0   0.0\n",
      "<class 'pandas.core.frame.DataFrame'>\n"
     ]
    }
   ],
   "source": [
    "labels = \"Born\", \"Married\", \"Elected Rep\", \"Elected Pres\", \"Died\"\n",
    "nx.relabel_nodes(G, dict(enumerate(labels)), copy = False)\n",
    "df = nx.nx.to_pandas_adjacency(G)\n",
    "print(df)\n",
    "print(type(df))"
   ]
  },
  {
   "cell_type": "markdown",
   "metadata": {},
   "source": [
    "The first parameter of nx.from_pandas_dataframe() is a DataFrame , too, but each row defines one edge, and two of the columns, source and target , designate the start and end nodes of the edge. (You can convert the remaining columns into edge attributes.) This approach is more flexible than the adjacency matrix. For example, it easily allows parallel edges."
   ]
  },
  {
   "cell_type": "code",
   "execution_count": 25,
   "metadata": {},
   "outputs": [
    {
     "name": "stdout",
     "output_type": "stream",
     "text": [
      "           from            to  weight\n",
      "0          Died          Born     0.1\n",
      "1   Elected Rep  Elected Pres     1.0\n",
      "2       Married   Elected Rep     1.0\n",
      "3          Born       Married     1.0\n",
      "4  Elected Pres          Died     1.0\n",
      "[('Died', 'Born', {'weight': 0.1}), ('Died', 'Elected Pres', {'weight': 1.0}), ('Born', 'Married', {'weight': 1.0}), ('Elected Rep', 'Elected Pres', {'weight': 1.0}), ('Elected Rep', 'Married', {'weight': 1.0})]\n"
     ]
    }
   ],
   "source": [
    "import pandas as pd\n",
    "df = pd.DataFrame({\"from\": {0:\"Died\", 1:\"Elected Rep\", 2:\"Married\", 3:\"Born\", 4:\"Elected Pres\"},\n",
    "                   \"to\":   {0:\"Born\", 1:\"Elected Pres\", 2:\"Elected Rep\", 3:\"Married\", 4:\"Died\"},\n",
    "                   \"weight\": {0:0.1, 1:1.0, 2:1.0, 3:1.0, 4:1.0}})\n",
    "print(df)\n",
    "G = nx.from_pandas_edgelist(df, \"from\", \"to\", edge_attr=[\"weight\"])\n",
    "print(G.edges(data = True))"
   ]
  },
  {
   "cell_type": "markdown",
   "metadata": {},
   "source": [
    "_Manipulating node attributes with pandas_"
   ]
  },
  {
   "cell_type": "code",
   "execution_count": 28,
   "metadata": {},
   "outputs": [
    {
     "name": "stdout",
     "output_type": "stream",
     "text": [
      "[('Died', {'date': 1865}), ('Born', {'date': 1809}), ('Elected Rep', {'date': 1847}), ('Elected Pres', {'date': 1861}), ('Married', {'date': 1842})]\n"
     ]
    }
   ],
   "source": [
    "events = {\"Died\":1865, \"Born\":1809, \"Elected Rep\":1847, \"Elected Pres\":1861, \"Married\": 1842}\n",
    "nx.set_node_attributes(G,      # graph\n",
    "                       events, # dictionary nodes and attribute values\n",
    "                       \"date\") # name of the attribute\n",
    "print(G.nodes(data = True))"
   ]
  },
  {
   "cell_type": "code",
   "execution_count": 29,
   "metadata": {},
   "outputs": [
    {
     "data": {
      "text/html": [
       "<div>\n",
       "<style scoped>\n",
       "    .dataframe tbody tr th:only-of-type {\n",
       "        vertical-align: middle;\n",
       "    }\n",
       "\n",
       "    .dataframe tbody tr th {\n",
       "        vertical-align: top;\n",
       "    }\n",
       "\n",
       "    .dataframe thead th {\n",
       "        text-align: right;\n",
       "    }\n",
       "</style>\n",
       "<table border=\"1\" class=\"dataframe\">\n",
       "  <thead>\n",
       "    <tr style=\"text-align: right;\">\n",
       "      <th></th>\n",
       "      <th>0</th>\n",
       "      <th>1</th>\n",
       "    </tr>\n",
       "  </thead>\n",
       "  <tbody>\n",
       "    <tr>\n",
       "      <th>0</th>\n",
       "      <td>Died</td>\n",
       "      <td>{'date': 1865}</td>\n",
       "    </tr>\n",
       "    <tr>\n",
       "      <th>1</th>\n",
       "      <td>Born</td>\n",
       "      <td>{'date': 1809}</td>\n",
       "    </tr>\n",
       "    <tr>\n",
       "      <th>2</th>\n",
       "      <td>Elected Rep</td>\n",
       "      <td>{'date': 1847}</td>\n",
       "    </tr>\n",
       "    <tr>\n",
       "      <th>3</th>\n",
       "      <td>Elected Pres</td>\n",
       "      <td>{'date': 1861}</td>\n",
       "    </tr>\n",
       "    <tr>\n",
       "      <th>4</th>\n",
       "      <td>Married</td>\n",
       "      <td>{'date': 1842}</td>\n",
       "    </tr>\n",
       "  </tbody>\n",
       "</table>\n",
       "</div>"
      ],
      "text/plain": [
       "              0               1\n",
       "0          Died  {'date': 1865}\n",
       "1          Born  {'date': 1809}\n",
       "2   Elected Rep  {'date': 1847}\n",
       "3  Elected Pres  {'date': 1861}\n",
       "4       Married  {'date': 1842}"
      ]
     },
     "execution_count": 29,
     "metadata": {},
     "output_type": "execute_result"
    }
   ],
   "source": [
    "pd.DataFrame(G.nodes(data = True))"
   ]
  },
  {
   "cell_type": "code",
   "execution_count": 33,
   "metadata": {},
   "outputs": [
    {
     "data": {
      "text/html": [
       "<div>\n",
       "<style scoped>\n",
       "    .dataframe tbody tr th:only-of-type {\n",
       "        vertical-align: middle;\n",
       "    }\n",
       "\n",
       "    .dataframe tbody tr th {\n",
       "        vertical-align: top;\n",
       "    }\n",
       "\n",
       "    .dataframe thead th {\n",
       "        text-align: right;\n",
       "    }\n",
       "</style>\n",
       "<table border=\"1\" class=\"dataframe\">\n",
       "  <thead>\n",
       "    <tr style=\"text-align: right;\">\n",
       "      <th></th>\n",
       "      <th>1</th>\n",
       "    </tr>\n",
       "    <tr>\n",
       "      <th>0</th>\n",
       "      <th></th>\n",
       "    </tr>\n",
       "  </thead>\n",
       "  <tbody>\n",
       "    <tr>\n",
       "      <th>Died</th>\n",
       "      <td>{'date': 1865}</td>\n",
       "    </tr>\n",
       "    <tr>\n",
       "      <th>Born</th>\n",
       "      <td>{'date': 1809}</td>\n",
       "    </tr>\n",
       "    <tr>\n",
       "      <th>Elected Rep</th>\n",
       "      <td>{'date': 1847}</td>\n",
       "    </tr>\n",
       "    <tr>\n",
       "      <th>Elected Pres</th>\n",
       "      <td>{'date': 1861}</td>\n",
       "    </tr>\n",
       "    <tr>\n",
       "      <th>Married</th>\n",
       "      <td>{'date': 1842}</td>\n",
       "    </tr>\n",
       "  </tbody>\n",
       "</table>\n",
       "</div>"
      ],
      "text/plain": [
       "                           1\n",
       "0                           \n",
       "Died          {'date': 1865}\n",
       "Born          {'date': 1809}\n",
       "Elected Rep   {'date': 1847}\n",
       "Elected Pres  {'date': 1861}\n",
       "Married       {'date': 1842}"
      ]
     },
     "execution_count": 33,
     "metadata": {},
     "output_type": "execute_result"
    }
   ],
   "source": [
    "# Node labels becomes the index\n",
    "pd.DataFrame(G.nodes(data = True)).set_index(0)"
   ]
  },
  {
   "cell_type": "code",
   "execution_count": 31,
   "metadata": {},
   "outputs": [
    {
     "data": {
      "text/plain": [
       "0\n",
       "Died            {'date': 1865}\n",
       "Born            {'date': 1809}\n",
       "Elected Rep     {'date': 1847}\n",
       "Elected Pres    {'date': 1861}\n",
       "Married         {'date': 1842}\n",
       "Name: 1, dtype: object"
      ]
     },
     "execution_count": 31,
     "metadata": {},
     "output_type": "execute_result"
    }
   ],
   "source": [
    "pd.DataFrame(G.nodes(data = True)).set_index(0)[1]"
   ]
  },
  {
   "cell_type": "code",
   "execution_count": 32,
   "metadata": {},
   "outputs": [
    {
     "name": "stdout",
     "output_type": "stream",
     "text": [
      "0\n",
      "Died            {'date': 1865}\n",
      "Born            {'date': 1809}\n",
      "Elected Rep     {'date': 1847}\n",
      "Elected Pres    {'date': 1861}\n",
      "Married         {'date': 1842}\n",
      "Name: 1, dtype: object\n"
     ]
    }
   ],
   "source": [
    "lincoln_ser = pd.DataFrame(G.nodes(data = True)).set_index(0)[1]\n",
    "print(lincoln_ser)"
   ]
  },
  {
   "cell_type": "markdown",
   "metadata": {},
   "source": [
    "The values in the column are node attribute dictionaries, and one of the Series constructors builds a Series from a dictionary."
   ]
  },
  {
   "cell_type": "code",
   "execution_count": 36,
   "metadata": {},
   "outputs": [
    {
     "name": "stdout",
     "output_type": "stream",
     "text": [
      "              date\n",
      "0                 \n",
      "Died          1865\n",
      "Born          1809\n",
      "Elected Rep   1847\n",
      "Elected Pres  1861\n",
      "Married       1842\n",
      "              date\n",
      "0                 \n",
      "Born           NaN\n",
      "Married       33.0\n",
      "Elected Rep    5.0\n",
      "Elected Pres  14.0\n",
      "Died           4.0\n"
     ]
    }
   ],
   "source": [
    "df = lincoln_ser.apply(pd.Series)\n",
    "print(df)\n",
    "# The result is a DataFrame suitable for further processing. For example, you can\n",
    "# calculate the duration, in years, of each span of Lincoln’s biography\n",
    "spans = df.sort_values('date').diff()\n",
    "print(spans)"
   ]
  },
  {
   "cell_type": "markdown",
   "metadata": {},
   "source": [
    "***"
   ]
  },
  {
   "cell_type": "markdown",
   "metadata": {},
   "source": [
    "_Incidence Matrix_"
   ]
  },
  {
   "cell_type": "code",
   "execution_count": 37,
   "metadata": {},
   "outputs": [
    {
     "name": "stdout",
     "output_type": "stream",
     "text": [
      "[[-1. -1.  0.  0.  0.]\n",
      " [ 1.  0. -1.  0.  0.]\n",
      " [ 0.  0.  0. -1. -1.]\n",
      " [ 0.  1.  0.  1.  0.]\n",
      " [ 0.  0.  1.  0.  1.]]\n"
     ]
    }
   ],
   "source": [
    "J = nx.incidence_matrix(G, oriented = True).todense()\n",
    "print(J)"
   ]
  },
  {
   "cell_type": "markdown",
   "metadata": {},
   "source": [
    "Here’s how we read the results: edge number 0 starts at node 1 (because J\\[1,0\\]==1 ) and ends at node 0 (because J\\[0,0\\]==-1 ); edge number 1 starts at node 2 (because J\\[2,1\\]==1 ) and ends at node 1 (because J\\[1,1\\]==-1 ), and so on."
   ]
  },
  {
   "cell_type": "markdown",
   "metadata": {},
   "source": [
    "_Work with Edge Lists and Node Dictionaries_\n",
    "\n",
    "You do not have to mess with matrices, NumPy , and Pandas to bulk move data between your code and NetworkX networks. You can use edge lists and node dictionaries."
   ]
  },
  {
   "cell_type": "markdown",
   "metadata": {},
   "source": [
    "_Synthetic Networks_"
   ]
  },
  {
   "cell_type": "code",
   "execution_count": null,
   "metadata": {},
   "outputs": [],
   "source": [
    "# Generate and draw classic networks\n",
    "G0 = nx.path_graph(20)       # n: number of nodes\n",
    "G1 = nx.cycle_graph(20)      # n: number of nodes\n",
    "G2 = nx.star_graph(20)       # n: number of nodes\n",
    "G3 = nx.complete_graph(20)   # n: number of nodes\n",
    "G4 = nx.balanced_tree(2, 5)  # r: each node will have 'r' children\n",
    "                             # h: height of the tree\n",
    "G5 = nx.grid_2d_graphs(5, 4) # m, n: number of nodes (vertical, horizontal)"
   ]
  },
  {
   "cell_type": "code",
   "execution_count": 12,
   "metadata": {},
   "outputs": [],
   "source": [
    "G6 = nx.erdos_renyi_graph(50, 0.05)                # n: number of nodes\n",
    "                                                   # p: probability for edge creation\n",
    "G7 = nx.connected_watts_strogatz_graph(50, 4, 0.5) # n: number of nodes\n",
    "                                                   # k: each node is joined with its 'k' nearest neighbors in a ring topology\n",
    "                                                   # p: probability of rewiring each edge\n",
    "G8 = nx.barabasi_albert_graph(50, 4)               # n: number of nodes\n",
    "                                                   # m: number of edges to attach from a new node to existing ones\n",
    "G9 = nx.powerlaw_cluster_graph(50, 4, 0.5)         # n: number of nodes\n",
    "                                                   # m: number of random eddges to add for each new node\n",
    "                                                   # p: probability of adding a triangle after adding a random edge"
   ]
  },
  {
   "cell_type": "markdown",
   "metadata": {},
   "source": [
    "_Slicing Networks_\n",
    "\n",
    "Removing edges from a weighted graph when it's weight is below a treshold"
   ]
  },
  {
   "cell_type": "code",
   "execution_count": 13,
   "metadata": {},
   "outputs": [],
   "source": [
    "def slice_network(G, t, copy = True):\n",
    "    F = G.copy() if copy else G\n",
    "    F.remove_edges_from((n1, n2) for n1, n2, w in F.edges(data = 'weight') if w < t)\n",
    "    return FSão Paulo"
   ]
  },
  {
   "cell_type": "markdown",
   "metadata": {},
   "source": [
    "***"
   ]
  },
  {
   "cell_type": "markdown",
   "metadata": {},
   "source": [
    "__Case Study: Panama Papers__"
   ]
  },
  {
   "cell_type": "code",
   "execution_count": null,
   "metadata": {},
   "outputs": [],
   "source": [
    "import csv # handling csv files\n",
    "import pickle\n",
    "import itertools # efficient iterators\n",
    "from collections import Counter\n",
    "import networkx as nx\n",
    "from networkx.drawing.nx_agraph import graphviz_layout\n",
    "import matplotlib.pyplot as plt\n",
    "import dzcnapy_plotlib as dzcnapy\n",
    "\n",
    "EDGES = \"beneficiary\"\n",
    "NODES = ((\"Entities.csv\", \"jurisdiction\", \"name\"),\n",
    "         (\"Officers.csv\", \"country_codes\", \"name\"),\n",
    "         (\"Intermediaries.csv\", \"country_nodes\", \"name\"))"
   ]
  }
 ],
 "metadata": {
  "kernelspec": {
   "display_name": "Python 3",
   "language": "python",
   "name": "python3"
  },
  "language_info": {
   "codemirror_mode": {
    "name": "ipython",
    "version": 3
   },
   "file_extension": ".py",
   "mimetype": "text/x-python",
   "name": "python",
   "nbconvert_exporter": "python",
   "pygments_lexer": "ipython3",
   "version": "3.8.3"
  }
 },
 "nbformat": 4,
 "nbformat_minor": 4
}
