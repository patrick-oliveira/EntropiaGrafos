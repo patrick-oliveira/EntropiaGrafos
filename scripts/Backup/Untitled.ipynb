{
 "cells": [
  {
   "cell_type": "code",
   "execution_count": 1,
   "id": "f100b5f9",
   "metadata": {},
   "outputs": [],
   "source": [
    "%load_ext autoreload\n",
    "%autoreload 2"
   ]
  },
  {
   "cell_type": "code",
   "execution_count": 2,
   "id": "cfc03da1",
   "metadata": {},
   "outputs": [],
   "source": [
    "from graph_tool.all import *\n",
    "import numpy as np"
   ]
  },
  {
   "cell_type": "code",
   "execution_count": 3,
   "id": "21db7244",
   "metadata": {},
   "outputs": [],
   "source": [
    "X = bin(20)[2:]\n",
    "X_array = np.asarray(list(X)).astype(int)"
   ]
  },
  {
   "cell_type": "code",
   "execution_count": 4,
   "id": "a3799f53",
   "metadata": {},
   "outputs": [],
   "source": [
    "weights = abs(np.random.randn(5))\n",
    "weights = weights/sum(weights)"
   ]
  },
  {
   "cell_type": "code",
   "execution_count": 16,
   "id": "fbb60f8a",
   "metadata": {},
   "outputs": [],
   "source": [
    "from Memory import get_binary_codes, initialize_memory"
   ]
  },
  {
   "cell_type": "code",
   "execution_count": 28,
   "id": "7c2410f5",
   "metadata": {},
   "outputs": [
    {
     "data": {
      "text/plain": [
       "array([0.05536679, 0.2724255 , 0.11387378, 0.34761789, 0.21071604])"
      ]
     },
     "execution_count": 28,
     "metadata": {},
     "output_type": "execute_result"
    }
   ],
   "source": [
    "weights"
   ]
  },
  {
   "cell_type": "code",
   "execution_count": 21,
   "id": "f98d1f04",
   "metadata": {},
   "outputs": [
    {
     "data": {
      "text/plain": [
       "array([[0, 1, 1, 1, 1, 0, 1, 1],\n",
       "       [1, 0, 0, 0, 0, 0, 1, 0],\n",
       "       [0, 1, 1, 1, 0, 1, 0, 0],\n",
       "       [0, 1, 1, 1, 0, 0, 1, 0],\n",
       "       [1, 0, 0, 0, 1, 0, 0, 0]])"
      ]
     },
     "execution_count": 21,
     "metadata": {},
     "output_type": "execute_result"
    }
   ],
   "source": [
    "get_binary_codes(5, 8)"
   ]
  },
  {
   "cell_type": "code",
   "execution_count": 125,
   "id": "b8551ea5",
   "metadata": {},
   "outputs": [],
   "source": [
    "memory = initialize_memory()"
   ]
  },
  {
   "cell_type": "code",
   "execution_count": 58,
   "id": "0dfef348",
   "metadata": {},
   "outputs": [
    {
     "data": {
      "text/plain": [
       "50"
      ]
     },
     "execution_count": 58,
     "metadata": {},
     "output_type": "execute_result"
    }
   ],
   "source": [
    "len(np.unique(memory[0], axis = 1))"
   ]
  },
  {
   "cell_type": "code",
   "execution_count": 161,
   "id": "88344a45",
   "metadata": {},
   "outputs": [
    {
     "data": {
      "text/plain": [
       "array([0.60111501, 0.70807258, 0.02058449, 0.96990985, 0.83244264])"
      ]
     },
     "execution_count": 161,
     "metadata": {},
     "output_type": "execute_result"
    }
   ],
   "source": [
    "np.random.uniform(size = 5)"
   ]
  },
  {
   "cell_type": "code",
   "execution_count": 157,
   "id": "4868c6ee",
   "metadata": {},
   "outputs": [
    {
     "data": {
      "text/plain": [
       "array([2, 3, 2, 3, 2])"
      ]
     },
     "execution_count": 157,
     "metadata": {},
     "output_type": "execute_result"
    }
   ],
   "source": [
    "np.apply_along_axis(f, 0, a[0])"
   ]
  },
  {
   "cell_type": "code",
   "execution_count": 138,
   "id": "6e47a6e7",
   "metadata": {},
   "outputs": [],
   "source": [
    "a, b = np.unique(memory[0], axis = 0, return_counts = True)"
   ]
  },
  {
   "cell_type": "code",
   "execution_count": 168,
   "id": "c84eeee1",
   "metadata": {},
   "outputs": [
    {
     "data": {
      "text/plain": [
       "array([0, 1, 0, 1, 0])"
      ]
     },
     "execution_count": 168,
     "metadata": {},
     "output_type": "execute_result"
    }
   ],
   "source": [
    "a[0]"
   ]
  },
  {
   "cell_type": "code",
   "execution_count": 185,
   "id": "0bb0d056",
   "metadata": {},
   "outputs": [
    {
     "data": {
      "text/plain": [
       "array([1, 1])"
      ]
     },
     "execution_count": 185,
     "metadata": {},
     "output_type": "execute_result"
    }
   ],
   "source": [
    "a[0][np.argwhere(a[0]).reshape(-1)]"
   ]
  },
  {
   "cell_type": "code",
   "execution_count": 186,
   "id": "c80d3664",
   "metadata": {},
   "outputs": [
    {
     "data": {
      "text/plain": [
       "array([1, 0, 0, 1, 0])"
      ]
     },
     "execution_count": 186,
     "metadata": {},
     "output_type": "execute_result"
    }
   ],
   "source": [
    "a[0]"
   ]
  },
  {
   "cell_type": "code",
   "execution_count": 188,
   "id": "07788824",
   "metadata": {},
   "outputs": [
    {
     "data": {
      "text/plain": [
       "array([0, 1, 1, 0, 1])"
      ]
     },
     "execution_count": 188,
     "metadata": {},
     "output_type": "execute_result"
    }
   ],
   "source": [
    "np.logical_not(a[0]).astype(int)"
   ]
  },
  {
   "cell_type": "code",
   "execution_count": 144,
   "id": "910cd9b4",
   "metadata": {},
   "outputs": [
    {
     "data": {
      "text/plain": [
       "['01010',\n",
       " '01011',\n",
       " '01100',\n",
       " '01101',\n",
       " '01110',\n",
       " '01111',\n",
       " '10000',\n",
       " '10001',\n",
       " '10010',\n",
       " '10011',\n",
       " '10100',\n",
       " '10101']"
      ]
     },
     "execution_count": 144,
     "metadata": {},
     "output_type": "execute_result"
    }
   ],
   "source": [
    "list(np.apply_along_axis(binary_to_string, 1, a))"
   ]
  },
  {
   "cell_type": "code",
   "execution_count": 77,
   "id": "2a608f0c",
   "metadata": {},
   "outputs": [
    {
     "data": {
      "text/plain": [
       "[(array([0, 1, 0, 0, 1]), 1),\n",
       " (array([0, 1, 0, 1, 1]), 2),\n",
       " (array([0, 1, 1, 0, 0]), 1),\n",
       " (array([0, 1, 1, 0, 1]), 5),\n",
       " (array([0, 1, 1, 1, 0]), 9),\n",
       " (array([0, 1, 1, 1, 1]), 8),\n",
       " (array([1, 0, 0, 0, 0]), 6),\n",
       " (array([1, 0, 0, 0, 1]), 2),\n",
       " (array([1, 0, 0, 1, 0]), 5),\n",
       " (array([1, 0, 0, 1, 1]), 3),\n",
       " (array([1, 0, 1, 0, 0]), 5),\n",
       " (array([1, 0, 1, 0, 1]), 2),\n",
       " (array([1, 0, 1, 1, 0]), 1)]"
      ]
     },
     "execution_count": 77,
     "metadata": {},
     "output_type": "execute_result"
    }
   ],
   "source": [
    "list(zip(a, b))"
   ]
  },
  {
   "cell_type": "code",
   "execution_count": 87,
   "id": "e0ef72aa",
   "metadata": {},
   "outputs": [
    {
     "data": {
      "text/plain": [
       "'[0 1 1 1 1]'"
      ]
     },
     "execution_count": 87,
     "metadata": {},
     "output_type": "execute_result"
    }
   ],
   "source": [
    "np.array2string(memory[0][0])"
   ]
  },
  {
   "cell_type": "code",
   "execution_count": 88,
   "id": "182f5d41",
   "metadata": {},
   "outputs": [],
   "source": [
    "code = memory[0][0]"
   ]
  },
  {
   "cell_type": "code",
   "execution_count": 98,
   "id": "f7c508ba",
   "metadata": {},
   "outputs": [
    {
     "data": {
      "text/plain": [
       "'01111'"
      ]
     },
     "execution_count": 98,
     "metadata": {},
     "output_type": "execute_result"
    }
   ],
   "source": []
  },
  {
   "cell_type": "code",
   "execution_count": 86,
   "id": "c27f0fb8",
   "metadata": {},
   "outputs": [
    {
     "data": {
      "text/plain": [
       "['[0 1 0 0 1]',\n",
       " '[0 1 0 1 1]',\n",
       " '[0 1 1 0 0]',\n",
       " '[0 1 1 0 1]',\n",
       " '[0 1 1 1 0]',\n",
       " '[0 1 1 1 1]',\n",
       " '[1 0 0 0 0]',\n",
       " '[1 0 0 0 1]',\n",
       " '[1 0 0 1 0]',\n",
       " '[1 0 0 1 1]',\n",
       " '[1 0 1 0 0]',\n",
       " '[1 0 1 0 1]',\n",
       " '[1 0 1 1 0]']"
      ]
     },
     "execution_count": 86,
     "metadata": {},
     "output_type": "execute_result"
    }
   ],
   "source": [
    "[str(code) for code in np.unique(memory[0], axis = 0)]"
   ]
  },
  {
   "cell_type": "code",
   "execution_count": 72,
   "id": "0da191dc",
   "metadata": {},
   "outputs": [
    {
     "data": {
      "text/plain": [
       "array([ True,  True,  True,  True,  True])"
      ]
     },
     "execution_count": 72,
     "metadata": {},
     "output_type": "execute_result"
    }
   ],
   "source": [
    "memory[0][0] == np.asarray([0, 1, 1, 1, 1])"
   ]
  },
  {
   "cell_type": "code",
   "execution_count": 121,
   "id": "04d4a080",
   "metadata": {},
   "outputs": [],
   "source": [
    "from Memory import generate_code, binary_to_string\n",
    "code_length = 5"
   ]
  },
  {
   "cell_type": "code",
   "execution_count": 102,
   "id": "d90b05b1",
   "metadata": {},
   "outputs": [
    {
     "data": {
      "text/plain": [
       "{'00000': 0,\n",
       " '00001': 0,\n",
       " '00010': 0,\n",
       " '00011': 0,\n",
       " '00100': 0,\n",
       " '00101': 0,\n",
       " '00110': 0,\n",
       " '00111': 0,\n",
       " '01000': 0,\n",
       " '01001': 0,\n",
       " '01010': 0,\n",
       " '01011': 0,\n",
       " '01100': 0,\n",
       " '01101': 0,\n",
       " '01110': 0,\n",
       " '01111': 0,\n",
       " '10000': 0,\n",
       " '10001': 0,\n",
       " '10010': 0,\n",
       " '10011': 0,\n",
       " '10100': 0,\n",
       " '10101': 0,\n",
       " '10110': 0,\n",
       " '10111': 0,\n",
       " '11000': 0,\n",
       " '11001': 0,\n",
       " '11010': 0,\n",
       " '11011': 0,\n",
       " '11100': 0,\n",
       " '11101': 0,\n",
       " '11110': 0,\n",
       " '11111': 0}"
      ]
     },
     "execution_count": 102,
     "metadata": {},
     "output_type": "execute_result"
    }
   ],
   "source": [
    "{binary_to_string(generate_code(x, code_length)):0 for x in range(2**code_length)} "
   ]
  },
  {
   "cell_type": "code",
   "execution_count": 126,
   "id": "2328d8e3",
   "metadata": {},
   "outputs": [],
   "source": [
    "from Memory import probability_distribution, random_selection"
   ]
  },
  {
   "cell_type": "code",
   "execution_count": 130,
   "id": "66295579",
   "metadata": {},
   "outputs": [
    {
     "data": {
      "text/plain": [
       "{'00000': 0,\n",
       " '00001': 0,\n",
       " '00010': 0,\n",
       " '00011': 0,\n",
       " '00100': 0,\n",
       " '00101': 0,\n",
       " '00110': 0,\n",
       " '00111': 0,\n",
       " '01000': 0,\n",
       " '01001': 0,\n",
       " '01010': 0.02,\n",
       " '01011': 0.04,\n",
       " '01100': 0.06,\n",
       " '01101': 0.16,\n",
       " '01110': 0.1,\n",
       " '01111': 0.1,\n",
       " '10000': 0.16,\n",
       " '10001': 0.14,\n",
       " '10010': 0.08,\n",
       " '10011': 0.04,\n",
       " '10100': 0.02,\n",
       " '10101': 0.08,\n",
       " '10110': 0,\n",
       " '10111': 0,\n",
       " '11000': 0,\n",
       " '11001': 0,\n",
       " '11010': 0,\n",
       " '11011': 0,\n",
       " '11100': 0,\n",
       " '11101': 0,\n",
       " '11110': 0,\n",
       " '11111': 0}"
      ]
     },
     "execution_count": 130,
     "metadata": {},
     "output_type": "execute_result"
    }
   ],
   "source": [
    "P = probability_distribution(memory)\n",
    "P"
   ]
  },
  {
   "cell_type": "code",
   "execution_count": 131,
   "id": "00755cfc",
   "metadata": {},
   "outputs": [
    {
     "data": {
      "text/plain": [
       "1.0"
      ]
     },
     "execution_count": 131,
     "metadata": {},
     "output_type": "execute_result"
    }
   ],
   "source": [
    "sum(P.values())"
   ]
  },
  {
   "cell_type": "code",
   "execution_count": 137,
   "id": "6e572c41",
   "metadata": {},
   "outputs": [
    {
     "data": {
      "text/plain": [
       "array([1, 0, 1, 0, 1])"
      ]
     },
     "execution_count": 137,
     "metadata": {},
     "output_type": "execute_result"
    }
   ],
   "source": [
    "random_selection(P)"
   ]
  },
  {
   "cell_type": "code",
   "execution_count": 192,
   "id": "5cd1243f",
   "metadata": {},
   "outputs": [
    {
     "data": {
      "text/plain": [
       "<Graph object, undirected, with 1000 vertices and 999 edges, at 0x7f305da01e80>"
      ]
     },
     "execution_count": 192,
     "metadata": {},
     "output_type": "execute_result"
    }
   ],
   "source": [
    "price_network(1000, gamma = 1, directed = False)"
   ]
  },
  {
   "cell_type": "code",
   "execution_count": 194,
   "id": "c4b51068",
   "metadata": {},
   "outputs": [
    {
     "data": {
      "text/plain": [
       "<Graph object, directed, with 20000 vertices and 19999 edges, at 0x7f305da01be0>"
      ]
     },
     "execution_count": 194,
     "metadata": {},
     "output_type": "execute_result"
    }
   ],
   "source": [
    "price_network(20000)"
   ]
  },
  {
   "cell_type": "code",
   "execution_count": null,
   "id": "f4ca28dc",
   "metadata": {},
   "outputs": [],
   "source": []
  }
 ],
 "metadata": {
  "kernelspec": {
   "display_name": "Python 3",
   "language": "python",
   "name": "python3"
  },
  "language_info": {
   "codemirror_mode": {
    "name": "ipython",
    "version": 3
   },
   "file_extension": ".py",
   "mimetype": "text/x-python",
   "name": "python",
   "nbconvert_exporter": "python",
   "pygments_lexer": "ipython3",
   "version": "3.9.5"
  }
 },
 "nbformat": 4,
 "nbformat_minor": 5
}
