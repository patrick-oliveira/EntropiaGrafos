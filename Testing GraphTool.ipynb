{
 "cells": [
  {
   "cell_type": "code",
   "execution_count": 1,
   "id": "8c2d0fdd-73fe-4b35-b245-3a0cbf67bbfa",
   "metadata": {},
   "outputs": [],
   "source": [
    "import graph_tool as gt"
   ]
  },
  {
   "cell_type": "code",
   "execution_count": 2,
   "id": "76e7e7a6-be2f-4aee-b1d2-c5410454acfa",
   "metadata": {},
   "outputs": [],
   "source": [
    "from Scripts.Individual import Individual\n",
    "import numpy as np\n",
    "from random import sample"
   ]
  },
  {
   "cell_type": "code",
   "execution_count": 3,
   "id": "f86c1a21-358d-4d1f-a165-b427f6459a8b",
   "metadata": {},
   "outputs": [],
   "source": [
    "from graph_tool.generation import price_network"
   ]
  },
  {
   "cell_type": "code",
   "execution_count": 4,
   "id": "da2125f2-e8c7-49db-9a7e-38dda2dcca1d",
   "metadata": {},
   "outputs": [],
   "source": [
    "G = price_network(N = 5000, gamma = 1, directed = False)"
   ]
  },
  {
   "cell_type": "code",
   "execution_count": 5,
   "id": "54137353-f2b8-4dba-ad66-09c602ef61de",
   "metadata": {},
   "outputs": [
    {
     "data": {
      "text/plain": [
       "4999"
      ]
     },
     "execution_count": 5,
     "metadata": {},
     "output_type": "execute_result"
    }
   ],
   "source": [
    "G.num_edges()"
   ]
  },
  {
   "cell_type": "markdown",
   "id": "72bdedcc-23cc-4e8a-a785-88e02f0c1c5f",
   "metadata": {},
   "source": [
    "__Attributing an \"Individual\" object to a vertex.__"
   ]
  },
  {
   "cell_type": "code",
   "execution_count": 8,
   "id": "459f6494-9876-42fb-9966-23e4cb44408d",
   "metadata": {},
   "outputs": [],
   "source": [
    "ind_vertex_property = G.new_vertex_property(\"object\")\n",
    "ind = np.asarray([Individual(5) for n in range(5000)])"
   ]
  },
  {
   "cell_type": "code",
   "execution_count": null,
   "id": "1c6f7083-6dcc-48a6-9616-0408004f9b43",
   "metadata": {},
   "outputs": [],
   "source": [
    "ind_vertex_property"
   ]
  },
  {
   "cell_type": "code",
   "execution_count": null,
   "id": "8437b638-b816-4b2d-b381-070279c717ab",
   "metadata": {},
   "outputs": [],
   "source": [
    "N = 500\n",
    "alpha = 0.1\n",
    "omega = 0.2\n",
    "indices = np.asarray(sample(list(range(N)), k = N))\n",
    "positive_tendency = indices[:int(alpha*N)]\n",
    "negative_tendency = indices[int(alpha*N):int(alpha*N) + int(omega*N)]\n",
    "neutral_tendency  = indices[int(alpha*N) + int(omega*N):]\n",
    "\n",
    "vertices = np.zeros(N)\n",
    "vertices[positive_tendency] = 1\n",
    "vertices[negative_tendency] = -1\n",
    "vertices[neutral_tendency]  = 0\n",
    "\n",
    "ind_vertex_property.a = vertices"
   ]
  },
  {
   "cell_type": "code",
   "execution_count": null,
   "id": "de3312e9-83f3-4bd8-8fef-4aa7dbf5c0b6",
   "metadata": {},
   "outputs": [
    {
     "data": {
      "text/plain": [
       "0"
      ]
     },
     "execution_count": 81,
     "metadata": {},
     "output_type": "execute_result"
    }
   ],
   "source": [
    "ind_vertex_property[15]"
   ]
  },
  {
   "cell_type": "markdown",
   "id": "ce0523cd-3925-4d95-bc6c-f6c5a0e3eee4",
   "metadata": {},
   "source": [
    "__Iterating through edge__"
   ]
  },
  {
   "cell_type": "code",
   "execution_count": null,
   "id": "579cfc03-1dc3-4d02-84d6-17e272fc806e",
   "metadata": {},
   "outputs": [],
   "source": [
    "from Scripts.Entropy import JSD"
   ]
  },
  {
   "cell_type": "code",
   "execution_count": 10,
   "id": "75132f1c-ca95-495e-88f6-75fd64d0f8ba",
   "metadata": {},
   "outputs": [],
   "source": [
    "edges = G.get_edges()"
   ]
  },
  {
   "cell_type": "code",
   "execution_count": null,
   "id": "998586f5-8a78-43c1-a01c-d4edf3e84dc0",
   "metadata": {},
   "outputs": [],
   "source": [
    "def get_ind(edge: np.array):\n",
    "    u = ind[edge[0]]\n",
    "    v = ind[edge[1]]\n",
    "    \n",
    "    distance = 1 - JSD(u.P, v.P)\n",
    "    \n",
    "    return distance"
   ]
  },
  {
   "cell_type": "code",
   "execution_count": null,
   "id": "15f21c25-92e8-48f8-9819-2b47001df623",
   "metadata": {},
   "outputs": [
    {
     "data": {
      "text/plain": [
       "0.8893481864237773"
      ]
     },
     "execution_count": 138,
     "metadata": {},
     "output_type": "execute_result"
    }
   ],
   "source": [
    "get_ind(edges[0])"
   ]
  },
  {
   "cell_type": "code",
   "execution_count": null,
   "id": "17995ece-14cc-4f5b-a1cb-d1531d81adcb",
   "metadata": {},
   "outputs": [
    {
     "data": {
      "text/plain": [
       "array([0.88934819, 0.93307606, 0.94415532, ..., 0.8768589 , 0.94256373,\n",
       "       0.93318595])"
      ]
     },
     "execution_count": 139,
     "metadata": {},
     "output_type": "execute_result"
    }
   ],
   "source": [
    "np.apply_along_axis(get_ind, 1, edges)"
   ]
  },
  {
   "cell_type": "code",
   "execution_count": null,
   "id": "36af3d93-6780-4283-a270-fbb0c1cd77ba",
   "metadata": {},
   "outputs": [],
   "source": [
    "distance_property = G.new_edge_property(\"double\")\n",
    "distance_property.a = np.apply_along_axis(get_ind, 1, G.get_edges())"
   ]
  },
  {
   "cell_type": "code",
   "execution_count": 153,
   "id": "b18c40dc-8c83-4d3d-a510-528311e7afe3",
   "metadata": {},
   "outputs": [
    {
     "data": {
      "text/plain": [
       "0.8893481864237773"
      ]
     },
     "execution_count": 153,
     "metadata": {},
     "output_type": "execute_result"
    }
   ],
   "source": [
    "distance_property[G.edges().next()]"
   ]
  },
  {
   "cell_type": "code",
   "execution_count": 192,
   "id": "7a08cf7a-cb92-4e7a-8487-efbc8365ec7d",
   "metadata": {},
   "outputs": [],
   "source": [
    "def _compute_sigma_attribute(node: int) -> float:\n",
    "    neigh_info = G.get_all_edges(node, eprops = [distance_property])\n",
    "    return neigh_info.T[2].sum()"
   ]
  },
  {
   "cell_type": "code",
   "execution_count": 157,
   "id": "bc319383-e303-4c01-a7fb-eea1a395d8d1",
   "metadata": {},
   "outputs": [
    {
     "name": "stdout",
     "output_type": "stream",
     "text": [
      "[[0.00000000e+00 1.00000000e+00 8.89348186e-01]\n",
      " [0.00000000e+00 1.40000000e+02 9.09706309e-01]\n",
      " [0.00000000e+00 3.48000000e+02 9.04875937e-01]\n",
      " [0.00000000e+00 5.54000000e+02 8.90142171e-01]\n",
      " [0.00000000e+00 1.28700000e+03 9.23974347e-01]\n",
      " [0.00000000e+00 1.55600000e+03 8.46857398e-01]\n",
      " [0.00000000e+00 1.57800000e+03 9.54637148e-01]\n",
      " [0.00000000e+00 1.69500000e+03 8.41329600e-01]\n",
      " [0.00000000e+00 2.25000000e+03 8.43230647e-01]\n",
      " [0.00000000e+00 3.38000000e+03 9.16913045e-01]\n",
      " [0.00000000e+00 4.20800000e+03 8.92157273e-01]\n",
      " [0.00000000e+00 4.98300000e+03 8.40456709e-01]]\n"
     ]
    }
   ],
   "source": [
    "neighbour_prop = G.get_all_edges(0, eprops = [distance_property])\n",
    "print(neighbour_prop)"
   ]
  },
  {
   "cell_type": "code",
   "execution_count": 209,
   "id": "67370780-08ee-444e-8d64-18eddf8a2c7f",
   "metadata": {},
   "outputs": [
    {
     "data": {
      "text/plain": [
       "-15.0"
      ]
     },
     "execution_count": 209,
     "metadata": {},
     "output_type": "execute_result"
    }
   ],
   "source": [
    "f = lambda x: G.get_total_degrees(G.get_vertices())[x]**2\n",
    "neigh = G.get_all_neighbors(0)\n",
    "np.append(f(neigh), -15).min()"
   ]
  },
  {
   "cell_type": "code",
   "execution_count": 182,
   "id": "b4f5805c-2bd0-4cc1-91be-35acf4eaf92d",
   "metadata": {},
   "outputs": [
    {
     "data": {
      "text/plain": [
       "array([[   0,    1,    2, ..., 4997, 4998, 4999]])"
      ]
     },
     "execution_count": 182,
     "metadata": {},
     "output_type": "execute_result"
    }
   ],
   "source": [
    "vertices.reshape(1, -1)"
   ]
  },
  {
   "cell_type": "code",
   "execution_count": 189,
   "id": "8f94a196-eb27-422e-9320-82e170bcfc6c",
   "metadata": {},
   "outputs": [
    {
     "data": {
      "text/plain": [
       "array([[   0],\n",
       "       [   1],\n",
       "       [   2],\n",
       "       ...,\n",
       "       [4997],\n",
       "       [4998],\n",
       "       [4999]])"
      ]
     },
     "execution_count": 189,
     "metadata": {},
     "output_type": "execute_result"
    }
   ],
   "source": [
    "np.expand_dims(vertices, 1)"
   ]
  },
  {
   "cell_type": "code",
   "execution_count": 193,
   "id": "a3272f3e-e4b5-443e-869c-1eb1fccfd123",
   "metadata": {
    "tags": []
   },
   "outputs": [],
   "source": [
    "vertices = G.get_vertices()\n",
    "v = np.expand_dims(vertices, 1)\n",
    "a = np.apply_along_axis(_compute_sigma_attribute, 1, v)"
   ]
  },
  {
   "cell_type": "code",
   "execution_count": 197,
   "id": "81fb5ba4-ea49-435d-a26b-eff674f640c7",
   "metadata": {},
   "outputs": [
    {
     "data": {
      "text/plain": [
       "PropertyArray(4431.37964658)"
      ]
     },
     "execution_count": 197,
     "metadata": {},
     "output_type": "execute_result"
    }
   ],
   "source": [
    "distance_property.a.sum()"
   ]
  },
  {
   "cell_type": "code",
   "execution_count": 202,
   "id": "3d0faf35-79fc-4b32-addd-07a2d941bf17",
   "metadata": {},
   "outputs": [
    {
     "data": {
      "text/plain": [
       "array([ 12, 142,  44, ...,   1,   1,   1], dtype=uint64)"
      ]
     },
     "execution_count": 202,
     "metadata": {},
     "output_type": "execute_result"
    }
   ],
   "source": []
  },
  {
   "cell_type": "code",
   "execution_count": 13,
   "id": "9053767c-3a0a-4052-8876-81c17772141c",
   "metadata": {},
   "outputs": [],
   "source": [
    "def get_ind_objects(edge: np.array):\n",
    "    return [ind[edge[0]], ind[edge[1]]]"
   ]
  },
  {
   "cell_type": "code",
   "execution_count": 14,
   "id": "2396b22a-02da-472b-a098-75bd4b243f8e",
   "metadata": {},
   "outputs": [],
   "source": [
    "edges = G.get_edges()"
   ]
  },
  {
   "cell_type": "code",
   "execution_count": 18,
   "id": "fa8fbcb4-bbc7-4385-885c-bec30d42f4c2",
   "metadata": {},
   "outputs": [
    {
     "ename": "ValueError",
     "evalue": "not enough values to unpack (expected 3, got 2)",
     "output_type": "error",
     "traceback": [
      "\u001b[0;31m---------------------------------------------------------------------------\u001b[0m",
      "\u001b[0;31mValueError\u001b[0m                                Traceback (most recent call last)",
      "\u001b[0;32m/tmp/ipykernel_280541/1648650103.py\u001b[0m in \u001b[0;36m<module>\u001b[0;34m\u001b[0m\n\u001b[0;32m----> 1\u001b[0;31m \u001b[0;32mfor\u001b[0m \u001b[0mk\u001b[0m\u001b[0;34m,\u001b[0m \u001b[0mu\u001b[0m\u001b[0;34m,\u001b[0m \u001b[0mv\u001b[0m \u001b[0;32min\u001b[0m \u001b[0mlist\u001b[0m\u001b[0;34m(\u001b[0m\u001b[0menumerate\u001b[0m\u001b[0;34m(\u001b[0m\u001b[0mnp\u001b[0m\u001b[0;34m.\u001b[0m\u001b[0mapply_along_axis\u001b[0m\u001b[0;34m(\u001b[0m\u001b[0mget_ind_objects\u001b[0m\u001b[0;34m,\u001b[0m \u001b[0;36m1\u001b[0m\u001b[0;34m,\u001b[0m \u001b[0medges\u001b[0m\u001b[0;34m)\u001b[0m\u001b[0;34m)\u001b[0m\u001b[0;34m)\u001b[0m\u001b[0;34m[\u001b[0m\u001b[0;34m:\u001b[0m\u001b[0;36m5\u001b[0m\u001b[0;34m]\u001b[0m\u001b[0;34m:\u001b[0m\u001b[0;34m\u001b[0m\u001b[0;34m\u001b[0m\u001b[0m\n\u001b[0m\u001b[1;32m      2\u001b[0m     \u001b[0mprint\u001b[0m\u001b[0;34m(\u001b[0m\u001b[0mk\u001b[0m\u001b[0;34m,\u001b[0m \u001b[0mu\u001b[0m\u001b[0;34m,\u001b[0m \u001b[0mv\u001b[0m\u001b[0;34m)\u001b[0m\u001b[0;34m\u001b[0m\u001b[0;34m\u001b[0m\u001b[0m\n",
      "\u001b[0;31mValueError\u001b[0m: not enough values to unpack (expected 3, got 2)"
     ]
    }
   ],
   "source": [
    "for k, u, v in list(enumerate(np.apply_along_axis(get_ind_objects, 1, edges)))[:5]:\n",
    "    print(k, u, v)"
   ]
  },
  {
   "cell_type": "code",
   "execution_count": 26,
   "id": "6c029779-e4da-455a-89b0-9d11ec353c03",
   "metadata": {},
   "outputs": [
    {
     "data": {
      "text/plain": [
       "array([0, 1])"
      ]
     },
     "execution_count": 26,
     "metadata": {},
     "output_type": "execute_result"
    }
   ],
   "source": [
    "edges[0][::-1]"
   ]
  },
  {
   "cell_type": "code",
   "execution_count": 25,
   "id": "caea8855-b60f-4e3a-a1c9-1f77eb59a584",
   "metadata": {},
   "outputs": [
    {
     "data": {
      "text/plain": [
       "array([1, 0])"
      ]
     },
     "execution_count": 25,
     "metadata": {},
     "output_type": "execute_result"
    }
   ],
   "source": [
    "edges[0]"
   ]
  },
  {
   "cell_type": "code",
   "execution_count": null,
   "id": "367ded91-321f-470a-bb59-ebeef3582151",
   "metadata": {},
   "outputs": [],
   "source": []
  }
 ],
 "metadata": {
  "kernelspec": {
   "display_name": "Python 3 (ipykernel)",
   "language": "python",
   "name": "python3"
  },
  "language_info": {
   "codemirror_mode": {
    "name": "ipython",
    "version": 3
   },
   "file_extension": ".py",
   "mimetype": "text/x-python",
   "name": "python",
   "nbconvert_exporter": "python",
   "pygments_lexer": "ipython3",
   "version": "3.9.6"
  }
 },
 "nbformat": 4,
 "nbformat_minor": 5
}
