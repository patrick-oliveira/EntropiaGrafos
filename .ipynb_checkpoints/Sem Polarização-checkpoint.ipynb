{
 "cells": [
  {
   "cell_type": "markdown",
   "id": "original-reform",
   "metadata": {},
   "source": [
    "__Imports__"
   ]
  },
  {
   "cell_type": "code",
   "execution_count": 2,
   "id": "hungry-choir",
   "metadata": {},
   "outputs": [],
   "source": [
    "%load_ext autoreload\n",
    "%autoreload 2"
   ]
  },
  {
   "cell_type": "code",
   "execution_count": 3,
   "id": "alleged-involvement",
   "metadata": {},
   "outputs": [],
   "source": [
    "from Scripts.Individual import Individual\n",
    "from Scripts.Parameters import mu, m, pa\n",
    "from Scripts.Polarity import polarity\n",
    "from Scripts.Memory import initialize_memory, probability_distribution, A\n",
    "from Scripts.Model import Model, evaluateModel, simulate\n",
    "from Scripts.Entropy import empirical_entropy, JSD\n",
    "from Scripts.Types import List\n",
    "# from multiprocessing import Pool\n",
    "from time import time\n",
    "\n",
    "import numpy as np\n",
    "import matplotlib.pyplot as plt\n",
    "import random\n",
    "import pickle\n",
    "from copy import deepcopy\n",
    "\n",
    "seed = 42"
   ]
  },
  {
   "cell_type": "code",
   "execution_count": 4,
   "id": "graduate-trick",
   "metadata": {},
   "outputs": [],
   "source": [
    "def list_sum(L1, L2):\n",
    "    return [L1[k] + L2[k] for k in range(len(L1))]\n",
    "\n",
    "def mean_lists(L: List[List]) -> List:\n",
    "    # 1. soma todas as listas\n",
    "    L0 = L[0]\n",
    "    for L1 in L[1:]:\n",
    "        L0 = list_sum(L0, L1)\n",
    "    \n",
    "    # 2. divide pelo número de listas\n",
    "    N = len(L)\n",
    "    for k in range(len(L0)):\n",
    "        L0[k] = L0[k]/N\n",
    "        \n",
    "    return L0"
   ]
  },
  {
   "cell_type": "code",
   "execution_count": 5,
   "id": "coral-myrtle",
   "metadata": {},
   "outputs": [],
   "source": [
    "def is_in(code, L):\n",
    "    for x, _ in L:\n",
    "        if code == x:\n",
    "            return True\n",
    "    return False\n",
    "\n",
    "def compute_opinion_fragmentation(M):\n",
    "    D = deepcopy(A)\n",
    "    for u in M.G.nodes():\n",
    "        u_info = M.indInfo(u)\n",
    "        for code in D.keys():\n",
    "            if is_in(code, u_info.L):\n",
    "                D[code] += 1\n",
    "                \n",
    "    N = len(M.G)\n",
    "    for code in D.keys():\n",
    "        D[code] = D[code]/N\n",
    "        \n",
    "    return D"
   ]
  },
  {
   "cell_type": "markdown",
   "id": "plain-overall",
   "metadata": {},
   "source": [
    "#### __Avaliando Variação com Tamanho do Grafo__"
   ]
  },
  {
   "cell_type": "code",
   "execution_count": 7,
   "id": "healthy-queue",
   "metadata": {},
   "outputs": [
    {
     "data": {
      "image/png": "[encoded data removed]",
      "text/plain": [
       "<Figure size 720x576 with 1 Axes>"
      ]
     },
     "metadata": {
      "needs_background": "light"
     },
     "output_type": "display_data"
    }
   ],
   "source": [
    "kappa = 5\n",
    "seeds = 42\n",
    "alpha = 0.0          # Proportion of individuals with tendency to increase polarity\n",
    "omega = 0.0          # Proportion of individuals with tendency to lower polarity\n",
    "lambd = 0.0            # Polarization coefficient\n",
    "gamma = 0.5          # Confidence factor\n",
    "\n",
    "T = 1000\n",
    "N = [500, 1000, 1500, 2000, 2500, 3000]\n",
    "Entropies = []\n",
    "for n in N:\n",
    "    model = Model(n, pa, mu, m, kappa, lambd, alpha, omega, gamma, seed)\n",
    "    H = []\n",
    "    elapsedTime = 0\n",
    "    for i in range(T):\n",
    "        elapsedTime += simulate(model)\n",
    "        H.append(model.H)\n",
    "    Entropies.append(H)\n",
    "    \n",
    "\n",
    "fig, ax = plt.subplots(1, 1)\n",
    "fig.set_size_inches(10, 8)\n",
    "    \n",
    "for n in range(len(N)):\n",
    "    ax.plot(range(len(Entropies[0])), Entropies[n], label = 'N = {}'.format(N[n]))\n",
    "    ax.legend()\n",
    "    \n",
    "\n",
    "plt.xlabel('Iteração (t)', size = 15)\n",
    "plt.ylabel(r'Entropia Global ($\\overline{H}$)', size = 15)\n",
    "plt.title(r'Entropia $\\overline{H}$ $\\times$ Número de Nodos ($N$)', size = 15)\n",
    "\n",
    "fig.savefig('entropia_N_2.png')"
   ]
  },
  {
   "cell_type": "markdown",
   "id": "american-virtue",
   "metadata": {},
   "source": [
    "#### __Avaliando Entropia Global sem Polarização__"
   ]
  },
  {
   "cell_type": "code",
   "execution_count": null,
   "id": "corporate-african",
   "metadata": {},
   "outputs": [
    {
     "name": "stdout",
     "output_type": "stream",
     "text": [
      "Inicializando o modelo com os parâmetros:\n",
      "N = 500 - pa = 2 - mu = 360 - m = 5 - kappa = 0 - lambda = 0 - alpha = 0 - omega = 0 - gamma = 1\n",
      "Iniciando Repetição N. 0\n",
      "Finalizada a Repetição N. 0 em 3.2196633179982515 segundos.\n",
      "Iniciando Repetição N. 1\n",
      "Finalizada a Repetição N. 1 em 3.2165442665418 segundos.\n",
      "Iniciando Repetição N. 2\n",
      "Finalizada a Repetição N. 2 em 3.088879883289339 segundos.\n",
      "Iniciando Repetição N. 3\n",
      "Finalizada a Repetição N. 3 em 3.4284297148386615 segundos.\n",
      "Iniciando Repetição N. 4\n",
      "Finalizada a Repetição N. 4 em 3.499731787045797 segundos.\n",
      "Inicializando o modelo com os parâmetros:\n",
      "N = 500 - pa = 2 - mu = 360 - m = 5 - kappa = 10 - lambda = 0 - alpha = 0 - omega = 0 - gamma = 1\n",
      "Iniciando Repetição N. 0\n",
      "Finalizada a Repetição N. 0 em 3.8399401744206765 segundos.\n",
      "Iniciando Repetição N. 1\n"
     ]
    }
   ],
   "source": [
    "kappa = [0, 10, 15, 20, 25]\n",
    "num_repetitions = 5\n",
    "seeds = [random.randint(1, 100) for i in range(num_repetitions)]\n",
    "alpha = 0 # Proportion of individuals with tendency to increase polarity\n",
    "omega = 0 # Proportion of individuals with tendency to lower polarity\n",
    "lambd = 0 # Polarization coefficient\n",
    "gamma = 1 # Confidence factor\n",
    "\n",
    "T = 500\n",
    "N = 500\n",
    "\n",
    "stats = {str(k):[] for k in kappa}\n",
    "# A fragmentação de informação é um dicionário indexado pelos códigos existentes, e será um para cada modelo (que aqui difere por kappa e gamma)\n",
    "# Deseja-se acompanhar a evolução dessa fragmentação, então cada ítem de cada dicionário será uma lista de tamanho T\n",
    "info_dist_stats = {str(k):{code:[] for code in A.keys()} for k in kappa}\n",
    "\n",
    "for i in range(len(kappa)):\n",
    "    # Para cada kappa, um modelo é criado\n",
    "    k    = kappa[i]\n",
    "    \n",
    "    print(\"Inicializando o modelo com os parâmetros:\")\n",
    "    print(\"N = {} - pa = {} - mu = {} - m = {} - kappa = {} - lambda = {} - alpha = {} - omega = {} - gamma = {}\".format(N, pa, mu, m, k, lambd, alpha, omega, gamma))\n",
    "    model = Model(N, pa, mu, m, k, lambd, alpha, omega, gamma, 0, False)\n",
    "    \n",
    "    # Cada modelo será simulado um número 'num_repetitions' de vezes, a fim de se tirar uma média das estatísticas de cada simulação\n",
    "    for rep in range(num_repetitions):\n",
    "        # As estatísticas são H (entropia global) e D (fragmentação de informação)\n",
    "        H_rep_temp    = []\n",
    "        D = deepcopy(A)\n",
    "        for code in D.keys():\n",
    "            D[code] = []\n",
    "            \n",
    "            \n",
    "        # Especifica um valor inicial para o gerador de números pseudo-aleatórios e inicializa/reiniciar o modelo com esse gerador.\n",
    "        seed = seeds[rep]\n",
    "        model.seed = seed\n",
    "        model.initialize_model_info()\n",
    "        \n",
    "        print(\"Iniciando Repetição N. {}\".format(rep))\n",
    "        elapsedTime = 0\n",
    "        for i in range(T):\n",
    "            elapsedTime += simulate(model)\n",
    "            H_rep_temp.append(model.H)\n",
    "            D_temp = compute_opinion_fragmentation(model)\n",
    "            for code in D.keys():\n",
    "                D[code].append(D_temp[code])\n",
    "            \n",
    "        # Ao término da simulação, H_rep_temp e D[code] para cada 'code' são listas de tamanho T\n",
    "        print(\"Finalizada a Repetição N. {} em {} segundos.\".format(rep, elapsedTime))\n",
    "        stats[str(k)].append(H_rep_temp)\n",
    "        # Ao dicionário correspondente ao modelo identificado por 'kappa' será acoplado a lista com a evolução da fragmentação de informação relativo à repetição \"rep\"\n",
    "        for code in D.keys():   \n",
    "            info_dist_stats[str(k)][code].append(D[code])\n",
    "    \n",
    "# Tira a média das simulações para cada k\n",
    "for k in kappa:\n",
    "    stats[str(k)] = mean_lists(stats[str(k)])\n",
    "    for code in info_dist_stats[str(k)].keys():\n",
    "        info_dist_stats[str(k)][code] = mean_lists(info_dist_stats[str(k)][code])"
   ]
  },
  {
   "cell_type": "code",
   "execution_count": 159,
   "id": "sacred-accused",
   "metadata": {},
   "outputs": [],
   "source": [
    "name = 'Stats - k in {} - gamma = {}'.format(kappa, gamma)\n",
    "with open ('Outputs/'+name, 'wb') as stats_file:\n",
    "    pickle.dump(stats, stats_file)\n",
    "    \n",
    "name = 'Opinion Fragmentation - k in {} - gamma = {}'.format(kappa, gamma)\n",
    "with open('Outputs/'+name, 'wb') as stats_file:\n",
    "    pickle.dump(info_dist_stats, stats_file)"
   ]
  },
  {
   "cell_type": "code",
   "execution_count": null,
   "id": "strong-round",
   "metadata": {},
   "outputs": [],
   "source": []
  },
  {
   "cell_type": "code",
   "execution_count": null,
   "id": "geological-borough",
   "metadata": {},
   "outputs": [],
   "source": []
  },
  {
   "cell_type": "code",
   "execution_count": null,
   "id": "random-riverside",
   "metadata": {},
   "outputs": [],
   "source": []
  },
  {
   "cell_type": "code",
   "execution_count": null,
   "id": "expressed-prospect",
   "metadata": {},
   "outputs": [],
   "source": []
  },
  {
   "cell_type": "code",
   "execution_count": null,
   "id": "exotic-yacht",
   "metadata": {},
   "outputs": [],
   "source": []
  },
  {
   "cell_type": "code",
   "execution_count": null,
   "id": "ceramic-turkey",
   "metadata": {},
   "outputs": [],
   "source": []
  },
  {
   "cell_type": "code",
   "execution_count": null,
   "id": "impaired-fisher",
   "metadata": {},
   "outputs": [],
   "source": []
  },
  {
   "cell_type": "markdown",
   "id": "painful-voice",
   "metadata": {},
   "source": [
    "***\n",
    "\n",
    "## Algoritmo"
   ]
  },
  {
   "cell_type": "markdown",
   "id": "killing-louisiana",
   "metadata": {},
   "source": [
    "_O grafo será inicializado com a memória de todos os indivíduos totalmente preenchida aleatoriamente, a fim de que seja possível calcular os valores iniciais para os pesos das arestas. A memória funcionará como uma estrutura de fila do tipo $ FIFO $, first-in-first-out, onde a inserção de uma nova informação na fila desloca as informações mais antigas, descartando a última da fila. Se definirmos $\\varphi(\\cdot)$ como um operador que converte números inteiros em suas representações binárias, então o estado inicial da memória de um vértice $u$, $L_{u}(0)$, é dado por_\n",
    "\n",
    "$$\n",
    "\\begin{equation}\n",
    "  L_{u}(0) = \\{x_{i}\\; |\\; i = 1, \\dots, \\mu;\\;\\; x_{i} = \\varphi(X),\\;\\;  X \\thicksim  B (2^{m}, 0.5) \\}\n",
    "\\end{equation}\n",
    "$$\n",
    "\n",
    "_onde $B(2^{m}, 0.5)$ é uma distribuição binomial com parâmetros $(n, p) = (2^{n}, 0.5)$, aproximando uma distribuição normal com parâmetros $(\\mu, \\sigma^2) = (2^{n - 1}, 2^{n - 2})$. É cabível observar que os parâmetro definidos dependem da memória dos indivíduos em cada instante, que é alterada ao longo da simulação. Há, portanto, uma dependência temporal desses parâmetros. Por simplicidade omitiremos na notação a consideração de que as definições e processos descritos nesta seção dizem respeito a um dado instante $t$._\n",
    "\n",
    "_Também é feita a especificação dos parâmetros $\\alpha$ e $\\omega$ a fim de dividir os vértices da rede nos grupos $V_{\\downarrow}$, $V_{\\uparrow}$ e $\\overline{V}$, que determina o padrão de polarização de cada vértice._ \n",
    "\n",
    "_Em uma primeira fase da simulação, admitindo que exista uma representação do grafo por uma lista de arestas $E$, o algoritmo percorrerá todos os elementos $\\langle u, v \\rangle \\in E$ realizando trocas de informações entre $u$ e $v$, i.e. escolhe-se ao acaso $x \\in X_{u}$ e $y \\in X_{v}$ partindo das distribuições $P_{u}$ e $P_{v}$, e faz-se a transmissão de $x$ para $v$ e $y$ para $u$ levando em consideração as probabilidades de distorção definidas anteriormente para os indivíduos de cada grupo, isto é, considerando que o indivíduo possa polarizar para cima, para baixo ou se manter neutro. Portanto, a informação recebida por um indivíduo não corresponde necessariamente à informação emitida. Nesse processo, também é garantido que todo vértice transmitirá alguma informação (não necessariamente a mesma) para cada um dos seus vizinhos._\n",
    "\n",
    "_Após a seleção se verifica a aceitação da informação emitida, segundo a probabilidade $\\eta_{u \\to  v}$ definida acima. As informações rejeitadas são descartadas, enquanto que as informações aceitas são armazenadas em uma lista temporária até a conclusão da disseminação na rede, em que os dados da rede são atualizados._\n",
    "\n",
    "_Ao término de um momento $t$ da simulação, cada vértice $u \\in V(G)$ passa a ter uma nova memória $L_{u}(t + 1)$ com a adição das informações recebidas, e o grafo pode ser atualizado com o cálculo dos novos pesos $JSD(u, v)$ e dos parâmetros que dependem deles._"
   ]
  },
  {
   "cell_type": "markdown",
   "id": "printable-retirement",
   "metadata": {},
   "source": [
    "#### Modos de avaliar o modelo.\n",
    "\n",
    "- Calcular estatísticas globais e plotar sua evolução no tempo.\n",
    "- Plotar a distribuição de estatísticas locais em certos pontos da simulação.\n",
    "- Dinâmica avaliando em paralelo a proporção de grupos."
   ]
  },
  {
   "cell_type": "markdown",
   "id": "directed-tracker",
   "metadata": {},
   "source": [
    "#### Modos de melhorar o modelo.\n",
    "- Avaliar o custo de processamento das diferentes partes da simulação; identificar pontos passíveis de otimização.\n",
    "\n",
    "\n",
    "### Para fazer\n",
    "- Paralelize o cálculo da entropia nos indivíduos.\n",
    "- Faça uma função para retornar uma figura pré-formatada para plotar curvas. Padronize a formatação desses gráficos.\n",
    "- Faça funções para plotar as estatísticas de maneira organizada."
   ]
  },
  {
   "cell_type": "code",
   "execution_count": 2,
   "id": "revolutionary-castle",
   "metadata": {},
   "outputs": [
    {
     "name": "stdout",
     "output_type": "stream",
     "text": [
      "Non-parallel: 1.7866885264714558\n",
      "Parallel: 1.0040502905845643\n"
     ]
    }
   ],
   "source": [
    "%run teste.py"
   ]
  },
  {
   "cell_type": "code",
   "execution_count": null,
   "id": "serial-cyprus",
   "metadata": {},
   "outputs": [],
   "source": []
  }
 ],
 "metadata": {
  "kernelspec": {
   "display_name": "Python 3",
   "language": "python",
   "name": "python3"
  },
  "language_info": {
   "codemirror_mode": {
    "name": "ipython",
    "version": 3
   },
   "file_extension": ".py",
   "mimetype": "text/x-python",
   "name": "python",
   "nbconvert_exporter": "python",
   "pygments_lexer": "ipython3",
   "version": "3.8.5"
  }
 },
 "nbformat": 4,
 "nbformat_minor": 5
}
