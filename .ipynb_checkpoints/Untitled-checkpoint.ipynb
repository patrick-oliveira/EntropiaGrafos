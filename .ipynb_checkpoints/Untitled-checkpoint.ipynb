{
 "cells": [
  {
   "cell_type": "code",
   "execution_count": 1,
   "id": "ad833044-716f-4d54-acc6-48c4255efae7",
   "metadata": {},
   "outputs": [],
   "source": [
    "from Scripts.Model import *"
   ]
  },
  {
   "cell_type": "code",
   "execution_count": 2,
   "id": "edd0e63e-8a19-4d49-9ffd-a26a2d0ea20e",
   "metadata": {},
   "outputs": [],
   "source": [
    "kappa = 10           # Parameter for information distortion tendency\n",
    "alpha = 0.5          # Proportion of individuals with tendency to increase polarity\n",
    "omega = 0.5          # Proportion of individuals with tendency to lower polarity\n",
    "lambd = 5            # Polarization coefficient\n",
    "gamma = 5.0          # Confidence factor\n",
    "\n",
    "seed = 42            # Seed for random algorithms initialization.\n",
    "\n",
    "T = 1000"
   ]
  },
  {
   "cell_type": "code",
   "execution_count": 3,
   "id": "ea60a6f5-5494-4a29-a2d9-4d4db9b6b32b",
   "metadata": {},
   "outputs": [
    {
     "ename": "TypeError",
     "evalue": "evaluateModel() takes from 6 to 7 positional arguments but 8 were given",
     "output_type": "error",
     "traceback": [
      "\u001b[1;31m---------------------------------------------------------------------------\u001b[0m",
      "\u001b[1;31mTypeError\u001b[0m                                 Traceback (most recent call last)",
      "\u001b[1;32m<ipython-input-3-f42cab452f6e>\u001b[0m in \u001b[0;36m<module>\u001b[1;34m\u001b[0m\n\u001b[0;32m      2\u001b[0m               'pi': []}\n\u001b[0;32m      3\u001b[0m \u001b[1;33m\u001b[0m\u001b[0m\n\u001b[1;32m----> 4\u001b[1;33m \u001b[0mexecution_time\u001b[0m \u001b[1;33m=\u001b[0m \u001b[0mevaluateModel\u001b[0m\u001b[1;33m(\u001b[0m\u001b[0mT\u001b[0m\u001b[1;33m,\u001b[0m \u001b[0mstatistics\u001b[0m\u001b[1;33m,\u001b[0m \u001b[0mkappa\u001b[0m\u001b[1;33m,\u001b[0m \u001b[0mlambd\u001b[0m\u001b[1;33m,\u001b[0m \u001b[0malpha\u001b[0m\u001b[1;33m,\u001b[0m \u001b[0momega\u001b[0m\u001b[1;33m,\u001b[0m \u001b[0mgamma\u001b[0m\u001b[1;33m,\u001b[0m \u001b[0mseed\u001b[0m\u001b[1;33m)\u001b[0m\u001b[1;33m\u001b[0m\u001b[1;33m\u001b[0m\u001b[0m\n\u001b[0m",
      "\u001b[1;31mTypeError\u001b[0m: evaluateModel() takes from 6 to 7 positional arguments but 8 were given"
     ]
    }
   ],
   "source": [
    "statistics = {'H': [],\n",
    "              'pi': []}\n",
    "\n",
    "execution_time = evaluateModel(T, kappa, lambd, alpha, omega, gamma, seed)"
   ]
  },
  {
   "cell_type": "code",
   "execution_count": null,
   "id": "af839cc7-176d-44fa-997a-3852a59ef3c8",
   "metadata": {},
   "outputs": [],
   "source": []
  }
 ],
 "metadata": {
  "kernelspec": {
   "display_name": "Python 3",
   "language": "python",
   "name": "python3"
  },
  "language_info": {
   "codemirror_mode": {
    "name": "ipython",
    "version": 3
   },
   "file_extension": ".py",
   "mimetype": "text/x-python",
   "name": "python",
   "nbconvert_exporter": "python",
   "pygments_lexer": "ipython3",
   "version": "3.8.10"
  }
 },
 "nbformat": 4,
 "nbformat_minor": 5
}
