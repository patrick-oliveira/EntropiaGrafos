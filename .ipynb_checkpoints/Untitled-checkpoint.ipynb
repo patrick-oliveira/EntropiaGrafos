{
 "cells": [
  {
   "cell_type": "code",
   "execution_count": 1,
   "id": "stainless-sierra",
   "metadata": {},
   "outputs": [],
   "source": [
    "%load_ext autoreload\n",
    "%autoreload 2"
   ]
  },
  {
   "cell_type": "code",
   "execution_count": 2,
   "id": "interior-latvia",
   "metadata": {},
   "outputs": [],
   "source": [
    "from Scripts.Memory import *\n",
    "from Scripts.Entropy import *\n",
    "from Scripts.ModelDynamics import *\n",
    "from Scripts.Parameters import memory_size, code_length\n",
    "import matplotlib.pyplot as plt\n",
    "from Plotting import simplePlot"
   ]
  },
  {
   "cell_type": "code",
   "execution_count": 3,
   "id": "backed-hughes",
   "metadata": {},
   "outputs": [],
   "source": [
    "import numpy as np"
   ]
  },
  {
   "cell_type": "code",
   "execution_count": 5,
   "id": "excellent-manchester",
   "metadata": {},
   "outputs": [],
   "source": [
    "A = np.random.randn(50, 150)"
   ]
  },
  {
   "cell_type": "code",
   "execution_count": 8,
   "id": "necessary-brown",
   "metadata": {},
   "outputs": [
    {
     "data": {
      "text/plain": [
       "(50,)"
      ]
     },
     "execution_count": 8,
     "metadata": {},
     "output_type": "execute_result"
    }
   ],
   "source": [
    "A.mean(axis = 1).shape"
   ]
  },
  {
   "cell_type": "markdown",
   "id": "double-storm",
   "metadata": {},
   "source": [
    "***"
   ]
  },
  {
   "cell_type": "markdown",
   "id": "northern-exhibit",
   "metadata": {},
   "source": [
    "__Testando a criação de memórias.__"
   ]
  },
  {
   "cell_type": "code",
   "execution_count": 3,
   "id": "warming-taste",
   "metadata": {},
   "outputs": [],
   "source": [
    "code_length = 5"
   ]
  },
  {
   "cell_type": "code",
   "execution_count": 4,
   "id": "mature-pasta",
   "metadata": {},
   "outputs": [],
   "source": [
    "powers_of_two = 2**np.arange(code_length)[::-1]"
   ]
  },
  {
   "cell_type": "code",
   "execution_count": 10,
   "id": "infinite-entity",
   "metadata": {},
   "outputs": [],
   "source": [
    "memory = initialize_memory()\n",
    "lista_codigos, polaridades = memory"
   ]
  },
  {
   "cell_type": "code",
   "execution_count": 11,
   "id": "meaning-artist",
   "metadata": {},
   "outputs": [
    {
     "data": {
      "text/plain": [
       "array([[0, 1, 1, 1, 1],\n",
       "       [1, 0, 0, 1, 0],\n",
       "       [0, 1, 1, 1, 0],\n",
       "       [0, 1, 1, 0, 0],\n",
       "       [0, 1, 1, 1, 0]])"
      ]
     },
     "execution_count": 11,
     "metadata": {},
     "output_type": "execute_result"
    }
   ],
   "source": [
    "lista_codigos[:5]"
   ]
  },
  {
   "cell_type": "code",
   "execution_count": 17,
   "id": "surprising-lindsay",
   "metadata": {},
   "outputs": [
    {
     "data": {
      "text/plain": [
       "array([[1, 0, 0, 0, 0],\n",
       "       [0, 1, 1, 1, 1],\n",
       "       [1, 0, 0, 1, 0],\n",
       "       ...,\n",
       "       [0, 1, 1, 0, 0],\n",
       "       [0, 1, 1, 0, 1],\n",
       "       [1, 0, 0, 0, 0]])"
      ]
     },
     "execution_count": 17,
     "metadata": {},
     "output_type": "execute_result"
    }
   ],
   "source": [
    "lista_codigos"
   ]
  },
  {
   "cell_type": "code",
   "execution_count": 31,
   "id": "caring-carroll",
   "metadata": {},
   "outputs": [
    {
     "data": {
      "text/plain": [
       "array([16, 15, 18, 14, 16, 12, 11, 21, 19, 17, 15, 13, 13, 14, 16, 18, 17,\n",
       "       14, 21, 18, 16, 17, 15, 14, 15, 18, 10, 13, 11, 11, 19, 18, 16, 12,\n",
       "       16, 16, 13, 16, 15, 17, 17, 11, 15, 17, 16, 19, 17, 13, 12, 17, 11,\n",
       "       17, 20, 17, 15, 17, 16, 16, 20, 15, 21, 20, 14, 12, 12, 10, 12, 17,\n",
       "       12, 15, 19, 10, 19, 14, 13, 17, 17, 19, 18, 18, 14, 13, 18, 18, 23,\n",
       "       15, 15, 18, 15, 20, 19, 15, 18, 18, 12, 20, 16, 19, 15, 20, 15, 10,\n",
       "       20, 12, 15, 21, 21, 17, 17, 16, 14, 15, 17, 18, 18, 18, 12, 16, 12,\n",
       "       16, 16, 19, 15, 13, 13, 18, 17, 12, 12, 17, 12, 19, 18, 12, 12, 22,\n",
       "       15, 15, 19, 21, 22, 18, 15, 12, 18, 16, 15, 20, 13, 16, 10, 16, 12,\n",
       "       13, 13, 17, 18, 17, 21, 15, 14, 19, 14, 21, 10, 21, 11, 19, 16, 23,\n",
       "       12, 16, 21, 16, 17, 17, 16, 17, 17, 20, 11, 14, 21, 19, 16, 17, 14,\n",
       "       13, 16, 15, 17, 12, 21, 22, 17, 16, 15, 19, 17, 13, 20, 19, 21, 18,\n",
       "       17, 15, 20, 19, 11, 11, 15, 18, 22, 13, 17, 15, 21, 19, 19, 16, 15,\n",
       "       14, 12, 19, 19, 25, 24, 16, 18, 20, 19, 14, 16, 13, 21, 17, 14, 17,\n",
       "       17, 15, 13, 17, 16, 18, 16, 19, 16, 16, 19, 15, 13, 11, 18, 17, 18,\n",
       "       14, 13, 10, 15, 17, 15, 16, 20, 15, 16, 18, 15, 17, 19, 21, 13, 20,\n",
       "       16, 14, 16, 22, 16, 15, 17, 14, 12, 13, 13, 13, 13, 17, 13, 15, 20,\n",
       "       16, 17, 13, 14, 11, 13, 14, 13, 12, 13, 16])"
      ]
     },
     "execution_count": 31,
     "metadata": {},
     "output_type": "execute_result"
    }
   ],
   "source": [
    "integers = np.matmul(lista_codigos, powers_of_two)\n",
    "integers"
   ]
  },
  {
   "cell_type": "code",
   "execution_count": 44,
   "id": "massive-refund",
   "metadata": {},
   "outputs": [
    {
     "name": "stdout",
     "output_type": "stream",
     "text": [
      "Object `np.count` not found.\n"
     ]
    }
   ],
   "source": [
    "np.count?"
   ]
  },
  {
   "cell_type": "code",
   "execution_count": 43,
   "id": "local-retirement",
   "metadata": {},
   "outputs": [
    {
     "data": {
      "text/plain": [
       "37"
      ]
     },
     "execution_count": 43,
     "metadata": {},
     "output_type": "execute_result"
    }
   ],
   "source": [
    "np.logical_not(integers - 15).sum()"
   ]
  },
  {
   "cell_type": "code",
   "execution_count": 9,
   "id": "coral-adaptation",
   "metadata": {},
   "outputs": [],
   "source": [
    "def f(m: np.array, n: int) -> int:\n",
    "    \n",
    "    return r"
   ]
  },
  {
   "cell_type": "code",
   "execution_count": 16,
   "id": "married-queue",
   "metadata": {},
   "outputs": [],
   "source": [
    "vf = np.vectorize(f)"
   ]
  },
  {
   "cell_type": "code",
   "execution_count": 21,
   "id": "german-mason",
   "metadata": {},
   "outputs": [],
   "source": [
    "integers[0] = 0"
   ]
  },
  {
   "cell_type": "code",
   "execution_count": 24,
   "id": "assisted-world",
   "metadata": {},
   "outputs": [
    {
     "data": {
      "text/plain": [
       "15"
      ]
     },
     "execution_count": 24,
     "metadata": {},
     "output_type": "execute_result"
    }
   ],
   "source": [
    "vf(integers, 12).sum()"
   ]
  },
  {
   "cell_type": "code",
   "execution_count": 9,
   "id": "devoted-scanning",
   "metadata": {},
   "outputs": [
    {
     "data": {
      "text/plain": [
       "array([16,  8,  4,  2,  1], dtype=int32)"
      ]
     },
     "execution_count": 9,
     "metadata": {},
     "output_type": "execute_result"
    }
   ],
   "source": [
    "powers_of_two"
   ]
  },
  {
   "cell_type": "code",
   "execution_count": 15,
   "id": "shaped-message",
   "metadata": {},
   "outputs": [
    {
     "data": {
      "text/plain": [
       "array([12, 19, 17, 18, 10, 21, 19, 14, 13, 13, 15, 16, 16, 14, 17, 13, 14,\n",
       "       15, 16, 18, 14, 16, 17, 11, 17, 13, 12, 21, 21, 18, 15, 12, 17, 16,\n",
       "       13, 16, 11, 20, 14, 17, 15, 16, 16, 13, 21, 18, 20, 20, 17, 20])"
      ]
     },
     "execution_count": 15,
     "metadata": {},
     "output_type": "execute_result"
    }
   ],
   "source": [
    "(powers_of_two*memory[0]).sum(axis = 1)"
   ]
  },
  {
   "cell_type": "code",
   "execution_count": 226,
   "id": "indoor-blame",
   "metadata": {},
   "outputs": [
    {
     "data": {
      "text/plain": [
       "array([16,  8,  4,  2,  1], dtype=int32)"
      ]
     },
     "execution_count": 226,
     "metadata": {},
     "output_type": "execute_result"
    }
   ],
   "source": [
    "powers_of_two"
   ]
  },
  {
   "cell_type": "code",
   "execution_count": 224,
   "id": "equipped-macedonia",
   "metadata": {},
   "outputs": [
    {
     "data": {
      "text/plain": [
       "array([14,  9, 17, 20, 14])"
      ]
     },
     "execution_count": 224,
     "metadata": {},
     "output_type": "execute_result"
    }
   ],
   "source": [
    "np.matmul(lista_codigos[:5], powers_of_two)"
   ]
  },
  {
   "cell_type": "code",
   "execution_count": 91,
   "id": "cardiac-harmony",
   "metadata": {},
   "outputs": [
    {
     "data": {
      "text/plain": [
       "array([0.83659914, 0.2404288 , 0.83659914, 0.16340086, 0.3764668 ])"
      ]
     },
     "execution_count": 91,
     "metadata": {},
     "output_type": "execute_result"
    }
   ],
   "source": [
    "polaridades[:5]"
   ]
  },
  {
   "cell_type": "code",
   "execution_count": 12,
   "id": "healthy-clear",
   "metadata": {},
   "outputs": [
    {
     "data": {
      "text/plain": [
       "1.0"
      ]
     },
     "execution_count": 12,
     "metadata": {},
     "output_type": "execute_result"
    }
   ],
   "source": [
    "prob_dist = probability_distribution(memory)\n",
    "sum(prob_dist)"
   ]
  },
  {
   "cell_type": "code",
   "execution_count": 14,
   "id": "offensive-kruger",
   "metadata": {},
   "outputs": [],
   "source": [
    "from typing import List"
   ]
  },
  {
   "cell_type": "code",
   "execution_count": 15,
   "id": "split-compilation",
   "metadata": {},
   "outputs": [],
   "source": [
    "def segmentList(L: List, n: int) -> List[List]:\n",
    "    step = int(len(L)/n)\n",
    "    assert step >= 2, 'floor[len(L)/n] must be >= 2' \n",
    "    \n",
    "    segments = []\n",
    "    for k in range(0, len(L) + 1, step):\n",
    "        segments.append(L[k:k+step])\n",
    "        \n",
    "    if len(segments[-1]) < step:\n",
    "        segments[-2].extend(segments[-1])\n",
    "        segments = segments[:-1]\n",
    "        \n",
    "    return segments"
   ]
  },
  {
   "cell_type": "code",
   "execution_count": 16,
   "id": "needed-intensity",
   "metadata": {},
   "outputs": [],
   "source": [
    "A = list(range(3000))"
   ]
  },
  {
   "cell_type": "code",
   "execution_count": 18,
   "id": "solid-indiana",
   "metadata": {},
   "outputs": [],
   "source": [
    "B = segmentList(A, 2)"
   ]
  },
  {
   "cell_type": "code",
   "execution_count": 19,
   "id": "adaptive-importance",
   "metadata": {},
   "outputs": [
    {
     "data": {
      "text/plain": [
       "1500"
      ]
     },
     "execution_count": 19,
     "metadata": {},
     "output_type": "execute_result"
    }
   ],
   "source": []
  },
  {
   "cell_type": "code",
   "execution_count": 8,
   "id": "cubic-landing",
   "metadata": {},
   "outputs": [
    {
     "data": {
      "text/plain": [
       "array([0.        , 0.        , 0.        , 0.        , 0.        ,\n",
       "       0.        , 0.        , 0.        , 0.        , 0.01333333,\n",
       "       0.01333333, 0.04      , 0.05333333, 0.08333333, 0.11      ,\n",
       "       0.12666667, 0.12333333, 0.13333333, 0.11666667, 0.07      ,\n",
       "       0.07      , 0.03333333, 0.01      , 0.00333333, 0.        ,\n",
       "       0.        , 0.        , 0.        , 0.        , 0.        ,\n",
       "       0.        , 0.        ])"
      ]
     },
     "execution_count": 8,
     "metadata": {},
     "output_type": "execute_result"
    }
   ],
   "source": [
    "prob_dist"
   ]
  },
  {
   "cell_type": "code",
   "execution_count": 10,
   "id": "confident-cycle",
   "metadata": {},
   "outputs": [
    {
     "data": {
      "text/plain": [
       "3.5201336560715752"
      ]
     },
     "execution_count": 10,
     "metadata": {},
     "output_type": "execute_result"
    }
   ],
   "source": [
    "memory_entropy(prob_dist)"
   ]
  },
  {
   "cell_type": "code",
   "execution_count": 229,
   "id": "derived-speaker",
   "metadata": {},
   "outputs": [],
   "source": [
    "memory_1 = initialize_memory()\n",
    "memory_2 = initialize_memory()\n",
    "P = probability_distribution(memory_1)\n",
    "Q = probability_distribution(memory_2)"
   ]
  },
  {
   "cell_type": "code",
   "execution_count": 193,
   "id": "psychological-kitchen",
   "metadata": {},
   "outputs": [
    {
     "data": {
      "text/plain": [
       "array([False, False, False, False, False, False, False, False, False,\n",
       "       False, False,  True,  True,  True,  True,  True,  True,  True,\n",
       "        True,  True,  True,  True,  True,  True, False, False, False,\n",
       "       False, False, False, False, False])"
      ]
     },
     "execution_count": 193,
     "metadata": {},
     "output_type": "execute_result"
    }
   ],
   "source": [
    "P>0"
   ]
  },
  {
   "cell_type": "code",
   "execution_count": 234,
   "id": "executive-funeral",
   "metadata": {},
   "outputs": [],
   "source": [
    "teste = {0: 0.5, 1: 0.6}"
   ]
  },
  {
   "cell_type": "code",
   "execution_count": 240,
   "id": "nominated-combat",
   "metadata": {},
   "outputs": [
    {
     "data": {
      "text/plain": [
       "array([1, 0, 0, 1, 1])"
      ]
     },
     "execution_count": 240,
     "metadata": {},
     "output_type": "execute_result"
    }
   ],
   "source": [
    "amostra = lista_codigos[:5][0]\n",
    "amostra"
   ]
  },
  {
   "cell_type": "code",
   "execution_count": 243,
   "id": "median-wichita",
   "metadata": {},
   "outputs": [],
   "source": [
    "f = lambda x: (1 - x)*0.5 + x*0.6"
   ]
  },
  {
   "cell_type": "code",
   "execution_count": 244,
   "id": "public-animal",
   "metadata": {},
   "outputs": [
    {
     "data": {
      "text/plain": [
       "array([0.6, 0.5, 0.5, 0.6, 0.6])"
      ]
     },
     "execution_count": 244,
     "metadata": {},
     "output_type": "execute_result"
    }
   ],
   "source": [
    "f(amostra)"
   ]
  },
  {
   "cell_type": "code",
   "execution_count": 194,
   "id": "responsible-davis",
   "metadata": {},
   "outputs": [],
   "source": [
    "not_zero_indexes_1 = np.arange(2**5)[(P > 0) * (Q > 0)]\n",
    "P_not_zero_indexes = np.nonzero(P)[0]\n",
    "Q_not_zero_indexes = np.nonzero(Q)[0]\n",
    "not_zero_indexes_2 = np.intersect1d(P_not_zero_indexes, Q_not_zero_indexes)"
   ]
  },
  {
   "cell_type": "code",
   "execution_count": 195,
   "id": "promotional-envelope",
   "metadata": {},
   "outputs": [
    {
     "data": {
      "text/plain": [
       "array([11, 12, 13, 14, 15, 16, 17, 18, 19, 20, 21])"
      ]
     },
     "execution_count": 195,
     "metadata": {},
     "output_type": "execute_result"
    }
   ],
   "source": [
    "not_zero_indexes_1"
   ]
  },
  {
   "cell_type": "code",
   "execution_count": 196,
   "id": "taken-bangkok",
   "metadata": {},
   "outputs": [
    {
     "data": {
      "text/plain": [
       "array([11, 12, 13, 14, 15, 16, 17, 18, 19, 20, 21], dtype=int64)"
      ]
     },
     "execution_count": 196,
     "metadata": {},
     "output_type": "execute_result"
    }
   ],
   "source": [
    "not_zero_indexes_2"
   ]
  },
  {
   "cell_type": "code",
   "execution_count": 191,
   "id": "fatal-delivery",
   "metadata": {},
   "outputs": [
    {
     "data": {
      "text/plain": [
       "array([11, 12, 13, 14, 15, 16, 17, 18, 19, 20, 21, 22, 23], dtype=int64)"
      ]
     },
     "execution_count": 191,
     "metadata": {},
     "output_type": "execute_result"
    }
   ],
   "source": [
    "P_not_zero_indexes"
   ]
  },
  {
   "cell_type": "code",
   "execution_count": 192,
   "id": "fiscal-jerusalem",
   "metadata": {},
   "outputs": [
    {
     "data": {
      "text/plain": [
       "array([11, 12, 13, 14, 15, 16, 17, 18, 19, 20, 21], dtype=int64)"
      ]
     },
     "execution_count": 192,
     "metadata": {},
     "output_type": "execute_result"
    }
   ],
   "source": [
    "Q_not_zero_indexes"
   ]
  },
  {
   "cell_type": "code",
   "execution_count": 230,
   "id": "cordless-columbia",
   "metadata": {},
   "outputs": [],
   "source": [
    "from Scripts.Entropy import JSD, D"
   ]
  },
  {
   "cell_type": "code",
   "execution_count": 232,
   "id": "selected-revelation",
   "metadata": {},
   "outputs": [
    {
     "data": {
      "text/plain": [
       "0.9091535334590194"
      ]
     },
     "execution_count": 232,
     "metadata": {},
     "output_type": "execute_result"
    }
   ],
   "source": [
    "1 - JSD(prob_dist_1, prob_dist_2)"
   ]
  },
  {
   "cell_type": "code",
   "execution_count": 233,
   "id": "stylish-convention",
   "metadata": {},
   "outputs": [
    {
     "data": {
      "text/plain": [
       "0.9091535334590186"
      ]
     },
     "execution_count": 233,
     "metadata": {},
     "output_type": "execute_result"
    }
   ],
   "source": [
    "1 - JSD(prob_dist_1, prob_dist_2)"
   ]
  },
  {
   "cell_type": "code",
   "execution_count": 160,
   "id": "extraordinary-translator",
   "metadata": {},
   "outputs": [],
   "source": [
    "M = (prob_dist_1 + prob_dist_2)/2"
   ]
  },
  {
   "cell_type": "code",
   "execution_count": 161,
   "id": "official-batch",
   "metadata": {},
   "outputs": [],
   "source": [
    "from functools import partial"
   ]
  },
  {
   "cell_type": "code",
   "execution_count": 181,
   "id": "passing-papua",
   "metadata": {},
   "outputs": [],
   "source": [
    "def _D(P: CodeDistribution, Q: CodeDistribution):\n",
    "    return sum(map(partial(__D, P, Q), range(2**5)))"
   ]
  },
  {
   "cell_type": "code",
   "execution_count": 184,
   "id": "piano-cosmetic",
   "metadata": {},
   "outputs": [],
   "source": [
    "def __D(P: CodeDistribution, Q: CodeDistribution, x: int):\n",
    "    if P[x] == 0:\n",
    "        return 0\n",
    "    else:\n",
    "        if Q[x] == 0:\n",
    "            return np.inf\n",
    "        else:\n",
    "            return P[x]*np.log2(P[x]/Q[x])"
   ]
  },
  {
   "cell_type": "code",
   "execution_count": 186,
   "id": "vital-calculator",
   "metadata": {},
   "outputs": [
    {
     "data": {
      "text/plain": [
       "0.9091535334590194"
      ]
     },
     "execution_count": 186,
     "metadata": {},
     "output_type": "execute_result"
    }
   ],
   "source": [
    "1 - (_D(prob_dist_1, M) + _D(prob_dist_2, M))/2"
   ]
  },
  {
   "cell_type": "markdown",
   "id": "cloudy-subdivision",
   "metadata": {},
   "source": [
    "__Testando a criação de indivíduos.__"
   ]
  },
  {
   "cell_type": "code",
   "execution_count": 19,
   "id": "structural-reach",
   "metadata": {},
   "outputs": [],
   "source": [
    "from Scripts.Individual import Individual"
   ]
  },
  {
   "cell_type": "code",
   "execution_count": 20,
   "id": "opposite-athens",
   "metadata": {},
   "outputs": [],
   "source": [
    "from Scripts.ModelDynamics import distort, get_transition_probabilities"
   ]
  },
  {
   "cell_type": "code",
   "execution_count": 21,
   "id": "sapphire-affiliation",
   "metadata": {},
   "outputs": [],
   "source": [
    "kappa = 1\n",
    "individual = Individual(kappa)"
   ]
  },
  {
   "cell_type": "code",
   "execution_count": 22,
   "id": "stylish-nightmare",
   "metadata": {},
   "outputs": [
    {
     "data": {
      "text/plain": [
       "3.43239534989339"
      ]
     },
     "execution_count": 22,
     "metadata": {},
     "output_type": "execute_result"
    }
   ],
   "source": [
    "individual.H"
   ]
  },
  {
   "cell_type": "code",
   "execution_count": 24,
   "id": "hired-voltage",
   "metadata": {},
   "outputs": [
    {
     "data": {
      "text/plain": [
       "array([0, 1, 1, 1, 1])"
      ]
     },
     "execution_count": 24,
     "metadata": {},
     "output_type": "execute_result"
    }
   ],
   "source": [
    "new_code = individual.X\n",
    "new_code"
   ]
  },
  {
   "cell_type": "code",
   "execution_count": 261,
   "id": "pressed-carol",
   "metadata": {},
   "outputs": [
    {
     "data": {
      "text/plain": [
       "array([1, 1, 1, 0, 1])"
      ]
     },
     "execution_count": 261,
     "metadata": {},
     "output_type": "execute_result"
    }
   ],
   "source": [
    "distort(new_code, get_transition_probabilities(individual))"
   ]
  },
  {
   "cell_type": "code",
   "execution_count": 83,
   "id": "fatty-better",
   "metadata": {},
   "outputs": [],
   "source": [
    "individual.receive_information(new_code)"
   ]
  },
  {
   "cell_type": "code",
   "execution_count": 84,
   "id": "diagnostic-tower",
   "metadata": {},
   "outputs": [
    {
     "data": {
      "text/plain": [
       "[array([1, 0, 0, 0, 1])]"
      ]
     },
     "execution_count": 84,
     "metadata": {},
     "output_type": "execute_result"
    }
   ],
   "source": [
    "individual.L_temp"
   ]
  },
  {
   "cell_type": "code",
   "execution_count": 42,
   "id": "behind-france",
   "metadata": {},
   "outputs": [],
   "source": [
    "individual.update_memory()"
   ]
  },
  {
   "cell_type": "code",
   "execution_count": 43,
   "id": "built-baltimore",
   "metadata": {},
   "outputs": [
    {
     "data": {
      "text/plain": [
       "[]"
      ]
     },
     "execution_count": 43,
     "metadata": {},
     "output_type": "execute_result"
    }
   ],
   "source": [
    "individual.L_temp"
   ]
  },
  {
   "cell_type": "code",
   "execution_count": 44,
   "id": "excited-pattern",
   "metadata": {},
   "outputs": [
    {
     "data": {
      "text/plain": [
       "4.311272380112911"
      ]
     },
     "execution_count": 44,
     "metadata": {},
     "output_type": "execute_result"
    }
   ],
   "source": [
    "individual.H"
   ]
  },
  {
   "cell_type": "code",
   "execution_count": 168,
   "id": "thousand-naples",
   "metadata": {},
   "outputs": [
    {
     "data": {
      "text/plain": [
       "50"
      ]
     },
     "execution_count": 168,
     "metadata": {},
     "output_type": "execute_result"
    }
   ],
   "source": [
    "len(individual.L[0])"
   ]
  },
  {
   "cell_type": "markdown",
   "id": "racial-yellow",
   "metadata": {},
   "source": [
    "__Testando funções da dinâmica do sistema__"
   ]
  },
  {
   "cell_type": "code",
   "execution_count": 43,
   "id": "intense-vienna",
   "metadata": {},
   "outputs": [
    {
     "data": {
      "text/plain": [
       "{0: 0.38487911980909295, 1: 0.38487911980909295}"
      ]
     },
     "execution_count": 43,
     "metadata": {},
     "output_type": "execute_result"
    }
   ],
   "source": [
    "transition_probability = get_transition_probabilities(individual)\n",
    "transition_probability"
   ]
  },
  {
   "cell_type": "code",
   "execution_count": 77,
   "id": "perceived-sense",
   "metadata": {},
   "outputs": [
    {
     "name": "stdout",
     "output_type": "stream",
     "text": [
      "[0 1 1 1 1 0 1 0]\n",
      "[1 1 1 1 0 0 1 0]\n"
     ]
    }
   ],
   "source": [
    "random_code = individual.X\n",
    "print(random_code)\n",
    "distorted_code = distort(random_code, transition_probability)\n",
    "print(distorted_code)"
   ]
  },
  {
   "cell_type": "code",
   "execution_count": 79,
   "id": "protective-romance",
   "metadata": {},
   "outputs": [
    {
     "name": "stdout",
     "output_type": "stream",
     "text": [
      "[0.38487912 0.38487912 0.38487912 0.38487912 0.38487912 0.38487912\n",
      " 0.38487912 0.38487912]\n"
     ]
    }
   ],
   "source": [
    "transition_probabilities = np.vectorize(lambda x: transition_probability[x])(random_code)\n",
    "print(transition_probabilities)"
   ]
  },
  {
   "cell_type": "code",
   "execution_count": 80,
   "id": "flexible-sphere",
   "metadata": {},
   "outputs": [
    {
     "data": {
      "text/plain": [
       "array([0.43913491, 0.37694443, 0.46267979, 0.30137787, 0.74760938,\n",
       "       0.50272039, 0.2322127 , 0.89957457])"
      ]
     },
     "execution_count": 80,
     "metadata": {},
     "output_type": "execute_result"
    }
   ],
   "source": [
    "random_numbers = np.random.uniform(size = code_length)\n",
    "random_numbers"
   ]
  },
  {
   "cell_type": "code",
   "execution_count": 12,
   "id": "natural-party",
   "metadata": {},
   "outputs": [
    {
     "ename": "NameError",
     "evalue": "name 'random_numbers' is not defined",
     "output_type": "error",
     "traceback": [
      "\u001b[1;31m---------------------------------------------------------------------------\u001b[0m",
      "\u001b[1;31mNameError\u001b[0m                                 Traceback (most recent call last)",
      "\u001b[1;32m<ipython-input-12-657eea9e171b>\u001b[0m in \u001b[0;36m<module>\u001b[1;34m\u001b[0m\n\u001b[1;32m----> 1\u001b[1;33m \u001b[0mmutate\u001b[0m \u001b[1;33m=\u001b[0m \u001b[1;33m(\u001b[0m\u001b[0mrandom_numbers\u001b[0m \u001b[1;33m<=\u001b[0m \u001b[0mtransition_probabilities\u001b[0m\u001b[1;33m)\u001b[0m\u001b[1;33m.\u001b[0m\u001b[0mastype\u001b[0m\u001b[1;33m(\u001b[0m\u001b[0mint\u001b[0m\u001b[1;33m)\u001b[0m\u001b[1;33m\u001b[0m\u001b[1;33m\u001b[0m\u001b[0m\n\u001b[0m\u001b[0;32m      2\u001b[0m \u001b[0mprint\u001b[0m\u001b[1;33m(\u001b[0m\u001b[0mmutate\u001b[0m\u001b[1;33m)\u001b[0m\u001b[1;33m\u001b[0m\u001b[1;33m\u001b[0m\u001b[0m\n",
      "\u001b[1;31mNameError\u001b[0m: name 'random_numbers' is not defined"
     ]
    }
   ],
   "source": [
    "mutate = (random_numbers <= transition_probabilities).astype(int)\n",
    "print(mutate)"
   ]
  },
  {
   "cell_type": "code",
   "execution_count": 84,
   "id": "christian-wrestling",
   "metadata": {},
   "outputs": [
    {
     "name": "stdout",
     "output_type": "stream",
     "text": [
      "[1 3 6]\n"
     ]
    }
   ],
   "source": [
    "mutate = np.argwhere(mutate).reshape(-1)\n",
    "print(mutate)"
   ]
  },
  {
   "cell_type": "code",
   "execution_count": 85,
   "id": "typical-bride",
   "metadata": {},
   "outputs": [
    {
     "name": "stdout",
     "output_type": "stream",
     "text": [
      "[1 1 1 1 0 0 1 0]\n",
      "[1 0 1 0 0 0 0 0]\n"
     ]
    }
   ],
   "source": [
    "print(random_code)\n",
    "random_code[mutate] = np.logical_not(random_code[mutate]).astype(int)\n",
    "print(random_code)"
   ]
  },
  {
   "cell_type": "markdown",
   "id": "connected-vessel",
   "metadata": {},
   "source": [
    "__Testando criação do modelo__"
   ]
  },
  {
   "cell_type": "code",
   "execution_count": 3,
   "id": "needed-paintball",
   "metadata": {},
   "outputs": [],
   "source": [
    "from Scripts.Model import *"
   ]
  },
  {
   "cell_type": "code",
   "execution_count": 79,
   "id": "bulgarian-rwanda",
   "metadata": {},
   "outputs": [],
   "source": [
    "alpha = 0          # Proportion of individuals with tendency to increase polarity\n",
    "omega = 0          # Proportion of individuals with tendency to lower polarity\n",
    "lambd = 0            # Polarization coefficient\n",
    "gamma = -1          # Confidence factor\n",
    "kappa = 25           # Parameter for information distortion tendency\n",
    "T = 150\n",
    "num_reps = 1"
   ]
  },
  {
   "cell_type": "code",
   "execution_count": null,
   "id": "valuable-salem",
   "metadata": {},
   "outputs": [],
   "source": [
    "elapsed_time, rep_statistics, mean_statistics = evaluateModel(T, kappa, lambd, alpha, omega, gamma, num_repetitions = num_reps)"
   ]
  },
  {
   "cell_type": "markdown",
   "id": "funky-foster",
   "metadata": {},
   "source": [
    "__TO DOs:__\n",
    "\n",
    "- Faça um plot para visualizar o vetor de pesos / as "
   ]
  },
  {
   "cell_type": "code",
   "execution_count": null,
   "id": "advised-window",
   "metadata": {},
   "outputs": [],
   "source": []
  }
 ],
 "metadata": {
  "kernelspec": {
   "display_name": "Python 3",
   "language": "python",
   "name": "python3"
  },
  "language_info": {
   "codemirror_mode": {
    "name": "ipython",
    "version": 3
   },
   "file_extension": ".py",
   "mimetype": "text/x-python",
   "name": "python",
   "nbconvert_exporter": "python",
   "pygments_lexer": "ipython3",
   "version": "3.8.5"
  }
 },
 "nbformat": 4,
 "nbformat_minor": 5
}
