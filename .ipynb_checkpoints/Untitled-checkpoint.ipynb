{
 "cells": [
  {
   "cell_type": "code",
   "execution_count": 7,
   "id": "4de3aa34",
   "metadata": {},
   "outputs": [],
   "source": [
    "from scripts.Model import initialize_model, evaluateModel\n",
    "import matplotlib.pyplot as plt"
   ]
  },
  {
   "cell_type": "code",
   "execution_count": 3,
   "id": "d022e53f",
   "metadata": {},
   "outputs": [],
   "source": [
    "params = {\n",
    "    \"graph_type\": \"barabasi\",\n",
    "    \"network_size\": 500,\n",
    "    \"memory_size\": 160,\n",
    "    \"code_length\": 5,\n",
    "    \"kappa\": 30,\n",
    "    \"lambd\": 0,\n",
    "    \"alpha\": 0.2,\n",
    "    \"omega\": 0,\n",
    "    \"gamma\": 1,\n",
    "    \"prefferential_att\": 2,\n",
    "    \"polarization_grouping_type\": 1,\n",
    "    \"seed\": 42\n",
    "}\n",
    "\n",
    "model = initialize_model(**params)"
   ]
  },
  {
   "cell_type": "code",
   "execution_count": 4,
   "id": "5c43dfb0",
   "metadata": {},
   "outputs": [
    {
     "name": "stdout",
     "output_type": "stream",
     "text": [
      "Model evaluation started.\n",
      "Number of repetitions = 5\n",
      "Repetition 1/5\n",
      "Finished repetition 1/5. Elapsed time: 3.46 minutes\n",
      "Repetition 2/5\n",
      "Finished repetition 2/5. Elapsed time: 3.66 minutes\n",
      "Repetition 3/5\n",
      "Finished repetition 3/5. Elapsed time: 3.82 minutes\n",
      "Repetition 4/5\n",
      "Finished repetition 4/5. Elapsed time: 4.48 minutes\n",
      "Repetition 5/5\n",
      "Finished repetition 5/5. Elapsed time: 3.96 minutes\n"
     ]
    }
   ],
   "source": [
    "elapsed_time, statistic_handler = evaluateModel(model, T = 500, num_repetitions = 5, last_run = 0, verbose = True, save_runs = False)"
   ]
  },
  {
   "cell_type": "code",
   "execution_count": 6,
   "id": "d94a849e",
   "metadata": {},
   "outputs": [],
   "source": [
    "stats = statistic_handler.get_rep_mean()"
   ]
  },
  {
   "cell_type": "code",
   "execution_count": 9,
   "id": "62328a0d",
   "metadata": {},
   "outputs": [
    {
     "data": {
      "text/plain": [
       "[<matplotlib.lines.Line2D at 0x7fa949df86a0>]"
      ]
     },
     "execution_count": 9,
     "metadata": {},
     "output_type": "execute_result"
    },
    {
     "data": {
      "image/png": "[encoded data removed]",
      "text/plain": [
       "<Figure size 432x288 with 1 Axes>"
      ]
     },
     "metadata": {
      "needs_background": "light"
     },
     "output_type": "display_data"
    }
   ],
   "source": [
    "fig, axs = plt.subplots()\n",
    "X = range(len(stats['Entropy']))\n",
    "Y = stats['Entropy']\n",
    "axs.plot(X, Y)"
   ]
  },
  {
   "cell_type": "code",
   "execution_count": null,
   "id": "26d61342",
   "metadata": {},
   "outputs": [],
   "source": []
  }
 ],
 "metadata": {
  "kernelspec": {
   "display_name": "Python 3.9.7 ('base')",
   "language": "python",
   "name": "python3"
  },
  "language_info": {
   "codemirror_mode": {
    "name": "ipython",
    "version": 3
   },
   "file_extension": ".py",
   "mimetype": "text/x-python",
   "name": "python",
   "nbconvert_exporter": "python",
   "pygments_lexer": "ipython3",
   "version": "3.9.7"
  },
  "vscode": {
   "interpreter": {
    "hash": "b1146f09590d57c0ffe6b7969f117f90fd123f00364ddcbfa67a5a24202c3fe9"
   }
  }
 },
 "nbformat": 4,
 "nbformat_minor": 5
}
