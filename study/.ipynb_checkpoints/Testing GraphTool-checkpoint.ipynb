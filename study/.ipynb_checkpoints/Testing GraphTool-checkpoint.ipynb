{
 "cells": [
  {
   "cell_type": "code",
   "execution_count": 1,
   "id": "8c2d0fdd-73fe-4b35-b245-3a0cbf67bbfa",
   "metadata": {},
   "outputs": [],
   "source": [
    "import graph_tool as gt"
   ]
  },
  {
   "cell_type": "code",
   "execution_count": 73,
   "id": "76e7e7a6-be2f-4aee-b1d2-c5410454acfa",
   "metadata": {},
   "outputs": [],
   "source": [
    "from Scripts.Individual import Individual\n",
    "import numpy as np\n",
    "from random import sample"
   ]
  },
  {
   "cell_type": "code",
   "execution_count": 2,
   "id": "f86c1a21-358d-4d1f-a165-b427f6459a8b",
   "metadata": {},
   "outputs": [],
   "source": [
    "from graph_tool.generation import price_network"
   ]
  },
  {
   "cell_type": "code",
   "execution_count": 3,
   "id": "da2125f2-e8c7-49db-9a7e-38dda2dcca1d",
   "metadata": {},
   "outputs": [],
   "source": [
    "G = price_network(N = 500, gamma = 2, directed = False)"
   ]
  },
  {
   "cell_type": "code",
   "execution_count": 12,
   "id": "54137353-f2b8-4dba-ad66-09c602ef61de",
   "metadata": {},
   "outputs": [
    {
     "data": {
      "text/plain": [
       "499"
      ]
     },
     "execution_count": 12,
     "metadata": {},
     "output_type": "execute_result"
    }
   ],
   "source": [
    "G.num_edges()"
   ]
  },
  {
   "cell_type": "markdown",
   "id": "72bdedcc-23cc-4e8a-a785-88e02f0c1c5f",
   "metadata": {},
   "source": [
    "__Attributing an \"Individual\" object to a vertex.__"
   ]
  },
  {
   "cell_type": "code",
   "execution_count": 70,
   "id": "459f6494-9876-42fb-9966-23e4cb44408d",
   "metadata": {},
   "outputs": [],
   "source": [
    "ind_vertex_property = G.new_vertex_property(\"short\")\n",
    "vertex = G.vertex(10)\n",
    "ind_vertex_property[vertex] = -1"
   ]
  },
  {
   "cell_type": "code",
   "execution_count": 71,
   "id": "9ff1dbf7-83e5-411d-ba59-459be8844903",
   "metadata": {},
   "outputs": [
    {
     "data": {
      "text/plain": [
       "-1"
      ]
     },
     "execution_count": 71,
     "metadata": {},
     "output_type": "execute_result"
    }
   ],
   "source": [
    "ind_vertex_property[vertex]"
   ]
  },
  {
   "cell_type": "code",
   "execution_count": 78,
   "id": "8437b638-b816-4b2d-b381-070279c717ab",
   "metadata": {},
   "outputs": [],
   "source": [
    "N = 500\n",
    "alpha = 0.1\n",
    "omega = 0.2\n",
    "indices = np.asarray(sample(list(range(N)), k = N))\n",
    "positive_tendency = indices[:int(alpha*N)]\n",
    "negative_tendency = indices[int(alpha*N):int(alpha*N) + int(omega*N)]\n",
    "neutral_tendency  = indices[int(alpha*N) + int(omega*N):]\n",
    "\n",
    "vertices = np.zeros(N)\n",
    "vertices[positive_tendency] = 1\n",
    "vertices[negative_tendency] = -1\n",
    "vertices[neutral_tendency]  = 0\n",
    "\n",
    "ind_vertex_property.a = vertices"
   ]
  },
  {
   "cell_type": "code",
   "execution_count": 81,
   "id": "de3312e9-83f3-4bd8-8fef-4aa7dbf5c0b6",
   "metadata": {},
   "outputs": [
    {
     "data": {
      "text/plain": [
       "0"
      ]
     },
     "execution_count": 81,
     "metadata": {},
     "output_type": "execute_result"
    }
   ],
   "source": [
    "ind_vertex_property[15]"
   ]
  },
  {
   "cell_type": "code",
   "execution_count": null,
   "id": "09492283-7a16-4ad1-a2b6-5ee7ae4f6eb9",
   "metadata": {},
   "outputs": [],
   "source": []
  }
 ],
 "metadata": {
  "kernelspec": {
   "display_name": "Python 3 (ipykernel)",
   "language": "python",
   "name": "python3"
  },
  "language_info": {
   "codemirror_mode": {
    "name": "ipython",
    "version": 3
   },
   "file_extension": ".py",
   "mimetype": "text/x-python",
   "name": "python",
   "nbconvert_exporter": "python",
   "pygments_lexer": "ipython3",
   "version": "3.9.6"
  }
 },
 "nbformat": 4,
 "nbformat_minor": 5
}
