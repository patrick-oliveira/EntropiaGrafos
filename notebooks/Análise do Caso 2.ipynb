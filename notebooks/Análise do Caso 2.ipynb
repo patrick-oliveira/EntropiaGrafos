{
 "cells": [
  {
   "cell_type": "code",
   "execution_count": 3,
   "id": "f5f13525",
   "metadata": {},
   "outputs": [],
   "source": [
    "%load_ext autoreload\n",
    "%autoreload 2"
   ]
  },
  {
   "cell_type": "code",
   "execution_count": 19,
   "id": "99d54faf",
   "metadata": {},
   "outputs": [],
   "source": [
    "import matplotlib.pyplot as plt\n",
    "import numpy as np\n",
    "import sys\n",
    "import pickle\n",
    "import os \n",
    "\n",
    "sys.path.append(\"..\")\n",
    "\n",
    "from opdynamics.utils.reading_tools import (parse_experiment_params,\n",
    "                                            make_tuple,\n",
    "                                            count_experiment_runs,\n",
    "                                            get_runs_paths)\n",
    "from opdynamics.utils.results_tools import get_experiment_mean_data\n",
    "from opdynamics.utils.plotting.formatting import (classical_structure,\n",
    "                                                  format_text)"
   ]
  },
  {
   "cell_type": "code",
   "execution_count": 5,
   "id": "d022e53f",
   "metadata": {},
   "outputs": [],
   "source": [
    "params = parse_experiment_params(\"../experiments_params/case_2.json\")"
   ]
  },
  {
   "cell_type": "markdown",
   "id": "3fb08f7e-22cf-40c5-9122-57452969dcb8",
   "metadata": {},
   "source": [
    "***"
   ]
  }
 ],
 "metadata": {
  "kernelspec": {
   "display_name": "entropia_grafos",
   "language": "python",
   "name": "python3"
  },
  "language_info": {
   "codemirror_mode": {
    "name": "ipython",
    "version": 3
   },
   "file_extension": ".py",
   "mimetype": "text/x-python",
   "name": "python",
   "nbconvert_exporter": "python",
   "pygments_lexer": "ipython3",
   "version": "3.11.3"
  },
  "vscode": {
   "interpreter": {
    "hash": "21b13e4e35ea373a5258902cd6cad686858d47d12519167a1ed518f86183aafc"
   }
  }
 },
 "nbformat": 4,
 "nbformat_minor": 5
}
