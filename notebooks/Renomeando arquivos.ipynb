{
 "cells": [
  {
   "cell_type": "code",
   "execution_count": 1,
   "metadata": {},
   "outputs": [],
   "source": [
    "import os\n",
    "import sys\n",
    "sys.path.append(\"..\")"
   ]
  },
  {
   "cell_type": "code",
   "execution_count": 2,
   "metadata": {},
   "outputs": [],
   "source": [
    "from itertools import product\n",
    "from opdynamics.utils.tools import make_dict, validate_params, param_to_hash"
   ]
  },
  {
   "cell_type": "code",
   "execution_count": 3,
   "metadata": {},
   "outputs": [],
   "source": [
    "param_list = {\n",
    "    \"graph_type\": [\"barabasi\"],\n",
    "    \"network_size\": [500],\n",
    "    \"memory_size\": [256],\n",
    "    \"code_length\": [5],\n",
    "    \"kappa\": [0, 15, 30],\n",
    "    \"lambd\": [0, 0.3, 1],\n",
    "    \"alpha\": [1, 0.6, 0.2],\n",
    "    \"omega\": [0],\n",
    "    \"gamma\": [-1, 0, 1],\n",
    "    \"preferential_attachment\": [2],\n",
    "    \"polarization_grouping_type\": [0],  \n",
    "    \"T\": [500],\n",
    "    \"num_repetitions\": [200],\n",
    "    \"early_stop\": [True],\n",
    "    \"epsilon\": [1e-8],\n",
    "    \"results_path\": [\"results/case_2/\"]\n",
    "}\n",
    "\n",
    "experiments_path = \"../results/case_2\""
   ]
  },
  {
   "cell_type": "code",
   "execution_count": 4,
   "metadata": {},
   "outputs": [],
   "source": [
    "params_long  = list(product(*param_list.values()))\n",
    "params_long  = [x for x in params_long if validate_params(make_dict(x))]"
   ]
  },
  {
   "cell_type": "code",
   "execution_count": 6,
   "metadata": {},
   "outputs": [],
   "source": [
    "o = []\n",
    "\n",
    "for p in params_long:\n",
    "    h = param_to_hash(p)\n",
    "    path = f\"../results/case_2/{h}\"\n",
    "    if os.path.exists(path):\n",
    "        o.append((p[:-5], path))\n",
    "    else:\n",
    "        print(f\"Erro: {p}\")"
   ]
  },
  {
   "cell_type": "code",
   "execution_count": 13,
   "metadata": {},
   "outputs": [],
   "source": [
    "param_list = {\n",
    "    \"graph_type\": [\"barabasi\"],\n",
    "    \"network_size\": [500],\n",
    "    \"memory_size\": [256],\n",
    "    \"code_length\": [5],\n",
    "    \"kappa\": [0, 15, 30],\n",
    "    \"lambd\": [0, 0.3, 1],\n",
    "    \"alpha\": [0.8, 0.6, 0.5],\n",
    "    \"omega\": [0.5, 0.4, 0.2],\n",
    "    \"gamma\": [-1, 0, 1],\n",
    "    \"preferential_attachment\": [2],\n",
    "    \"polarization_type\": [0],\n",
    "    \"T\": [500],\n",
    "    \"num_repetitions\": [200],\n",
    "    \"early_stop\": [True],\n",
    "    \"epsilon\": [0.00000001],\n",
    "    \"results_path\": [\"results/case_3/\"]\n",
    "}\n",
    "\n",
    "experiments_path = \"../results/case_3\""
   ]
  },
  {
   "cell_type": "code",
   "execution_count": 14,
   "metadata": {},
   "outputs": [],
   "source": [
    "params_long  = list(product(*param_list.values()))\n",
    "params_long  = [x for x in params_long if validate_params(make_dict(x))]"
   ]
  },
  {
   "cell_type": "code",
   "execution_count": 15,
   "metadata": {},
   "outputs": [],
   "source": [
    "o = []\n",
    "\n",
    "for p in params_long:\n",
    "    h = param_to_hash(p)\n",
    "    path = f\"../results/case_3/{h}\"\n",
    "    if os.path.exists(path):\n",
    "        o.append((p[:-5], path))\n",
    "    else:\n",
    "        print(f\"Erro: {p}\")"
   ]
  },
  {
   "cell_type": "code",
   "execution_count": 18,
   "metadata": {},
   "outputs": [],
   "source": [
    "for p, path in o:\n",
    "    new_h = param_to_hash(p)\n",
    "    new_path = f\"../results/case_3/{new_h}\"\n",
    "    os.rename(path, new_path)"
   ]
  },
  {
   "cell_type": "code",
   "execution_count": 1,
   "metadata": {},
   "outputs": [],
   "source": [
    "import os"
   ]
  },
  {
   "cell_type": "code",
   "execution_count": 2,
   "metadata": {},
   "outputs": [],
   "source": [
    "def get_last_run(experiment_path: str):\n",
    "    files = os.listdir(experiment_path)\n",
    "    last_run = max([int(f.split(\"_\")[1]) for f in files if \"run\" in f and \"pkl\" in f])\n",
    "    return last_run"
   ]
  },
  {
   "cell_type": "code",
   "execution_count": 3,
   "metadata": {},
   "outputs": [],
   "source": [
    "def reset_runs(results_path: str):\n",
    "    folders = os.listdir(results_path)\n",
    "    files = [f\"{results_path}/{x}/last_run.txt\" for x in folders]\n",
    "    for f in files:\n",
    "        with open(f, \"r+\") as g:\n",
    "            x = int(g.read())\n",
    "            if x != 299:\n",
    "                last_run = get_last_run(os.path.dirname(f))\n",
    "                g.seek(0)\n",
    "                g.write(str(last_run))\n",
    "                g.truncate()"
   ]
  },
  {
   "cell_type": "code",
   "execution_count": 7,
   "metadata": {},
   "outputs": [],
   "source": [
    "reset_runs(\"../results/case_1\")"
   ]
  },
  {
   "cell_type": "code",
   "execution_count": null,
   "metadata": {},
   "outputs": [],
   "source": []
  }
 ],
 "metadata": {
  "kernelspec": {
   "display_name": "entropia_grafos",
   "language": "python",
   "name": "python3"
  },
  "language_info": {
   "codemirror_mode": {
    "name": "ipython",
    "version": 3
   },
   "file_extension": ".py",
   "mimetype": "text/x-python",
   "name": "python",
   "nbconvert_exporter": "python",
   "pygments_lexer": "ipython3",
   "version": "3.11.3"
  },
  "orig_nbformat": 4,
  "vscode": {
   "interpreter": {
    "hash": "21b13e4e35ea373a5258902cd6cad686858d47d12519167a1ed518f86183aafc"
   }
  }
 },
 "nbformat": 4,
 "nbformat_minor": 2
}
