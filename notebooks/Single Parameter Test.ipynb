{
 "cells": [
  {
   "cell_type": "code",
   "execution_count": 1,
   "metadata": {},
   "outputs": [],
   "source": [
    "%load_ext autoreload \n",
    "%autoreload 2"
   ]
  },
  {
   "cell_type": "code",
   "execution_count": 2,
   "metadata": {},
   "outputs": [],
   "source": [
    "import sys\n",
    "import matplotlib.pyplot as plt\n",
    "import numpy as np\n",
    "sys.path.append(\"../\")\n",
    "\n",
    "from opdynamics.utils.results_tools import get_experiment_mean_data\n",
    "from opdynamics.utils.reading_tools import make_tuple\n",
    "from opdynamics.utils.plotting.formatting import (classical_structure,\n",
    "                                                  format_text)"
   ]
  },
  {
   "cell_type": "code",
   "execution_count": 19,
   "metadata": {},
   "outputs": [],
   "source": [
    "params = [\n",
    "    {\n",
    "        \"graph_type\": \"barabasi\",\n",
    "        \"network_size\": 500,\n",
    "        \"memory_size\": 256,\n",
    "        \"code_length\": 5,\n",
    "        \"kappa\": 15.0,\n",
    "        \"lambd\": 0.0,\n",
    "        \"alpha\": 0.0,\n",
    "        \"omega\": 0.0,\n",
    "        \"gamma\": 0.0,\n",
    "        \"preferential_attachment\": 2,\n",
    "        \"polarization_type\": 0\n",
    "    },\n",
    "    {\n",
    "        \"graph_type\": \"barabasi\",\n",
    "        \"network_size\": 500,\n",
    "        \"memory_size\": 256,\n",
    "        \"code_length\": 5,\n",
    "        \"kappa\": 0.0,\n",
    "        \"lambd\": 0.0,\n",
    "        \"alpha\": 0.0,\n",
    "        \"omega\": 0.0,\n",
    "        \"gamma\": 0.0,\n",
    "        \"preferential_attachment\": 2,\n",
    "        \"polarization_type\": 0\n",
    "    }\n",
    "]"
   ]
  },
  {
   "cell_type": "code",
   "execution_count": 20,
   "metadata": {},
   "outputs": [],
   "source": [
    "results = get_experiment_mean_data(\n",
    "    params,\n",
    "    \"../results/single_model_test_from_list/\"\n",
    ")"
   ]
  },
  {
   "cell_type": "code",
   "execution_count": 21,
   "metadata": {},
   "outputs": [
    {
     "name": "stderr",
     "output_type": "stream",
     "text": [
      "No artists with labels found to put in legend.  Note that artists whose label start with an underscore are ignored when legend() is called with no argument.\n"
     ]
    },
    {
     "data": {
      "text/plain": [
       "<matplotlib.legend.Legend at 0x7efe6597db10>"
      ]
     },
     "execution_count": 21,
     "metadata": {},
     "output_type": "execute_result"
    },
    {
     "data": {
      "image/png": "[encoded data removed]",
      "text/plain": [
       "<Figure size 500x500 with 1 Axes>"
      ]
     },
     "metadata": {},
     "output_type": "display_data"
    }
   ],
   "source": [
    "# parameters \n",
    "\n",
    "nrows = 1\n",
    "ncols = 1\n",
    "\n",
    "titles = [rf\"$\\gamma = {k}$\" for k in [0]]\n",
    "title_size = 15\n",
    "single_ylabel = True\n",
    "position_ylabel = \"left\"\n",
    "ylabel = r\"Mean Global Entropy $\\overline{H}$\"\n",
    "ylabel_fontsize = 15\n",
    "xlabel_bottom_only = True\n",
    "xlabel = r\"Iteration $T$\"\n",
    "xlabel_fontsize = 15\n",
    "axis_width = 1.08\n",
    "tick_pad = 8\n",
    "tick_label_size = 17\n",
    "num_x_ticks = 3\n",
    "num_y_ticks= 3\n",
    "\n",
    "\n",
    "fig, axs = plt.subplots(nrows = nrows, ncols = ncols, figsize = (5*ncols, 5*nrows))\n",
    "\n",
    "fig, axs = classical_structure(\n",
    "    fig,\n",
    "    axs,\n",
    "    axis_width,\n",
    "    tick_pad,\n",
    "    tick_label_size,\n",
    "    num_x_ticks,\n",
    "    num_y_ticks\n",
    ")\n",
    "        \n",
    "# Text\n",
    "fig, axs = format_text(\n",
    "    fig,\n",
    "    axs,\n",
    "    titles,\n",
    "    title_size,\n",
    "    single_ylabel,\n",
    "    position_ylabel,\n",
    "    ylabel,\n",
    "    ylabel_fontsize,\n",
    "    xlabel_bottom_only,\n",
    "    xlabel,\n",
    "    xlabel_fontsize\n",
    ")\n",
    "    \n",
    "# plot\n",
    "line_width = 2\n",
    "\n",
    "measure = 'entropy'\n",
    "\n",
    "kappa_color = {\n",
    "    0.0: \"#2e2b28\",\n",
    "    15.0: \"#6b506b\",\n",
    "    30.0: \"#b04238\"\n",
    "}\n",
    "\n",
    "X = np.arange(1, 500 + 1)\n",
    "    \n",
    "axs[0].plot(X, results[make_tuple(params[0])][measure], c = kappa_color[params[0]['kappa']], linewidth = line_width)\n",
    "axs[0].plot(X, results[make_tuple(params[1])][measure], c = kappa_color[params[1]['kappa']], linewidth = line_width)\n",
    "    \n",
    "axs[0].legend(loc = 'upper right', fontsize = 15, bbox_to_anchor = (1, 0.95))"
   ]
  },
  {
   "cell_type": "code",
   "execution_count": null,
   "metadata": {},
   "outputs": [],
   "source": [
    "from "
   ]
  }
 ],
 "metadata": {
  "kernelspec": {
   "display_name": "entropia_grafos",
   "language": "python",
   "name": "python3"
  },
  "language_info": {
   "codemirror_mode": {
    "name": "ipython",
    "version": 3
   },
   "file_extension": ".py",
   "mimetype": "text/x-python",
   "name": "python",
   "nbconvert_exporter": "python",
   "pygments_lexer": "ipython3",
   "version": "3.11.3"
  }
 },
 "nbformat": 4,
 "nbformat_minor": 2
}
