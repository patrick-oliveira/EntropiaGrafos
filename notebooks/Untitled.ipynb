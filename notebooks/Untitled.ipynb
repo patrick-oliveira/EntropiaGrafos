{
 "cells": [
  {
   "cell_type": "markdown",
   "id": "70a20834-8828-44fd-8f63-6439ff1a9149",
   "metadata": {},
   "source": [
    "Sem polarização.\n",
    "\n",
    "\\begin{equation*}\n",
    "  \\begin{split}\n",
    "    P(y = 0 | x = 0) &= 1 - \\delta_{u}; \\\\\n",
    "    P(y = 1 | x = 0) &= \\delta_{u}; \\\\\n",
    "    P(y = 0 | x = 1) &= \\delta_{u}; \\\\\n",
    "    P(y = 1 | x = 1) &= 1 - \\delta_{u}.\n",
    "  \\end{split}\n",
    "\\end{equation*}\n",
    "\n",
    "Com polarização\n",
    "\n",
    "\n",
    "\\begin{equation*}\n",
    "  \\begin{split}\n",
    "    P(y = 0 | x = 0) &= 1 - \\delta_{u} - \\xi_u; \\\\\n",
    "    P(y = 1 | x = 0) &= \\delta_{u} + \\xi_u; \\\\\n",
    "    P(y = 0 | x = 1) &= \\delta_{u}; \\\\\n",
    "    P(y = 1 | x = 1) &= 1 - \\delta_{u}.\n",
    "  \\end{split}\n",
    "\\end{equation*}\n"
   ]
  },
  {
   "cell_type": "code",
   "execution_count": null,
   "id": "c644efb6-210f-48eb-82a3-6aed2a8c448b",
   "metadata": {},
   "outputs": [],
   "source": []
  },
  {
   "cell_type": "code",
   "execution_count": null,
   "id": "578fc8b7-103e-4292-a788-62a231d2aeed",
   "metadata": {},
   "outputs": [],
   "source": []
  }
 ],
 "metadata": {
  "kernelspec": {
   "display_name": "Python 3 (ipykernel)",
   "language": "python",
   "name": "python3"
  },
  "language_info": {
   "codemirror_mode": {
    "name": "ipython",
    "version": 3
   },
   "file_extension": ".py",
   "mimetype": "text/x-python",
   "name": "python",
   "nbconvert_exporter": "python",
   "pygments_lexer": "ipython3",
   "version": "3.9.7"
  }
 },
 "nbformat": 4,
 "nbformat_minor": 5
}
