{
 "cells": [
  {
   "cell_type": "code",
   "execution_count": 1,
   "id": "99d54faf",
   "metadata": {},
   "outputs": [],
   "source": [
    "import sys\n",
    "sys.path.append(\"..\")\n",
    "\n",
    "from opdynamics.simulation.simulation import initialize_model\n",
    "from opdynamics.utils.model_modification import modify_model"
   ]
  },
  {
   "cell_type": "code",
   "execution_count": 2,
   "id": "d022e53f",
   "metadata": {},
   "outputs": [
    {
     "name": "stdout",
     "output_type": "stream",
     "text": [
      "{}\n"
     ]
    }
   ],
   "source": [
    "params = {\n",
    "    \"graph_type\": \"barabasi\",\n",
    "    \"network_size\": 500,\n",
    "    \"memory_size\": 160,\n",
    "    \"code_length\": 5,\n",
    "    \"kappa\": 30,\n",
    "    \"lambd\": 0,\n",
    "    \"alpha\": 0,\n",
    "    \"omega\": 0, \n",
    "    \"gamma\": 1,\n",
    "    \"preferential_attachment\": 2,\n",
    "    \"polarization_grouping_type\": 1,\n",
    "    \"T\": 500,\n",
    "    \"num_repetitions\": 50,\n",
    "    \"results_path\": \"results\"\n",
    "}\n",
    "\n",
    "model = initialize_model(**params)\n",
    "# model = modify_model(model)"
   ]
  },
  {
   "cell_type": "code",
   "execution_count": 15,
   "id": "a9fae45d",
   "metadata": {},
   "outputs": [],
   "source": [
    "from opdynamics.utils.types import Parameters\n",
    "import hashlib\n",
    "\n",
    "def param_to_hash(params: Parameters) -> str:\n",
    "    param_tuple = tuple(params.values())\n",
    "    string = str(param_tuple).encode(\"utf-8\")\n",
    "    print(string)\n",
    "    return str(hashlib.sha256(string).hexdigest())"
   ]
  },
  {
   "cell_type": "code",
   "execution_count": 16,
   "id": "006e9070",
   "metadata": {},
   "outputs": [
    {
     "name": "stdout",
     "output_type": "stream",
     "text": [
      "b\"('barabasi', 500, 160, 5, 30, 0, 0, 0, 1, 2, 1, 500, 50, 'results')\"\n"
     ]
    },
    {
     "data": {
      "text/plain": [
       "'a0cb6806b530ba4cee4bdd93835952e2abcd09e0ea0285e2cbf2c92d2fccc79a'"
      ]
     },
     "execution_count": 16,
     "metadata": {},
     "output_type": "execute_result"
    }
   ],
   "source": [
    "param_to_hash(params)"
   ]
  },
  {
   "cell_type": "code",
   "execution_count": 31,
   "id": "52e4065e",
   "metadata": {},
   "outputs": [
    {
     "ename": "AttributeError",
     "evalue": "'int' object has no attribute 'close'",
     "output_type": "error",
     "traceback": [
      "\u001b[0;31m---------------------------------------------------------------------------\u001b[0m",
      "\u001b[0;31mAttributeError\u001b[0m                            Traceback (most recent call last)",
      "\u001b[0;32m/tmp/ipykernel_100059/410599944.py\u001b[0m in \u001b[0;36m<module>\u001b[0;34m\u001b[0m\n\u001b[0;32m----> 1\u001b[0;31m \u001b[0mopen\u001b[0m\u001b[0;34m(\u001b[0m\u001b[0;34m\"results/last_run.txt\"\u001b[0m\u001b[0;34m,\u001b[0m \u001b[0;34m\"w\"\u001b[0m\u001b[0;34m)\u001b[0m\u001b[0;34m.\u001b[0m\u001b[0mwrite\u001b[0m\u001b[0;34m(\u001b[0m\u001b[0;34m\"0\"\u001b[0m\u001b[0;34m)\u001b[0m\u001b[0;34m.\u001b[0m\u001b[0mclose\u001b[0m\u001b[0;34m(\u001b[0m\u001b[0;34m)\u001b[0m\u001b[0;34m\u001b[0m\u001b[0;34m\u001b[0m\u001b[0m\n\u001b[0m",
      "\u001b[0;31mAttributeError\u001b[0m: 'int' object has no attribute 'close'"
     ]
    }
   ],
   "source": [
    "f = open(\"results/last_run.txt\", \"w\")\n",
    "f.write(\"0\")\n",
    "f.close()"
   ]
  },
  {
   "cell_type": "code",
   "execution_count": 30,
   "id": "74263aaa",
   "metadata": {},
   "outputs": [
    {
     "data": {
      "text/plain": [
       "0"
      ]
     },
     "execution_count": 30,
     "metadata": {},
     "output_type": "execute_result"
    }
   ],
   "source": [
    "f = open(\"results/last_run.txt\", \"r\")\n",
    "int(f.read())"
   ]
  },
  {
   "cell_type": "code",
   "execution_count": null,
   "id": "b618d88c",
   "metadata": {},
   "outputs": [],
   "source": []
  }
 ],
 "metadata": {
  "kernelspec": {
   "display_name": "Python 3 (ipykernel)",
   "language": "python",
   "name": "python3"
  },
  "language_info": {
   "codemirror_mode": {
    "name": "ipython",
    "version": 3
   },
   "file_extension": ".py",
   "mimetype": "text/x-python",
   "name": "python",
   "nbconvert_exporter": "python",
   "pygments_lexer": "ipython3",
   "version": "3.9.7"
  },
  "vscode": {
   "interpreter": {
    "hash": "b1146f09590d57c0ffe6b7969f117f90fd123f00364ddcbfa67a5a24202c3fe9"
   }
  }
 },
 "nbformat": 4,
 "nbformat_minor": 5
}
