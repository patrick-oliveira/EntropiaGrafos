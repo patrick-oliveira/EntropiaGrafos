{
 "cells": [
  {
   "cell_type": "code",
   "execution_count": 1,
   "id": "broken-terminal",
   "metadata": {},
   "outputs": [],
   "source": [
    "%load_ext autoreload\n",
    "%autoreload 2"
   ]
  },
  {
   "cell_type": "code",
   "execution_count": 2,
   "id": "powerful-kingdom",
   "metadata": {},
   "outputs": [],
   "source": [
    "from Scripts.Memory import *\n",
    "from Scripts.Entropy import *\n",
    "from Scripts.ModelDynamics import *\n",
    "from Scripts.Parameters import memory_size, code_length\n",
    "import matplotlib.pyplot as plt\n",
    "from Plotting import simplePlot"
   ]
  },
  {
   "cell_type": "code",
   "execution_count": 3,
   "id": "productive-reader",
   "metadata": {},
   "outputs": [],
   "source": [
    "import numpy as np"
   ]
  },
  {
   "cell_type": "code",
   "execution_count": 5,
   "id": "formal-civilization",
   "metadata": {},
   "outputs": [],
   "source": [
    "A = np.random.randn(50, 150)"
   ]
  },
  {
   "cell_type": "code",
   "execution_count": 8,
   "id": "backed-convenience",
   "metadata": {},
   "outputs": [
    {
     "data": {
      "text/plain": [
       "(50,)"
      ]
     },
     "execution_count": 8,
     "metadata": {},
     "output_type": "execute_result"
    }
   ],
   "source": [
    "A.mean(axis = 1).shape"
   ]
  },
  {
   "cell_type": "markdown",
   "id": "humanitarian-bulgarian",
   "metadata": {},
   "source": [
    "***"
   ]
  },
  {
   "cell_type": "markdown",
   "id": "computational-customs",
   "metadata": {},
   "source": [
    "__Testando a criação de memórias.__"
   ]
  },
  {
   "cell_type": "code",
   "execution_count": 3,
   "id": "light-product",
   "metadata": {},
   "outputs": [],
   "source": [
    "code_length = 5"
   ]
  },
  {
   "cell_type": "code",
   "execution_count": 4,
   "id": "worthy-stage",
   "metadata": {},
   "outputs": [],
   "source": [
    "powers_of_two = 2**np.arange(code_length)[::-1]"
   ]
  },
  {
   "cell_type": "code",
   "execution_count": 10,
   "id": "ahead-generation",
   "metadata": {},
   "outputs": [],
   "source": [
    "memory = initialize_memory()\n",
    "lista_codigos, polaridades = memory"
   ]
  },
  {
   "cell_type": "code",
   "execution_count": 11,
   "id": "genuine-engineering",
   "metadata": {},
   "outputs": [
    {
     "data": {
      "text/plain": [
       "array([[0, 1, 1, 1, 1],\n",
       "       [1, 0, 0, 1, 0],\n",
       "       [0, 1, 1, 1, 0],\n",
       "       [0, 1, 1, 0, 0],\n",
       "       [0, 1, 1, 1, 0]])"
      ]
     },
     "execution_count": 11,
     "metadata": {},
     "output_type": "execute_result"
    }
   ],
   "source": [
    "lista_codigos[:5]"
   ]
  },
  {
   "cell_type": "code",
   "execution_count": 17,
   "id": "wooden-republic",
   "metadata": {},
   "outputs": [
    {
     "data": {
      "text/plain": [
       "array([[1, 0, 0, 0, 0],\n",
       "       [0, 1, 1, 1, 1],\n",
       "       [1, 0, 0, 1, 0],\n",
       "       ...,\n",
       "       [0, 1, 1, 0, 0],\n",
       "       [0, 1, 1, 0, 1],\n",
       "       [1, 0, 0, 0, 0]])"
      ]
     },
     "execution_count": 17,
     "metadata": {},
     "output_type": "execute_result"
    }
   ],
   "source": [
    "lista_codigos"
   ]
  },
  {
   "cell_type": "code",
   "execution_count": 31,
   "id": "political-presentation",
   "metadata": {},
   "outputs": [
    {
     "data": {
      "text/plain": [
       "array([16, 15, 18, 14, 16, 12, 11, 21, 19, 17, 15, 13, 13, 14, 16, 18, 17,\n",
       "       14, 21, 18, 16, 17, 15, 14, 15, 18, 10, 13, 11, 11, 19, 18, 16, 12,\n",
       "       16, 16, 13, 16, 15, 17, 17, 11, 15, 17, 16, 19, 17, 13, 12, 17, 11,\n",
       "       17, 20, 17, 15, 17, 16, 16, 20, 15, 21, 20, 14, 12, 12, 10, 12, 17,\n",
       "       12, 15, 19, 10, 19, 14, 13, 17, 17, 19, 18, 18, 14, 13, 18, 18, 23,\n",
       "       15, 15, 18, 15, 20, 19, 15, 18, 18, 12, 20, 16, 19, 15, 20, 15, 10,\n",
       "       20, 12, 15, 21, 21, 17, 17, 16, 14, 15, 17, 18, 18, 18, 12, 16, 12,\n",
       "       16, 16, 19, 15, 13, 13, 18, 17, 12, 12, 17, 12, 19, 18, 12, 12, 22,\n",
       "       15, 15, 19, 21, 22, 18, 15, 12, 18, 16, 15, 20, 13, 16, 10, 16, 12,\n",
       "       13, 13, 17, 18, 17, 21, 15, 14, 19, 14, 21, 10, 21, 11, 19, 16, 23,\n",
       "       12, 16, 21, 16, 17, 17, 16, 17, 17, 20, 11, 14, 21, 19, 16, 17, 14,\n",
       "       13, 16, 15, 17, 12, 21, 22, 17, 16, 15, 19, 17, 13, 20, 19, 21, 18,\n",
       "       17, 15, 20, 19, 11, 11, 15, 18, 22, 13, 17, 15, 21, 19, 19, 16, 15,\n",
       "       14, 12, 19, 19, 25, 24, 16, 18, 20, 19, 14, 16, 13, 21, 17, 14, 17,\n",
       "       17, 15, 13, 17, 16, 18, 16, 19, 16, 16, 19, 15, 13, 11, 18, 17, 18,\n",
       "       14, 13, 10, 15, 17, 15, 16, 20, 15, 16, 18, 15, 17, 19, 21, 13, 20,\n",
       "       16, 14, 16, 22, 16, 15, 17, 14, 12, 13, 13, 13, 13, 17, 13, 15, 20,\n",
       "       16, 17, 13, 14, 11, 13, 14, 13, 12, 13, 16])"
      ]
     },
     "execution_count": 31,
     "metadata": {},
     "output_type": "execute_result"
    }
   ],
   "source": [
    "integers = np.matmul(lista_codigos, powers_of_two)\n",
    "integers"
   ]
  },
  {
   "cell_type": "code",
   "execution_count": 44,
   "id": "reverse-approach",
   "metadata": {},
   "outputs": [
    {
     "name": "stdout",
     "output_type": "stream",
     "text": [
      "Object `np.count` not found.\n"
     ]
    }
   ],
   "source": [
    "np.count?"
   ]
  },
  {
   "cell_type": "code",
   "execution_count": 43,
   "id": "frequent-separate",
   "metadata": {},
   "outputs": [
    {
     "data": {
      "text/plain": [
       "37"
      ]
     },
     "execution_count": 43,
     "metadata": {},
     "output_type": "execute_result"
    }
   ],
   "source": [
    "np.logical_not(integers - 15).sum()"
   ]
  },
  {
   "cell_type": "code",
   "execution_count": 9,
   "id": "opening-highland",
   "metadata": {},
   "outputs": [],
   "source": [
    "def f(m: np.array, n: int) -> int:\n",
    "    \n",
    "    return r"
   ]
  },
  {
   "cell_type": "code",
   "execution_count": 16,
   "id": "functioning-carolina",
   "metadata": {},
   "outputs": [],
   "source": [
    "vf = np.vectorize(f)"
   ]
  },
  {
   "cell_type": "code",
   "execution_count": 21,
   "id": "romance-calcium",
   "metadata": {},
   "outputs": [],
   "source": [
    "integers[0] = 0"
   ]
  },
  {
   "cell_type": "code",
   "execution_count": 24,
   "id": "undefined-kidney",
   "metadata": {},
   "outputs": [
    {
     "data": {
      "text/plain": [
       "15"
      ]
     },
     "execution_count": 24,
     "metadata": {},
     "output_type": "execute_result"
    }
   ],
   "source": [
    "vf(integers, 12).sum()"
   ]
  },
  {
   "cell_type": "code",
   "execution_count": 9,
   "id": "acceptable-missile",
   "metadata": {},
   "outputs": [
    {
     "data": {
      "text/plain": [
       "array([16,  8,  4,  2,  1], dtype=int32)"
      ]
     },
     "execution_count": 9,
     "metadata": {},
     "output_type": "execute_result"
    }
   ],
   "source": [
    "powers_of_two"
   ]
  },
  {
   "cell_type": "code",
   "execution_count": 15,
   "id": "thorough-church",
   "metadata": {},
   "outputs": [
    {
     "data": {
      "text/plain": [
       "array([12, 19, 17, 18, 10, 21, 19, 14, 13, 13, 15, 16, 16, 14, 17, 13, 14,\n",
       "       15, 16, 18, 14, 16, 17, 11, 17, 13, 12, 21, 21, 18, 15, 12, 17, 16,\n",
       "       13, 16, 11, 20, 14, 17, 15, 16, 16, 13, 21, 18, 20, 20, 17, 20])"
      ]
     },
     "execution_count": 15,
     "metadata": {},
     "output_type": "execute_result"
    }
   ],
   "source": [
    "(powers_of_two*memory[0]).sum(axis = 1)"
   ]
  },
  {
   "cell_type": "code",
   "execution_count": 226,
   "id": "million-sharing",
   "metadata": {},
   "outputs": [
    {
     "data": {
      "text/plain": [
       "array([16,  8,  4,  2,  1], dtype=int32)"
      ]
     },
     "execution_count": 226,
     "metadata": {},
     "output_type": "execute_result"
    }
   ],
   "source": [
    "powers_of_two"
   ]
  },
  {
   "cell_type": "code",
   "execution_count": 224,
   "id": "induced-clark",
   "metadata": {},
   "outputs": [
    {
     "data": {
      "text/plain": [
       "array([14,  9, 17, 20, 14])"
      ]
     },
     "execution_count": 224,
     "metadata": {},
     "output_type": "execute_result"
    }
   ],
   "source": [
    "np.matmul(lista_codigos[:5], powers_of_two)"
   ]
  },
  {
   "cell_type": "code",
   "execution_count": 91,
   "id": "dress-tuesday",
   "metadata": {},
   "outputs": [
    {
     "data": {
      "text/plain": [
       "array([0.83659914, 0.2404288 , 0.83659914, 0.16340086, 0.3764668 ])"
      ]
     },
     "execution_count": 91,
     "metadata": {},
     "output_type": "execute_result"
    }
   ],
   "source": [
    "polaridades[:5]"
   ]
  },
  {
   "cell_type": "code",
   "execution_count": 12,
   "id": "bizarre-sally",
   "metadata": {},
   "outputs": [
    {
     "data": {
      "text/plain": [
       "1.0"
      ]
     },
     "execution_count": 12,
     "metadata": {},
     "output_type": "execute_result"
    }
   ],
   "source": [
    "prob_dist = probability_distribution(memory)\n",
    "sum(prob_dist)"
   ]
  },
  {
   "cell_type": "code",
   "execution_count": 14,
   "id": "korean-momentum",
   "metadata": {},
   "outputs": [],
   "source": [
    "from typing import List"
   ]
  },
  {
   "cell_type": "code",
   "execution_count": 15,
   "id": "affected-cause",
   "metadata": {},
   "outputs": [],
   "source": [
    "def segmentList(L: List, n: int) -> List[List]:\n",
    "    step = int(len(L)/n)\n",
    "    assert step >= 2, 'floor[len(L)/n] must be >= 2' \n",
    "    \n",
    "    segments = []\n",
    "    for k in range(0, len(L) + 1, step):\n",
    "        segments.append(L[k:k+step])\n",
    "        \n",
    "    if len(segments[-1]) < step:\n",
    "        segments[-2].extend(segments[-1])\n",
    "        segments = segments[:-1]\n",
    "        \n",
    "    return segments"
   ]
  },
  {
   "cell_type": "code",
   "execution_count": 16,
   "id": "quiet-democracy",
   "metadata": {},
   "outputs": [],
   "source": [
    "A = list(range(3000))"
   ]
  },
  {
   "cell_type": "code",
   "execution_count": 18,
   "id": "engaging-auditor",
   "metadata": {},
   "outputs": [],
   "source": [
    "B = segmentList(A, 2)"
   ]
  },
  {
   "cell_type": "code",
   "execution_count": 19,
   "id": "white-sword",
   "metadata": {},
   "outputs": [
    {
     "data": {
      "text/plain": [
       "1500"
      ]
     },
     "execution_count": 19,
     "metadata": {},
     "output_type": "execute_result"
    }
   ],
   "source": []
  },
  {
   "cell_type": "code",
   "execution_count": 8,
   "id": "current-palestine",
   "metadata": {},
   "outputs": [
    {
     "data": {
      "text/plain": [
       "array([0.        , 0.        , 0.        , 0.        , 0.        ,\n",
       "       0.        , 0.        , 0.        , 0.        , 0.01333333,\n",
       "       0.01333333, 0.04      , 0.05333333, 0.08333333, 0.11      ,\n",
       "       0.12666667, 0.12333333, 0.13333333, 0.11666667, 0.07      ,\n",
       "       0.07      , 0.03333333, 0.01      , 0.00333333, 0.        ,\n",
       "       0.        , 0.        , 0.        , 0.        , 0.        ,\n",
       "       0.        , 0.        ])"
      ]
     },
     "execution_count": 8,
     "metadata": {},
     "output_type": "execute_result"
    }
   ],
   "source": [
    "prob_dist"
   ]
  },
  {
   "cell_type": "code",
   "execution_count": 10,
   "id": "embedded-disco",
   "metadata": {},
   "outputs": [
    {
     "data": {
      "text/plain": [
       "3.5201336560715752"
      ]
     },
     "execution_count": 10,
     "metadata": {},
     "output_type": "execute_result"
    }
   ],
   "source": [
    "memory_entropy(prob_dist)"
   ]
  },
  {
   "cell_type": "code",
   "execution_count": 229,
   "id": "civil-mystery",
   "metadata": {},
   "outputs": [],
   "source": [
    "memory_1 = initialize_memory()\n",
    "memory_2 = initialize_memory()\n",
    "P = probability_distribution(memory_1)\n",
    "Q = probability_distribution(memory_2)"
   ]
  },
  {
   "cell_type": "code",
   "execution_count": 193,
   "id": "turned-recording",
   "metadata": {},
   "outputs": [
    {
     "data": {
      "text/plain": [
       "array([False, False, False, False, False, False, False, False, False,\n",
       "       False, False,  True,  True,  True,  True,  True,  True,  True,\n",
       "        True,  True,  True,  True,  True,  True, False, False, False,\n",
       "       False, False, False, False, False])"
      ]
     },
     "execution_count": 193,
     "metadata": {},
     "output_type": "execute_result"
    }
   ],
   "source": [
    "P>0"
   ]
  },
  {
   "cell_type": "code",
   "execution_count": 234,
   "id": "rolled-specific",
   "metadata": {},
   "outputs": [],
   "source": [
    "teste = {0: 0.5, 1: 0.6}"
   ]
  },
  {
   "cell_type": "code",
   "execution_count": 240,
   "id": "limiting-joint",
   "metadata": {},
   "outputs": [
    {
     "data": {
      "text/plain": [
       "array([1, 0, 0, 1, 1])"
      ]
     },
     "execution_count": 240,
     "metadata": {},
     "output_type": "execute_result"
    }
   ],
   "source": [
    "amostra = lista_codigos[:5][0]\n",
    "amostra"
   ]
  },
  {
   "cell_type": "code",
   "execution_count": 243,
   "id": "optical-amazon",
   "metadata": {},
   "outputs": [],
   "source": [
    "f = lambda x: (1 - x)*0.5 + x*0.6"
   ]
  },
  {
   "cell_type": "code",
   "execution_count": 244,
   "id": "eastern-validity",
   "metadata": {},
   "outputs": [
    {
     "data": {
      "text/plain": [
       "array([0.6, 0.5, 0.5, 0.6, 0.6])"
      ]
     },
     "execution_count": 244,
     "metadata": {},
     "output_type": "execute_result"
    }
   ],
   "source": [
    "f(amostra)"
   ]
  },
  {
   "cell_type": "code",
   "execution_count": 194,
   "id": "pharmaceutical-subject",
   "metadata": {},
   "outputs": [],
   "source": [
    "not_zero_indexes_1 = np.arange(2**5)[(P > 0) * (Q > 0)]\n",
    "P_not_zero_indexes = np.nonzero(P)[0]\n",
    "Q_not_zero_indexes = np.nonzero(Q)[0]\n",
    "not_zero_indexes_2 = np.intersect1d(P_not_zero_indexes, Q_not_zero_indexes)"
   ]
  },
  {
   "cell_type": "code",
   "execution_count": 195,
   "id": "upper-stomach",
   "metadata": {},
   "outputs": [
    {
     "data": {
      "text/plain": [
       "array([11, 12, 13, 14, 15, 16, 17, 18, 19, 20, 21])"
      ]
     },
     "execution_count": 195,
     "metadata": {},
     "output_type": "execute_result"
    }
   ],
   "source": [
    "not_zero_indexes_1"
   ]
  },
  {
   "cell_type": "code",
   "execution_count": 196,
   "id": "color-demand",
   "metadata": {},
   "outputs": [
    {
     "data": {
      "text/plain": [
       "array([11, 12, 13, 14, 15, 16, 17, 18, 19, 20, 21], dtype=int64)"
      ]
     },
     "execution_count": 196,
     "metadata": {},
     "output_type": "execute_result"
    }
   ],
   "source": [
    "not_zero_indexes_2"
   ]
  },
  {
   "cell_type": "code",
   "execution_count": 191,
   "id": "portable-spelling",
   "metadata": {},
   "outputs": [
    {
     "data": {
      "text/plain": [
       "array([11, 12, 13, 14, 15, 16, 17, 18, 19, 20, 21, 22, 23], dtype=int64)"
      ]
     },
     "execution_count": 191,
     "metadata": {},
     "output_type": "execute_result"
    }
   ],
   "source": [
    "P_not_zero_indexes"
   ]
  },
  {
   "cell_type": "code",
   "execution_count": 192,
   "id": "opposed-james",
   "metadata": {},
   "outputs": [
    {
     "data": {
      "text/plain": [
       "array([11, 12, 13, 14, 15, 16, 17, 18, 19, 20, 21], dtype=int64)"
      ]
     },
     "execution_count": 192,
     "metadata": {},
     "output_type": "execute_result"
    }
   ],
   "source": [
    "Q_not_zero_indexes"
   ]
  },
  {
   "cell_type": "code",
   "execution_count": 230,
   "id": "caring-group",
   "metadata": {},
   "outputs": [],
   "source": [
    "from Scripts.Entropy import JSD, D"
   ]
  },
  {
   "cell_type": "code",
   "execution_count": 232,
   "id": "different-lotus",
   "metadata": {},
   "outputs": [
    {
     "data": {
      "text/plain": [
       "0.9091535334590194"
      ]
     },
     "execution_count": 232,
     "metadata": {},
     "output_type": "execute_result"
    }
   ],
   "source": [
    "1 - JSD(prob_dist_1, prob_dist_2)"
   ]
  },
  {
   "cell_type": "code",
   "execution_count": 233,
   "id": "cosmetic-terrain",
   "metadata": {},
   "outputs": [
    {
     "data": {
      "text/plain": [
       "0.9091535334590186"
      ]
     },
     "execution_count": 233,
     "metadata": {},
     "output_type": "execute_result"
    }
   ],
   "source": [
    "1 - JSD(prob_dist_1, prob_dist_2)"
   ]
  },
  {
   "cell_type": "code",
   "execution_count": 160,
   "id": "nutritional-brass",
   "metadata": {},
   "outputs": [],
   "source": [
    "M = (prob_dist_1 + prob_dist_2)/2"
   ]
  },
  {
   "cell_type": "code",
   "execution_count": 161,
   "id": "developing-mystery",
   "metadata": {},
   "outputs": [],
   "source": [
    "from functools import partial"
   ]
  },
  {
   "cell_type": "code",
   "execution_count": 181,
   "id": "linear-underground",
   "metadata": {},
   "outputs": [],
   "source": [
    "def _D(P: CodeDistribution, Q: CodeDistribution):\n",
    "    return sum(map(partial(__D, P, Q), range(2**5)))"
   ]
  },
  {
   "cell_type": "code",
   "execution_count": 184,
   "id": "outdoor-dairy",
   "metadata": {},
   "outputs": [],
   "source": [
    "def __D(P: CodeDistribution, Q: CodeDistribution, x: int):\n",
    "    if P[x] == 0:\n",
    "        return 0\n",
    "    else:\n",
    "        if Q[x] == 0:\n",
    "            return np.inf\n",
    "        else:\n",
    "            return P[x]*np.log2(P[x]/Q[x])"
   ]
  },
  {
   "cell_type": "code",
   "execution_count": 186,
   "id": "advisory-fiber",
   "metadata": {},
   "outputs": [
    {
     "data": {
      "text/plain": [
       "0.9091535334590194"
      ]
     },
     "execution_count": 186,
     "metadata": {},
     "output_type": "execute_result"
    }
   ],
   "source": [
    "1 - (_D(prob_dist_1, M) + _D(prob_dist_2, M))/2"
   ]
  },
  {
   "cell_type": "markdown",
   "id": "incredible-doctrine",
   "metadata": {},
   "source": [
    "__Testando a criação de indivíduos.__"
   ]
  },
  {
   "cell_type": "code",
   "execution_count": 19,
   "id": "sitting-hazard",
   "metadata": {},
   "outputs": [],
   "source": [
    "from Scripts.Individual import Individual"
   ]
  },
  {
   "cell_type": "code",
   "execution_count": 20,
   "id": "aggressive-overview",
   "metadata": {},
   "outputs": [],
   "source": [
    "from Scripts.ModelDynamics import distort, get_transition_probabilities"
   ]
  },
  {
   "cell_type": "code",
   "execution_count": 21,
   "id": "studied-requirement",
   "metadata": {},
   "outputs": [],
   "source": [
    "kappa = 1\n",
    "individual = Individual(kappa)"
   ]
  },
  {
   "cell_type": "code",
   "execution_count": 22,
   "id": "parallel-salad",
   "metadata": {},
   "outputs": [
    {
     "data": {
      "text/plain": [
       "3.43239534989339"
      ]
     },
     "execution_count": 22,
     "metadata": {},
     "output_type": "execute_result"
    }
   ],
   "source": [
    "individual.H"
   ]
  },
  {
   "cell_type": "code",
   "execution_count": 24,
   "id": "dental-discharge",
   "metadata": {},
   "outputs": [
    {
     "data": {
      "text/plain": [
       "array([0, 1, 1, 1, 1])"
      ]
     },
     "execution_count": 24,
     "metadata": {},
     "output_type": "execute_result"
    }
   ],
   "source": [
    "new_code = individual.X\n",
    "new_code"
   ]
  },
  {
   "cell_type": "code",
   "execution_count": 261,
   "id": "smart-organization",
   "metadata": {},
   "outputs": [
    {
     "data": {
      "text/plain": [
       "array([1, 1, 1, 0, 1])"
      ]
     },
     "execution_count": 261,
     "metadata": {},
     "output_type": "execute_result"
    }
   ],
   "source": [
    "distort(new_code, get_transition_probabilities(individual))"
   ]
  },
  {
   "cell_type": "code",
   "execution_count": 83,
   "id": "several-evening",
   "metadata": {},
   "outputs": [],
   "source": [
    "individual.receive_information(new_code)"
   ]
  },
  {
   "cell_type": "code",
   "execution_count": 84,
   "id": "annual-munich",
   "metadata": {},
   "outputs": [
    {
     "data": {
      "text/plain": [
       "[array([1, 0, 0, 0, 1])]"
      ]
     },
     "execution_count": 84,
     "metadata": {},
     "output_type": "execute_result"
    }
   ],
   "source": [
    "individual.L_temp"
   ]
  },
  {
   "cell_type": "code",
   "execution_count": 42,
   "id": "twenty-affiliation",
   "metadata": {},
   "outputs": [],
   "source": [
    "individual.update_memory()"
   ]
  },
  {
   "cell_type": "code",
   "execution_count": 43,
   "id": "behind-yield",
   "metadata": {},
   "outputs": [
    {
     "data": {
      "text/plain": [
       "[]"
      ]
     },
     "execution_count": 43,
     "metadata": {},
     "output_type": "execute_result"
    }
   ],
   "source": [
    "individual.L_temp"
   ]
  },
  {
   "cell_type": "code",
   "execution_count": 44,
   "id": "controlling-precipitation",
   "metadata": {},
   "outputs": [
    {
     "data": {
      "text/plain": [
       "4.311272380112911"
      ]
     },
     "execution_count": 44,
     "metadata": {},
     "output_type": "execute_result"
    }
   ],
   "source": [
    "individual.H"
   ]
  },
  {
   "cell_type": "code",
   "execution_count": 168,
   "id": "indonesian-browse",
   "metadata": {},
   "outputs": [
    {
     "data": {
      "text/plain": [
       "50"
      ]
     },
     "execution_count": 168,
     "metadata": {},
     "output_type": "execute_result"
    }
   ],
   "source": [
    "len(individual.L[0])"
   ]
  },
  {
   "cell_type": "markdown",
   "id": "challenging-damage",
   "metadata": {},
   "source": [
    "__Testando funções da dinâmica do sistema__"
   ]
  },
  {
   "cell_type": "code",
   "execution_count": 43,
   "id": "external-container",
   "metadata": {},
   "outputs": [
    {
     "data": {
      "text/plain": [
       "{0: 0.38487911980909295, 1: 0.38487911980909295}"
      ]
     },
     "execution_count": 43,
     "metadata": {},
     "output_type": "execute_result"
    }
   ],
   "source": [
    "transition_probability = get_transition_probabilities(individual)\n",
    "transition_probability"
   ]
  },
  {
   "cell_type": "code",
   "execution_count": 77,
   "id": "normal-progress",
   "metadata": {},
   "outputs": [
    {
     "name": "stdout",
     "output_type": "stream",
     "text": [
      "[0 1 1 1 1 0 1 0]\n",
      "[1 1 1 1 0 0 1 0]\n"
     ]
    }
   ],
   "source": [
    "random_code = individual.X\n",
    "print(random_code)\n",
    "distorted_code = distort(random_code, transition_probability)\n",
    "print(distorted_code)"
   ]
  },
  {
   "cell_type": "code",
   "execution_count": 79,
   "id": "built-still",
   "metadata": {},
   "outputs": [
    {
     "name": "stdout",
     "output_type": "stream",
     "text": [
      "[0.38487912 0.38487912 0.38487912 0.38487912 0.38487912 0.38487912\n",
      " 0.38487912 0.38487912]\n"
     ]
    }
   ],
   "source": [
    "transition_probabilities = np.vectorize(lambda x: transition_probability[x])(random_code)\n",
    "print(transition_probabilities)"
   ]
  },
  {
   "cell_type": "code",
   "execution_count": 80,
   "id": "backed-tunisia",
   "metadata": {},
   "outputs": [
    {
     "data": {
      "text/plain": [
       "array([0.43913491, 0.37694443, 0.46267979, 0.30137787, 0.74760938,\n",
       "       0.50272039, 0.2322127 , 0.89957457])"
      ]
     },
     "execution_count": 80,
     "metadata": {},
     "output_type": "execute_result"
    }
   ],
   "source": [
    "random_numbers = np.random.uniform(size = code_length)\n",
    "random_numbers"
   ]
  },
  {
   "cell_type": "code",
   "execution_count": 12,
   "id": "thrown-singer",
   "metadata": {},
   "outputs": [
    {
     "ename": "NameError",
     "evalue": "name 'random_numbers' is not defined",
     "output_type": "error",
     "traceback": [
      "\u001b[1;31m---------------------------------------------------------------------------\u001b[0m",
      "\u001b[1;31mNameError\u001b[0m                                 Traceback (most recent call last)",
      "\u001b[1;32m<ipython-input-12-657eea9e171b>\u001b[0m in \u001b[0;36m<module>\u001b[1;34m\u001b[0m\n\u001b[1;32m----> 1\u001b[1;33m \u001b[0mmutate\u001b[0m \u001b[1;33m=\u001b[0m \u001b[1;33m(\u001b[0m\u001b[0mrandom_numbers\u001b[0m \u001b[1;33m<=\u001b[0m \u001b[0mtransition_probabilities\u001b[0m\u001b[1;33m)\u001b[0m\u001b[1;33m.\u001b[0m\u001b[0mastype\u001b[0m\u001b[1;33m(\u001b[0m\u001b[0mint\u001b[0m\u001b[1;33m)\u001b[0m\u001b[1;33m\u001b[0m\u001b[1;33m\u001b[0m\u001b[0m\n\u001b[0m\u001b[0;32m      2\u001b[0m \u001b[0mprint\u001b[0m\u001b[1;33m(\u001b[0m\u001b[0mmutate\u001b[0m\u001b[1;33m)\u001b[0m\u001b[1;33m\u001b[0m\u001b[1;33m\u001b[0m\u001b[0m\n",
      "\u001b[1;31mNameError\u001b[0m: name 'random_numbers' is not defined"
     ]
    }
   ],
   "source": [
    "mutate = (random_numbers <= transition_probabilities).astype(int)\n",
    "print(mutate)"
   ]
  },
  {
   "cell_type": "code",
   "execution_count": 84,
   "id": "amended-brooklyn",
   "metadata": {},
   "outputs": [
    {
     "name": "stdout",
     "output_type": "stream",
     "text": [
      "[1 3 6]\n"
     ]
    }
   ],
   "source": [
    "mutate = np.argwhere(mutate).reshape(-1)\n",
    "print(mutate)"
   ]
  },
  {
   "cell_type": "code",
   "execution_count": 85,
   "id": "specific-orchestra",
   "metadata": {},
   "outputs": [
    {
     "name": "stdout",
     "output_type": "stream",
     "text": [
      "[1 1 1 1 0 0 1 0]\n",
      "[1 0 1 0 0 0 0 0]\n"
     ]
    }
   ],
   "source": [
    "print(random_code)\n",
    "random_code[mutate] = np.logical_not(random_code[mutate]).astype(int)\n",
    "print(random_code)"
   ]
  },
  {
   "cell_type": "markdown",
   "id": "native-august",
   "metadata": {},
   "source": [
    "__Testando Estatísticas__"
   ]
  },
  {
   "cell_type": "code",
   "execution_count": 61,
   "id": "simplified-breach",
   "metadata": {},
   "outputs": [],
   "source": [
    "from Scripts.Statistics import StatisticHandler, MeanEntropy, MeanProximity"
   ]
  },
  {
   "cell_type": "code",
   "execution_count": 23,
   "id": "sustainable-somewhere",
   "metadata": {},
   "outputs": [],
   "source": [
    "alpha = 0          # Proportion of individuals with tendency to increase polarity\n",
    "omega = 0          # Proportion of individuals with tendency to lower polarity\n",
    "lambd = 0          # Polarization coefficient\n",
    "gamma = 0          # Confidence factor\n",
    "kappa = 0          # Parameter for information distortion tendency"
   ]
  },
  {
   "cell_type": "code",
   "execution_count": 57,
   "id": "atomic-madness",
   "metadata": {},
   "outputs": [],
   "source": [
    "model = Model(N, pa, memory_size, code_length, kappa, lambd, alpha, omega, gamma, seed = np.random.randint(50))"
   ]
  },
  {
   "cell_type": "code",
   "execution_count": 60,
   "id": "logical-corrections",
   "metadata": {},
   "outputs": [
    {
     "data": {
      "text/plain": [
       "0.9775380317617338"
      ]
     },
     "execution_count": 60,
     "metadata": {},
     "output_type": "execute_result"
    }
   ],
   "source": [
    "model.J"
   ]
  },
  {
   "cell_type": "code",
   "execution_count": 64,
   "id": "powerful-lincoln",
   "metadata": {},
   "outputs": [],
   "source": [
    "mean_entropy = MeanEntropy()\n",
    "mean_proximity = MeanProximity()"
   ]
  },
  {
   "cell_type": "code",
   "execution_count": 66,
   "id": "important-underwear",
   "metadata": {},
   "outputs": [
    {
     "name": "stdout",
     "output_type": "stream",
     "text": [
      "3.5035012309729128\n",
      "0.9775380317617338\n"
     ]
    }
   ],
   "source": [
    "print(mean_entropy.compute(model))\n",
    "print(mean_proximity.compute(model))"
   ]
  },
  {
   "cell_type": "code",
   "execution_count": 136,
   "id": "pleased-actor",
   "metadata": {},
   "outputs": [
    {
     "name": "stdout",
     "output_type": "stream",
     "text": [
      "{'Entropy': <Scripts.Statistics.MeanEntropy object at 0x7f8f6caea850>, 'Proximity': <Scripts.Statistics.MeanProximity object at 0x7f8f6caea970>}\n",
      "{'Entropy': [], 'Proximity': []}\n",
      "[]\n"
     ]
    }
   ],
   "source": [
    "statistic_handler = StatisticHandler()\n",
    "statistic_handler.new_statistic('Entropy', mean_entropy)\n",
    "statistic_handler.new_statistic('Proximity', mean_proximity)\n",
    "print(statistic_handler.stats_definitions)\n",
    "print(statistic_handler.stats_values)\n",
    "print(statistic_handler.repetitions)"
   ]
  },
  {
   "cell_type": "code",
   "execution_count": 137,
   "id": "convinced-humanitarian",
   "metadata": {},
   "outputs": [],
   "source": [
    "statistic_handler.update_statistics(model)"
   ]
  },
  {
   "cell_type": "code",
   "execution_count": 138,
   "id": "suburban-cancellation",
   "metadata": {},
   "outputs": [
    {
     "name": "stdout",
     "output_type": "stream",
     "text": [
      "{'Entropy': [3.5035012309729128], 'Proximity': [0.9775380317617338]}\n"
     ]
    }
   ],
   "source": [
    "print(statistic_handler.stats_values)"
   ]
  },
  {
   "cell_type": "code",
   "execution_count": 139,
   "id": "young-syndicate",
   "metadata": {},
   "outputs": [
    {
     "name": "stdout",
     "output_type": "stream",
     "text": [
      "{'Entropy': [3.5035012309729128], 'Proximity': [0.9775380317617338]}\n",
      "[{'Entropy': [3.5035012309729128], 'Proximity': [0.9775380317617338]}]\n"
     ]
    }
   ],
   "source": [
    "print(statistic_handler.stats_values)\n",
    "statistic_handler.end_repetition()\n",
    "print(statistic_handler.repetitions)"
   ]
  },
  {
   "cell_type": "code",
   "execution_count": 84,
   "id": "focused-wagon",
   "metadata": {},
   "outputs": [],
   "source": [
    "statistic_handler.reset_statistics(hard_reset = True)"
   ]
  },
  {
   "cell_type": "code",
   "execution_count": 140,
   "id": "living-reggae",
   "metadata": {},
   "outputs": [
    {
     "name": "stdout",
     "output_type": "stream",
     "text": [
      "{'Entropy': <Scripts.Statistics.MeanEntropy object at 0x7f8f6caea850>, 'Proximity': <Scripts.Statistics.MeanProximity object at 0x7f8f6caea970>}\n",
      "{'Entropy': [], 'Proximity': []}\n",
      "[{'Entropy': [3.5035012309729128], 'Proximity': [0.9775380317617338]}]\n"
     ]
    }
   ],
   "source": [
    "print(statistic_handler.stats_definitions)\n",
    "print(statistic_handler.stats_values)\n",
    "print(statistic_handler.repetitions)"
   ]
  },
  {
   "cell_type": "code",
   "execution_count": 141,
   "id": "found-voice",
   "metadata": {},
   "outputs": [
    {
     "data": {
      "text/plain": [
       "{'Entropy': array([3.50350123]), 'Proximity': array([0.97753803])}"
      ]
     },
     "execution_count": 141,
     "metadata": {},
     "output_type": "execute_result"
    }
   ],
   "source": [
    "statistic_handler.get_rep_mean()"
   ]
  },
  {
   "cell_type": "markdown",
   "id": "inappropriate-celebrity",
   "metadata": {},
   "source": [
    "__Testando criação do modelo__"
   ]
  },
  {
   "cell_type": "code",
   "execution_count": 12,
   "id": "medium-immigration",
   "metadata": {},
   "outputs": [],
   "source": [
    "from Scripts.Model import *"
   ]
  },
  {
   "cell_type": "code",
   "execution_count": 152,
   "id": "prompt-century",
   "metadata": {},
   "outputs": [],
   "source": [
    "alpha = 0          # Proportion of individuals with tendency to increase polarity\n",
    "omega = 0          # Proportion of individuals with tendency to lower polarity\n",
    "lambd = 0            # Polarization coefficient\n",
    "gamma = 0          # Confidence factor\n",
    "kappa = 0           # Parameter for information distortion tendency\n",
    "T = 150\n",
    "num_reps = 3"
   ]
  },
  {
   "cell_type": "code",
   "execution_count": 153,
   "id": "narrow-firewall",
   "metadata": {},
   "outputs": [
    {
     "name": "stdout",
     "output_type": "stream",
     "text": [
      "Model evaluation started.\n",
      "Number of repetitions = 3\n",
      "Initializing model with parameters\n",
      "N = 300 - pa = 2 \n",
      "mu = 50 - m = 5 \n",
      "kappa = 0 - lambda = 0 \n",
      "alpha = 0 - omega = 0 \n",
      "gamma = 0\n",
      "Model initialized. Elapsed time: 0.02 minutes\n",
      "\n",
      "Starting simulations.\n",
      "\n",
      "Repetition 1/3\n",
      "\tFinished repetition 1/3. Elapsed time: 0.58\n",
      "Repetition 2/3\n",
      "\tFinished repetition 2/3. Elapsed time: 0.6\n",
      "Repetition 3/3\n",
      "\tFinished repetition 3/3. Elapsed time: 0.6\n",
      "\n",
      "Simulation ended. Total elapsed time = 1.8 minutes\n"
     ]
    }
   ],
   "source": [
    "elapsed_time, rep_statistics, mean_statistics = evaluateModel(T, kappa, lambd, alpha, omega, gamma, num_repetitions = num_reps)"
   ]
  },
  {
   "cell_type": "code",
   "execution_count": 154,
   "id": "racial-worst",
   "metadata": {
    "collapsed": true,
    "jupyter": {
     "outputs_hidden": true
    }
   },
   "outputs": [
    {
     "data": {
      "text/plain": [
       "[{'Entropy': [3.54501747139834,\n",
       "   3.5862211792309298,\n",
       "   3.6253199361775903,\n",
       "   3.6684372755874572,\n",
       "   3.717178253084496,\n",
       "   3.7528885983339757,\n",
       "   3.7863294318632628,\n",
       "   3.813896583591836,\n",
       "   3.8415946585835967,\n",
       "   3.8684147375859794,\n",
       "   3.8973390338146428,\n",
       "   3.92281655781072,\n",
       "   3.9455591883592613,\n",
       "   3.9686528250224447,\n",
       "   3.9946134034155305,\n",
       "   4.014829393704693,\n",
       "   4.028454066296323,\n",
       "   4.048371838241819,\n",
       "   4.071339968158246,\n",
       "   4.0847774406485975,\n",
       "   4.106434163997036,\n",
       "   4.12633708534386,\n",
       "   4.149279546013418,\n",
       "   4.167845020769973,\n",
       "   4.187639044079103,\n",
       "   4.208727586431784,\n",
       "   4.22131359171486,\n",
       "   4.238852881219047,\n",
       "   4.252987717991424,\n",
       "   4.265577228240664,\n",
       "   4.278985989438836,\n",
       "   4.293381444408092,\n",
       "   4.310357901668191,\n",
       "   4.321692652778606,\n",
       "   4.338394297257498,\n",
       "   4.352209104847569,\n",
       "   4.365264508893716,\n",
       "   4.378974297623114,\n",
       "   4.392812325810328,\n",
       "   4.405147113338796,\n",
       "   4.418049496549784,\n",
       "   4.427391661757203,\n",
       "   4.438417175577406,\n",
       "   4.448481917148866,\n",
       "   4.462041837536938,\n",
       "   4.473818784509586,\n",
       "   4.4835623077572935,\n",
       "   4.493400788519389,\n",
       "   4.502296678208386,\n",
       "   4.510581228295033,\n",
       "   4.522069819292888,\n",
       "   4.53278014238721,\n",
       "   4.542431455861475,\n",
       "   4.550017693573818,\n",
       "   4.559236610856821,\n",
       "   4.567737531304758,\n",
       "   4.5748775973270455,\n",
       "   4.585653453151858,\n",
       "   4.595397893772172,\n",
       "   4.603311966072218,\n",
       "   4.60944124038589,\n",
       "   4.618265977550822,\n",
       "   4.625742127896662,\n",
       "   4.62961226103914,\n",
       "   4.637647440157863,\n",
       "   4.645521994039507,\n",
       "   4.652873169465396,\n",
       "   4.660525986189288,\n",
       "   4.667389520273938,\n",
       "   4.67340707603245,\n",
       "   4.680873536556296,\n",
       "   4.6875341791792176,\n",
       "   4.69563579690872,\n",
       "   4.701594992659035,\n",
       "   4.708506082099717,\n",
       "   4.714328190523842,\n",
       "   4.720669725211836,\n",
       "   4.7256699309459735,\n",
       "   4.73077910522729,\n",
       "   4.734413906447553,\n",
       "   4.739261862106323,\n",
       "   4.745905079263693,\n",
       "   4.751220043822741,\n",
       "   4.755735705896311,\n",
       "   4.760694953400918,\n",
       "   4.765345589973833,\n",
       "   4.768545025007128,\n",
       "   4.772475476178506,\n",
       "   4.777086751804238,\n",
       "   4.781287251934526,\n",
       "   4.784265169483049,\n",
       "   4.787816553769333,\n",
       "   4.791682868138441,\n",
       "   4.795992983594216,\n",
       "   4.798630125446976,\n",
       "   4.801393021139201,\n",
       "   4.804307294064729,\n",
       "   4.807863238078614,\n",
       "   4.810983070803625,\n",
       "   4.814390456185745,\n",
       "   4.81841522308632,\n",
       "   4.8202540490245696,\n",
       "   4.822344379300813,\n",
       "   4.825386892333705,\n",
       "   4.828538067272541,\n",
       "   4.831138157280334,\n",
       "   4.833955564235622,\n",
       "   4.836957711850986,\n",
       "   4.839561679726186,\n",
       "   4.842574109817336,\n",
       "   4.845947604542135,\n",
       "   4.848694369117231,\n",
       "   4.851126745998223,\n",
       "   4.853198646309681,\n",
       "   4.855650747009363,\n",
       "   4.8583264858677895,\n",
       "   4.86068284944643,\n",
       "   4.86239987390049,\n",
       "   4.864136238977629,\n",
       "   4.865581720040793,\n",
       "   4.8672336157540235,\n",
       "   4.870022508229616,\n",
       "   4.872130663597868,\n",
       "   4.874834097177523,\n",
       "   4.875852035982568,\n",
       "   4.878173538012093,\n",
       "   4.879183008257881,\n",
       "   4.880804760877779,\n",
       "   4.883488717183898,\n",
       "   4.884652641866156,\n",
       "   4.886246509397024,\n",
       "   4.887767308472898,\n",
       "   4.888717353555847,\n",
       "   4.889290048891834,\n",
       "   4.88993665930309,\n",
       "   4.890972157322285,\n",
       "   4.891624809042121,\n",
       "   4.892739843013817,\n",
       "   4.894753984051592,\n",
       "   4.8961310191250185,\n",
       "   4.896618115844414,\n",
       "   4.897997288010234,\n",
       "   4.898815151292461,\n",
       "   4.899773612511699,\n",
       "   4.899039037216656,\n",
       "   4.899506684160245,\n",
       "   4.900368308347149,\n",
       "   4.901786348887546,\n",
       "   4.903152211755967,\n",
       "   4.903840125193696],\n",
       "  'Proximity': [0.9646644619865499,\n",
       "   0.9516995229436229,\n",
       "   0.9380861783135707,\n",
       "   0.9212902198199046,\n",
       "   0.8992473646983244,\n",
       "   0.8831158339061367,\n",
       "   0.875810570730404,\n",
       "   0.8675891089704768,\n",
       "   0.8575424971657281,\n",
       "   0.8588933440601283,\n",
       "   0.8578347359186221,\n",
       "   0.856991657235253,\n",
       "   0.8607801515007291,\n",
       "   0.8560195952233154,\n",
       "   0.8529585803982577,\n",
       "   0.8524791202396412,\n",
       "   0.8611636669928421,\n",
       "   0.8589267279827012,\n",
       "   0.8531983397136841,\n",
       "   0.8606025695212373,\n",
       "   0.8610420482134162,\n",
       "   0.8570192426526735,\n",
       "   0.85057448855435,\n",
       "   0.8507584817203211,\n",
       "   0.8491784003644643,\n",
       "   0.8395335529672431,\n",
       "   0.8446021469838433,\n",
       "   0.8448582478834353,\n",
       "   0.8474824615363699,\n",
       "   0.8518830390181914,\n",
       "   0.8566423383081523,\n",
       "   0.8601871725001287,\n",
       "   0.8564816671600047,\n",
       "   0.8631638221986898,\n",
       "   0.860055480421916,\n",
       "   0.8573631048641774,\n",
       "   0.8587023571198864,\n",
       "   0.8562403666630385,\n",
       "   0.8562141359874015,\n",
       "   0.8553123499959476,\n",
       "   0.8577971653503973,\n",
       "   0.8651401945381775,\n",
       "   0.8654638350934195,\n",
       "   0.8666351758251303,\n",
       "   0.8674498940558117,\n",
       "   0.8697086871280028,\n",
       "   0.8711628575933306,\n",
       "   0.8711824418347858,\n",
       "   0.8753099131282874,\n",
       "   0.87864581408332,\n",
       "   0.8776290346008183,\n",
       "   0.8770146805278233,\n",
       "   0.8792347265697331,\n",
       "   0.8829713515832671,\n",
       "   0.8828353556771437,\n",
       "   0.8846292899830955,\n",
       "   0.8872007397329084,\n",
       "   0.8890178580368665,\n",
       "   0.891115144867392,\n",
       "   0.8929148130271222,\n",
       "   0.8961410716181574,\n",
       "   0.8942316533131492,\n",
       "   0.8948576795349331,\n",
       "   0.8992882851758978,\n",
       "   0.9044949595601052,\n",
       "   0.9039490082921581,\n",
       "   0.904958160828379,\n",
       "   0.9073516097386793,\n",
       "   0.9069449181790622,\n",
       "   0.9097284824397769,\n",
       "   0.9103332128651742,\n",
       "   0.9105027551319211,\n",
       "   0.9101606459035116,\n",
       "   0.9110025228267558,\n",
       "   0.9117810630156085,\n",
       "   0.9106674206627539,\n",
       "   0.9081797589594182,\n",
       "   0.9118597889147456,\n",
       "   0.9142099895228959,\n",
       "   0.9163541113090029,\n",
       "   0.9166504652863878,\n",
       "   0.917328461940629,\n",
       "   0.9184243401548609,\n",
       "   0.9196523034660752,\n",
       "   0.9197983275502195,\n",
       "   0.9207022404324725,\n",
       "   0.9243741424682964,\n",
       "   0.9277159175740082,\n",
       "   0.92628893269507,\n",
       "   0.9269294096251784,\n",
       "   0.928490543734711,\n",
       "   0.9290678594517745,\n",
       "   0.930479421648972,\n",
       "   0.933180076560998,\n",
       "   0.9341268140734751,\n",
       "   0.932690047835613,\n",
       "   0.931287801953049,\n",
       "   0.9324653441775672,\n",
       "   0.9321906640643753,\n",
       "   0.9299695855962943,\n",
       "   0.9318790545698167,\n",
       "   0.9347362935438663,\n",
       "   0.9357331618687367,\n",
       "   0.9378570351129314,\n",
       "   0.938020034106061,\n",
       "   0.9374350914286835,\n",
       "   0.9356815761221634,\n",
       "   0.9383760889808839,\n",
       "   0.9370473884417918,\n",
       "   0.9397020627921678,\n",
       "   0.9402745288415996,\n",
       "   0.9391879764396445,\n",
       "   0.9403283952459223,\n",
       "   0.9423481688224974,\n",
       "   0.9404054262353276,\n",
       "   0.9411759423004431,\n",
       "   0.9424194664450504,\n",
       "   0.9446503762299648,\n",
       "   0.944294466920688,\n",
       "   0.9427473577619787,\n",
       "   0.9425965071801492,\n",
       "   0.9452735030841725,\n",
       "   0.9465835577803219,\n",
       "   0.9476019731418573,\n",
       "   0.9463310082954879,\n",
       "   0.9479914564904559,\n",
       "   0.9486062930258401,\n",
       "   0.9492197634591016,\n",
       "   0.9518460303028412,\n",
       "   0.952335656404687,\n",
       "   0.9531399066283796,\n",
       "   0.9520035319813153,\n",
       "   0.9517829625048053,\n",
       "   0.9493889764967024,\n",
       "   0.9482506217561983,\n",
       "   0.9473572345637952,\n",
       "   0.9472811162451819,\n",
       "   0.9480365515199183,\n",
       "   0.9502275975160227,\n",
       "   0.9526398593183805,\n",
       "   0.9534397903891669,\n",
       "   0.9511076337715365,\n",
       "   0.952416449368824,\n",
       "   0.9551681774203266,\n",
       "   0.9528909916001845,\n",
       "   0.9536451208031353,\n",
       "   0.9552746677561758,\n",
       "   0.9559320622309458,\n",
       "   0.9569341943399701,\n",
       "   0.9579962341703777]},\n",
       " {'Entropy': [3.5502742182825684,\n",
       "   3.6003667148387852,\n",
       "   3.643656770180918,\n",
       "   3.6774595711229146,\n",
       "   3.714003089825598,\n",
       "   3.741522997110913,\n",
       "   3.774437633334597,\n",
       "   3.800233700984204,\n",
       "   3.820380047222931,\n",
       "   3.8434293522377607,\n",
       "   3.868818355339525,\n",
       "   3.9028722735057166,\n",
       "   3.9243841613408836,\n",
       "   3.9558467025390938,\n",
       "   3.9724181616817265,\n",
       "   3.9891300146425315,\n",
       "   4.004561266429781,\n",
       "   4.0318385038264895,\n",
       "   4.058802486986606,\n",
       "   4.07923856809,\n",
       "   4.098614698159664,\n",
       "   4.118497951752284,\n",
       "   4.1348438603163835,\n",
       "   4.155698467969917,\n",
       "   4.1706674230014364,\n",
       "   4.186889326580483,\n",
       "   4.204774086638923,\n",
       "   4.221958513345465,\n",
       "   4.239003786208216,\n",
       "   4.2543582532284745,\n",
       "   4.268245491135225,\n",
       "   4.284993682335102,\n",
       "   4.29599941087155,\n",
       "   4.31455057470701,\n",
       "   4.326631526619746,\n",
       "   4.342643133316917,\n",
       "   4.358031147316477,\n",
       "   4.371116933128847,\n",
       "   4.385693828067741,\n",
       "   4.398941422685087,\n",
       "   4.409884934597263,\n",
       "   4.421431073095544,\n",
       "   4.434304196773861,\n",
       "   4.444411109209104,\n",
       "   4.454755571612541,\n",
       "   4.465281561602618,\n",
       "   4.477235173810396,\n",
       "   4.489603573115073,\n",
       "   4.498897275124025,\n",
       "   4.510735728575249,\n",
       "   4.519776654708928,\n",
       "   4.52892329489623,\n",
       "   4.537079364811019,\n",
       "   4.545989811429257,\n",
       "   4.554173800652506,\n",
       "   4.5619860394384775,\n",
       "   4.570016933470999,\n",
       "   4.577174889512265,\n",
       "   4.585225494330088,\n",
       "   4.591982225470143,\n",
       "   4.599363569324476,\n",
       "   4.607723670957152,\n",
       "   4.615712011628526,\n",
       "   4.624543365987983,\n",
       "   4.631565881411883,\n",
       "   4.638308299447671,\n",
       "   4.64446345458357,\n",
       "   4.650867722159223,\n",
       "   4.65764576628396,\n",
       "   4.664733757633601,\n",
       "   4.670090033745174,\n",
       "   4.674888632392106,\n",
       "   4.681559673636031,\n",
       "   4.686637893127431,\n",
       "   4.6917060940622495,\n",
       "   4.698340791690329,\n",
       "   4.704250247666841,\n",
       "   4.710673327308074,\n",
       "   4.717067392189716,\n",
       "   4.723024637949253,\n",
       "   4.72759269575483,\n",
       "   4.733222052312279,\n",
       "   4.739169280413004,\n",
       "   4.74447781893598,\n",
       "   4.74903104352868,\n",
       "   4.7551063827891396,\n",
       "   4.760270791803511,\n",
       "   4.765472110304968,\n",
       "   4.7694153911632995,\n",
       "   4.773708876786928,\n",
       "   4.778516240745155,\n",
       "   4.7817922935062676,\n",
       "   4.78563926918249,\n",
       "   4.7898797723142215,\n",
       "   4.793188878152492,\n",
       "   4.79735014709724,\n",
       "   4.8017612137772065,\n",
       "   4.8044604107736655,\n",
       "   4.807002521825271,\n",
       "   4.809997589085696,\n",
       "   4.812527509093667,\n",
       "   4.814954140796883,\n",
       "   4.8178247419063975,\n",
       "   4.819483049272682,\n",
       "   4.82267068497452,\n",
       "   4.8257068735055535,\n",
       "   4.829699111545559,\n",
       "   4.832543452928564,\n",
       "   4.835870421795428,\n",
       "   4.838574909640182,\n",
       "   4.841958064306341,\n",
       "   4.844538221727421,\n",
       "   4.847039847781608,\n",
       "   4.850020331919719,\n",
       "   4.852351933093344,\n",
       "   4.854686540363771,\n",
       "   4.856478043419597,\n",
       "   4.858743155101482,\n",
       "   4.860797400551604,\n",
       "   4.8627283354037845,\n",
       "   4.865490193017553,\n",
       "   4.86743822268547,\n",
       "   4.868452844501897,\n",
       "   4.870639398759933,\n",
       "   4.872508093374463,\n",
       "   4.874060525037447,\n",
       "   4.875276145801342,\n",
       "   4.876368509175999,\n",
       "   4.878219756793751,\n",
       "   4.87908253851062,\n",
       "   4.880156289681071,\n",
       "   4.880951965863488,\n",
       "   4.882462790368438,\n",
       "   4.8840086155705,\n",
       "   4.885720655318253,\n",
       "   4.887278252242987,\n",
       "   4.888667674435263,\n",
       "   4.890442748864956,\n",
       "   4.890856335930659,\n",
       "   4.8917832086220585,\n",
       "   4.891728539118071,\n",
       "   4.892949417457789,\n",
       "   4.894859363785388,\n",
       "   4.8963236337540605,\n",
       "   4.896829815478893,\n",
       "   4.8969786606004675,\n",
       "   4.897421419385566,\n",
       "   4.897751368596552,\n",
       "   4.89913279346309,\n",
       "   4.899525719782989],\n",
       "  'Proximity': [0.9625166694544701,\n",
       "   0.9482499691812689,\n",
       "   0.9331813696320399,\n",
       "   0.9202636515104379,\n",
       "   0.9018491114484516,\n",
       "   0.8884469141158429,\n",
       "   0.8812519263299925,\n",
       "   0.8798149778817121,\n",
       "   0.8770330019652529,\n",
       "   0.8822122213305068,\n",
       "   0.8813195502362206,\n",
       "   0.876816470440675,\n",
       "   0.8767580819842165,\n",
       "   0.8690221229286633,\n",
       "   0.8731137777167151,\n",
       "   0.8736582207650523,\n",
       "   0.8746191087329139,\n",
       "   0.8714963742665477,\n",
       "   0.8617448774315839,\n",
       "   0.861985318220492,\n",
       "   0.858772962749405,\n",
       "   0.8586387144816687,\n",
       "   0.8636185304709629,\n",
       "   0.8616397013439545,\n",
       "   0.8641385081326266,\n",
       "   0.8644740096594803,\n",
       "   0.8624470007766223,\n",
       "   0.8643772733394542,\n",
       "   0.8618745549646738,\n",
       "   0.8571183914435491,\n",
       "   0.8575112566583369,\n",
       "   0.8556067337680787,\n",
       "   0.859642668047413,\n",
       "   0.855818886902632,\n",
       "   0.8592283393354206,\n",
       "   0.8580989016026405,\n",
       "   0.8540573901460818,\n",
       "   0.8562644718109564,\n",
       "   0.857840907205058,\n",
       "   0.8598231683034719,\n",
       "   0.8648478594510788,\n",
       "   0.8671264079092674,\n",
       "   0.8703683828343327,\n",
       "   0.871804405862743,\n",
       "   0.878688084322021,\n",
       "   0.8803834849084803,\n",
       "   0.8780153836614133,\n",
       "   0.8800483765986347,\n",
       "   0.8831242049412772,\n",
       "   0.8788191803274277,\n",
       "   0.8802672647953754,\n",
       "   0.8792397079255873,\n",
       "   0.8789618486347991,\n",
       "   0.8826491811366272,\n",
       "   0.8866048826971697,\n",
       "   0.8902901147867465,\n",
       "   0.8946622148272865,\n",
       "   0.8965188828691703,\n",
       "   0.898165988939492,\n",
       "   0.9001185789830378,\n",
       "   0.9032543548956212,\n",
       "   0.9043228542709663,\n",
       "   0.9043217872452544,\n",
       "   0.9066589557420329,\n",
       "   0.9061124720908803,\n",
       "   0.9083868497637975,\n",
       "   0.9096895128042292,\n",
       "   0.9124369205945162,\n",
       "   0.9110191306395028,\n",
       "   0.913526636830502,\n",
       "   0.915985630718976,\n",
       "   0.9151729852884056,\n",
       "   0.9142999829643869,\n",
       "   0.9185621353546255,\n",
       "   0.9215045029475659,\n",
       "   0.9213739918934142,\n",
       "   0.9221598587942291,\n",
       "   0.9217069323265065,\n",
       "   0.9192832183817231,\n",
       "   0.915798115076102,\n",
       "   0.9174407433912822,\n",
       "   0.9191299016019229,\n",
       "   0.919462347454207,\n",
       "   0.9202571766047625,\n",
       "   0.921248007608475,\n",
       "   0.9226765367840254,\n",
       "   0.9234844001781762,\n",
       "   0.9212499688884574,\n",
       "   0.9270703800094475,\n",
       "   0.9299220315149763,\n",
       "   0.9323302601139415,\n",
       "   0.9347309878837897,\n",
       "   0.9345519107917738,\n",
       "   0.9353957925827937,\n",
       "   0.9369533749092049,\n",
       "   0.9358987141696947,\n",
       "   0.9358187623139448,\n",
       "   0.9345694638877758,\n",
       "   0.9356939583565154,\n",
       "   0.9359000307806465,\n",
       "   0.9356926060570931,\n",
       "   0.9362506639353111,\n",
       "   0.9375026346594267,\n",
       "   0.9385926456237218,\n",
       "   0.9407210444802035,\n",
       "   0.9421046397776736,\n",
       "   0.9444657000399429,\n",
       "   0.944631236251909,\n",
       "   0.9419792996661331,\n",
       "   0.9409599426978013,\n",
       "   0.9414260374602825,\n",
       "   0.9415414257619426,\n",
       "   0.9427620948282683,\n",
       "   0.9476274342210276,\n",
       "   0.9462228219792497,\n",
       "   0.9434224521002234,\n",
       "   0.9429034664973861,\n",
       "   0.9435085477911034,\n",
       "   0.9418667382559411,\n",
       "   0.9424014677304735,\n",
       "   0.943990281688933,\n",
       "   0.9447262370887618,\n",
       "   0.9447735442455321,\n",
       "   0.9487679488684982,\n",
       "   0.9503651226776978,\n",
       "   0.9488372814991218,\n",
       "   0.9483442010880765,\n",
       "   0.947952875282197,\n",
       "   0.9486815571623148,\n",
       "   0.9482181597350656,\n",
       "   0.9497962950221004,\n",
       "   0.9486645028360122,\n",
       "   0.9483536609846003,\n",
       "   0.9476722496781917,\n",
       "   0.9491002613106481,\n",
       "   0.9504287260445111,\n",
       "   0.9518609441551312,\n",
       "   0.9545392441242742,\n",
       "   0.953566601762893,\n",
       "   0.9559121578992196,\n",
       "   0.9553073125542244,\n",
       "   0.954603410706893,\n",
       "   0.9561458883790936,\n",
       "   0.9558824810949867,\n",
       "   0.9569522209962553,\n",
       "   0.9548948169549099,\n",
       "   0.9553387292129425,\n",
       "   0.9563470504068647,\n",
       "   0.9560651719004747,\n",
       "   0.9565168575660585]},\n",
       " {'Entropy': [3.537519937432982,\n",
       "   3.571644145947267,\n",
       "   3.63031431107936,\n",
       "   3.65789926669637,\n",
       "   3.6803396323237143,\n",
       "   3.7073717397914447,\n",
       "   3.7382782323150576,\n",
       "   3.7636389738460956,\n",
       "   3.792393497443746,\n",
       "   3.817397037765541,\n",
       "   3.840896762876328,\n",
       "   3.865556182649996,\n",
       "   3.898001552265633,\n",
       "   3.927386737705269,\n",
       "   3.95084105683909,\n",
       "   3.9756872268159738,\n",
       "   3.9926242544529433,\n",
       "   4.0155730778700685,\n",
       "   4.034807184855972,\n",
       "   4.05446486032335,\n",
       "   4.071678147807493,\n",
       "   4.09139221592031,\n",
       "   4.107066461758854,\n",
       "   4.122859131891708,\n",
       "   4.144467585208317,\n",
       "   4.163958656966085,\n",
       "   4.17699260969143,\n",
       "   4.194188817862708,\n",
       "   4.210276240309504,\n",
       "   4.228499101179694,\n",
       "   4.247862118332823,\n",
       "   4.266326273515033,\n",
       "   4.284946375344116,\n",
       "   4.303253469421514,\n",
       "   4.314720505315806,\n",
       "   4.323563876097437,\n",
       "   4.33933746193169,\n",
       "   4.35393382198924,\n",
       "   4.363343003189426,\n",
       "   4.376933798349509,\n",
       "   4.388653350161949,\n",
       "   4.396589270889243,\n",
       "   4.403959667158491,\n",
       "   4.416569967023691,\n",
       "   4.431100849750968,\n",
       "   4.443362026033166,\n",
       "   4.453705865924597,\n",
       "   4.463947346476723,\n",
       "   4.47614369018178,\n",
       "   4.485670941711611,\n",
       "   4.495020348622661,\n",
       "   4.503819641485179,\n",
       "   4.5117581113415435,\n",
       "   4.522982512167204,\n",
       "   4.534070152050227,\n",
       "   4.544960286959589,\n",
       "   4.552520741458185,\n",
       "   4.563759769898433,\n",
       "   4.573465485084463,\n",
       "   4.582669660042707,\n",
       "   4.590920448553083,\n",
       "   4.5989102890819575,\n",
       "   4.606230770457483,\n",
       "   4.614143009656613,\n",
       "   4.621492910046123,\n",
       "   4.6296378043992705,\n",
       "   4.638259909912911,\n",
       "   4.644936357206864,\n",
       "   4.652508575225706,\n",
       "   4.658744129651073,\n",
       "   4.664615260450431,\n",
       "   4.671473175329069,\n",
       "   4.677134436695535,\n",
       "   4.685193253369956,\n",
       "   4.691645546090864,\n",
       "   4.6971775675142124,\n",
       "   4.701559505776091,\n",
       "   4.70725519993402,\n",
       "   4.71332636844641,\n",
       "   4.718671732299665,\n",
       "   4.726647509681331,\n",
       "   4.731211231368123,\n",
       "   4.735902145044673,\n",
       "   4.739978583301828,\n",
       "   4.745953077302188,\n",
       "   4.751122636007676,\n",
       "   4.755933849382956,\n",
       "   4.7591529290076116,\n",
       "   4.764277448286571,\n",
       "   4.769349851791925,\n",
       "   4.773672780313011,\n",
       "   4.777776111477906,\n",
       "   4.783880928779774,\n",
       "   4.787937096955309,\n",
       "   4.791650706414032,\n",
       "   4.795729368064705,\n",
       "   4.799698320247463,\n",
       "   4.8043398543509745,\n",
       "   4.808004492688712,\n",
       "   4.8111313098198885,\n",
       "   4.815032719118442,\n",
       "   4.818496961520651,\n",
       "   4.821818802602702,\n",
       "   4.823932725478362,\n",
       "   4.827454602177629,\n",
       "   4.8299975176429255,\n",
       "   4.832997894884015,\n",
       "   4.836444041945797,\n",
       "   4.838478146395389,\n",
       "   4.840780464778754,\n",
       "   4.8429708380266225,\n",
       "   4.844846447542609,\n",
       "   4.846637961657791,\n",
       "   4.849467979206054,\n",
       "   4.851257319597138,\n",
       "   4.854143551674851,\n",
       "   4.855573325817926,\n",
       "   4.857382057387297,\n",
       "   4.85979117104289,\n",
       "   4.862070795906881,\n",
       "   4.864312540680024,\n",
       "   4.866270383721157,\n",
       "   4.8671354543565455,\n",
       "   4.868980234551716,\n",
       "   4.870819421179815,\n",
       "   4.873257350225106,\n",
       "   4.873923620746685,\n",
       "   4.875697651615476,\n",
       "   4.877481242580965,\n",
       "   4.879041218784956,\n",
       "   4.881532950951315,\n",
       "   4.883636303211877,\n",
       "   4.8852540312592625,\n",
       "   4.886372730955849,\n",
       "   4.887534196816536,\n",
       "   4.8899583271916205,\n",
       "   4.891657845322044,\n",
       "   4.892243430160643,\n",
       "   4.893759496002903,\n",
       "   4.895811417729835,\n",
       "   4.897733404234509,\n",
       "   4.898735044324246,\n",
       "   4.899450958563496,\n",
       "   4.900205824551685,\n",
       "   4.901383585107325,\n",
       "   4.902225536169467,\n",
       "   4.903221597665304,\n",
       "   4.90299686848546,\n",
       "   4.903977026284195,\n",
       "   4.903746282858068],\n",
       "  'Proximity': [0.9668806779653951,\n",
       "   0.9564137039237341,\n",
       "   0.9354990979937748,\n",
       "   0.9248592612182382,\n",
       "   0.9167083644050015,\n",
       "   0.9105360498996257,\n",
       "   0.9029397134881243,\n",
       "   0.8974747054287021,\n",
       "   0.8954610647640325,\n",
       "   0.894180538392966,\n",
       "   0.8908647091140698,\n",
       "   0.8882081051297157,\n",
       "   0.8822739161922056,\n",
       "   0.874329981128996,\n",
       "   0.8689710920390654,\n",
       "   0.865606363562595,\n",
       "   0.8663807880345847,\n",
       "   0.8633868867113818,\n",
       "   0.861085253998616,\n",
       "   0.8643744087559214,\n",
       "   0.8653611195256274,\n",
       "   0.861585033954792,\n",
       "   0.8645939172872306,\n",
       "   0.8647798470279113,\n",
       "   0.8635561535602567,\n",
       "   0.8671321363121134,\n",
       "   0.8681456100700623,\n",
       "   0.8685960384519501,\n",
       "   0.8712809592908793,\n",
       "   0.869001198528979,\n",
       "   0.8681505225355581,\n",
       "   0.8663730824728084,\n",
       "   0.8591620260846777,\n",
       "   0.8556435817103644,\n",
       "   0.8570781182438666,\n",
       "   0.8598784874021036,\n",
       "   0.8609234750618308,\n",
       "   0.8642260146999794,\n",
       "   0.8706474905954531,\n",
       "   0.8700246611786316,\n",
       "   0.8684058063447713,\n",
       "   0.875083763736177,\n",
       "   0.8810559131956416,\n",
       "   0.8793329340423485,\n",
       "   0.87559406906796,\n",
       "   0.8760727872169178,\n",
       "   0.8751287036770191,\n",
       "   0.8753189984763923,\n",
       "   0.8752452351565216,\n",
       "   0.8784923262239219,\n",
       "   0.8802339856673344,\n",
       "   0.8815600420251986,\n",
       "   0.8883088241889842,\n",
       "   0.8886786741592128,\n",
       "   0.8935215281250148,\n",
       "   0.8912463589161752,\n",
       "   0.8954792837869388,\n",
       "   0.8935553437567921,\n",
       "   0.8903495221957817,\n",
       "   0.8893965094487848,\n",
       "   0.8904298690832262,\n",
       "   0.8900172126579965,\n",
       "   0.8962357167315106,\n",
       "   0.8988654473918533,\n",
       "   0.9034232926374068,\n",
       "   0.9028477039170768,\n",
       "   0.9027159399040923,\n",
       "   0.9018799254288382,\n",
       "   0.903851254946746,\n",
       "   0.9047567312744081,\n",
       "   0.90882281607291,\n",
       "   0.9087404400854704,\n",
       "   0.9110787414967161,\n",
       "   0.9129976562280959,\n",
       "   0.9116087550369031,\n",
       "   0.912633745070486,\n",
       "   0.9139137700621414,\n",
       "   0.9139846751293705,\n",
       "   0.914473645634182,\n",
       "   0.9179803916565843,\n",
       "   0.9172889236463521,\n",
       "   0.919683077873413,\n",
       "   0.9207740277194727,\n",
       "   0.9228846028467474,\n",
       "   0.9236685901621191,\n",
       "   0.9240169040180277,\n",
       "   0.9227364180713775,\n",
       "   0.9219941973127971,\n",
       "   0.9225523579171974,\n",
       "   0.9240074207765668,\n",
       "   0.9270504668066725,\n",
       "   0.9294661973965562,\n",
       "   0.9327849230538573,\n",
       "   0.9335396883889124,\n",
       "   0.9328072108029041,\n",
       "   0.9353271392007891,\n",
       "   0.9368957469628818,\n",
       "   0.9378651251095155,\n",
       "   0.9386190471239864,\n",
       "   0.9388498743978619,\n",
       "   0.9388022235757926,\n",
       "   0.9381979564611456,\n",
       "   0.9355694322400168,\n",
       "   0.9345706232843959,\n",
       "   0.9356015002837205,\n",
       "   0.9368171587670558,\n",
       "   0.9343643672191716,\n",
       "   0.9357409337298745,\n",
       "   0.9344041563270801,\n",
       "   0.9321165157866935,\n",
       "   0.931438794679945,\n",
       "   0.9353702578051447,\n",
       "   0.9355740593133256,\n",
       "   0.9378806172248485,\n",
       "   0.9373186271551519,\n",
       "   0.9398430231910523,\n",
       "   0.9390335176636797,\n",
       "   0.9366496108339974,\n",
       "   0.9374714093082236,\n",
       "   0.9390126714622261,\n",
       "   0.9399031982904261,\n",
       "   0.9397857873681827,\n",
       "   0.9404249528412828,\n",
       "   0.9419094128898745,\n",
       "   0.9426457314773625,\n",
       "   0.9444691259917335,\n",
       "   0.9453301590274132,\n",
       "   0.9469787419818695,\n",
       "   0.9481633807159354,\n",
       "   0.9471596674496042,\n",
       "   0.9479777254010301,\n",
       "   0.9486932134194824,\n",
       "   0.949561274923676,\n",
       "   0.9496228862597413,\n",
       "   0.9479822230628521,\n",
       "   0.9497852671491621,\n",
       "   0.9498843995442093,\n",
       "   0.9488495833451362,\n",
       "   0.951317884172583,\n",
       "   0.952470039018469,\n",
       "   0.9531721048656692,\n",
       "   0.9531573973791442,\n",
       "   0.9529462871513579,\n",
       "   0.9535364987397212,\n",
       "   0.9553814798584503,\n",
       "   0.9572779961649165,\n",
       "   0.9561612125401053,\n",
       "   0.9547767370057021,\n",
       "   0.9538310903458002,\n",
       "   0.9525113498270267]}]"
      ]
     },
     "execution_count": 154,
     "metadata": {},
     "output_type": "execute_result"
    }
   ],
   "source": [
    "rep_statistics"
   ]
  },
  {
   "cell_type": "code",
   "execution_count": 155,
   "id": "internal-fifty",
   "metadata": {
    "collapsed": true,
    "jupyter": {
     "outputs_hidden": true
    }
   },
   "outputs": [
    {
     "data": {
      "text/plain": [
       "{'Entropy': array([3.54427054, 3.58607735, 3.63309701, 3.66793204, 3.70384033,\n",
       "        3.73392778, 3.76634843, 3.79258975, 3.81812273, 3.84308038,\n",
       "        3.86901805, 3.89708167, 3.9226483 , 3.95062876, 3.97262421,\n",
       "        3.99321555, 4.00854653, 4.03192781, 4.05498321, 4.07282696,\n",
       "        4.09224234, 4.11207575, 4.13039662, 4.14880087, 4.16759135,\n",
       "        4.18652519, 4.20102676, 4.2183334 , 4.23408925, 4.24947819,\n",
       "        4.2650312 , 4.28156713, 4.29710123, 4.31316557, 4.32658211,\n",
       "        4.33947204, 4.35421104, 4.36800835, 4.38061639, 4.39367411,\n",
       "        4.40552926, 4.41513734, 4.42556035, 4.43648766, 4.44929942,\n",
       "        4.46082079, 4.47150112, 4.48231724, 4.49244588, 4.5023293 ,\n",
       "        4.51228894, 4.52184103, 4.53042298, 4.53966334, 4.54916019,\n",
       "        4.55822795, 4.56580509, 4.57552937, 4.58469629, 4.59265462,\n",
       "        4.59990842, 4.60829998, 4.61589497, 4.62276621, 4.63023541,\n",
       "        4.6378227 , 4.64519884, 4.65211002, 4.65918129, 4.66562832,\n",
       "        4.67185961, 4.67796533, 4.68477664, 4.69114205, 4.69728591,\n",
       "        4.70328218, 4.70882649, 4.71453282, 4.72039096, 4.72537009,\n",
       "        4.73116736, 4.73677945, 4.74209716, 4.7467307 , 4.75189302,\n",
       "        4.75719154, 4.76158322, 4.76570017, 4.77025986, 4.77478199,\n",
       "        4.77881806, 4.78246165, 4.78706769, 4.79126995, 4.7944899 ,\n",
       "        4.79815751, 4.80192228, 4.8055545 , 4.80866336, 4.81183979,\n",
       "        4.81532515, 4.81790172, 4.82066264, 4.82293422, 4.82622112,\n",
       "        4.82894752, 4.83221752, 4.83531507, 4.83797008, 4.84064316,\n",
       "        4.8436255 , 4.84602635, 4.84826819, 4.85089565, 4.85308667,\n",
       "        4.85571886, 4.85757807, 4.85950836, 4.86157494, 4.86346028,\n",
       "        4.86567878, 4.86791037, 4.86923965, 4.87148458, 4.87305985,\n",
       "        4.8751638 , 4.87612759, 4.87762364, 4.87972991, 4.88092547,\n",
       "        4.88264525, 4.88411853, 4.88547806, 4.88655713, 4.8877305 ,\n",
       "        4.88940291, 4.89065011, 4.89180867, 4.89312327, 4.89457522,\n",
       "        4.89536002, 4.89656058, 4.89770849, 4.89876769, 4.89908415,\n",
       "        4.89957029, 4.90033711, 4.90084486, 4.90208734, 4.90237071]),\n",
       " 'Proximity': array([0.96468727, 0.95212107, 0.93558888, 0.92213771, 0.90593495,\n",
       "        0.89403293, 0.8866674 , 0.88162626, 0.87667885, 0.8784287 ,\n",
       "        0.876673  , 0.87400541, 0.87327072, 0.86645723, 0.86501448,\n",
       "        0.86391457, 0.86738785, 0.86460333, 0.85867616, 0.86232077,\n",
       "        0.86172538, 0.859081  , 0.85959565, 0.85905934, 0.85895769,\n",
       "        0.85704657, 0.85839825, 0.85927719, 0.86021266, 0.85933421,\n",
       "        0.86076804, 0.86072233, 0.85842879, 0.85820876, 0.85878731,\n",
       "        0.85844683, 0.85789441, 0.85891028, 0.86156751, 0.86172006,\n",
       "        0.86368361, 0.86911679, 0.87229604, 0.87259084, 0.87391068,\n",
       "        0.87538832, 0.87476898, 0.87551661, 0.87789312, 0.87865244,\n",
       "        0.87937676, 0.87927148, 0.88216847, 0.8847664 , 0.88765392,\n",
       "        0.88872192, 0.89244741, 0.89303069, 0.89321022, 0.8941433 ,\n",
       "        0.89660843, 0.89619057, 0.89847173, 0.90160423, 0.90467691,\n",
       "        0.90506119, 0.90578787, 0.90722282, 0.90727177, 0.90933728,\n",
       "        0.91171389, 0.91147206, 0.91184646, 0.91418744, 0.91496477,\n",
       "        0.91489172, 0.91475113, 0.91585047, 0.91598895, 0.91671087,\n",
       "        0.91712671, 0.91871381, 0.91955357, 0.92093136, 0.92157164,\n",
       "        0.92246523, 0.92353165, 0.92365336, 0.92530389, 0.92695295,\n",
       "        0.92929042, 0.93108835, 0.93260542, 0.93403852, 0.93462913,\n",
       "        0.93463863, 0.93466744, 0.93496664, 0.93550122, 0.9349065 ,\n",
       "        0.93545796, 0.93639497, 0.93626841, 0.93700677, 0.93811419,\n",
       "        0.93878563, 0.93817055, 0.93958275, 0.93781028, 0.93759284,\n",
       "        0.93771312, 0.93869989, 0.93955485, 0.94261874, 0.94131563,\n",
       "        0.94148047, 0.94145215, 0.94160284, 0.94121087, 0.94138717,\n",
       "        0.94216333, 0.94326184, 0.94392735, 0.94609311, 0.94644729,\n",
       "        0.94709929, 0.94742688, 0.94805046, 0.94956366, 0.94923783,\n",
       "        0.95030464, 0.94978708, 0.9498993 , 0.9488947 , 0.94844437,\n",
       "        0.94919041, 0.94967549, 0.95047513, 0.95170403, 0.95367402,\n",
       "        0.95397307, 0.95295615, 0.95383621, 0.95486239, 0.9550749 ,\n",
       "        0.95527264, 0.95559154, 0.95568528, 0.95561015, 0.95567481])}"
      ]
     },
     "execution_count": 155,
     "metadata": {},
     "output_type": "execute_result"
    }
   ],
   "source": [
    "mean_statistics"
   ]
  },
  {
   "cell_type": "code",
   "execution_count": null,
   "id": "pharmaceutical-accused",
   "metadata": {},
   "outputs": [],
   "source": []
  },
  {
   "cell_type": "markdown",
   "id": "optional-thumbnail",
   "metadata": {},
   "source": [
    "__TO DOs:__\n",
    "\n",
    "- Faça um plot para visualizar o vetor de pesos / as "
   ]
  },
  {
   "cell_type": "code",
   "execution_count": 19,
   "id": "consolidated-credits",
   "metadata": {},
   "outputs": [],
   "source": [
    "A = np.random.randn(50, 150)"
   ]
  },
  {
   "cell_type": "code",
   "execution_count": 20,
   "id": "acute-picnic",
   "metadata": {},
   "outputs": [
    {
     "data": {
      "text/plain": [
       "2"
      ]
     },
     "execution_count": 20,
     "metadata": {},
     "output_type": "execute_result"
    }
   ],
   "source": [
    "len(A.shape)"
   ]
  },
  {
   "cell_type": "code",
   "execution_count": null,
   "id": "chemical-pennsylvania",
   "metadata": {},
   "outputs": [],
   "source": []
  }
 ],
 "metadata": {
  "kernelspec": {
   "display_name": "Python 3",
   "language": "python",
   "name": "python3"
  },
  "language_info": {
   "codemirror_mode": {
    "name": "ipython",
    "version": 3
   },
   "file_extension": ".py",
   "mimetype": "text/x-python",
   "name": "python",
   "nbconvert_exporter": "python",
   "pygments_lexer": "ipython3",
   "version": "3.8.5"
  }
 },
 "nbformat": 4,
 "nbformat_minor": 5
}
