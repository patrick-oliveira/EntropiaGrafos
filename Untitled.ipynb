{
 "cells": [
  {
   "cell_type": "code",
   "execution_count": 1,
   "id": "a06bd3db-6c4c-4d73-b475-f704f2796dbd",
   "metadata": {},
   "outputs": [],
   "source": [
    "%load_ext autoreload\n",
    "%autoreload 2"
   ]
  },
  {
   "cell_type": "code",
   "execution_count": 41,
   "id": "b9c1d11d-79f4-4ad7-b285-69f038a9e361",
   "metadata": {},
   "outputs": [],
   "source": [
    "from Scripts.Memory import *\n",
    "from Scripts.Entropy import *\n",
    "from Scripts.ModelDynamics import *\n",
    "from Scripts.Parameters import memory_size, code_length"
   ]
  },
  {
   "cell_type": "code",
   "execution_count": 3,
   "id": "fe7345ac-58a1-4a59-9723-034960096619",
   "metadata": {},
   "outputs": [],
   "source": [
    "kappa = 1"
   ]
  },
  {
   "cell_type": "markdown",
   "id": "819fdcde-ce0e-4797-b6ff-55ec88573701",
   "metadata": {},
   "source": [
    "***"
   ]
  },
  {
   "cell_type": "markdown",
   "id": "5ce113f2-87ec-48f9-a8cd-0fc15c694091",
   "metadata": {},
   "source": [
    "__Testando a criação de memórias.__"
   ]
  },
  {
   "cell_type": "code",
   "execution_count": 7,
   "id": "50cb62cd-f412-4818-b453-949a673f65ca",
   "metadata": {},
   "outputs": [],
   "source": [
    "memory = initialize_memory()\n",
    "lista_codigos, polaridades = memory"
   ]
  },
  {
   "cell_type": "code",
   "execution_count": 8,
   "id": "17d91022-6c44-4d57-bf50-23141463d8b9",
   "metadata": {},
   "outputs": [
    {
     "data": {
      "text/plain": [
       "array([[0, 1, 1, 1, 1, 0, 1, 1],\n",
       "       [1, 0, 0, 1, 0, 1, 0, 1],\n",
       "       [1, 0, 0, 0, 1, 0, 0, 0],\n",
       "       [1, 0, 0, 0, 0, 1, 1, 1],\n",
       "       [0, 1, 1, 1, 1, 1, 0, 1]])"
      ]
     },
     "execution_count": 8,
     "metadata": {},
     "output_type": "execute_result"
    }
   ],
   "source": [
    "lista_codigos[:5]"
   ]
  },
  {
   "cell_type": "code",
   "execution_count": 10,
   "id": "0dda9f84-4d6a-42e9-a26e-528cfcca012e",
   "metadata": {},
   "outputs": [
    {
     "data": {
      "text/plain": [
       "array([0.86997   , 0.53753995, 0.13003292, 0.54753579, 0.63065969])"
      ]
     },
     "execution_count": 10,
     "metadata": {},
     "output_type": "execute_result"
    }
   ],
   "source": [
    "polaridades[:5]"
   ]
  },
  {
   "cell_type": "code",
   "execution_count": 19,
   "id": "168d8c58-79ea-4d54-adb9-525ab859ee6f",
   "metadata": {},
   "outputs": [
    {
     "data": {
      "text/plain": [
       "1.0000000000000002"
      ]
     },
     "execution_count": 19,
     "metadata": {},
     "output_type": "execute_result"
    }
   ],
   "source": [
    "prob_dist = probability_distribution(memory)\n",
    "sum(prob_dist.values())"
   ]
  },
  {
   "cell_type": "code",
   "execution_count": 22,
   "id": "f8ee2b31-c549-4c53-9dc3-d74b8475a551",
   "metadata": {},
   "outputs": [
    {
     "data": {
      "text/plain": [
       "4.526370130156181"
      ]
     },
     "execution_count": 22,
     "metadata": {},
     "output_type": "execute_result"
    }
   ],
   "source": [
    "memory_entropy(memory, prob_dist)"
   ]
  },
  {
   "cell_type": "markdown",
   "id": "fcf443e6-f568-4d1b-8801-8b96387c1d32",
   "metadata": {},
   "source": [
    "__Testando a criação de indivíduos.__"
   ]
  },
  {
   "cell_type": "code",
   "execution_count": 6,
   "id": "89312a65-521e-49ec-9e87-6c32cf9e6f6a",
   "metadata": {},
   "outputs": [],
   "source": [
    "from Scripts.Individual import Individual"
   ]
  },
  {
   "cell_type": "code",
   "execution_count": 34,
   "id": "c673a79d-8835-45ab-9db6-28dfd8359f3d",
   "metadata": {},
   "outputs": [],
   "source": [
    "individual = Individual(kappa)"
   ]
  },
  {
   "cell_type": "code",
   "execution_count": 40,
   "id": "e3215c45-d110-4cd0-babe-f7ec12c639f3",
   "metadata": {},
   "outputs": [
    {
     "data": {
      "text/plain": [
       "array([0, 1, 1, 1, 0, 1, 0, 1])"
      ]
     },
     "execution_count": 40,
     "metadata": {},
     "output_type": "execute_result"
    }
   ],
   "source": [
    "individual.X"
   ]
  },
  {
   "cell_type": "markdown",
   "id": "ff8c838e-600a-4257-9e10-5a23327d2b5d",
   "metadata": {},
   "source": [
    "__Testando funções da dinâmica do sistema__"
   ]
  },
  {
   "cell_type": "code",
   "execution_count": 43,
   "id": "0950ba56-abaa-457c-9ba1-5d007b6c4aa6",
   "metadata": {},
   "outputs": [
    {
     "data": {
      "text/plain": [
       "{0: 0.38487911980909295, 1: 0.38487911980909295}"
      ]
     },
     "execution_count": 43,
     "metadata": {},
     "output_type": "execute_result"
    }
   ],
   "source": [
    "transition_probability = get_transition_probabilities(individual)\n",
    "transition_probability"
   ]
  },
  {
   "cell_type": "code",
   "execution_count": 77,
   "id": "2625c778-b9bf-4adc-ae74-efc2ee6f929f",
   "metadata": {},
   "outputs": [
    {
     "name": "stdout",
     "output_type": "stream",
     "text": [
      "[0 1 1 1 1 0 1 0]\n",
      "[1 1 1 1 0 0 1 0]\n"
     ]
    }
   ],
   "source": [
    "random_code = individual.X\n",
    "print(random_code)\n",
    "distorted_code = distort(random_code, transition_probability)\n",
    "print(distorted_code)"
   ]
  },
  {
   "cell_type": "code",
   "execution_count": 79,
   "id": "b2f4ab49-d322-4ea2-a33e-97a4e13c7ad6",
   "metadata": {},
   "outputs": [
    {
     "name": "stdout",
     "output_type": "stream",
     "text": [
      "[0.38487912 0.38487912 0.38487912 0.38487912 0.38487912 0.38487912\n",
      " 0.38487912 0.38487912]\n"
     ]
    }
   ],
   "source": [
    "transition_probabilities = np.vectorize(lambda x: transition_probability[x])(random_code)\n",
    "print(transition_probabilities)"
   ]
  },
  {
   "cell_type": "code",
   "execution_count": 80,
   "id": "ac5c615e-c332-4c41-af37-bffc5b935c05",
   "metadata": {},
   "outputs": [
    {
     "data": {
      "text/plain": [
       "array([0.43913491, 0.37694443, 0.46267979, 0.30137787, 0.74760938,\n",
       "       0.50272039, 0.2322127 , 0.89957457])"
      ]
     },
     "execution_count": 80,
     "metadata": {},
     "output_type": "execute_result"
    }
   ],
   "source": [
    "random_numbers = np.random.uniform(size = code_length)\n",
    "random_numbers"
   ]
  },
  {
   "cell_type": "code",
   "execution_count": 83,
   "id": "40cbedd3-9a00-47f0-91fe-1a7c2acdd07c",
   "metadata": {},
   "outputs": [
    {
     "name": "stdout",
     "output_type": "stream",
     "text": [
      "[0 1 0 1 0 0 1 0]\n"
     ]
    }
   ],
   "source": [
    "mutate = (random_numbers <= transition_probabilities).astype(int)\n",
    "print(mutate)"
   ]
  },
  {
   "cell_type": "code",
   "execution_count": 84,
   "id": "f71d7898-e2fd-48de-8d9b-a52f1f4ecc2e",
   "metadata": {},
   "outputs": [
    {
     "name": "stdout",
     "output_type": "stream",
     "text": [
      "[1 3 6]\n"
     ]
    }
   ],
   "source": [
    "mutate = np.argwhere(mutate).reshape(-1)\n",
    "print(mutate)"
   ]
  },
  {
   "cell_type": "code",
   "execution_count": 85,
   "id": "0ec5bc47-3ed4-4845-af4d-007347e874ff",
   "metadata": {},
   "outputs": [
    {
     "name": "stdout",
     "output_type": "stream",
     "text": [
      "[1 1 1 1 0 0 1 0]\n",
      "[1 0 1 0 0 0 0 0]\n"
     ]
    }
   ],
   "source": [
    "print(random_code)\n",
    "random_code[mutate] = np.logical_not(random_code[mutate]).astype(int)\n",
    "print(random_code)"
   ]
  },
  {
   "cell_type": "markdown",
   "id": "f21314cd-8589-4ae9-ad72-e16337925016",
   "metadata": {},
   "source": [
    "__Testando criação do modelo__"
   ]
  },
  {
   "cell_type": "code",
   "execution_count": 86,
   "id": "aaee7dc3-841f-4434-a361-fd3d76e930b7",
   "metadata": {},
   "outputs": [
    {
     "ename": "ImportError",
     "evalue": "cannot import name '_indInfo' from 'Scripts.ModelDynamics' (C:\\Users\\olipp\\Dropbox\\Patrick\\Programa\\EntropiaGrafos\\Scripts\\ModelDynamics.py)",
     "output_type": "error",
     "traceback": [
      "\u001b[1;31m---------------------------------------------------------------------------\u001b[0m",
      "\u001b[1;31mImportError\u001b[0m                               Traceback (most recent call last)",
      "\u001b[1;32m<ipython-input-86-bd3e99f9153d>\u001b[0m in \u001b[0;36m<module>\u001b[1;34m\u001b[0m\n\u001b[1;32m----> 1\u001b[1;33m \u001b[1;32mfrom\u001b[0m \u001b[0mScripts\u001b[0m\u001b[1;33m.\u001b[0m\u001b[0mModel\u001b[0m \u001b[1;32mimport\u001b[0m \u001b[0mModel\u001b[0m\u001b[1;33m\u001b[0m\u001b[1;33m\u001b[0m\u001b[0m\n\u001b[0m",
      "\u001b[1;32m~\\Dropbox\\Patrick\\Programa\\EntropiaGrafos\\Scripts\\Model.py\u001b[0m in \u001b[0;36m<module>\u001b[1;34m\u001b[0m\n\u001b[0;32m      5\u001b[0m \u001b[1;32mfrom\u001b[0m \u001b[0mScripts\u001b[0m\u001b[1;33m.\u001b[0m\u001b[0mTypes\u001b[0m \u001b[1;32mimport\u001b[0m \u001b[0mDict\u001b[0m\u001b[1;33m\u001b[0m\u001b[1;33m\u001b[0m\u001b[0m\n\u001b[0;32m      6\u001b[0m \u001b[1;32mfrom\u001b[0m \u001b[0mScripts\u001b[0m\u001b[1;33m.\u001b[0m\u001b[0mIndividual\u001b[0m \u001b[1;32mimport\u001b[0m \u001b[0mIndividual\u001b[0m\u001b[1;33m\u001b[0m\u001b[1;33m\u001b[0m\u001b[0m\n\u001b[1;32m----> 7\u001b[1;33m \u001b[1;32mfrom\u001b[0m \u001b[0mScripts\u001b[0m\u001b[1;33m.\u001b[0m\u001b[0mModelDynamics\u001b[0m \u001b[1;32mimport\u001b[0m \u001b[0macceptance_probability\u001b[0m\u001b[1;33m,\u001b[0m \u001b[0m_indInfo\u001b[0m\u001b[1;33m,\u001b[0m \u001b[0m_indTendency\u001b[0m\u001b[1;33m,\u001b[0m \u001b[0mget_transition_probability\u001b[0m\u001b[1;33m,\u001b[0m \u001b[0mevaluate_information\u001b[0m\u001b[1;33m,\u001b[0m \u001b[0mdistort\u001b[0m\u001b[1;33m\u001b[0m\u001b[1;33m\u001b[0m\u001b[0m\n\u001b[0m\u001b[0;32m      8\u001b[0m \u001b[1;32mfrom\u001b[0m \u001b[0mScripts\u001b[0m\u001b[1;33m.\u001b[0m\u001b[0mEntropy\u001b[0m \u001b[1;32mimport\u001b[0m \u001b[0mJSD\u001b[0m\u001b[1;33m\u001b[0m\u001b[1;33m\u001b[0m\u001b[0m\n\u001b[0;32m      9\u001b[0m \u001b[1;32mfrom\u001b[0m \u001b[0mScripts\u001b[0m\u001b[1;33m.\u001b[0m\u001b[0mParameters\u001b[0m \u001b[1;32mimport\u001b[0m \u001b[0mpa\u001b[0m\u001b[1;33m,\u001b[0m \u001b[0mmu\u001b[0m\u001b[1;33m,\u001b[0m \u001b[0mm\u001b[0m\u001b[1;33m\u001b[0m\u001b[1;33m\u001b[0m\u001b[0m\n",
      "\u001b[1;31mImportError\u001b[0m: cannot import name '_indInfo' from 'Scripts.ModelDynamics' (C:\\Users\\olipp\\Dropbox\\Patrick\\Programa\\EntropiaGrafos\\Scripts\\ModelDynamics.py)"
     ]
    }
   ],
   "source": [
    "from Scripts.Model import Model"
   ]
  },
  {
   "cell_type": "code",
   "execution_count": null,
   "id": "b246c9c0-2c60-4419-add7-4641f540c38c",
   "metadata": {},
   "outputs": [],
   "source": []
  },
  {
   "cell_type": "markdown",
   "id": "a196ccc6-5a8a-46c3-9e4b-05e0cb0ab3c1",
   "metadata": {},
   "source": [
    "__TO DOs:__\n",
    "\n",
    "- Faça um plot para visualizar o vetor de pesos / as "
   ]
  },
  {
   "cell_type": "code",
   "execution_count": null,
   "id": "9b063aeb-a4d5-4f67-b503-7ee043d3aca5",
   "metadata": {},
   "outputs": [],
   "source": []
  }
 ],
 "metadata": {
  "kernelspec": {
   "display_name": "Python 3",
   "language": "python",
   "name": "python3"
  },
  "language_info": {
   "codemirror_mode": {
    "name": "ipython",
    "version": 3
   },
   "file_extension": ".py",
   "mimetype": "text/x-python",
   "name": "python",
   "nbconvert_exporter": "python",
   "pygments_lexer": "ipython3",
   "version": "3.8.10"
  }
 },
 "nbformat": 4,
 "nbformat_minor": 5
}
