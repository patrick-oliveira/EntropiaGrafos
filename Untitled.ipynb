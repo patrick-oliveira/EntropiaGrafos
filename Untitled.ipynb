{
 "cells": [
  {
   "cell_type": "code",
   "execution_count": 9,
   "id": "99d54faf",
   "metadata": {},
   "outputs": [],
   "source": [
    "from opdynamics.simulation import initialize_model\n",
    "from opdynamics.utils.model_modification import modify_model"
   ]
  },
  {
   "cell_type": "code",
   "execution_count": 21,
   "id": "d022e53f",
   "metadata": {},
   "outputs": [],
   "source": [
    "params = {\n",
    "    \"graph_type\": \"barabasi\",\n",
    "    \"network_size\": 500,\n",
    "    \"memory_size\": 160,\n",
    "    \"code_length\": 5,\n",
    "    \"kappa\": 30,\n",
    "    \"lambd\": 0,\n",
    "    \"alpha\": 0,\n",
    "    \"omega\": 0, \n",
    "    \"gamma\": 1,\n",
    "    \"prefferential_attachment\": 2,\n",
    "    \"polarization_grouping_type\": 1,\n",
    "    \"T\": 500,\n",
    "    \"num_repetitions\": int,\n",
    "    \"results_path\": \"results\"\n",
    "}\n",
    "\n",
    "model = initialize_model(**params)\n",
    "# model = modify_model(model)"
   ]
  },
  {
   "cell_type": "code",
   "execution_count": 22,
   "id": "a9fae45d",
   "metadata": {},
   "outputs": [],
   "source": [
    "from opdynamics.utils.types import Parameters\n",
    "\n",
    "def param_to_hash(params: Parameters) -> str:\n",
    "    param_tuple = tuple(params.values())\n",
    "    return str(hash(param_tuple))"
   ]
  },
  {
   "cell_type": "code",
   "execution_count": 23,
   "id": "006e9070",
   "metadata": {},
   "outputs": [
    {
     "data": {
      "text/plain": [
       "'-1252619067306615623'"
      ]
     },
     "execution_count": 23,
     "metadata": {},
     "output_type": "execute_result"
    }
   ],
   "source": [
    "param_to_hash(params)"
   ]
  },
  {
   "cell_type": "code",
   "execution_count": 31,
   "id": "52e4065e",
   "metadata": {},
   "outputs": [
    {
     "ename": "AttributeError",
     "evalue": "'int' object has no attribute 'close'",
     "output_type": "error",
     "traceback": [
      "\u001b[0;31m---------------------------------------------------------------------------\u001b[0m",
      "\u001b[0;31mAttributeError\u001b[0m                            Traceback (most recent call last)",
      "\u001b[0;32m/tmp/ipykernel_100059/410599944.py\u001b[0m in \u001b[0;36m<module>\u001b[0;34m\u001b[0m\n\u001b[0;32m----> 1\u001b[0;31m \u001b[0mopen\u001b[0m\u001b[0;34m(\u001b[0m\u001b[0;34m\"results/last_run.txt\"\u001b[0m\u001b[0;34m,\u001b[0m \u001b[0;34m\"w\"\u001b[0m\u001b[0;34m)\u001b[0m\u001b[0;34m.\u001b[0m\u001b[0mwrite\u001b[0m\u001b[0;34m(\u001b[0m\u001b[0;34m\"0\"\u001b[0m\u001b[0;34m)\u001b[0m\u001b[0;34m.\u001b[0m\u001b[0mclose\u001b[0m\u001b[0;34m(\u001b[0m\u001b[0;34m)\u001b[0m\u001b[0;34m\u001b[0m\u001b[0;34m\u001b[0m\u001b[0m\n\u001b[0m",
      "\u001b[0;31mAttributeError\u001b[0m: 'int' object has no attribute 'close'"
     ]
    }
   ],
   "source": [
    "f = open(\"results/last_run.txt\", \"w\")\n",
    "f.write(\"0\")\n",
    "f.close()"
   ]
  },
  {
   "cell_type": "code",
   "execution_count": 30,
   "id": "74263aaa",
   "metadata": {},
   "outputs": [
    {
     "data": {
      "text/plain": [
       "0"
      ]
     },
     "execution_count": 30,
     "metadata": {},
     "output_type": "execute_result"
    }
   ],
   "source": [
    "f = open(\"results/last_run.txt\", \"r\")\n",
    "int(f.read())"
   ]
  },
  {
   "cell_type": "code",
   "execution_count": null,
   "id": "b618d88c",
   "metadata": {},
   "outputs": [],
   "source": []
  }
 ],
 "metadata": {
  "kernelspec": {
   "display_name": "Python 3 (ipykernel)",
   "language": "python",
   "name": "python3"
  },
  "language_info": {
   "codemirror_mode": {
    "name": "ipython",
    "version": 3
   },
   "file_extension": ".py",
   "mimetype": "text/x-python",
   "name": "python",
   "nbconvert_exporter": "python",
   "pygments_lexer": "ipython3",
   "version": "3.9.7"
  },
  "vscode": {
   "interpreter": {
    "hash": "b1146f09590d57c0ffe6b7969f117f90fd123f00364ddcbfa67a5a24202c3fe9"
   }
  }
 },
 "nbformat": 4,
 "nbformat_minor": 5
}
