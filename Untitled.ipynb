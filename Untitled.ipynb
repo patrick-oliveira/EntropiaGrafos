{
 "cells": [
  {
   "cell_type": "code",
   "execution_count": 1,
   "id": "external-assessment",
   "metadata": {},
   "outputs": [],
   "source": [
    "%load_ext autoreload\n",
    "%autoreload 2"
   ]
  },
  {
   "cell_type": "code",
   "execution_count": 2,
   "id": "graphic-knitting",
   "metadata": {},
   "outputs": [],
   "source": [
    "from Scripts.Memory import *\n",
    "from Scripts.Entropy import *\n",
    "from Scripts.ModelDynamics import *\n",
    "from Scripts.Parameters import memory_size, code_length\n",
    "import matplotlib.pyplot as plt\n",
    "from Plotting import simplePlot"
   ]
  },
  {
   "cell_type": "markdown",
   "id": "adopted-declaration",
   "metadata": {},
   "source": [
    "***"
   ]
  },
  {
   "cell_type": "markdown",
   "id": "included-migration",
   "metadata": {},
   "source": [
    "__Testando a criação de memórias.__"
   ]
  },
  {
   "cell_type": "code",
   "execution_count": 206,
   "id": "986a10ad-596f-47c2-adb2-937ad1a93d75",
   "metadata": {},
   "outputs": [],
   "source": [
    "code_length = 5"
   ]
  },
  {
   "cell_type": "code",
   "execution_count": 3,
   "id": "78358e15-97de-4a89-bd8f-a6e51df33618",
   "metadata": {},
   "outputs": [],
   "source": [
    "powers_of_two = 2**np.arange(code_length)[::-1]"
   ]
  },
  {
   "cell_type": "code",
   "execution_count": 4,
   "id": "included-manhattan",
   "metadata": {},
   "outputs": [],
   "source": [
    "memory = initialize_memory()\n",
    "lista_codigos, polaridades = memory"
   ]
  },
  {
   "cell_type": "code",
   "execution_count": 5,
   "id": "spectacular-sigma",
   "metadata": {},
   "outputs": [
    {
     "data": {
      "text/plain": [
       "array([[0, 1, 1, 0, 0],\n",
       "       [1, 0, 0, 1, 1],\n",
       "       [1, 0, 0, 0, 1],\n",
       "       [1, 0, 0, 1, 0],\n",
       "       [0, 1, 0, 1, 0]])"
      ]
     },
     "execution_count": 5,
     "metadata": {},
     "output_type": "execute_result"
    }
   ],
   "source": [
    "lista_codigos[:5]"
   ]
  },
  {
   "cell_type": "code",
   "execution_count": 9,
   "id": "5663f293-ed7b-484f-b364-162ce1905ec1",
   "metadata": {},
   "outputs": [
    {
     "data": {
      "text/plain": [
       "array([16,  8,  4,  2,  1], dtype=int32)"
      ]
     },
     "execution_count": 9,
     "metadata": {},
     "output_type": "execute_result"
    }
   ],
   "source": [
    "powers_of_two"
   ]
  },
  {
   "cell_type": "code",
   "execution_count": 15,
   "id": "d405e127-9c87-4e6b-bbc1-02b9fba80ce0",
   "metadata": {},
   "outputs": [
    {
     "data": {
      "text/plain": [
       "array([12, 19, 17, 18, 10, 21, 19, 14, 13, 13, 15, 16, 16, 14, 17, 13, 14,\n",
       "       15, 16, 18, 14, 16, 17, 11, 17, 13, 12, 21, 21, 18, 15, 12, 17, 16,\n",
       "       13, 16, 11, 20, 14, 17, 15, 16, 16, 13, 21, 18, 20, 20, 17, 20])"
      ]
     },
     "execution_count": 15,
     "metadata": {},
     "output_type": "execute_result"
    }
   ],
   "source": [
    "(powers_of_two*memory[0]).sum(axis = 1)"
   ]
  },
  {
   "cell_type": "code",
   "execution_count": 226,
   "id": "e0bdceda-6311-48da-b416-fdcf9492cfec",
   "metadata": {},
   "outputs": [
    {
     "data": {
      "text/plain": [
       "array([16,  8,  4,  2,  1], dtype=int32)"
      ]
     },
     "execution_count": 226,
     "metadata": {},
     "output_type": "execute_result"
    }
   ],
   "source": [
    "powers_of_two"
   ]
  },
  {
   "cell_type": "code",
   "execution_count": 224,
   "id": "a462b89e-372c-4c43-8bbf-79de5efa9b72",
   "metadata": {},
   "outputs": [
    {
     "data": {
      "text/plain": [
       "array([14,  9, 17, 20, 14])"
      ]
     },
     "execution_count": 224,
     "metadata": {},
     "output_type": "execute_result"
    }
   ],
   "source": [
    "np.matmul(lista_codigos[:5], powers_of_two)"
   ]
  },
  {
   "cell_type": "code",
   "execution_count": 91,
   "id": "emotional-indie",
   "metadata": {},
   "outputs": [
    {
     "data": {
      "text/plain": [
       "array([0.83659914, 0.2404288 , 0.83659914, 0.16340086, 0.3764668 ])"
      ]
     },
     "execution_count": 91,
     "metadata": {},
     "output_type": "execute_result"
    }
   ],
   "source": [
    "polaridades[:5]"
   ]
  },
  {
   "cell_type": "code",
   "execution_count": 228,
   "id": "reserved-seeker",
   "metadata": {},
   "outputs": [
    {
     "data": {
      "text/plain": [
       "1.0"
      ]
     },
     "execution_count": 228,
     "metadata": {},
     "output_type": "execute_result"
    }
   ],
   "source": [
    "prob_dist = probability_distribution(memory)\n",
    "sum(prob_dist)"
   ]
  },
  {
   "cell_type": "code",
   "execution_count": 199,
   "id": "45aa7fa7-0b38-4fe8-985d-684293bce603",
   "metadata": {},
   "outputs": [
    {
     "data": {
      "text/plain": [
       "array([0.  , 0.  , 0.  , 0.  , 0.  , 0.  , 0.  , 0.  , 0.  , 0.02, 0.  ,\n",
       "       0.08, 0.04, 0.08, 0.04, 0.06, 0.16, 0.26, 0.02, 0.08, 0.08, 0.06,\n",
       "       0.02, 0.  , 0.  , 0.  , 0.  , 0.  , 0.  , 0.  , 0.  , 0.  ])"
      ]
     },
     "execution_count": 199,
     "metadata": {},
     "output_type": "execute_result"
    }
   ],
   "source": [
    "prob_dist"
   ]
  },
  {
   "cell_type": "code",
   "execution_count": 203,
   "id": "damaged-method",
   "metadata": {},
   "outputs": [
    {
     "data": {
      "text/plain": [
       "3.2915463629715016"
      ]
     },
     "execution_count": 203,
     "metadata": {},
     "output_type": "execute_result"
    }
   ],
   "source": [
    "memory_entropy(memory, prob_dist)"
   ]
  },
  {
   "cell_type": "code",
   "execution_count": 229,
   "id": "de1af063-712f-409b-9c50-aae9c1c15cc0",
   "metadata": {},
   "outputs": [],
   "source": [
    "memory_1 = initialize_memory()\n",
    "memory_2 = initialize_memory()\n",
    "P = probability_distribution(memory_1)\n",
    "Q = probability_distribution(memory_2)"
   ]
  },
  {
   "cell_type": "code",
   "execution_count": 193,
   "id": "b5cff3f9-1f26-4022-ba16-f2079ba1ad94",
   "metadata": {},
   "outputs": [
    {
     "data": {
      "text/plain": [
       "array([False, False, False, False, False, False, False, False, False,\n",
       "       False, False,  True,  True,  True,  True,  True,  True,  True,\n",
       "        True,  True,  True,  True,  True,  True, False, False, False,\n",
       "       False, False, False, False, False])"
      ]
     },
     "execution_count": 193,
     "metadata": {},
     "output_type": "execute_result"
    }
   ],
   "source": [
    "P>0"
   ]
  },
  {
   "cell_type": "code",
   "execution_count": 234,
   "id": "2bd256fe-41ea-49a7-b9dd-708f69eeb1dd",
   "metadata": {},
   "outputs": [],
   "source": [
    "teste = {0: 0.5, 1: 0.6}"
   ]
  },
  {
   "cell_type": "code",
   "execution_count": 240,
   "id": "e3970237-0586-4374-bec7-10d294470f37",
   "metadata": {},
   "outputs": [
    {
     "data": {
      "text/plain": [
       "array([1, 0, 0, 1, 1])"
      ]
     },
     "execution_count": 240,
     "metadata": {},
     "output_type": "execute_result"
    }
   ],
   "source": [
    "amostra = lista_codigos[:5][0]\n",
    "amostra"
   ]
  },
  {
   "cell_type": "code",
   "execution_count": 243,
   "id": "2eb3fb4b-f7b5-4594-a3f9-5431724485bb",
   "metadata": {},
   "outputs": [],
   "source": [
    "f = lambda x: (1 - x)*0.5 + x*0.6"
   ]
  },
  {
   "cell_type": "code",
   "execution_count": 244,
   "id": "260626fc-bd74-4eda-ade1-eb7cd0947125",
   "metadata": {},
   "outputs": [
    {
     "data": {
      "text/plain": [
       "array([0.6, 0.5, 0.5, 0.6, 0.6])"
      ]
     },
     "execution_count": 244,
     "metadata": {},
     "output_type": "execute_result"
    }
   ],
   "source": [
    "f(amostra)"
   ]
  },
  {
   "cell_type": "code",
   "execution_count": 194,
   "id": "b1913357-ce52-405c-9e93-314be70644be",
   "metadata": {},
   "outputs": [],
   "source": [
    "not_zero_indexes_1 = np.arange(2**5)[(P > 0) * (Q > 0)]\n",
    "P_not_zero_indexes = np.nonzero(P)[0]\n",
    "Q_not_zero_indexes = np.nonzero(Q)[0]\n",
    "not_zero_indexes_2 = np.intersect1d(P_not_zero_indexes, Q_not_zero_indexes)"
   ]
  },
  {
   "cell_type": "code",
   "execution_count": 195,
   "id": "cb857ba9-3eb0-4031-a716-83c5d85427f2",
   "metadata": {},
   "outputs": [
    {
     "data": {
      "text/plain": [
       "array([11, 12, 13, 14, 15, 16, 17, 18, 19, 20, 21])"
      ]
     },
     "execution_count": 195,
     "metadata": {},
     "output_type": "execute_result"
    }
   ],
   "source": [
    "not_zero_indexes_1"
   ]
  },
  {
   "cell_type": "code",
   "execution_count": 196,
   "id": "9aabb601-7faf-4adc-bc74-2bf84e96fd75",
   "metadata": {},
   "outputs": [
    {
     "data": {
      "text/plain": [
       "array([11, 12, 13, 14, 15, 16, 17, 18, 19, 20, 21], dtype=int64)"
      ]
     },
     "execution_count": 196,
     "metadata": {},
     "output_type": "execute_result"
    }
   ],
   "source": [
    "not_zero_indexes_2"
   ]
  },
  {
   "cell_type": "code",
   "execution_count": 191,
   "id": "5cad34c4-d09b-4759-bf7a-7790d311158e",
   "metadata": {},
   "outputs": [
    {
     "data": {
      "text/plain": [
       "array([11, 12, 13, 14, 15, 16, 17, 18, 19, 20, 21, 22, 23], dtype=int64)"
      ]
     },
     "execution_count": 191,
     "metadata": {},
     "output_type": "execute_result"
    }
   ],
   "source": [
    "P_not_zero_indexes"
   ]
  },
  {
   "cell_type": "code",
   "execution_count": 192,
   "id": "81966176-c84a-4fc8-bdfc-99b90c372fcc",
   "metadata": {},
   "outputs": [
    {
     "data": {
      "text/plain": [
       "array([11, 12, 13, 14, 15, 16, 17, 18, 19, 20, 21], dtype=int64)"
      ]
     },
     "execution_count": 192,
     "metadata": {},
     "output_type": "execute_result"
    }
   ],
   "source": [
    "Q_not_zero_indexes"
   ]
  },
  {
   "cell_type": "code",
   "execution_count": 230,
   "id": "a9e42ff2-2b2e-4b82-a46d-a95458a007e9",
   "metadata": {},
   "outputs": [],
   "source": [
    "from Scripts.Entropy import JSD, D"
   ]
  },
  {
   "cell_type": "code",
   "execution_count": 232,
   "id": "416e9a01-949a-4a80-baa2-4789518e3cd8",
   "metadata": {},
   "outputs": [
    {
     "data": {
      "text/plain": [
       "0.9091535334590194"
      ]
     },
     "execution_count": 232,
     "metadata": {},
     "output_type": "execute_result"
    }
   ],
   "source": [
    "1 - JSD(prob_dist_1, prob_dist_2)"
   ]
  },
  {
   "cell_type": "code",
   "execution_count": 233,
   "id": "9ebff49f-6464-4c6c-a319-23ecc8678c2b",
   "metadata": {},
   "outputs": [
    {
     "data": {
      "text/plain": [
       "0.9091535334590186"
      ]
     },
     "execution_count": 233,
     "metadata": {},
     "output_type": "execute_result"
    }
   ],
   "source": [
    "1 - JSD(prob_dist_1, prob_dist_2)"
   ]
  },
  {
   "cell_type": "code",
   "execution_count": 160,
   "id": "3b06696b-12c7-49da-871f-eec280ae9175",
   "metadata": {},
   "outputs": [],
   "source": [
    "M = (prob_dist_1 + prob_dist_2)/2"
   ]
  },
  {
   "cell_type": "code",
   "execution_count": 161,
   "id": "e7dc1a5b-ded6-4825-8fa7-d4958ee788a1",
   "metadata": {},
   "outputs": [],
   "source": [
    "from functools import partial"
   ]
  },
  {
   "cell_type": "code",
   "execution_count": 181,
   "id": "9fb3012b-e908-46c1-b0f7-203023728a0f",
   "metadata": {},
   "outputs": [],
   "source": [
    "def _D(P: CodeDistribution, Q: CodeDistribution):\n",
    "    return sum(map(partial(__D, P, Q), range(2**5)))"
   ]
  },
  {
   "cell_type": "code",
   "execution_count": 184,
   "id": "98992f63-7772-4f27-b71b-435d95b43187",
   "metadata": {},
   "outputs": [],
   "source": [
    "def __D(P: CodeDistribution, Q: CodeDistribution, x: int):\n",
    "    if P[x] == 0:\n",
    "        return 0\n",
    "    else:\n",
    "        if Q[x] == 0:\n",
    "            return np.inf\n",
    "        else:\n",
    "            return P[x]*np.log2(P[x]/Q[x])"
   ]
  },
  {
   "cell_type": "code",
   "execution_count": 186,
   "id": "4d8f2ad7-44eb-4853-b036-55242c7feeee",
   "metadata": {},
   "outputs": [
    {
     "data": {
      "text/plain": [
       "0.9091535334590194"
      ]
     },
     "execution_count": 186,
     "metadata": {},
     "output_type": "execute_result"
    }
   ],
   "source": [
    "1 - (_D(prob_dist_1, M) + _D(prob_dist_2, M))/2"
   ]
  },
  {
   "cell_type": "markdown",
   "id": "surprising-lloyd",
   "metadata": {},
   "source": [
    "__Testando a criação de indivíduos.__"
   ]
  },
  {
   "cell_type": "code",
   "execution_count": 72,
   "id": "convinced-negative",
   "metadata": {},
   "outputs": [],
   "source": [
    "from Scripts.Individual import Individual"
   ]
  },
  {
   "cell_type": "code",
   "execution_count": 249,
   "id": "3643e2ed-d10f-4bb2-be7a-1e7967f11840",
   "metadata": {},
   "outputs": [],
   "source": [
    "from Scripts.ModelDynamics import distort, get_transition_probabilities"
   ]
  },
  {
   "cell_type": "code",
   "execution_count": 246,
   "id": "white-accent",
   "metadata": {},
   "outputs": [],
   "source": [
    "kappa = 1\n",
    "individual = Individual(kappa)"
   ]
  },
  {
   "cell_type": "code",
   "execution_count": 247,
   "id": "conceptual-legend",
   "metadata": {},
   "outputs": [
    {
     "data": {
      "text/plain": [
       "3.451398010919091"
      ]
     },
     "execution_count": 247,
     "metadata": {},
     "output_type": "execute_result"
    }
   ],
   "source": [
    "individual.H"
   ]
  },
  {
   "cell_type": "code",
   "execution_count": 248,
   "id": "enormous-jaguar",
   "metadata": {},
   "outputs": [
    {
     "data": {
      "text/plain": [
       "array([0, 1, 1, 0, 0])"
      ]
     },
     "execution_count": 248,
     "metadata": {},
     "output_type": "execute_result"
    }
   ],
   "source": [
    "new_code = individual.X\n",
    "new_code"
   ]
  },
  {
   "cell_type": "code",
   "execution_count": 261,
   "id": "37119afc-a80d-4500-b115-bea7a6b7ae69",
   "metadata": {},
   "outputs": [
    {
     "data": {
      "text/plain": [
       "array([1, 1, 1, 0, 1])"
      ]
     },
     "execution_count": 261,
     "metadata": {},
     "output_type": "execute_result"
    }
   ],
   "source": [
    "distort(new_code, get_transition_probabilities(individual))"
   ]
  },
  {
   "cell_type": "code",
   "execution_count": 83,
   "id": "raised-nudist",
   "metadata": {},
   "outputs": [],
   "source": [
    "individual.receive_information(new_code)"
   ]
  },
  {
   "cell_type": "code",
   "execution_count": 84,
   "id": "medical-debate",
   "metadata": {},
   "outputs": [
    {
     "data": {
      "text/plain": [
       "[array([1, 0, 0, 0, 1])]"
      ]
     },
     "execution_count": 84,
     "metadata": {},
     "output_type": "execute_result"
    }
   ],
   "source": [
    "individual.L_temp"
   ]
  },
  {
   "cell_type": "code",
   "execution_count": 42,
   "id": "identified-vanilla",
   "metadata": {},
   "outputs": [],
   "source": [
    "individual.update_memory()"
   ]
  },
  {
   "cell_type": "code",
   "execution_count": 43,
   "id": "constant-lending",
   "metadata": {},
   "outputs": [
    {
     "data": {
      "text/plain": [
       "[]"
      ]
     },
     "execution_count": 43,
     "metadata": {},
     "output_type": "execute_result"
    }
   ],
   "source": [
    "individual.L_temp"
   ]
  },
  {
   "cell_type": "code",
   "execution_count": 44,
   "id": "ecological-howard",
   "metadata": {},
   "outputs": [
    {
     "data": {
      "text/plain": [
       "4.311272380112911"
      ]
     },
     "execution_count": 44,
     "metadata": {},
     "output_type": "execute_result"
    }
   ],
   "source": [
    "individual.H"
   ]
  },
  {
   "cell_type": "code",
   "execution_count": 168,
   "id": "overall-sleeve",
   "metadata": {},
   "outputs": [
    {
     "data": {
      "text/plain": [
       "50"
      ]
     },
     "execution_count": 168,
     "metadata": {},
     "output_type": "execute_result"
    }
   ],
   "source": [
    "len(individual.L[0])"
   ]
  },
  {
   "cell_type": "markdown",
   "id": "successful-party",
   "metadata": {},
   "source": [
    "__Testando funções da dinâmica do sistema__"
   ]
  },
  {
   "cell_type": "code",
   "execution_count": 43,
   "id": "sharp-idaho",
   "metadata": {},
   "outputs": [
    {
     "data": {
      "text/plain": [
       "{0: 0.38487911980909295, 1: 0.38487911980909295}"
      ]
     },
     "execution_count": 43,
     "metadata": {},
     "output_type": "execute_result"
    }
   ],
   "source": [
    "transition_probability = get_transition_probabilities(individual)\n",
    "transition_probability"
   ]
  },
  {
   "cell_type": "code",
   "execution_count": 77,
   "id": "united-collapse",
   "metadata": {},
   "outputs": [
    {
     "name": "stdout",
     "output_type": "stream",
     "text": [
      "[0 1 1 1 1 0 1 0]\n",
      "[1 1 1 1 0 0 1 0]\n"
     ]
    }
   ],
   "source": [
    "random_code = individual.X\n",
    "print(random_code)\n",
    "distorted_code = distort(random_code, transition_probability)\n",
    "print(distorted_code)"
   ]
  },
  {
   "cell_type": "code",
   "execution_count": 79,
   "id": "complete-simulation",
   "metadata": {},
   "outputs": [
    {
     "name": "stdout",
     "output_type": "stream",
     "text": [
      "[0.38487912 0.38487912 0.38487912 0.38487912 0.38487912 0.38487912\n",
      " 0.38487912 0.38487912]\n"
     ]
    }
   ],
   "source": [
    "transition_probabilities = np.vectorize(lambda x: transition_probability[x])(random_code)\n",
    "print(transition_probabilities)"
   ]
  },
  {
   "cell_type": "code",
   "execution_count": 80,
   "id": "million-finger",
   "metadata": {},
   "outputs": [
    {
     "data": {
      "text/plain": [
       "array([0.43913491, 0.37694443, 0.46267979, 0.30137787, 0.74760938,\n",
       "       0.50272039, 0.2322127 , 0.89957457])"
      ]
     },
     "execution_count": 80,
     "metadata": {},
     "output_type": "execute_result"
    }
   ],
   "source": [
    "random_numbers = np.random.uniform(size = code_length)\n",
    "random_numbers"
   ]
  },
  {
   "cell_type": "code",
   "execution_count": 12,
   "id": "wanted-attempt",
   "metadata": {},
   "outputs": [
    {
     "ename": "NameError",
     "evalue": "name 'random_numbers' is not defined",
     "output_type": "error",
     "traceback": [
      "\u001b[1;31m---------------------------------------------------------------------------\u001b[0m",
      "\u001b[1;31mNameError\u001b[0m                                 Traceback (most recent call last)",
      "\u001b[1;32m<ipython-input-12-657eea9e171b>\u001b[0m in \u001b[0;36m<module>\u001b[1;34m\u001b[0m\n\u001b[1;32m----> 1\u001b[1;33m \u001b[0mmutate\u001b[0m \u001b[1;33m=\u001b[0m \u001b[1;33m(\u001b[0m\u001b[0mrandom_numbers\u001b[0m \u001b[1;33m<=\u001b[0m \u001b[0mtransition_probabilities\u001b[0m\u001b[1;33m)\u001b[0m\u001b[1;33m.\u001b[0m\u001b[0mastype\u001b[0m\u001b[1;33m(\u001b[0m\u001b[0mint\u001b[0m\u001b[1;33m)\u001b[0m\u001b[1;33m\u001b[0m\u001b[1;33m\u001b[0m\u001b[0m\n\u001b[0m\u001b[0;32m      2\u001b[0m \u001b[0mprint\u001b[0m\u001b[1;33m(\u001b[0m\u001b[0mmutate\u001b[0m\u001b[1;33m)\u001b[0m\u001b[1;33m\u001b[0m\u001b[1;33m\u001b[0m\u001b[0m\n",
      "\u001b[1;31mNameError\u001b[0m: name 'random_numbers' is not defined"
     ]
    }
   ],
   "source": [
    "mutate = (random_numbers <= transition_probabilities).astype(int)\n",
    "print(mutate)"
   ]
  },
  {
   "cell_type": "code",
   "execution_count": 84,
   "id": "impossible-blanket",
   "metadata": {},
   "outputs": [
    {
     "name": "stdout",
     "output_type": "stream",
     "text": [
      "[1 3 6]\n"
     ]
    }
   ],
   "source": [
    "mutate = np.argwhere(mutate).reshape(-1)\n",
    "print(mutate)"
   ]
  },
  {
   "cell_type": "code",
   "execution_count": 85,
   "id": "enabling-upper",
   "metadata": {},
   "outputs": [
    {
     "name": "stdout",
     "output_type": "stream",
     "text": [
      "[1 1 1 1 0 0 1 0]\n",
      "[1 0 1 0 0 0 0 0]\n"
     ]
    }
   ],
   "source": [
    "print(random_code)\n",
    "random_code[mutate] = np.logical_not(random_code[mutate]).astype(int)\n",
    "print(random_code)"
   ]
  },
  {
   "cell_type": "markdown",
   "id": "mineral-serum",
   "metadata": {},
   "source": [
    "__Testando criação do modelo__"
   ]
  },
  {
   "cell_type": "code",
   "execution_count": 3,
   "id": "organizational-gravity",
   "metadata": {},
   "outputs": [],
   "source": [
    "from Scripts.Model import *"
   ]
  },
  {
   "cell_type": "code",
   "execution_count": 79,
   "id": "streaming-greeting",
   "metadata": {},
   "outputs": [],
   "source": [
    "alpha = 0          # Proportion of individuals with tendency to increase polarity\n",
    "omega = 0          # Proportion of individuals with tendency to lower polarity\n",
    "lambd = 0            # Polarization coefficient\n",
    "gamma = -1          # Confidence factor\n",
    "# kappa = 25           # Parameter for information distortion tendency\n",
    "T = 150"
   ]
  },
  {
   "cell_type": "code",
   "execution_count": 80,
   "id": "e26bd6c7-97aa-440c-a5c6-cfa8639e82f9",
   "metadata": {},
   "outputs": [
    {
     "name": "stdout",
     "output_type": "stream",
     "text": [
      "Kappa = 0\n",
      "Repetition 0\n",
      "Initializing model with parameters\n",
      "N = 200 - pa = 2 - mu = 50 - m = 5 - kappa = 0 - lambda = 0 - alpha = 0 - omega = 0 - gamma = -1\n",
      "Simulation ended. Execution time = 0.79 min\n",
      "\n",
      "Repetition 1\n",
      "Initializing model with parameters\n",
      "N = 200 - pa = 2 - mu = 50 - m = 5 - kappa = 0 - lambda = 0 - alpha = 0 - omega = 0 - gamma = -1\n",
      "Simulation ended. Execution time = 0.83 min\n",
      "\n",
      "Repetition 2\n",
      "Initializing model with parameters\n",
      "N = 200 - pa = 2 - mu = 50 - m = 5 - kappa = 0 - lambda = 0 - alpha = 0 - omega = 0 - gamma = -1\n",
      "Simulation ended. Execution time = 0.7 min\n",
      "\n",
      "Repetition 3\n",
      "Initializing model with parameters\n",
      "N = 200 - pa = 2 - mu = 50 - m = 5 - kappa = 0 - lambda = 0 - alpha = 0 - omega = 0 - gamma = -1\n",
      "Simulation ended. Execution time = 0.67 min\n",
      "\n",
      "Repetition 4\n",
      "Initializing model with parameters\n",
      "N = 200 - pa = 2 - mu = 50 - m = 5 - kappa = 0 - lambda = 0 - alpha = 0 - omega = 0 - gamma = -1\n",
      "Simulation ended. Execution time = 0.69 min\n",
      "\n",
      "Repetition 5\n",
      "Initializing model with parameters\n",
      "N = 200 - pa = 2 - mu = 50 - m = 5 - kappa = 0 - lambda = 0 - alpha = 0 - omega = 0 - gamma = -1\n",
      "Simulation ended. Execution time = 0.63 min\n",
      "\n",
      "Repetition 6\n",
      "Initializing model with parameters\n",
      "N = 200 - pa = 2 - mu = 50 - m = 5 - kappa = 0 - lambda = 0 - alpha = 0 - omega = 0 - gamma = -1\n",
      "Simulation ended. Execution time = 0.68 min\n",
      "\n",
      "Repetition 7\n",
      "Initializing model with parameters\n",
      "N = 200 - pa = 2 - mu = 50 - m = 5 - kappa = 0 - lambda = 0 - alpha = 0 - omega = 0 - gamma = -1\n",
      "Simulation ended. Execution time = 0.62 min\n",
      "\n",
      "Repetition 8\n",
      "Initializing model with parameters\n",
      "N = 200 - pa = 2 - mu = 50 - m = 5 - kappa = 0 - lambda = 0 - alpha = 0 - omega = 0 - gamma = -1\n",
      "Simulation ended. Execution time = 0.68 min\n",
      "\n",
      "Repetition 9\n",
      "Initializing model with parameters\n",
      "N = 200 - pa = 2 - mu = 50 - m = 5 - kappa = 0 - lambda = 0 - alpha = 0 - omega = 0 - gamma = -1\n",
      "Simulation ended. Execution time = 0.68 min\n",
      "\n",
      "Kappa = 5\n",
      "Repetition 0\n",
      "Initializing model with parameters\n",
      "N = 200 - pa = 2 - mu = 50 - m = 5 - kappa = 5 - lambda = 0 - alpha = 0 - omega = 0 - gamma = -1\n",
      "Simulation ended. Execution time = 0.65 min\n",
      "\n",
      "Repetition 1\n",
      "Initializing model with parameters\n",
      "N = 200 - pa = 2 - mu = 50 - m = 5 - kappa = 5 - lambda = 0 - alpha = 0 - omega = 0 - gamma = -1\n",
      "Simulation ended. Execution time = 0.72 min\n",
      "\n",
      "Repetition 2\n",
      "Initializing model with parameters\n",
      "N = 200 - pa = 2 - mu = 50 - m = 5 - kappa = 5 - lambda = 0 - alpha = 0 - omega = 0 - gamma = -1\n",
      "Simulation ended. Execution time = 0.66 min\n",
      "\n",
      "Repetition 3\n",
      "Initializing model with parameters\n",
      "N = 200 - pa = 2 - mu = 50 - m = 5 - kappa = 5 - lambda = 0 - alpha = 0 - omega = 0 - gamma = -1\n",
      "Simulation ended. Execution time = 0.69 min\n",
      "\n",
      "Repetition 4\n",
      "Initializing model with parameters\n",
      "N = 200 - pa = 2 - mu = 50 - m = 5 - kappa = 5 - lambda = 0 - alpha = 0 - omega = 0 - gamma = -1\n",
      "Simulation ended. Execution time = 0.68 min\n",
      "\n",
      "Repetition 5\n",
      "Initializing model with parameters\n",
      "N = 200 - pa = 2 - mu = 50 - m = 5 - kappa = 5 - lambda = 0 - alpha = 0 - omega = 0 - gamma = -1\n",
      "Simulation ended. Execution time = 0.69 min\n",
      "\n",
      "Repetition 6\n",
      "Initializing model with parameters\n",
      "N = 200 - pa = 2 - mu = 50 - m = 5 - kappa = 5 - lambda = 0 - alpha = 0 - omega = 0 - gamma = -1\n",
      "Simulation ended. Execution time = 0.87 min\n",
      "\n",
      "Repetition 7\n",
      "Initializing model with parameters\n",
      "N = 200 - pa = 2 - mu = 50 - m = 5 - kappa = 5 - lambda = 0 - alpha = 0 - omega = 0 - gamma = -1\n",
      "Simulation ended. Execution time = 0.77 min\n",
      "\n",
      "Repetition 8\n",
      "Initializing model with parameters\n",
      "N = 200 - pa = 2 - mu = 50 - m = 5 - kappa = 5 - lambda = 0 - alpha = 0 - omega = 0 - gamma = -1\n",
      "Simulation ended. Execution time = 0.72 min\n",
      "\n",
      "Repetition 9\n",
      "Initializing model with parameters\n",
      "N = 200 - pa = 2 - mu = 50 - m = 5 - kappa = 5 - lambda = 0 - alpha = 0 - omega = 0 - gamma = -1\n",
      "Simulation ended. Execution time = 0.71 min\n",
      "\n",
      "Kappa = 10\n",
      "Repetition 0\n",
      "Initializing model with parameters\n",
      "N = 200 - pa = 2 - mu = 50 - m = 5 - kappa = 10 - lambda = 0 - alpha = 0 - omega = 0 - gamma = -1\n",
      "Simulation ended. Execution time = 0.57 min\n",
      "\n",
      "Repetition 1\n",
      "Initializing model with parameters\n",
      "N = 200 - pa = 2 - mu = 50 - m = 5 - kappa = 10 - lambda = 0 - alpha = 0 - omega = 0 - gamma = -1\n",
      "Simulation ended. Execution time = 0.64 min\n",
      "\n",
      "Repetition 2\n",
      "Initializing model with parameters\n",
      "N = 200 - pa = 2 - mu = 50 - m = 5 - kappa = 10 - lambda = 0 - alpha = 0 - omega = 0 - gamma = -1\n",
      "Simulation ended. Execution time = 0.66 min\n",
      "\n",
      "Repetition 3\n",
      "Initializing model with parameters\n",
      "N = 200 - pa = 2 - mu = 50 - m = 5 - kappa = 10 - lambda = 0 - alpha = 0 - omega = 0 - gamma = -1\n",
      "Simulation ended. Execution time = 0.71 min\n",
      "\n",
      "Repetition 4\n",
      "Initializing model with parameters\n",
      "N = 200 - pa = 2 - mu = 50 - m = 5 - kappa = 10 - lambda = 0 - alpha = 0 - omega = 0 - gamma = -1\n",
      "Simulation ended. Execution time = 0.62 min\n",
      "\n",
      "Repetition 5\n",
      "Initializing model with parameters\n",
      "N = 200 - pa = 2 - mu = 50 - m = 5 - kappa = 10 - lambda = 0 - alpha = 0 - omega = 0 - gamma = -1\n",
      "Simulation ended. Execution time = 0.68 min\n",
      "\n",
      "Repetition 6\n",
      "Initializing model with parameters\n",
      "N = 200 - pa = 2 - mu = 50 - m = 5 - kappa = 10 - lambda = 0 - alpha = 0 - omega = 0 - gamma = -1\n",
      "Simulation ended. Execution time = 0.64 min\n",
      "\n",
      "Repetition 7\n",
      "Initializing model with parameters\n",
      "N = 200 - pa = 2 - mu = 50 - m = 5 - kappa = 10 - lambda = 0 - alpha = 0 - omega = 0 - gamma = -1\n",
      "Simulation ended. Execution time = 0.61 min\n",
      "\n",
      "Repetition 8\n",
      "Initializing model with parameters\n",
      "N = 200 - pa = 2 - mu = 50 - m = 5 - kappa = 10 - lambda = 0 - alpha = 0 - omega = 0 - gamma = -1\n",
      "Simulation ended. Execution time = 0.67 min\n",
      "\n",
      "Repetition 9\n",
      "Initializing model with parameters\n",
      "N = 200 - pa = 2 - mu = 50 - m = 5 - kappa = 10 - lambda = 0 - alpha = 0 - omega = 0 - gamma = -1\n",
      "Simulation ended. Execution time = 0.66 min\n",
      "\n",
      "Kappa = 15\n",
      "Repetition 0\n",
      "Initializing model with parameters\n",
      "N = 200 - pa = 2 - mu = 50 - m = 5 - kappa = 15 - lambda = 0 - alpha = 0 - omega = 0 - gamma = -1\n",
      "Simulation ended. Execution time = 0.52 min\n",
      "\n",
      "Repetition 1\n",
      "Initializing model with parameters\n",
      "N = 200 - pa = 2 - mu = 50 - m = 5 - kappa = 15 - lambda = 0 - alpha = 0 - omega = 0 - gamma = -1\n",
      "Simulation ended. Execution time = 0.49 min\n",
      "\n",
      "Repetition 2\n",
      "Initializing model with parameters\n",
      "N = 200 - pa = 2 - mu = 50 - m = 5 - kappa = 15 - lambda = 0 - alpha = 0 - omega = 0 - gamma = -1\n",
      "Simulation ended. Execution time = 0.51 min\n",
      "\n",
      "Repetition 3\n",
      "Initializing model with parameters\n",
      "N = 200 - pa = 2 - mu = 50 - m = 5 - kappa = 15 - lambda = 0 - alpha = 0 - omega = 0 - gamma = -1\n",
      "Simulation ended. Execution time = 0.56 min\n",
      "\n",
      "Repetition 4\n",
      "Initializing model with parameters\n",
      "N = 200 - pa = 2 - mu = 50 - m = 5 - kappa = 15 - lambda = 0 - alpha = 0 - omega = 0 - gamma = -1\n",
      "Simulation ended. Execution time = 0.45 min\n",
      "\n",
      "Repetition 5\n",
      "Initializing model with parameters\n",
      "N = 200 - pa = 2 - mu = 50 - m = 5 - kappa = 15 - lambda = 0 - alpha = 0 - omega = 0 - gamma = -1\n",
      "Simulation ended. Execution time = 0.42 min\n",
      "\n",
      "Repetition 6\n",
      "Initializing model with parameters\n",
      "N = 200 - pa = 2 - mu = 50 - m = 5 - kappa = 15 - lambda = 0 - alpha = 0 - omega = 0 - gamma = -1\n",
      "Simulation ended. Execution time = 0.5 min\n",
      "\n",
      "Repetition 7\n",
      "Initializing model with parameters\n",
      "N = 200 - pa = 2 - mu = 50 - m = 5 - kappa = 15 - lambda = 0 - alpha = 0 - omega = 0 - gamma = -1\n",
      "Simulation ended. Execution time = 0.51 min\n",
      "\n",
      "Repetition 8\n",
      "Initializing model with parameters\n",
      "N = 200 - pa = 2 - mu = 50 - m = 5 - kappa = 15 - lambda = 0 - alpha = 0 - omega = 0 - gamma = -1\n",
      "Simulation ended. Execution time = 0.51 min\n",
      "\n",
      "Repetition 9\n",
      "Initializing model with parameters\n",
      "N = 200 - pa = 2 - mu = 50 - m = 5 - kappa = 15 - lambda = 0 - alpha = 0 - omega = 0 - gamma = -1\n",
      "Simulation ended. Execution time = 0.52 min\n",
      "\n",
      "Kappa = 20\n",
      "Repetition 0\n",
      "Initializing model with parameters\n",
      "N = 200 - pa = 2 - mu = 50 - m = 5 - kappa = 20 - lambda = 0 - alpha = 0 - omega = 0 - gamma = -1\n",
      "Simulation ended. Execution time = 0.46 min\n",
      "\n",
      "Repetition 1\n",
      "Initializing model with parameters\n",
      "N = 200 - pa = 2 - mu = 50 - m = 5 - kappa = 20 - lambda = 0 - alpha = 0 - omega = 0 - gamma = -1\n",
      "Simulation ended. Execution time = 0.45 min\n",
      "\n",
      "Repetition 2\n",
      "Initializing model with parameters\n",
      "N = 200 - pa = 2 - mu = 50 - m = 5 - kappa = 20 - lambda = 0 - alpha = 0 - omega = 0 - gamma = -1\n",
      "Simulation ended. Execution time = 0.46 min\n",
      "\n",
      "Repetition 3\n",
      "Initializing model with parameters\n",
      "N = 200 - pa = 2 - mu = 50 - m = 5 - kappa = 20 - lambda = 0 - alpha = 0 - omega = 0 - gamma = -1\n",
      "Simulation ended. Execution time = 0.46 min\n",
      "\n",
      "Repetition 4\n",
      "Initializing model with parameters\n",
      "N = 200 - pa = 2 - mu = 50 - m = 5 - kappa = 20 - lambda = 0 - alpha = 0 - omega = 0 - gamma = -1\n",
      "Simulation ended. Execution time = 0.46 min\n",
      "\n",
      "Repetition 5\n",
      "Initializing model with parameters\n",
      "N = 200 - pa = 2 - mu = 50 - m = 5 - kappa = 20 - lambda = 0 - alpha = 0 - omega = 0 - gamma = -1\n",
      "Simulation ended. Execution time = 0.45 min\n",
      "\n",
      "Repetition 6\n",
      "Initializing model with parameters\n",
      "N = 200 - pa = 2 - mu = 50 - m = 5 - kappa = 20 - lambda = 0 - alpha = 0 - omega = 0 - gamma = -1\n",
      "Simulation ended. Execution time = 0.47 min\n",
      "\n",
      "Repetition 7\n",
      "Initializing model with parameters\n",
      "N = 200 - pa = 2 - mu = 50 - m = 5 - kappa = 20 - lambda = 0 - alpha = 0 - omega = 0 - gamma = -1\n",
      "Simulation ended. Execution time = 0.46 min\n",
      "\n",
      "Repetition 8\n",
      "Initializing model with parameters\n",
      "N = 200 - pa = 2 - mu = 50 - m = 5 - kappa = 20 - lambda = 0 - alpha = 0 - omega = 0 - gamma = -1\n",
      "Simulation ended. Execution time = 0.45 min\n",
      "\n",
      "Repetition 9\n",
      "Initializing model with parameters\n",
      "N = 200 - pa = 2 - mu = 50 - m = 5 - kappa = 20 - lambda = 0 - alpha = 0 - omega = 0 - gamma = -1\n",
      "Simulation ended. Execution time = 0.46 min\n",
      "\n",
      "Kappa = 25\n",
      "Repetition 0\n",
      "Initializing model with parameters\n",
      "N = 200 - pa = 2 - mu = 50 - m = 5 - kappa = 25 - lambda = 0 - alpha = 0 - omega = 0 - gamma = -1\n",
      "Simulation ended. Execution time = 0.45 min\n",
      "\n",
      "Repetition 1\n",
      "Initializing model with parameters\n",
      "N = 200 - pa = 2 - mu = 50 - m = 5 - kappa = 25 - lambda = 0 - alpha = 0 - omega = 0 - gamma = -1\n",
      "Simulation ended. Execution time = 0.46 min\n",
      "\n",
      "Repetition 2\n",
      "Initializing model with parameters\n",
      "N = 200 - pa = 2 - mu = 50 - m = 5 - kappa = 25 - lambda = 0 - alpha = 0 - omega = 0 - gamma = -1\n",
      "Simulation ended. Execution time = 0.46 min\n",
      "\n",
      "Repetition 3\n",
      "Initializing model with parameters\n",
      "N = 200 - pa = 2 - mu = 50 - m = 5 - kappa = 25 - lambda = 0 - alpha = 0 - omega = 0 - gamma = -1\n",
      "Simulation ended. Execution time = 0.46 min\n",
      "\n",
      "Repetition 4\n",
      "Initializing model with parameters\n",
      "N = 200 - pa = 2 - mu = 50 - m = 5 - kappa = 25 - lambda = 0 - alpha = 0 - omega = 0 - gamma = -1\n",
      "Simulation ended. Execution time = 0.45 min\n",
      "\n",
      "Repetition 5\n",
      "Initializing model with parameters\n",
      "N = 200 - pa = 2 - mu = 50 - m = 5 - kappa = 25 - lambda = 0 - alpha = 0 - omega = 0 - gamma = -1\n",
      "Simulation ended. Execution time = 0.45 min\n",
      "\n",
      "Repetition 6\n",
      "Initializing model with parameters\n",
      "N = 200 - pa = 2 - mu = 50 - m = 5 - kappa = 25 - lambda = 0 - alpha = 0 - omega = 0 - gamma = -1\n",
      "Simulation ended. Execution time = 0.45 min\n",
      "\n",
      "Repetition 7\n",
      "Initializing model with parameters\n",
      "N = 200 - pa = 2 - mu = 50 - m = 5 - kappa = 25 - lambda = 0 - alpha = 0 - omega = 0 - gamma = -1\n",
      "Simulation ended. Execution time = 0.46 min\n",
      "\n",
      "Repetition 8\n",
      "Initializing model with parameters\n",
      "N = 200 - pa = 2 - mu = 50 - m = 5 - kappa = 25 - lambda = 0 - alpha = 0 - omega = 0 - gamma = -1\n",
      "Simulation ended. Execution time = 0.45 min\n",
      "\n",
      "Repetition 9\n",
      "Initializing model with parameters\n",
      "N = 200 - pa = 2 - mu = 50 - m = 5 - kappa = 25 - lambda = 0 - alpha = 0 - omega = 0 - gamma = -1\n",
      "Simulation ended. Execution time = 0.49 min\n",
      "\n"
     ]
    }
   ],
   "source": [
    "kappa_list = [0, 5, 10, 15, 20, 25]\n",
    "statistics_for_kappa = {k:None for k in kappa_list}\n",
    "for kappa in kappa_list:\n",
    "    stats = []\n",
    "    repetitions = 10\n",
    "    print(f\"Kappa = {kappa}\")\n",
    "    for repetition in range(repetitions):\n",
    "        print(f\"Repetition {repetition}\")\n",
    "        elapsed_time, statistics = evaluateModel(T, kappa, lambd, alpha, omega, gamma)\n",
    "        stats.append(statistics['H'])\n",
    "        print(\"\")\n",
    "    statistics_for_kappa[kappa] = [statistics['Distribution'], stats]"
   ]
  },
  {
   "cell_type": "code",
   "execution_count": 51,
   "id": "c5a76302-236f-433e-aecc-330978e579f8",
   "metadata": {},
   "outputs": [],
   "source": [
    "import pickle"
   ]
  },
  {
   "cell_type": "code",
   "execution_count": 81,
   "id": "cbb8e5de-d204-455d-b651-4f52a7230a66",
   "metadata": {},
   "outputs": [
    {
     "data": {
      "text/plain": [
       "-1"
      ]
     },
     "execution_count": 81,
     "metadata": {},
     "output_type": "execute_result"
    }
   ],
   "source": [
    "gamma"
   ]
  },
  {
   "cell_type": "code",
   "execution_count": 82,
   "id": "5e53b965-7d74-4a17-af71-13a62e1a5881",
   "metadata": {},
   "outputs": [],
   "source": [
    "pickle.dump(statistics_for_kappa, open(f\"stats - gamma = {gamma}.pickle\", 'wb'))"
   ]
  },
  {
   "cell_type": "code",
   "execution_count": 58,
   "id": "279301b5-ede3-4e9a-af26-31c98ff38ddd",
   "metadata": {},
   "outputs": [
    {
     "data": {
      "image/png": "[encoded data removed]",
      "text/plain": [
       "<Figure size 576x576 with 1 Axes>"
      ]
     },
     "metadata": {
      "needs_background": "light"
     },
     "output_type": "display_data"
    }
   ],
   "source": [
    "fig, ax = plt.subplots(1, 1, figsize = (8, 8))\n",
    "\n",
    "\n",
    "for kappa in kappa_list:\n",
    "    mean_entropy = np.asarray(statistics_for_kappa[kappa][1]).mean(axis = 0)\n",
    "    ax.plot(range(len(mean_entropy)), mean_entropy, label = f\"$\\kappa = {kappa}$\")\n",
    "    ax.set_xlabel('Iteração', fontsize = 14)\n",
    "    ax.set_ylabel(r\"$\\overline{H}$\", fontsize = 14)"
   ]
  },
  {
   "cell_type": "code",
   "execution_count": 64,
   "id": "7779f82f-8d6f-4239-b022-859e0104846f",
   "metadata": {},
   "outputs": [
    {
     "data": {
      "text/plain": [
       "dict_keys([0, 5, 10, 15, 20, 25])"
      ]
     },
     "execution_count": 64,
     "metadata": {},
     "output_type": "execute_result"
    }
   ],
   "source": [
    "statistics_for_kappa.keys[0]"
   ]
  },
  {
   "cell_type": "code",
   "execution_count": 71,
   "id": "d90eaf3f-7a50-41cc-bc21-a24a38634d7b",
   "metadata": {},
   "outputs": [
    {
     "data": {
      "image/png": "[encoded data removed]",
      "text/plain": [
       "<Figure size 720x576 with 2 Axes>"
      ]
     },
     "metadata": {
      "needs_background": "light"
     },
     "output_type": "display_data"
    }
   ],
   "source": [
    "a = statistics_for_kappa[25][0]\n",
    "evolution = []\n",
    "for code in a.keys():\n",
    "    evolution.append(a[code])\n",
    "evolution = np.asarray(evolution)\n",
    "fig, ax = heat_plot(evolution, size = (10, 8), y_tick_labels = a.keys(), x_tick_label_size = 15,\n",
    "                        y_tick_label_size = 15, title = r'$\\kappa = {}$'.format(kappa), title_size = 25)\n"
   ]
  },
  {
   "cell_type": "code",
   "execution_count": 61,
   "id": "fifty-writer",
   "metadata": {},
   "outputs": [
    {
     "data": {
      "text/plain": [
       "4.470042858648929"
      ]
     },
     "execution_count": 61,
     "metadata": {},
     "output_type": "execute_result"
    }
   ],
   "source": [
    "model.H"
   ]
  },
  {
   "cell_type": "code",
   "execution_count": 47,
   "id": "interracial-concept",
   "metadata": {},
   "outputs": [
    {
     "name": "stdout",
     "output_type": "stream",
     "text": [
      "4.4218861937477545\n",
      "4.470042858648929\n"
     ]
    },
    {
     "data": {
      "text/plain": [
       "0.02064900795618693"
      ]
     },
     "execution_count": 47,
     "metadata": {},
     "output_type": "execute_result"
    }
   ],
   "source": [
    "simulate(model)"
   ]
  },
  {
   "cell_type": "code",
   "execution_count": 7,
   "id": "acquired-coffee",
   "metadata": {},
   "outputs": [
    {
     "data": {
      "text/plain": [
       "4.401666591066017"
      ]
     },
     "execution_count": 7,
     "metadata": {},
     "output_type": "execute_result"
    }
   ],
   "source": [
    "model.H"
   ]
  },
  {
   "cell_type": "code",
   "execution_count": 62,
   "id": "rental-melissa",
   "metadata": {},
   "outputs": [
    {
     "data": {
      "text/plain": [
       "[4.412482494070261,\n",
       " 4.524312797538258,\n",
       " 4.609986613034588,\n",
       " 4.682931887397245,\n",
       " 4.739511602655941,\n",
       " 4.793359079722536,\n",
       " 4.8419595510150835,\n",
       " 4.887636840494288,\n",
       " 4.925460940062429,\n",
       " 4.958820914950451,\n",
       " 4.985203231455908,\n",
       " 5.01338666538538,\n",
       " 5.0398466389638665,\n",
       " 5.061760270157968,\n",
       " 5.085010800256659,\n",
       " 5.107034598735337,\n",
       " 5.124835321260048,\n",
       " 5.141004422257989,\n",
       " 5.156901377593602,\n",
       " 5.172995120310755,\n",
       " 5.186246626785377,\n",
       " 5.199278329884588,\n",
       " 5.211408859983284,\n",
       " 5.226257295342554,\n",
       " 5.238713719939431,\n",
       " 5.246886510937626,\n",
       " 5.256735197558506,\n",
       " 5.264056510297589,\n",
       " 5.271827627536584,\n",
       " 5.281175141156942,\n",
       " 5.291252208015603,\n",
       " 5.297074163016466,\n",
       " 5.305703240637523,\n",
       " 5.312130502996271,\n",
       " 5.319870558117753,\n",
       " 5.327311088856488,\n",
       " 5.334050195333087,\n",
       " 5.34052673145302,\n",
       " 5.345538630692359,\n",
       " 5.353081367693574,\n",
       " 5.357444244433345,\n",
       " 5.363353322054402,\n",
       " 5.3690796626742445,\n",
       " 5.373255807794001,\n",
       " 5.376360193412976,\n",
       " 5.380013992531691,\n",
       " 5.385169746651276,\n",
       " 5.388333656653008,\n",
       " 5.391766198154134,\n",
       " 5.397699912655775,\n",
       " 5.4009920631567265,\n",
       " 5.405131420894938,\n",
       " 5.409984353396235,\n",
       " 5.4149051353965785,\n",
       " 5.416945917396922,\n",
       " 5.419557285897527,\n",
       " 5.422028263397963,\n",
       " 5.422568654398136,\n",
       " 5.424230609399,\n",
       " 5.426747396780544,\n",
       " 5.4285325643998705,\n",
       " 5.431485105900994,\n",
       " 5.43289144652084,\n",
       " 5.435111837521011,\n",
       " 5.438403988021962,\n",
       " 5.439783597021788,\n",
       " 5.440234965522395,\n",
       " 5.4415059430228245,\n",
       " 5.442990719641976,\n",
       " 5.443109937641628,\n",
       " 5.445545691761209,\n",
       " 5.445915496261127,\n",
       " 5.446544909760867,\n",
       " 5.446976669261643,\n",
       " 5.447186473761552,\n",
       " 5.448576669261642,\n",
       " 5.44799706026181,\n",
       " 5.448327646762071,\n",
       " 5.450048428762419,\n",
       " 5.451607646762074,\n",
       " 5.451728428762423,\n",
       " 5.451867255761908,\n",
       " 5.4520468647617335,\n",
       " 5.451707255761906,\n",
       " 5.452587255761909,\n",
       " 5.453728428762427,\n",
       " 5.452807646762078,\n",
       " 5.452718624262509,\n",
       " 5.454170774763464,\n",
       " 5.455431165763634,\n",
       " 5.455409992763116,\n",
       " 5.4562009702635486,\n",
       " 5.455861361263724,\n",
       " 5.456531556763813,\n",
       " 5.45754292526442,\n",
       " 5.457772338764162,\n",
       " 5.455772338764163,\n",
       " 5.456812338764159,\n",
       " 5.456931556763811,\n",
       " 5.455569992763115,\n",
       " 5.455598624262509,\n",
       " 5.455607646762076,\n",
       " 5.457168428762425,\n",
       " 5.456739797263034,\n",
       " 5.45636999276312,\n",
       " 5.456080188263205,\n",
       " 5.456231165763633,\n",
       " 5.456851556763805,\n",
       " 5.454540579263371,\n",
       " 5.453422143264064,\n",
       " 5.452860579263374,\n",
       " 5.4522401882632,\n",
       " 5.452009210762769,\n",
       " 5.452219015262689,\n",
       " 5.45184764676208,\n",
       " 5.4511382332623395,\n",
       " 5.452249210762776,\n",
       " 5.4518703837632945,\n",
       " 5.450148037762258,\n",
       " 5.45068842876243,\n",
       " 5.449674629643712,\n",
       " 5.450716193644402,\n",
       " 5.451626389144486,\n",
       " 5.4526361936444,\n",
       " 5.45159462964371,\n",
       " 5.4513652161439685,\n",
       " 5.451126780144662,\n",
       " 5.451635411644053,\n",
       " 5.451295802644225,\n",
       " 5.452476193644396,\n",
       " 5.452575802644227,\n",
       " 5.454415802644228,\n",
       " 5.455466389144484,\n",
       " 5.456895802644225,\n",
       " 5.456465607144136,\n",
       " 5.455745607144139,\n",
       " 5.454990383763287,\n",
       " 5.457413120764498,\n",
       " 5.455462925264409,\n",
       " 5.454501361263718,\n",
       " 5.455322534264241,\n",
       " 5.455631947763983,\n",
       " 5.455310383763292,\n",
       " 5.456629601762946,\n",
       " 5.456339797263032,\n",
       " 5.456609992763115,\n",
       " 5.455888428762425,\n",
       " 5.457109601762942,\n",
       " 5.456528428762423,\n",
       " 5.458309601762942,\n",
       " 5.4579186242625095,\n",
       " 5.457918624262507,\n",
       " 5.457788819762593,\n",
       " 5.4599186242625075,\n",
       " 5.460759406262857,\n",
       " 5.460129992763117,\n",
       " 5.461159406262859,\n",
       " 5.459139797263032,\n",
       " 5.46011038376329,\n",
       " 5.461070383763289,\n",
       " 5.460721752263896,\n",
       " 5.459011556763811,\n",
       " 5.458602534264242,\n",
       " 5.459173120764501,\n",
       " 5.457923316264589,\n",
       " 5.458783707264761,\n",
       " 5.459434293765019,\n",
       " 5.4588742937650165,\n",
       " 5.459194293765018,\n",
       " 5.459624489265105,\n",
       " 5.459114293765017,\n",
       " 5.459884098264935,\n",
       " 5.458844098264937,\n",
       " 5.457133902764852,\n",
       " 5.455484098264936,\n",
       " 5.457364880265281,\n",
       " 5.460415466765544,\n",
       " 5.459334684765198,\n",
       " 5.458444098264938,\n",
       " 5.459254684765196,\n",
       " 5.458854684765194,\n",
       " 5.458543707264764,\n",
       " 5.459413120764506,\n",
       " 5.459923316264595,\n",
       " 5.460952729764335,\n",
       " 5.461043316264596,\n",
       " 5.460191947763989,\n",
       " 5.461301361263729,\n",
       " 5.462021361263726,\n",
       " 5.461080970263548,\n",
       " 5.4623005792633785,\n",
       " 5.459939797263032,\n",
       " 5.458899797263029,\n",
       " 5.459530774763461,\n",
       " 5.459509601762942,\n",
       " 5.459585607144138,\n",
       " 5.4617903837632875,\n",
       " 5.461061361263722,\n",
       " 5.459649992763117,\n",
       " 5.459228819762596,\n",
       " 5.45798960176294]"
      ]
     },
     "execution_count": 62,
     "metadata": {},
     "output_type": "execute_result"
    }
   ],
   "source": [
    "statistics['H']"
   ]
  },
  {
   "cell_type": "code",
   "execution_count": 54,
   "id": "overall-wells",
   "metadata": {},
   "outputs": [],
   "source": [
    "from Scripts.Parameters import *"
   ]
  },
  {
   "cell_type": "code",
   "execution_count": 55,
   "id": "excess-prerequisite",
   "metadata": {},
   "outputs": [
    {
     "data": {
      "text/plain": [
       "8"
      ]
     },
     "execution_count": 55,
     "metadata": {},
     "output_type": "execute_result"
    }
   ],
   "source": [
    "max_H"
   ]
  },
  {
   "cell_type": "markdown",
   "id": "developmental-immune",
   "metadata": {},
   "source": [
    "__TO DOs:__\n",
    "\n",
    "- Faça um plot para visualizar o vetor de pesos / as "
   ]
  },
  {
   "cell_type": "code",
   "execution_count": null,
   "id": "legislative-queen",
   "metadata": {},
   "outputs": [],
   "source": []
  }
 ],
 "metadata": {
  "kernelspec": {
   "display_name": "Python 3",
   "language": "python",
   "name": "python3"
  },
  "language_info": {
   "codemirror_mode": {
    "name": "ipython",
    "version": 3
   },
   "file_extension": ".py",
   "mimetype": "text/x-python",
   "name": "python",
   "nbconvert_exporter": "python",
   "pygments_lexer": "ipython3",
   "version": "3.8.10"
  }
 },
 "nbformat": 4,
 "nbformat_minor": 5
}
