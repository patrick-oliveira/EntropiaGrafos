{
 "cells": [
  {
   "cell_type": "code",
   "execution_count": 1,
   "id": "4de3aa34",
   "metadata": {},
   "outputs": [],
   "source": [
    "from scripts.Model import initialize_model, evaluateModel\n",
    "import matplotlib.pyplot as plt"
   ]
  },
  {
   "cell_type": "code",
   "execution_count": 2,
   "id": "d39cb5d0",
   "metadata": {},
   "outputs": [],
   "source": [
    "import numpy as np\n",
    "import networkx as nx"
   ]
  },
  {
   "cell_type": "code",
   "execution_count": 28,
   "id": "d022e53f",
   "metadata": {},
   "outputs": [],
   "source": [
    "params = {\n",
    "    \"graph_type\": \"barabasi\",\n",
    "    \"network_size\": 500,\n",
    "    \"memory_size\": 160,\n",
    "    \"code_length\": 5,\n",
    "    \"kappa\": 30,\n",
    "    \"lambd\": 0,\n",
    "    \"alpha\": 0,\n",
    "    \"omega\": 0, \n",
    "    \"gamma\": 1,\n",
    "    \"prefferential_att\": 2,\n",
    "    \"polarization_grouping_type\": 1,\n",
    "    \"seed\": 42\n",
    "}\n",
    "\n",
    "model = initialize_model(**params)\n",
    "model = modify_model(model)"
   ]
  },
  {
   "cell_type": "code",
   "execution_count": 18,
   "id": "0f1fb969",
   "metadata": {},
   "outputs": [],
   "source": [
    "from typing import Dict\n",
    "from scripts.Model import Model, simulate\n",
    "from scripts.Individual import Individual\n",
    "from scripts.utils import modify_model"
   ]
  },
  {
   "cell_type": "code",
   "execution_count": 8,
   "id": "4beb9e05-ebc8-4a61-90af-4981f15775d3",
   "metadata": {},
   "outputs": [],
   "source": [
    "nodes = model.G.nodes"
   ]
  },
  {
   "cell_type": "code",
   "execution_count": 15,
   "id": "c55714aa-73aa-45ae-82e4-0d61954d697f",
   "metadata": {},
   "outputs": [],
   "source": [
    "def get_nodes_info():\n",
    "    nodes = model.G.nodes\n",
    "    data = {}\n",
    "    for n in nodes:\n",
    "        ind_info = model.indInfo(n)\n",
    "        data[n] = {\n",
    "            \"pi\": ind_info.pi,\n",
    "            \"H\": ind_info.H,\n",
    "            \"delta\": model.G.degree[n]\n",
    "        }\n",
    "        \n",
    "    return data"
   ]
  },
  {
   "cell_type": "code",
   "execution_count": 23,
   "id": "b9cf299a-e228-47de-92e0-7d1e6430ce61",
   "metadata": {},
   "outputs": [],
   "source": [
    "import numpy as np"
   ]
  },
  {
   "cell_type": "code",
   "execution_count": null,
   "id": "13d03f1e-592a-4582-9902-549fb9d484ad",
   "metadata": {},
   "outputs": [
    {
     "name": "stdout",
     "output_type": "stream",
     "text": [
      "Requirement already satisfied: tqdm in /home/roboto/anaconda3/lib/python3.9/site-packages (4.62.3)\n"
     ]
    }
   ],
   "source": [
    "!pip install tqdm"
   ]
  },
  {
   "cell_type": "code",
   "execution_count": 32,
   "id": "388efd8f-3b4c-4f1d-9bd3-6d78dd9bd286",
   "metadata": {},
   "outputs": [],
   "source": [
    "from tqdm import tqdm"
   ]
  },
  {
   "cell_type": "code",
   "execution_count": 33,
   "id": "0716a148-c974-45ac-a620-32ac49ef0e28",
   "metadata": {},
   "outputs": [
    {
     "name": "stderr",
     "output_type": "stream",
     "text": [
      "100%|█████████████████████████████████████████| 500/500 [06:40<00:00,  1.25it/s]\n"
     ]
    }
   ],
   "source": [
    "evo = []\n",
    "\n",
    "for i in tqdm(range(500)):\n",
    "    simulate(model)\n",
    "    \n",
    "    degree_pol = {}\n",
    "    data = get_nodes_info()\n",
    "\n",
    "    for k in data.keys():\n",
    "        degree = data[k][\"delta\"]\n",
    "        if degree not in degree_pol.keys():\n",
    "            degree_pol[degree] = [data[k][\"pi\"]]\n",
    "        else:\n",
    "            degree_pol[degree].append(data[k][\"pi\"])\n",
    "\n",
    "    for d in degree_pol.keys():\n",
    "        degree_pol[d] = np.mean(degree_pol[d])\n",
    "        \n",
    "    evo.append(degree_pol)"
   ]
  },
  {
   "cell_type": "code",
   "execution_count": 38,
   "id": "369763fd-0cc6-4328-8374-b592e07c808c",
   "metadata": {},
   "outputs": [],
   "source": [
    "degrees = sorted(list(evo[0].keys()))\n",
    "for k, dp in enumerate(evo):\n",
    "    pol = [dp[d] for d in degrees]\n",
    "    "
   ]
  },
  {
   "cell_type": "code",
   "execution_count": 41,
   "id": "220a0cb4-285c-4561-960d-c5f192e0cf22",
   "metadata": {},
   "outputs": [],
   "source": [
    "from matplotlib import pyplot as plt\n",
    "from matplotlib.animation import FuncAnimation"
   ]
  },
  {
   "cell_type": "code",
   "execution_count": 66,
   "id": "aa06f05b-83d0-4036-94c6-980a2b1be0c1",
   "metadata": {},
   "outputs": [
    {
     "name": "stdout",
     "output_type": "stream",
     "text": [
      "0\n",
      "100\n",
      "200\n",
      "300\n",
      "400\n"
     ]
    }
   ],
   "source": [
    "for k in range(5):\n",
    "    print(k*(500//5))"
   ]
  },
  {
   "cell_type": "code",
   "execution_count": 72,
   "id": "6d1a2993-ccbe-4b19-8366-1d26b6da673a",
   "metadata": {},
   "outputs": [
    {
     "data": {
      "image/png": "[encoded data removed]",
      "text/plain": [
       "<Figure size 360x1440 with 5 Axes>"
      ]
     },
     "metadata": {
      "needs_background": "light"
     },
     "output_type": "display_data"
    }
   ],
   "source": [
    "fig, axs = plt.subplots(nrows = 5, figsize = (5, 20))\n",
    "\n",
    "for k, ax in enumerate(axs):\n",
    "    ax.set_ylim([0.4, 0.6])\n",
    "    degrees = sorted(list(evo[0].keys()))\n",
    "    y = [evo[k * (500//5)][d] for d in degrees]\n",
    "\n",
    "    ax.scatter(degrees, y)"
   ]
  },
  {
   "cell_type": "code",
   "execution_count": null,
   "id": "fba446de-a534-49e0-a19b-beadb683b055",
   "metadata": {},
   "outputs": [],
   "source": []
  }
 ],
 "metadata": {
  "kernelspec": {
   "display_name": "Python 3 (ipykernel)",
   "language": "python",
   "name": "python3"
  },
  "language_info": {
   "codemirror_mode": {
    "name": "ipython",
    "version": 3
   },
   "file_extension": ".py",
   "mimetype": "text/x-python",
   "name": "python",
   "nbconvert_exporter": "python",
   "pygments_lexer": "ipython3",
   "version": "3.9.7"
  },
  "vscode": {
   "interpreter": {
    "hash": "b1146f09590d57c0ffe6b7969f117f90fd123f00364ddcbfa67a5a24202c3fe9"
   }
  }
 },
 "nbformat": 4,
 "nbformat_minor": 5
}
